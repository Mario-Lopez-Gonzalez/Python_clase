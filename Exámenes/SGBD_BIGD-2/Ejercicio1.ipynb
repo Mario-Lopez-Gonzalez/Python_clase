{
 "cells": [
  {
   "cell_type": "code",
   "execution_count": 1,
   "metadata": {},
   "outputs": [
    {
     "name": "stderr",
     "output_type": "stream",
     "text": [
      "25/03/10 16:12:28 WARN Utils: Your hostname, iadb-12 resolves to a loopback address: 127.0.1.1; using 172.20.104.44 instead (on interface wlp44s0f0)\n",
      "25/03/10 16:12:28 WARN Utils: Set SPARK_LOCAL_IP if you need to bind to another address\n",
      "Setting default log level to \"WARN\".\n",
      "To adjust logging level use sc.setLogLevel(newLevel). For SparkR, use setLogLevel(newLevel).\n",
      "25/03/10 16:12:28 WARN NativeCodeLoader: Unable to load native-hadoop library for your platform... using builtin-java classes where applicable\n"
     ]
    }
   ],
   "source": [
    "import pandas as pd\n",
    "from pyspark.sql import SparkSession\n",
    "from pyspark.sql.functions import lit, current_date, year, monotonically_increasing_id,  avg, min, coalesce, col, when\n",
    "from pyspark.sql.types import StructType, StructField, StringType, IntegerType, DoubleType, DateType, FloatType\n",
    "\n",
    "spark = SparkSession.builder.master(\"local[*]\").appName(\"pyspark_rdd\").getOrCreate()\n",
    "#spark = SparkSession.builder.getOrCreate()\n",
    "sc = spark.sparkContext"
   ]
  },
  {
   "cell_type": "markdown",
   "metadata": {},
   "source": [
    "1"
   ]
  },
  {
   "cell_type": "code",
   "execution_count": 17,
   "metadata": {},
   "outputs": [],
   "source": [
    "df = (\n",
    "    spark.read.option(\"sep\", \";\")\n",
    "    .option(\"header\", \"true\")\n",
    "    .option(\"inferSchema\", \"true\")\n",
    "    .csv(\"datos/Turismo.csv\")\n",
    ")"
   ]
  },
  {
   "cell_type": "markdown",
   "metadata": {},
   "source": [
    "2"
   ]
  },
  {
   "cell_type": "code",
   "execution_count": 18,
   "metadata": {},
   "outputs": [
    {
     "name": "stdout",
     "output_type": "stream",
     "text": [
      "root\n",
      " |-- ID: string (nullable = true)\n",
      " |-- VISITA: string (nullable = true)\n",
      " |-- MES: string (nullable = true)\n",
      " |-- FECHA: string (nullable = true)\n",
      " |-- SATISFACCION_INFOR: integer (nullable = true)\n",
      " |-- SATISFACCION_RECORRIDO: integer (nullable = true)\n",
      " |-- SATISFACCION_GUIA: integer (nullable = true)\n",
      " |-- SATISFACCION_GLOBAL: integer (nullable = true)\n",
      " |-- LO_MEJOR: string (nullable = true)\n",
      " |-- LO_PEOR: string (nullable = true)\n",
      " |-- OPINION: string (nullable = true)\n",
      " |-- SUGERENCIAS: string (nullable = true)\n",
      "\n"
     ]
    }
   ],
   "source": [
    "df.printSchema()"
   ]
  },
  {
   "cell_type": "code",
   "execution_count": 19,
   "metadata": {},
   "outputs": [
    {
     "name": "stdout",
     "output_type": "stream",
     "text": [
      "+---+--------------------+----------+----------+------------------+----------------------+-----------------+-------------------+--------------------+--------------------+--------------------+--------------------+\n",
      "| ID|              VISITA|       MES|     FECHA|SATISFACCION_INFOR|SATISFACCION_RECORRIDO|SATISFACCION_GUIA|SATISFACCION_GLOBAL|            LO_MEJOR|             LO_PEOR|             OPINION|         SUGERENCIAS|\n",
      "+---+--------------------+----------+----------+------------------+----------------------+-----------------+-------------------+--------------------+--------------------+--------------------+--------------------+\n",
      "| 12|LEYENDAS, CASAS E...| DICIEMBRE|17/12/2023|                10|                    10|               10|                 10|        7 chimeneas |                Nada|Mejor de lo que e...|Nada, todo perfecto |\n",
      "| 19|  MADRID EN FEMENINO|    AGOSTO|12/08/2023|                 8|                     8|                9|                  9|Al restaurante So...|El mapa final, ha...|Mejor de lo que e...|Combinar mas las ...|\n",
      "|  3|  MADRID EN FEMENINO|SEPTIEMBRE|02/09/2023|                 9|                    10|               10|                 10|Amabilidad y cono...|                NULL|Mejor de lo que e...|Más visitas y en ...|\n",
      "| 19|LA LATINA Y EL MU...|SEPTIEMBRE|16/09/2023|                10|                    10|               10|                 10|Beatriz Galindo l...|                Nada|Mejor de lo que e...|Me han gustado mu...|\n",
      "| 35|LA LATINA Y EL MU...|   OCTUBRE|22/10/2023|                 7|                     8|                8|                  8|               Bien |               Bien |Mejor de lo que e...|               Bien |\n",
      "+---+--------------------+----------+----------+------------------+----------------------+-----------------+-------------------+--------------------+--------------------+--------------------+--------------------+\n",
      "only showing top 5 rows\n",
      "\n"
     ]
    }
   ],
   "source": [
    "df.show(5)"
   ]
  },
  {
   "cell_type": "markdown",
   "metadata": {},
   "source": [
    "3"
   ]
  },
  {
   "cell_type": "code",
   "execution_count": 20,
   "metadata": {},
   "outputs": [
    {
     "name": "stdout",
     "output_type": "stream",
     "text": [
      "root\n",
      " |-- ID: string (nullable = true)\n",
      " |-- VISITA: string (nullable = true)\n",
      " |-- MES: string (nullable = true)\n",
      " |-- FECHA: date (nullable = true)\n",
      " |-- SATISFACCION_INFOR: integer (nullable = true)\n",
      " |-- SATISFACCION_RECORRIDO: integer (nullable = true)\n",
      " |-- SATISFACCION_GUIA: integer (nullable = true)\n",
      " |-- SATISFACCION_GLOBAL: integer (nullable = true)\n",
      " |-- LO_MEJOR: string (nullable = true)\n",
      " |-- LO_PEOR: string (nullable = true)\n",
      " |-- OPINION: string (nullable = true)\n",
      " |-- SUGERENCIAS: string (nullable = true)\n",
      "\n"
     ]
    }
   ],
   "source": [
    "from pyspark.sql.functions import to_date\n",
    "\n",
    "df = df.withColumn(\"FECHA\", to_date(df[\"FECHA\"], \"dd/MM/yyyy\"))\n",
    "df.printSchema()"
   ]
  },
  {
   "cell_type": "markdown",
   "metadata": {},
   "source": [
    "4"
   ]
  },
  {
   "cell_type": "code",
   "execution_count": 27,
   "metadata": {},
   "outputs": [
    {
     "name": "stdout",
     "output_type": "stream",
     "text": [
      "+---+--------------------+---------+----------+------------------+----------------------+-----------------+-------------------+--------------------+-------+--------------------+--------------------+\n",
      "| ID|              VISITA|      MES|     FECHA|SATISFACCION_INFOR|SATISFACCION_RECORRIDO|SATISFACCION_GUIA|SATISFACCION_GLOBAL|            LO_MEJOR|LO_PEOR|             OPINION|         SUGERENCIAS|\n",
      "+---+--------------------+---------+----------+------------------+----------------------+-----------------+-------------------+--------------------+-------+--------------------+--------------------+\n",
      "| 15|LA HISTORIA IMPRE...|   AGOSTO|2023-08-11|                10|                    10|               10|                 10|                NULL|   NULL|       Como esperaba|Amplia nuevas vis...|\n",
      "|  3|    MADRID HISTÓRICO|    MARZO|2023-03-03|                10|                    10|               10|                 10|El conjunto está ...|   NULL|Mejor de lo que e...|                NULL|\n",
      "| 20|TRADICIONES NAVID...|DICIEMBRE|2023-12-30|                 8|                    10|               10|                 10|Descubrir  datos ...|   Nada|Mejor de lo que e...|             Ninguna|\n",
      "+---+--------------------+---------+----------+------------------+----------------------+-----------------+-------------------+--------------------+-------+--------------------+--------------------+\n",
      "only showing top 3 rows\n",
      "\n"
     ]
    }
   ],
   "source": [
    "df.orderBy(\"SATISFACCION_GLOBAL\",ascending=False).show(3)"
   ]
  },
  {
   "cell_type": "markdown",
   "metadata": {},
   "source": [
    "5"
   ]
  },
  {
   "cell_type": "code",
   "execution_count": 28,
   "metadata": {},
   "outputs": [
    {
     "name": "stdout",
     "output_type": "stream",
     "text": [
      "+--------------------+-----------+\n",
      "|                 MES|num_visitas|\n",
      "+--------------------+-----------+\n",
      "|               JULIO|          7|\n",
      "|             OCTUBRE|          6|\n",
      "|               JUNIO|          6|\n",
      "|              AGOSTO|          6|\n",
      "|          SEPTIEMBRE|          6|\n",
      "|              ENERO |          6|\n",
      "|           DICIEMBRE|          5|\n",
      "|           NOVIEMBRE|          5|\n",
      "|                Mayo|          5|\n",
      "|               ABRIL|          4|\n",
      "|               MARZO|          1|\n",
      "|             FEBRERO|          1|\n",
      "|Creo que podrían ...|          1|\n",
      "|                NULL|          0|\n",
      "+--------------------+-----------+\n",
      "\n"
     ]
    }
   ],
   "source": [
    "from pyspark.sql.functions import countDistinct\n",
    "\n",
    "df.groupBy(\"MES\").agg(countDistinct(\"VISITA\").alias(\"num_visitas\")).orderBy(\"num_visitas\", ascending=False).show()"
   ]
  },
  {
   "cell_type": "markdown",
   "metadata": {},
   "source": [
    "6"
   ]
  },
  {
   "cell_type": "code",
   "execution_count": 30,
   "metadata": {},
   "outputs": [
    {
     "name": "stdout",
     "output_type": "stream",
     "text": [
      "+--------------------+-------------------+\n",
      "|              VISITA|SATISFACCION_GLOBAL|\n",
      "+--------------------+-------------------+\n",
      "|  MADRID EN FEMENINO|                 10|\n",
      "|LA LATINA Y EL MU...|                 10|\n",
      "|  MADRID EN FEMENINO|                  9|\n",
      "|   MADRID MONUMENTAL|                 10|\n",
      "|   MADRID MONUMENTAL|                 10|\n",
      "|  MADRID EN FEMENINO|                  6|\n",
      "|  MADRID EN FEMENINO|                  6|\n",
      "|LA HISTORIA IMPRE...|                 10|\n",
      "|LA LATINA Y EL MU...|                  9|\n",
      "|  MADRID EN FEMENINO|                  8|\n",
      "|LA HISTORIA IMPRE...|                 10|\n",
      "|   MADRID MONUMENTAL|                 10|\n",
      "|  MADRID EN FEMENINO|                  8|\n",
      "|HISTORIAS Y LEYEN...|                  9|\n",
      "|HISTORIAS Y LEYEN...|                 10|\n",
      "|LA NUEVA PLAZA DE...|                 10|\n",
      "|LA NUEVA PLAZA DE...|                 10|\n",
      "|LA NUEVA PLAZA DE...|                 10|\n",
      "|LA NUEVA PLAZA DE...|                 10|\n",
      "|LA LATINA Y EL MU...|                 10|\n",
      "+--------------------+-------------------+\n",
      "only showing top 20 rows\n",
      "\n"
     ]
    }
   ],
   "source": [
    "df.filter(col(\"MES\") == \"SEPTIEMBRE\").select(\"VISITA\",\"SATISFACCION_GLOBAL\").show()"
   ]
  },
  {
   "cell_type": "markdown",
   "metadata": {},
   "source": [
    "7"
   ]
  },
  {
   "cell_type": "code",
   "execution_count": 36,
   "metadata": {},
   "outputs": [
    {
     "name": "stdout",
     "output_type": "stream",
     "text": [
      "+---+--------------------+----------+----------+------------------+----------------------+-----------------+-------------------+--------------------+--------------------+--------------------+--------------------+\n",
      "| ID|              VISITA|       MES|     FECHA|SATISFACCION_INFOR|SATISFACCION_RECORRIDO|SATISFACCION_GUIA|SATISFACCION_GLOBAL|            LO_MEJOR|             LO_PEOR|             OPINION|         SUGERENCIAS|\n",
      "+---+--------------------+----------+----------+------------------+----------------------+-----------------+-------------------+--------------------+--------------------+--------------------+--------------------+\n",
      "| 12|LEYENDAS, CASAS E...| DICIEMBRE|2023-12-17|                10|                    10|               10|                 10|        7 chimeneas |                Nada|Mejor de lo que e...|Nada, todo perfecto |\n",
      "| 19|  MADRID EN FEMENINO|    AGOSTO|2023-08-12|                 8|                     8|                9|                  9|Al restaurante So...|El mapa final, ha...|Mejor de lo que e...|Combinar mas las ...|\n",
      "|  3|  MADRID EN FEMENINO|SEPTIEMBRE|2023-09-02|                 9|                    10|               10|                 10|Amabilidad y cono...|     Sin comentarios|Mejor de lo que e...|Más visitas y en ...|\n",
      "| 19|LA LATINA Y EL MU...|SEPTIEMBRE|2023-09-16|                10|                    10|               10|                 10|Beatriz Galindo l...|                Nada|Mejor de lo que e...|Me han gustado mu...|\n",
      "| 35|LA LATINA Y EL MU...|   OCTUBRE|2023-10-22|                 7|                     8|                8|                  8|               Bien |               Bien |Mejor de lo que e...|               Bien |\n",
      "| 20|   MADRID MONUMENTAL|     JULIO|2023-07-28|                10|                     9|                9|                  9|       Calle Alcalá |               Nada |       Como esperaba|                NULL|\n",
      "| 15|LA HISTORIA IMPRE...|    AGOSTO|2023-08-11|                10|                    10|               10|                 10|                NULL|     Sin comentarios|       Como esperaba|Amplia nuevas vis...|\n",
      "| 20|TRADICIONES NAVID...| DICIEMBRE|2023-12-30|                 8|                    10|               10|                 10|Descubrir  datos ...|                Nada|Mejor de lo que e...|             Ninguna|\n",
      "| 19|MUJERES QUE HAN H...|   OCTUBRE|2023-10-13|                10|                    10|               10|                 10|Destacar la labor...|                Nada|Mejor de lo que e...|Nos encantaría re...|\n",
      "|  3|    MADRID HISTÓRICO|     MARZO|2023-03-03|                10|                    10|               10|                 10|El conjunto está ...|     Sin comentarios|Mejor de lo que e...|                NULL|\n",
      "|  9|LA HISTORIA IMPRE...|     JULIO|2023-07-14|                10|                    10|               10|                 10|El cuidado en el ...|     Sin comentarios|Mejor de lo que e...|                NULL|\n",
      "|  2|    MADRID HISTÓRICO|     MARZO|2023-03-03|                10|                    10|               10|                 10|El entender la hi...|     Sin comentarios|       Como esperaba|                NULL|\n",
      "|  6|  MADRID EN FEMENINO|     ABRIL|2023-04-08|                10|                     5|                4|                  4|            El grupo|             El guia|Peor de lo que es...|                  No|\n",
      "| 12|  MADRID EN FEMENINO|     JUNIO|2023-06-17|                 9|                    10|               10|                 10|             El guia|     Sin comentarios|Mejor de lo que e...|                NULL|\n",
      "| 22|LA HISTORIA IMPRE...|   OCTUBRE|2023-10-14|                 9|                     9|                9|                  9|El guía muy ameno...|                Nada|Mejor de lo que e...|Realizar más visi...|\n",
      "| 23|   MADRID MONUMENTAL|     JULIO|2023-07-28|                10|                    10|               10|                 10|                NULL|Edificios históri...|       Como esperaba|                NULL|\n",
      "| 26|LA HISTORIA IMPRE...|   OCTUBRE|2023-10-14|                10|                     9|               10|                 10|El guía, muy buen...|               Nada |Mejor de lo que e...|            Ninguna |\n",
      "| 25|LA HISTORIA IMPRE...|   OCTUBRE|2023-10-14|                10|                    10|               10|                 10| El guia. Excelente.|           Todo bien|       Como esperaba|Incluir alguna vi...|\n",
      "|  5|    MADRID HISTÓRICO|   FEBRERO|2023-02-10|                10|                    10|               10|                 10|                NULL|     Sin comentarios|       Como esperaba|                NULL|\n",
      "| 13|  MADRID EN FEMENINO|     JULIO|2023-07-15|                10|                     8|                7|                  8|          El horario|Me resultó breve ...|       Como esperaba|                NULL|\n",
      "+---+--------------------+----------+----------+------------------+----------------------+-----------------+-------------------+--------------------+--------------------+--------------------+--------------------+\n",
      "only showing top 20 rows\n",
      "\n"
     ]
    }
   ],
   "source": [
    "df.fillna(\"Sin comentarios\", subset=\"LO_PEOR\").show()"
   ]
  },
  {
   "cell_type": "markdown",
   "metadata": {},
   "source": [
    "8"
   ]
  },
  {
   "cell_type": "code",
   "execution_count": 41,
   "metadata": {},
   "outputs": [
    {
     "name": "stdout",
     "output_type": "stream",
     "text": [
      "+---+--------------------+----------+----------+------------------+----------------------+-----------------+-------------------+--------------------+--------------------+--------------------+--------------------+---------------------+\n",
      "| ID|              VISITA|       MES|     FECHA|SATISFACCION_INFOR|SATISFACCION_RECORRIDO|SATISFACCION_GUIA|SATISFACCION_GLOBAL|            LO_MEJOR|             LO_PEOR|             OPINION|         SUGERENCIAS|SATISFACCION_PROMEDIO|\n",
      "+---+--------------------+----------+----------+------------------+----------------------+-----------------+-------------------+--------------------+--------------------+--------------------+--------------------+---------------------+\n",
      "| 12|LEYENDAS, CASAS E...| DICIEMBRE|2023-12-17|                10|                    10|               10|                 10|        7 chimeneas |                Nada|Mejor de lo que e...|Nada, todo perfecto |                 10.0|\n",
      "| 19|  MADRID EN FEMENINO|    AGOSTO|2023-08-12|                 8|                     8|                9|                  9|Al restaurante So...|El mapa final, ha...|Mejor de lo que e...|Combinar mas las ...|    8.333333333333334|\n",
      "|  3|  MADRID EN FEMENINO|SEPTIEMBRE|2023-09-02|                 9|                    10|               10|                 10|Amabilidad y cono...|                NULL|Mejor de lo que e...|Más visitas y en ...|    9.666666666666666|\n",
      "| 19|LA LATINA Y EL MU...|SEPTIEMBRE|2023-09-16|                10|                    10|               10|                 10|Beatriz Galindo l...|                Nada|Mejor de lo que e...|Me han gustado mu...|                 10.0|\n",
      "| 35|LA LATINA Y EL MU...|   OCTUBRE|2023-10-22|                 7|                     8|                8|                  8|               Bien |               Bien |Mejor de lo que e...|               Bien |    7.666666666666667|\n",
      "| 20|   MADRID MONUMENTAL|     JULIO|2023-07-28|                10|                     9|                9|                  9|       Calle Alcalá |               Nada |       Como esperaba|                NULL|    9.333333333333334|\n",
      "| 15|LA HISTORIA IMPRE...|    AGOSTO|2023-08-11|                10|                    10|               10|                 10|                NULL|                NULL|       Como esperaba|Amplia nuevas vis...|                 10.0|\n",
      "| 20|TRADICIONES NAVID...| DICIEMBRE|2023-12-30|                 8|                    10|               10|                 10|Descubrir  datos ...|                Nada|Mejor de lo que e...|             Ninguna|    9.333333333333334|\n",
      "| 19|MUJERES QUE HAN H...|   OCTUBRE|2023-10-13|                10|                    10|               10|                 10|Destacar la labor...|                Nada|Mejor de lo que e...|Nos encantaría re...|                 10.0|\n",
      "|  3|    MADRID HISTÓRICO|     MARZO|2023-03-03|                10|                    10|               10|                 10|El conjunto está ...|                NULL|Mejor de lo que e...|                NULL|                 10.0|\n",
      "|  9|LA HISTORIA IMPRE...|     JULIO|2023-07-14|                10|                    10|               10|                 10|El cuidado en el ...|                NULL|Mejor de lo que e...|                NULL|                 10.0|\n",
      "|  2|    MADRID HISTÓRICO|     MARZO|2023-03-03|                10|                    10|               10|                 10|El entender la hi...|                NULL|       Como esperaba|                NULL|                 10.0|\n",
      "|  6|  MADRID EN FEMENINO|     ABRIL|2023-04-08|                10|                     5|                4|                  4|            El grupo|             El guia|Peor de lo que es...|                  No|    6.333333333333333|\n",
      "| 12|  MADRID EN FEMENINO|     JUNIO|2023-06-17|                 9|                    10|               10|                 10|             El guia|                NULL|Mejor de lo que e...|                NULL|    9.666666666666666|\n",
      "| 22|LA HISTORIA IMPRE...|   OCTUBRE|2023-10-14|                 9|                     9|                9|                  9|El guía muy ameno...|                Nada|Mejor de lo que e...|Realizar más visi...|                  9.0|\n",
      "| 23|   MADRID MONUMENTAL|     JULIO|2023-07-28|                10|                    10|               10|                 10|                NULL|Edificios históri...|       Como esperaba|                NULL|                 10.0|\n",
      "| 26|LA HISTORIA IMPRE...|   OCTUBRE|2023-10-14|                10|                     9|               10|                 10|El guía, muy buen...|               Nada |Mejor de lo que e...|            Ninguna |    9.666666666666666|\n",
      "| 25|LA HISTORIA IMPRE...|   OCTUBRE|2023-10-14|                10|                    10|               10|                 10| El guia. Excelente.|           Todo bien|       Como esperaba|Incluir alguna vi...|                 10.0|\n",
      "|  5|    MADRID HISTÓRICO|   FEBRERO|2023-02-10|                10|                    10|               10|                 10|                NULL|                NULL|       Como esperaba|                NULL|                 10.0|\n",
      "| 13|  MADRID EN FEMENINO|     JULIO|2023-07-15|                10|                     8|                7|                  8|          El horario|Me resultó breve ...|       Como esperaba|                NULL|    8.333333333333334|\n",
      "+---+--------------------+----------+----------+------------------+----------------------+-----------------+-------------------+--------------------+--------------------+--------------------+--------------------+---------------------+\n",
      "only showing top 20 rows\n",
      "\n"
     ]
    }
   ],
   "source": [
    "from pyspark.sql.functions import udf\n",
    "\n",
    "def satisfaccion_promedio(infor, recorrido, guia):\n",
    "    return (infor + recorrido + guia)/3\n",
    "\n",
    "calcular_satisfaccion_udf = udf(satisfaccion_promedio, DoubleType())\n",
    "\n",
    "df8 = df.withColumn(\"SATISFACCION_PROMEDIO\", calcular_satisfaccion_udf(df[\"SATISFACCION_INFOR\"],df[\"SATISFACCION_RECORRIDO\"],df[\"SATISFACCION_GUIA\"]))\n",
    "df8.show()"
   ]
  },
  {
   "cell_type": "code",
   "execution_count": 44,
   "metadata": {},
   "outputs": [
    {
     "ename": "AnalysisException",
     "evalue": "[DATATYPE_MISMATCH.BINARY_OP_DIFF_TYPES] Cannot resolve \"(named_struct(SATISFACCION_INFOR, SATISFACCION_INFOR, SATISFACCION_RECORRIDO, SATISFACCION_RECORRIDO, SATISFACCION_GUIA, SATISFACCION_GUIA) / 3)\" due to data type mismatch: the left and right operands of the binary operator have incompatible types (\"STRUCT<SATISFACCION_INFOR: INT, SATISFACCION_RECORRIDO: INT, SATISFACCION_GUIA: INT>\" and \"INT\").; line 1 pos 10;\n'Project [ID#470, VISITA#471, MES#472, FECHA#556, SATISFACCION_INFOR#474, SATISFACCION_RECORRIDO#475, SATISFACCION_GUIA#476, SATISFACCION_GLOBAL#477, LO_MEJOR#478, LO_PEOR#479, OPINION#480, SUGERENCIAS#481, (named_struct(SATISFACCION_INFOR, SATISFACCION_INFOR#474, SATISFACCION_RECORRIDO, SATISFACCION_RECORRIDO#475, SATISFACCION_GUIA, SATISFACCION_GUIA#476) / 3) AS SATISFACCION_PROMEDIO#1376]\n+- SubqueryAlias turismo\n   +- View (`turismo`, [ID#470,VISITA#471,MES#472,FECHA#556,SATISFACCION_INFOR#474,SATISFACCION_RECORRIDO#475,SATISFACCION_GUIA#476,SATISFACCION_GLOBAL#477,LO_MEJOR#478,LO_PEOR#479,OPINION#480,SUGERENCIAS#481])\n      +- Project [ID#470, VISITA#471, MES#472, to_date(FECHA#473, Some(dd/MM/yyyy), Some(Europe/Madrid), false) AS FECHA#556, SATISFACCION_INFOR#474, SATISFACCION_RECORRIDO#475, SATISFACCION_GUIA#476, SATISFACCION_GLOBAL#477, LO_MEJOR#478, LO_PEOR#479, OPINION#480, SUGERENCIAS#481]\n         +- Relation [ID#470,VISITA#471,MES#472,FECHA#473,SATISFACCION_INFOR#474,SATISFACCION_RECORRIDO#475,SATISFACCION_GUIA#476,SATISFACCION_GLOBAL#477,LO_MEJOR#478,LO_PEOR#479,OPINION#480,SUGERENCIAS#481] csv\n",
     "output_type": "error",
     "traceback": [
      "\u001b[0;31m---------------------------------------------------------------------------\u001b[0m",
      "\u001b[0;31mAnalysisException\u001b[0m                         Traceback (most recent call last)",
      "Cell \u001b[0;32mIn[44], line 2\u001b[0m\n\u001b[1;32m      1\u001b[0m df\u001b[38;5;241m.\u001b[39mcreateOrReplaceTempView(\u001b[38;5;124m\"\u001b[39m\u001b[38;5;124mturismo\u001b[39m\u001b[38;5;124m\"\u001b[39m)\n\u001b[0;32m----> 2\u001b[0m dfSQL \u001b[38;5;241m=\u001b[39m \u001b[43mspark\u001b[49m\u001b[38;5;241;43m.\u001b[39;49m\u001b[43msql\u001b[49m\u001b[43m(\u001b[49m\u001b[38;5;124;43m\"\u001b[39;49m\u001b[38;5;124;43mSELECT *, (SATISFACCION_INFOR,SATISFACCION_RECORRIDO,SATISFACCION_GUIA)/3 AS SATISFACCION_PROMEDIO FROM turismo\u001b[39;49m\u001b[38;5;124;43m\"\u001b[39;49m\u001b[43m)\u001b[49m\n\u001b[1;32m      3\u001b[0m dfSQL\u001b[38;5;241m.\u001b[39mshow()\n",
      "File \u001b[0;32m~/anaconda3/envs/pyspark/lib/python3.12/site-packages/pyspark/sql/session.py:1631\u001b[0m, in \u001b[0;36mSparkSession.sql\u001b[0;34m(self, sqlQuery, args, **kwargs)\u001b[0m\n\u001b[1;32m   1627\u001b[0m         \u001b[38;5;28;01massert\u001b[39;00m \u001b[38;5;28mself\u001b[39m\u001b[38;5;241m.\u001b[39m_jvm \u001b[38;5;129;01mis\u001b[39;00m \u001b[38;5;129;01mnot\u001b[39;00m \u001b[38;5;28;01mNone\u001b[39;00m\n\u001b[1;32m   1628\u001b[0m         litArgs \u001b[38;5;241m=\u001b[39m \u001b[38;5;28mself\u001b[39m\u001b[38;5;241m.\u001b[39m_jvm\u001b[38;5;241m.\u001b[39mPythonUtils\u001b[38;5;241m.\u001b[39mtoArray(\n\u001b[1;32m   1629\u001b[0m             [_to_java_column(lit(v)) \u001b[38;5;28;01mfor\u001b[39;00m v \u001b[38;5;129;01min\u001b[39;00m (args \u001b[38;5;129;01mor\u001b[39;00m [])]\n\u001b[1;32m   1630\u001b[0m         )\n\u001b[0;32m-> 1631\u001b[0m     \u001b[38;5;28;01mreturn\u001b[39;00m DataFrame(\u001b[38;5;28;43mself\u001b[39;49m\u001b[38;5;241;43m.\u001b[39;49m\u001b[43m_jsparkSession\u001b[49m\u001b[38;5;241;43m.\u001b[39;49m\u001b[43msql\u001b[49m\u001b[43m(\u001b[49m\u001b[43msqlQuery\u001b[49m\u001b[43m,\u001b[49m\u001b[43m \u001b[49m\u001b[43mlitArgs\u001b[49m\u001b[43m)\u001b[49m, \u001b[38;5;28mself\u001b[39m)\n\u001b[1;32m   1632\u001b[0m \u001b[38;5;28;01mfinally\u001b[39;00m:\n\u001b[1;32m   1633\u001b[0m     \u001b[38;5;28;01mif\u001b[39;00m \u001b[38;5;28mlen\u001b[39m(kwargs) \u001b[38;5;241m>\u001b[39m \u001b[38;5;241m0\u001b[39m:\n",
      "File \u001b[0;32m~/anaconda3/envs/pyspark/lib/python3.12/site-packages/py4j/java_gateway.py:1322\u001b[0m, in \u001b[0;36mJavaMember.__call__\u001b[0;34m(self, *args)\u001b[0m\n\u001b[1;32m   1316\u001b[0m command \u001b[38;5;241m=\u001b[39m proto\u001b[38;5;241m.\u001b[39mCALL_COMMAND_NAME \u001b[38;5;241m+\u001b[39m\\\n\u001b[1;32m   1317\u001b[0m     \u001b[38;5;28mself\u001b[39m\u001b[38;5;241m.\u001b[39mcommand_header \u001b[38;5;241m+\u001b[39m\\\n\u001b[1;32m   1318\u001b[0m     args_command \u001b[38;5;241m+\u001b[39m\\\n\u001b[1;32m   1319\u001b[0m     proto\u001b[38;5;241m.\u001b[39mEND_COMMAND_PART\n\u001b[1;32m   1321\u001b[0m answer \u001b[38;5;241m=\u001b[39m \u001b[38;5;28mself\u001b[39m\u001b[38;5;241m.\u001b[39mgateway_client\u001b[38;5;241m.\u001b[39msend_command(command)\n\u001b[0;32m-> 1322\u001b[0m return_value \u001b[38;5;241m=\u001b[39m \u001b[43mget_return_value\u001b[49m\u001b[43m(\u001b[49m\n\u001b[1;32m   1323\u001b[0m \u001b[43m    \u001b[49m\u001b[43manswer\u001b[49m\u001b[43m,\u001b[49m\u001b[43m \u001b[49m\u001b[38;5;28;43mself\u001b[39;49m\u001b[38;5;241;43m.\u001b[39;49m\u001b[43mgateway_client\u001b[49m\u001b[43m,\u001b[49m\u001b[43m \u001b[49m\u001b[38;5;28;43mself\u001b[39;49m\u001b[38;5;241;43m.\u001b[39;49m\u001b[43mtarget_id\u001b[49m\u001b[43m,\u001b[49m\u001b[43m \u001b[49m\u001b[38;5;28;43mself\u001b[39;49m\u001b[38;5;241;43m.\u001b[39;49m\u001b[43mname\u001b[49m\u001b[43m)\u001b[49m\n\u001b[1;32m   1325\u001b[0m \u001b[38;5;28;01mfor\u001b[39;00m temp_arg \u001b[38;5;129;01min\u001b[39;00m temp_args:\n\u001b[1;32m   1326\u001b[0m     \u001b[38;5;28;01mif\u001b[39;00m \u001b[38;5;28mhasattr\u001b[39m(temp_arg, \u001b[38;5;124m\"\u001b[39m\u001b[38;5;124m_detach\u001b[39m\u001b[38;5;124m\"\u001b[39m):\n",
      "File \u001b[0;32m~/anaconda3/envs/pyspark/lib/python3.12/site-packages/pyspark/errors/exceptions/captured.py:185\u001b[0m, in \u001b[0;36mcapture_sql_exception.<locals>.deco\u001b[0;34m(*a, **kw)\u001b[0m\n\u001b[1;32m    181\u001b[0m converted \u001b[38;5;241m=\u001b[39m convert_exception(e\u001b[38;5;241m.\u001b[39mjava_exception)\n\u001b[1;32m    182\u001b[0m \u001b[38;5;28;01mif\u001b[39;00m \u001b[38;5;129;01mnot\u001b[39;00m \u001b[38;5;28misinstance\u001b[39m(converted, UnknownException):\n\u001b[1;32m    183\u001b[0m     \u001b[38;5;66;03m# Hide where the exception came from that shows a non-Pythonic\u001b[39;00m\n\u001b[1;32m    184\u001b[0m     \u001b[38;5;66;03m# JVM exception message.\u001b[39;00m\n\u001b[0;32m--> 185\u001b[0m     \u001b[38;5;28;01mraise\u001b[39;00m converted \u001b[38;5;28;01mfrom\u001b[39;00m\u001b[38;5;250m \u001b[39m\u001b[38;5;28;01mNone\u001b[39;00m\n\u001b[1;32m    186\u001b[0m \u001b[38;5;28;01melse\u001b[39;00m:\n\u001b[1;32m    187\u001b[0m     \u001b[38;5;28;01mraise\u001b[39;00m\n",
      "\u001b[0;31mAnalysisException\u001b[0m: [DATATYPE_MISMATCH.BINARY_OP_DIFF_TYPES] Cannot resolve \"(named_struct(SATISFACCION_INFOR, SATISFACCION_INFOR, SATISFACCION_RECORRIDO, SATISFACCION_RECORRIDO, SATISFACCION_GUIA, SATISFACCION_GUIA) / 3)\" due to data type mismatch: the left and right operands of the binary operator have incompatible types (\"STRUCT<SATISFACCION_INFOR: INT, SATISFACCION_RECORRIDO: INT, SATISFACCION_GUIA: INT>\" and \"INT\").; line 1 pos 10;\n'Project [ID#470, VISITA#471, MES#472, FECHA#556, SATISFACCION_INFOR#474, SATISFACCION_RECORRIDO#475, SATISFACCION_GUIA#476, SATISFACCION_GLOBAL#477, LO_MEJOR#478, LO_PEOR#479, OPINION#480, SUGERENCIAS#481, (named_struct(SATISFACCION_INFOR, SATISFACCION_INFOR#474, SATISFACCION_RECORRIDO, SATISFACCION_RECORRIDO#475, SATISFACCION_GUIA, SATISFACCION_GUIA#476) / 3) AS SATISFACCION_PROMEDIO#1376]\n+- SubqueryAlias turismo\n   +- View (`turismo`, [ID#470,VISITA#471,MES#472,FECHA#556,SATISFACCION_INFOR#474,SATISFACCION_RECORRIDO#475,SATISFACCION_GUIA#476,SATISFACCION_GLOBAL#477,LO_MEJOR#478,LO_PEOR#479,OPINION#480,SUGERENCIAS#481])\n      +- Project [ID#470, VISITA#471, MES#472, to_date(FECHA#473, Some(dd/MM/yyyy), Some(Europe/Madrid), false) AS FECHA#556, SATISFACCION_INFOR#474, SATISFACCION_RECORRIDO#475, SATISFACCION_GUIA#476, SATISFACCION_GLOBAL#477, LO_MEJOR#478, LO_PEOR#479, OPINION#480, SUGERENCIAS#481]\n         +- Relation [ID#470,VISITA#471,MES#472,FECHA#473,SATISFACCION_INFOR#474,SATISFACCION_RECORRIDO#475,SATISFACCION_GUIA#476,SATISFACCION_GLOBAL#477,LO_MEJOR#478,LO_PEOR#479,OPINION#480,SUGERENCIAS#481] csv\n"
     ]
    }
   ],
   "source": [
    "df.createOrReplaceTempView(\"turismo\")\n",
    "dfSQL = spark.sql(\"SELECT *, (SATISFACCION_INFOR,SATISFACCION_RECORRIDO,SATISFACCION_GUIA)/3 AS SATISFACCION_PROMEDIO FROM turismo\")\n",
    "dfSQL.show()"
   ]
  },
  {
   "cell_type": "code",
   "execution_count": null,
   "metadata": {},
   "outputs": [
    {
     "ename": "TypeError",
     "evalue": "DataFrameWriter.csv() got an unexpected keyword argument 'overwrite'",
     "output_type": "error",
     "traceback": [
      "\u001b[0;31m---------------------------------------------------------------------------\u001b[0m",
      "\u001b[0;31mTypeError\u001b[0m                                 Traceback (most recent call last)",
      "Cell \u001b[0;32mIn[53], line 1\u001b[0m\n\u001b[0;32m----> 1\u001b[0m \u001b[43mdf\u001b[49m\u001b[38;5;241;43m.\u001b[39;49m\u001b[43mwrite\u001b[49m\u001b[38;5;241;43m.\u001b[39;49m\u001b[43mcsv\u001b[49m\u001b[43m(\u001b[49m\u001b[38;5;124;43m\"\u001b[39;49m\u001b[38;5;124;43mdatos/resultado1.csv\u001b[39;49m\u001b[38;5;124;43m\"\u001b[39;49m\u001b[43m,\u001b[49m\u001b[43m \u001b[49m\u001b[43moverwrite\u001b[49m\u001b[43m \u001b[49m\u001b[38;5;241;43m=\u001b[39;49m\u001b[43m \u001b[49m\u001b[38;5;124;43m\"\u001b[39;49m\u001b[38;5;124;43myes\u001b[39;49m\u001b[38;5;124;43m\"\u001b[39;49m\u001b[43m)\u001b[49m \u001b[38;5;66;03m#Set mode as \"overwrite\" to overwrite the existing path.\u001b[39;00m\n",
      "\u001b[0;31mTypeError\u001b[0m: DataFrameWriter.csv() got an unexpected keyword argument 'overwrite'"
     ]
    }
   ],
   "source": [
    "df.write.csv(\"datos/resultado1.csv\", overwrite = \"yes\") #Set mode as \"overwrite\" to overwrite the existing path.\n"
   ]
  }
 ],
 "metadata": {
  "kernelspec": {
   "display_name": "pyspark",
   "language": "python",
   "name": "python3"
  },
  "language_info": {
   "codemirror_mode": {
    "name": "ipython",
    "version": 3
   },
   "file_extension": ".py",
   "mimetype": "text/x-python",
   "name": "python",
   "nbconvert_exporter": "python",
   "pygments_lexer": "ipython3",
   "version": "3.12.9"
  }
 },
 "nbformat": 4,
 "nbformat_minor": 2
}
