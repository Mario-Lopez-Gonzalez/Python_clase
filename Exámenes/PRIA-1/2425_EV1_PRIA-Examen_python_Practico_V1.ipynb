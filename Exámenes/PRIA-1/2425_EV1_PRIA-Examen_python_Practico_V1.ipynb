{
 "cells": [
  {
   "cell_type": "markdown",
   "metadata": {
    "id": "2HpKY32aha07"
   },
   "source": [
    "# PRIA - Examen PYTHON 09/12/2024 - TOTAL 30 Puntos"
   ]
  },
  {
   "cell_type": "markdown",
   "metadata": {
    "id": "dl2_sxL1rLqM"
   },
   "source": [
    "\n",
    "## UD01 - INTRODUCCIÓN PROGRAMACIÓN PYTHON y  LIBRERIAS PYTHON"
   ]
  },
  {
   "cell_type": "markdown",
   "metadata": {},
   "source": [
    "---\n",
    "## Ejercicio 1 - Importación de librerias- 1 Punto"
   ]
  },
  {
   "cell_type": "markdown",
   "metadata": {},
   "source": [
    "Como siempre, antes de empezar, importa todas las librerías que necesitas para trabajar: numpy, pandas y matplot.pyplot con los nombres reconocidos para cada uno."
   ]
  },
  {
   "cell_type": "code",
   "execution_count": 3,
   "metadata": {},
   "outputs": [],
   "source": [
    "import numpy as np\n",
    "import pandas as pd\n",
    "import matplotlib.pyplot as plt"
   ]
  },
  {
   "cell_type": "markdown",
   "metadata": {},
   "source": [
    "---\n",
    "## Ejercicio 2 - Excepciones - 3 Puntos"
   ]
  },
  {
   "cell_type": "markdown",
   "metadata": {},
   "source": [
    "Tenemos el siguiente fragmento de codigo que fuerza una división entre 0. Para ello se pide el divisor al usuario por pantalla. Para poder utilizar este codigo adecuadamente deberemos incluir las siguientes instrucciones para controlar errores: \n",
    "\n",
    "* Código\n",
    "    \n",
    "    divisor= input(\"Introduzca el divisor:\")\n",
    "    x = 2/int(divisor)\n",
    "\n",
    "* Intrucciones a seguir:\n",
    "    \n",
    "    * Incluir un control de excepciones\n",
    "    * Controlar errores de división por zero -> Mostrar mensaje \"No se ha podido realizar la división por dividir por cero\"\n",
    "    * Controlar mensaje a mostrar si la división va bien -> Mostrar mensaje \"La división se ejecuta correctamente\" siempre que no haya excepciones\n",
    "    * Bloque que se muestre siempre al finalizar el proceso -> Mostrar mensaje \"Entra en la última parte, se ejecuta el bloque siempre\"\n",
    "\n"
   ]
  },
  {
   "cell_type": "code",
   "execution_count": null,
   "metadata": {},
   "outputs": [
    {
     "name": "stdout",
     "output_type": "stream",
     "text": [
      "No se ha podido realizar la división por dividir por cero\n",
      "Entra en la última parte, se ejecuta el bloque siempre\n"
     ]
    }
   ],
   "source": [
    "divisor= input(\"Introduzca el divisor:\")\n",
    "\n",
    "try:\n",
    "    x = 2/int(divisor)\n",
    "    print(\"La división se ejecuta correctamente\")\n",
    "except ZeroDivisionError:\n",
    "    print(\"No se ha podido realizar la división por dividir por cero\")\n",
    "\n",
    "print(\"Entra en la última parte, se ejecuta el bloque siempre\")"
   ]
  },
  {
   "cell_type": "markdown",
   "metadata": {},
   "source": [
    "---\n",
    "## Ejercicio 3 - Creación y manejo de una clase Alumno - 6 Puntos"
   ]
  },
  {
   "cell_type": "markdown",
   "metadata": {},
   "source": [
    "Realizar un programa que conste de una clase llamada Alumno que tenga como atributos el nombre y la nota del alumno. Definir los siguientes métodos:\n",
    "\n",
    "1. Definir la clase Alumno:\n",
    "\n",
    "* **Atributos:**\n",
    "    * nombre: nombre del alumno.\n",
    "    * nota: calificación obtenida por el alumno.\n",
    "* **Métodos:**\n",
    "    * Método constructor: Inicializa el nombre y la nota del alumno.\n",
    "    * Sobrescritura del método to_string: Devuelve una representación amigable de los atributos del alumno.\n",
    "    * Método de instancia `mostrar_detalle()`: Imprime los atributos con la frase: \"El alumno XXX ha sacado la nota YYY.\"\n",
    "    * Método de clase `asignar_nota_aleatoria(cls, nombre)`: Crea un nuevo alumno con una nota aleatoria entre 0 y 10.\n",
    "    * Método estático `comparar_notas(alumno1, alumno2)`: Compara las notas de dos alumnos y devuelve un mensaje indicando cuál tiene la mayor nota, o si están empatados.\n",
    "2. Crear dos objetos:\n",
    "    * Uno utilizando el constructor normal.\n",
    "    * Otro utilizando el método de clase.\n",
    "3. Utilizar los métodos:\n",
    "    * Mostrar los detalles de ambos alumnos.\n",
    "    * Comparar sus notas con el método estático.\n"
   ]
  },
  {
   "cell_type": "code",
   "execution_count": null,
   "metadata": {},
   "outputs": [],
   "source": [
    "class Alumno():\n",
    "    nombre = \"\"\n",
    "    nota = 0\n",
    "\n",
    "    def __init__(self, nombre = \"\", nota = 0):\n",
    "        self.nombre = nombre\n",
    "        self.nota = nota\n",
    "\n",
    "    def __str__(self):\n",
    "        return(f\"({self.nombre},{self.nota})\")\n",
    "    \n",
    "    def mostrar_detalle(self):\n",
    "        print(f\"El alumno {self.nombre} ha sacado la nota {self.nota}\")\n",
    "\n",
    "    @classmethod\n",
    "    def asignar_nota_aleatoria(cls, nombre):\n",
    "        nota_aleatoria = np.random.randint(0,10)\n",
    "        return cls(nombre,nota_aleatoria)\n",
    "    \n",
    "    @staticmethod\n",
    "    def comparar_notas(alumno1, alumno2):\n",
    "        if alumno1.nota > alumno2.nota:\n",
    "            print(f\"{alumno1.nombre} tiene más nota\")\n",
    "        elif alumno2.nota > alumno1.nota:\n",
    "            print(f\"{alumno2.nombre} tiene más nota\")\n",
    "        else:\n",
    "            print(\"Ambos alumnos tienen la misma nota\")"
   ]
  },
  {
   "cell_type": "code",
   "execution_count": 20,
   "metadata": {},
   "outputs": [
    {
     "name": "stdout",
     "output_type": "stream",
     "text": [
      "(Ana,2)\n",
      "(Bernardo,7)\n",
      "Bernardo tiene más nota\n"
     ]
    }
   ],
   "source": [
    "alumno1 = Alumno(\"Ana\",2)\n",
    "alumno2 = Alumno.asignar_nota_aleatoria(\"Bernardo\")\n",
    "\n",
    "print(alumno1)\n",
    "print(alumno2)\n",
    "\n",
    "Alumno.comparar_notas(alumno1,alumno2)"
   ]
  },
  {
   "cell_type": "markdown",
   "metadata": {
    "id": "jKx-RWxVrTvP"
   },
   "source": [
    "---\n",
    "## Ejercicio 4 - Operaciones con Matrices - 4 Puntos"
   ]
  },
  {
   "cell_type": "markdown",
   "metadata": {
    "id": "49hRG_zFrUTq"
   },
   "source": [
    "**Parte 1(2 puntos):** \n",
    "Genera una matriz (100 filas x 6 columnas) de números enteros aleatorios del 0 al 9 con NumPy. Muestra(imprime) la siguiente información de la misma:\n",
    "\n",
    "*   Tamaño (cantidad de elementos en total)\n",
    "*   Forma\n",
    "*   Todos los valores entre las filas 25 y 27 (ambas incluídas) en una sola linea y sin utilizar bucles\n",
    "*   Todos los valores de atras adelante en una sola linea y sin utilizar bucles"
   ]
  },
  {
   "cell_type": "code",
   "execution_count": 38,
   "metadata": {},
   "outputs": [
    {
     "name": "stdout",
     "output_type": "stream",
     "text": [
      "Tamaño de la matriz 600\n",
      "Forma de la matriz (100, 6)\n",
      "[[9 5 2 5 7 5]\n",
      " [7 2 2 3 3 1]\n",
      " [4 1 2 0 6 0]]\n",
      "\n",
      "[[4 5 5 5 7 2]\n",
      " [5 5 6 1 4 1]\n",
      " [7 4 3 5 5 4]\n",
      " [6 3 5 8 6 2]\n",
      " [1 2 8 5 4 2]\n",
      " [0 8 5 5 0 7]\n",
      " [1 7 5 4 8 3]\n",
      " [5 9 4 3 7 3]\n",
      " [6 1 2 8 1 2]\n",
      " [2 5 3 0 8 3]\n",
      " [7 6 8 4 1 5]\n",
      " [3 3 5 0 3 1]\n",
      " [6 3 7 5 0 0]\n",
      " [3 0 8 5 6 5]\n",
      " [1 9 9 2 8 8]\n",
      " [6 7 5 9 0 3]\n",
      " [2 4 6 6 8 5]\n",
      " [3 6 6 5 3 5]\n",
      " [5 6 4 9 8 8]\n",
      " [7 1 1 6 2 0]\n",
      " [3 3 3 4 2 2]\n",
      " [9 5 2 4 3 3]\n",
      " [0 4 5 8 9 9]\n",
      " [3 4 6 4 3 5]\n",
      " [9 2 9 2 9 4]\n",
      " [7 1 2 5 0 9]\n",
      " [1 5 1 1 3 6]\n",
      " [9 9 9 9 6 0]\n",
      " [2 4 1 2 6 7]\n",
      " [6 2 8 2 9 1]\n",
      " [7 1 8 3 4 3]\n",
      " [4 3 5 0 2 7]\n",
      " [8 8 4 2 2 0]\n",
      " [7 5 4 1 6 9]\n",
      " [2 5 1 4 1 6]\n",
      " [9 9 7 7 3 2]\n",
      " [7 0 9 2 3 0]\n",
      " [1 5 0 7 8 4]\n",
      " [5 7 2 2 5 5]\n",
      " [6 7 4 4 9 9]\n",
      " [4 4 6 8 9 1]\n",
      " [2 4 2 2 9 2]\n",
      " [9 6 7 5 5 8]\n",
      " [4 3 1 1 5 5]\n",
      " [5 1 0 5 7 9]\n",
      " [5 2 8 1 5 0]\n",
      " [1 7 0 9 5 8]\n",
      " [5 5 7 8 1 1]\n",
      " [3 0 0 7 5 4]\n",
      " [0 2 7 9 2 8]\n",
      " [7 3 1 1 5 6]\n",
      " [1 6 8 0 1 7]\n",
      " [1 8 3 7 7 8]\n",
      " [7 1 9 6 5 9]\n",
      " [8 5 7 2 4 2]\n",
      " [7 0 2 7 7 7]\n",
      " [7 7 6 7 0 1]\n",
      " [2 2 1 7 7 5]\n",
      " [5 1 5 5 3 9]\n",
      " [6 2 1 3 4 3]\n",
      " [1 1 3 7 2 1]\n",
      " [7 2 6 9 4 0]\n",
      " [7 7 1 1 2 5]\n",
      " [5 6 5 3 2 9]\n",
      " [9 4 3 4 7 2]\n",
      " [4 5 0 6 1 8]\n",
      " [1 3 5 3 9 1]\n",
      " [4 8 9 1 5 4]\n",
      " [7 6 5 8 2 6]\n",
      " [6 1 1 8 6 6]\n",
      " [0 7 0 6 2 8]\n",
      " [2 5 0 8 2 5]\n",
      " [4 1 2 0 6 0]\n",
      " [7 2 2 3 3 1]\n",
      " [9 5 2 5 7 5]\n",
      " [2 6 3 0 6 0]\n",
      " [5 2 9 3 4 8]\n",
      " [2 4 0 8 4 6]\n",
      " [0 1 4 2 2 6]\n",
      " [4 7 2 7 8 3]\n",
      " [8 6 1 8 8 1]\n",
      " [1 7 6 0 8 3]\n",
      " [2 7 6 5 8 4]\n",
      " [9 2 2 4 5 3]\n",
      " [1 3 3 3 9 5]\n",
      " [5 7 9 1 8 5]\n",
      " [7 1 7 2 2 1]\n",
      " [9 2 4 0 7 9]\n",
      " [0 4 2 0 1 6]\n",
      " [8 5 6 5 9 5]\n",
      " [7 1 2 7 6 9]\n",
      " [9 5 0 5 0 1]\n",
      " [3 8 5 6 8 5]\n",
      " [1 3 7 7 0 0]\n",
      " [2 7 7 1 9 8]\n",
      " [2 2 5 1 2 5]\n",
      " [8 6 9 9 9 4]\n",
      " [6 0 1 0 6 0]\n",
      " [0 4 8 3 0 9]\n",
      " [6 7 8 1 8 1]]\n"
     ]
    }
   ],
   "source": [
    "sample = np.array([0,1,2,3,4,5,6,7,8,9])\n",
    "matrix = np.random.choice(sample,(100,6),replace=True)\n",
    "\n",
    "print(f\"Tamaño de la matriz {matrix.size}\")\n",
    "print(f\"Forma de la matriz {matrix.shape}\")\n",
    "print(matrix[25:28], end=\"\\n\\n\")\n",
    "print(matrix[::-1])"
   ]
  },
  {
   "cell_type": "markdown",
   "metadata": {},
   "source": [
    "**Parte 2(2 puntos):**\n",
    "1. Crea dos matrices:\n",
    "    * Una matriz de ceros de tamaño 4x4.\n",
    "    * Una matriz de unos de tamaño 4x4.\n",
    "2. Concatenaciones:\n",
    "    * Concatenar las matrices por filas (una debajo de la otra) \n",
    "    * Concatenar las matrices por columnas (una al lado de la otra)\n",
    "3. Operaciones con las matrices:\n",
    "    * Suma la matriz de ceros y la matriz de unos para obtener una nueva matriz.\n",
    "    * Multiplica la matriz de ceros y la matriz de unos. Analiza el resultado.\n",
    "4. Muestra los siguiente información:\n",
    "    * \"Tamaño de la matriz de ceros:\"\n",
    "    * \"Forma(dimensiones) de la matriz de unos:\"\n",
    "    * \"Tipo de datos de la matriz de 0s:\"\n",
    "    * \"Tipo de datos de la matriz de 1s:\"\n",
    "    * \"Matriz concatenada por filas:\\n\"\n",
    "    * \"Matriz concatenada por columnas:\\n\"\n",
    "    * \"Matriz sumada:\\n\"\n",
    "    * \"Matriz multiplicada:\\n\""
   ]
  },
  {
   "cell_type": "code",
   "execution_count": 47,
   "metadata": {
    "colab": {
     "base_uri": "https://localhost:8080/"
    },
    "executionInfo": {
     "elapsed": 3,
     "status": "ok",
     "timestamp": 1637831539615,
     "user": {
      "displayName": "Mikel Aingeru Jorge Soteras",
      "photoUrl": "https://lh3.googleusercontent.com/a/default-user=s64",
      "userId": "17327455162631325979"
     },
     "user_tz": -60
    },
    "id": "qz-NqWPrrUiW",
    "outputId": "de030d7b-bae5-4c20-987b-5a6e238a7984"
   },
   "outputs": [
    {
     "name": "stdout",
     "output_type": "stream",
     "text": [
      "Tamaño de la matriz de ceros: 16\n",
      "Forma de la matriz de unos: (4, 4)\n",
      "Tipo de datos de la matriz de ceros: float64\n",
      "Tipo de datos de la matriz de ceros: float64\n",
      "Matriz concatenada por filas:\n",
      " [[0. 0. 0. 0.]\n",
      " [0. 0. 0. 0.]\n",
      " [0. 0. 0. 0.]\n",
      " [0. 0. 0. 0.]\n",
      " [1. 1. 1. 1.]\n",
      " [1. 1. 1. 1.]\n",
      " [1. 1. 1. 1.]\n",
      " [1. 1. 1. 1.]]\n",
      "\n",
      "Matriz concatenada por columnas:\n",
      " [[0. 0. 0. 0. 1. 1. 1. 1.]\n",
      " [0. 0. 0. 0. 1. 1. 1. 1.]\n",
      " [0. 0. 0. 0. 1. 1. 1. 1.]\n",
      " [0. 0. 0. 0. 1. 1. 1. 1.]]\n",
      "\n",
      "Matriz sumada:\n",
      " [[1. 1. 1. 1.]\n",
      " [1. 1. 1. 1.]\n",
      " [1. 1. 1. 1.]\n",
      " [1. 1. 1. 1.]]\n",
      "\n",
      "Matriz multiplicada:\n",
      " [[0. 0. 0. 0.]\n",
      " [0. 0. 0. 0.]\n",
      " [0. 0. 0. 0.]\n",
      " [0. 0. 0. 0.]]\n",
      "\n"
     ]
    }
   ],
   "source": [
    "matrix_zeros = np.zeros((4,4))\n",
    "matrix_ones = np.ones((4,4))\n",
    "\n",
    "concat_under = np.concatenate((matrix_zeros,matrix_ones),axis=0)\n",
    "concat_besides = np.concatenate((matrix_zeros,matrix_ones),axis=1)\n",
    "\n",
    "matrix_sum = matrix_zeros + matrix_ones\n",
    "matrix_mult = matrix_zeros * matrix_ones # 0*1=0 asi que se queda en 0 todo\n",
    "\n",
    "print(f\"Tamaño de la matriz de ceros: {matrix_zeros.size}\")\n",
    "print(f\"Forma de la matriz de unos: {matrix_ones.shape}\")\n",
    "print(f\"Tipo de datos de la matriz de ceros: {matrix_zeros.dtype}\")\n",
    "print(f\"Tipo de datos de la matriz de ceros: {matrix_zeros.dtype}\")\n",
    "print(f\"Matriz concatenada por filas:\\n {concat_under}\\n\")\n",
    "print(f\"Matriz concatenada por columnas:\\n {concat_besides}\\n\")\n",
    "print(f\"Matriz sumada:\\n {matrix_sum}\\n\")\n",
    "print(f\"Matriz multiplicada:\\n {matrix_mult}\\n\")"
   ]
  },
  {
   "cell_type": "markdown",
   "metadata": {
    "id": "IHQyY4iorbDV"
   },
   "source": [
    "---\n",
    "## Ejercicio 5 - Manejo de la información con Dataframes - 6 puntos"
   ]
  },
  {
   "cell_type": "markdown",
   "metadata": {
    "id": "znWcQDjLrb3M"
   },
   "source": [
    "**Intrucciones:**\n",
    "* Carga el archivo `06-vg_sales.csv` en un DataFrame con Pandas.\n",
    "* Realiza las siguientes operaciones y muestra los resultados por pantalla:\n",
    "    * Muestra la forma del DataFrame (número de filas y columnas).\n",
    "    * Obtén el índice (index) del DataFrame.\n",
    "    * Calcula el número de filas.\n",
    "    * Calcula la media de la columna JP_Sales.\n",
    "    * Encuentra el valor máximo de la columna NA_Sales.\n",
    "    * Encuentra el valor mínimo de la columna EU_Sales.\n",
    "    * Filtra y muestra las 5 últimas filas correspondientes al año 2006.\n",
    "    * Muestra las 5 primeras filas con índices pares.\n",
    "    * Obtén la información general del DataFrame (info()).\n",
    "    * Calcula y muestra los datos estadísticos del DataFrame (describe()).\n",
    "    * Muestra los 5 primeros elementos del DataFrame.\n",
    "    * Muestra los 5 últimos elementos del DataFrame.\n",
    "\n",
    "** Nota: Si alguno de los metodos utilizados diera un Warning añadir a los metodos el siguiente valor -> numeric_only=True\n"
   ]
  },
  {
   "cell_type": "code",
   "execution_count": 75,
   "metadata": {
    "colab": {
     "base_uri": "https://localhost:8080/"
    },
    "executionInfo": {
     "elapsed": 1077,
     "status": "ok",
     "timestamp": 1637913786685,
     "user": {
      "displayName": "Mikel Aingeru Jorge Soteras",
      "photoUrl": "https://lh3.googleusercontent.com/a/default-user=s64",
      "userId": "17327455162631325979"
     },
     "user_tz": -60
    },
    "id": "ra3tRJvHrcM7",
    "outputId": "c4984b7a-866d-4a5f-ddf2-366c078d57a5"
   },
   "outputs": [
    {
     "name": "stdout",
     "output_type": "stream",
     "text": [
      "Forma del Dataframe: (16598, 11)\n",
      "Índice del Dataframe: RangeIndex(start=0, stop=16598, step=1)\n",
      "Filas del Dataframe: 16598\n",
      "Media de ventas en Japón: 0.077781660441017\n",
      "Máximo de ventas en Norteamérica: 41.49\n",
      "Mínimo de ventas en Europa: 0.0\n",
      "Ultimas 5 filas del año 2006:         Rank                                  Name Platform    Year  \\\n",
      "16513  16516                       Deal or No Deal       PC  2006.0   \n",
      "16520  16523  Tengai Makyo: Dai Yon no Mokushiroku      PSP  2006.0   \n",
      "16523  16526               Style Book: Cinnamoroll       DS  2006.0   \n",
      "16547  16550                       Bookworm Deluxe       PC  2006.0   \n",
      "16568  16571                           XI Coliseum      PSP  2006.0   \n",
      "\n",
      "              Genre                    Publisher  NA_Sales  EU_Sales  \\\n",
      "16513          Misc       Focus Home Interactive      0.00      0.01   \n",
      "16520  Role-Playing                  Hudson Soft      0.00      0.00   \n",
      "16523          Misc           Namco Bandai Games      0.00      0.00   \n",
      "16547        Puzzle                 PopCap Games      0.01      0.00   \n",
      "16568        Puzzle  Sony Computer Entertainment      0.00      0.00   \n",
      "\n",
      "       JP_Sales  Other_Sales  Global_Sales  \n",
      "16513      0.00          0.0          0.01  \n",
      "16520      0.01          0.0          0.01  \n",
      "16523      0.01          0.0          0.01  \n",
      "16547      0.00          0.0          0.01  \n",
      "16568      0.01          0.0          0.01  \n",
      "\n",
      "Primeras 5 filas con índice par:    Rank                       Name Platform    Year         Genre Publisher  \\\n",
      "0     1                 Wii Sports      Wii  2006.0        Sports  Nintendo   \n",
      "2     3             Mario Kart Wii      Wii  2008.0        Racing  Nintendo   \n",
      "4     5   Pokemon Red/Pokemon Blue       GB  1996.0  Role-Playing  Nintendo   \n",
      "6     7      New Super Mario Bros.       DS  2006.0      Platform  Nintendo   \n",
      "8     9  New Super Mario Bros. Wii      Wii  2009.0      Platform  Nintendo   \n",
      "\n",
      "   NA_Sales  EU_Sales  JP_Sales  Other_Sales  Global_Sales  \n",
      "0     41.49     29.02      3.77         8.46         82.74  \n",
      "2     15.85     12.88      3.79         3.31         35.82  \n",
      "4     11.27      8.89     10.22         1.00         31.37  \n",
      "6     11.38      9.23      6.50         2.90         30.01  \n",
      "8     14.59      7.06      4.70         2.26         28.62  \n",
      "\n",
      "Información general del Dataframe:\n",
      "<class 'pandas.core.frame.DataFrame'>\n",
      "RangeIndex: 16598 entries, 0 to 16597\n",
      "Data columns (total 11 columns):\n",
      " #   Column        Non-Null Count  Dtype  \n",
      "---  ------        --------------  -----  \n",
      " 0   Rank          16598 non-null  int64  \n",
      " 1   Name          16598 non-null  object \n",
      " 2   Platform      16598 non-null  object \n",
      " 3   Year          16327 non-null  float64\n",
      " 4   Genre         16598 non-null  object \n",
      " 5   Publisher     16540 non-null  object \n",
      " 6   NA_Sales      16598 non-null  float64\n",
      " 7   EU_Sales      16598 non-null  float64\n",
      " 8   JP_Sales      16598 non-null  float64\n",
      " 9   Other_Sales   16598 non-null  float64\n",
      " 10  Global_Sales  16598 non-null  float64\n",
      "dtypes: float64(6), int64(1), object(4)\n",
      "memory usage: 1.4+ MB\n",
      "Estadísticas del Dataframe:                Rank          Year      NA_Sales      EU_Sales      JP_Sales  \\\n",
      "count  16598.000000  16327.000000  16598.000000  16598.000000  16598.000000   \n",
      "mean    8300.605254   2006.406443      0.264667      0.146652      0.077782   \n",
      "std     4791.853933      5.828981      0.816683      0.505351      0.309291   \n",
      "min        1.000000   1980.000000      0.000000      0.000000      0.000000   \n",
      "25%     4151.250000   2003.000000      0.000000      0.000000      0.000000   \n",
      "50%     8300.500000   2007.000000      0.080000      0.020000      0.000000   \n",
      "75%    12449.750000   2010.000000      0.240000      0.110000      0.040000   \n",
      "max    16600.000000   2020.000000     41.490000     29.020000     10.220000   \n",
      "\n",
      "        Other_Sales  Global_Sales  \n",
      "count  16598.000000  16598.000000  \n",
      "mean       0.048063      0.537441  \n",
      "std        0.188588      1.555028  \n",
      "min        0.000000      0.010000  \n",
      "25%        0.000000      0.060000  \n",
      "50%        0.010000      0.170000  \n",
      "75%        0.040000      0.470000  \n",
      "max       10.570000     82.740000  \n",
      "\n",
      "Primeros 5 elementos del Dataframe:    Rank                      Name Platform    Year         Genre Publisher  \\\n",
      "0     1                Wii Sports      Wii  2006.0        Sports  Nintendo   \n",
      "1     2         Super Mario Bros.      NES  1985.0      Platform  Nintendo   \n",
      "2     3            Mario Kart Wii      Wii  2008.0        Racing  Nintendo   \n",
      "3     4         Wii Sports Resort      Wii  2009.0        Sports  Nintendo   \n",
      "4     5  Pokemon Red/Pokemon Blue       GB  1996.0  Role-Playing  Nintendo   \n",
      "\n",
      "   NA_Sales  EU_Sales  JP_Sales  Other_Sales  Global_Sales  \n",
      "0     41.49     29.02      3.77         8.46         82.74  \n",
      "1     29.08      3.58      6.81         0.77         40.24  \n",
      "2     15.85     12.88      3.79         3.31         35.82  \n",
      "3     15.75     11.01      3.28         2.96         33.00  \n",
      "4     11.27      8.89     10.22         1.00         31.37  \n",
      "\n",
      "Últimos 5 elementos del Dataframe:         Rank                                              Name Platform  \\\n",
      "16593  16596                Woody Woodpecker in Crazy Castle 5      GBA   \n",
      "16594  16597                     Men in Black II: Alien Escape       GC   \n",
      "16595  16598  SCORE International Baja 1000: The Official Game      PS2   \n",
      "16596  16599                                        Know How 2       DS   \n",
      "16597  16600                                  Spirits & Spells      GBA   \n",
      "\n",
      "         Year     Genre   Publisher  NA_Sales  EU_Sales  JP_Sales  \\\n",
      "16593  2002.0  Platform       Kemco      0.01      0.00       0.0   \n",
      "16594  2003.0   Shooter  Infogrames      0.01      0.00       0.0   \n",
      "16595  2008.0    Racing  Activision      0.00      0.00       0.0   \n",
      "16596  2010.0    Puzzle    7G//AMES      0.00      0.01       0.0   \n",
      "16597  2003.0  Platform     Wanadoo      0.01      0.00       0.0   \n",
      "\n",
      "       Other_Sales  Global_Sales  \n",
      "16593          0.0          0.01  \n",
      "16594          0.0          0.01  \n",
      "16595          0.0          0.01  \n",
      "16596          0.0          0.01  \n",
      "16597          0.0          0.01  \n",
      "\n"
     ]
    }
   ],
   "source": [
    "df = pd.read_csv(\"./Recursos PRIA/06-vg_sales.csv\")\n",
    "\n",
    "print(f\"Forma del Dataframe: {df.shape}\")\n",
    "print(f\"Índice del Dataframe: {df.index}\")\n",
    "print(f\"Filas del Dataframe: {len(df)}\")\n",
    "print(f\"Media de ventas en Japón: {df[\"JP_Sales\"].mean()}\")\n",
    "print(f\"Máximo de ventas en Norteamérica: {df[\"NA_Sales\"].max()}\")\n",
    "print(f\"Mínimo de ventas en Europa: {df[\"EU_Sales\"].min()}\")\n",
    "print(f\"Ultimas 5 filas del año 2006: {df[df[\"Year\"] == 2006].tail()}\",end=\"\\n\\n\")\n",
    "print(f\"Primeras 5 filas con índice par: {df[df.index%2 == 0].head()}\",end=\"\\n\\n\")\n",
    "print(f\"Información general del Dataframe:\")\n",
    "df.info()\n",
    "print(f\"Estadísticas del Dataframe: {df.describe()}\",end=\"\\n\\n\")\n",
    "print(f\"Primeros 5 elementos del Dataframe: {df.head()}\",end=\"\\n\\n\")\n",
    "print(f\"Últimos 5 elementos del Dataframe: {df.tail()}\",end=\"\\n\\n\")"
   ]
  },
  {
   "cell_type": "markdown",
   "metadata": {
    "id": "sBjnAsUvrUzi"
   },
   "source": [
    "---\n",
    "## Ejercicio 6 - Gráficos de Dispersión con Personalización - 10 puntos"
   ]
  },
  {
   "cell_type": "markdown",
   "metadata": {
    "id": "lsJM0MOprVuF"
   },
   "source": [
    "**Objetivo:**\n",
    "* Combinar distintos tipos de gráficos en una sola figura.\n",
    "* Aprender a personalizar gráficos de tarta, dispersión, y barras.\n",
    "* Desarrollar habilidades en manipulación y visualización de datos.\n",
    "\n",
    "**Instrucciones:**\n",
    "1. Carga el dataset:\n",
    "    * Asegúrate de que el archivo 06-vg_sales.csv esté disponible y cárgalo como un DataFrame.\n",
    "2. Crear la figura:\n",
    "    * Crea 3 graficos de tipo gráficos de tarta, dispersión, y barras. Agrupalos en una figura organizada.\n",
    "    * Asegúrate de que el gráfico de tarta sea el más graico principal y más grande.\n",
    "        * La figura ocupa 3 filas x 3 columnas\n",
    "        * El gráfico de tarta ocupa 2 filas x 3 columnas\n",
    "        * El gráfico de dispersión ocupa 1 filas x 2 columnas\n",
    "        * El gráfico de barras ocupa 1 filas x 1 columnas\n",
    "3. Gráfico de Tarta (principal):\n",
    "    * Filtra los datos relacionados con el videojuego \"Wii Sports\".\n",
    "    * Crea un gráfico de tarta utilizando las columnas relacionadas con las ventas por región: `NA_Sales`, `EU_Sales`, `JP_Sales`, y `Other_Sales`.\n",
    "    * Personaliza el gráfico:\n",
    "        * Añade sombreado.\n",
    "        * Separa 0.5 del sector correspondiente al valor más pequeño (`JP_Sales`).\n",
    "        * Empieza el gráfico en el ángulo 90.\n",
    "        * Muestra los porcentajes con el formato \"%1.1f%%\".\n",
    "        * Como título, utiliza el nombre del videojuego.\n",
    "        * Colores: \n",
    "            * #fbb4ae - Light Pink\n",
    "            * #b3cde3 - Light Blue\n",
    "            * #ccebc5 - Light Green\n",
    "            * #decbe4 - Lavender\n",
    "3. Gráfico de Dispersión:\n",
    "    * Crea un gráfico de dispersión utilizando dos columnas relacionadas con las ventas (e.g., `NA_Sales` en el eje X y `EU_Sales` en el eje Y).\n",
    "    * Personaliza el gráfico:\n",
    "        * Escalar `JP_Sales` para el tamaño de los puntos en 50\n",
    "        * Asignale al grafico una barra de colores y asocia el colorbar de tipo cmap=`Set3`\n",
    "4. Gráfico de Barras:\n",
    "    * Genera un gráfico de barras que muestre las 5 consolas con mayores ventas globales (`Global_Sales`).\n",
    "    * Color: #809ab0\n"
   ]
  },
  {
   "cell_type": "code",
   "execution_count": 153,
   "metadata": {},
   "outputs": [
    {
     "data": {
      "image/png": "[encoded data removed]",
      "text/plain": [
       "<Figure size 640x480 with 3 Axes>"
      ]
     },
     "metadata": {},
     "output_type": "display_data"
    }
   ],
   "source": [
    "df = pd.read_csv(\"./Recursos PRIA/06-vg_sales.csv\")\n",
    "\n",
    "# Creamos el objeto figure\n",
    "fig = plt.figure(constrained_layout = True)\n",
    "\n",
    "# Configuramos que tendrá 3 filas y 3 columnas\n",
    "gs = fig.add_gridspec(3,3)\n",
    "\n",
    "# Pie chart\n",
    "fig_ax1 = fig.add_subplot(gs[:-1, :])\n",
    "temp_pie = df[df[\"Name\"] == \"Wii Sports\"].values.tolist()[0][6:10] # simplemente funciona\n",
    "fig_ax1.pie(temp_pie,labels=[\"NA_Sales\",\"EU_Sales\",\"JP_Sales\",\"Other_Sales\"], shadow = True, explode=[0,0,0.5,0], startangle=90, colors = [\"#fbb4ae\", \"#b3cde3\", \"#ccebc5\", \"#decbe4\"], autopct = \"%1.1f%%\")\n",
    "fig_ax1.set_title(\"Wii Sports\")\n",
    "\n",
    "# Scatter\n",
    "fig_ax2 = fig.add_subplot(gs[-1, :-1])\n",
    "fig_ax2.scatter(x=df[\"NA_Sales\"],y=df[\"EU_Sales\"],c=df[\"NA_Sales\"],s=50,cmap=\"Set3\")\n",
    "#plt.colorbar(fig_ax2)\n",
    "\n",
    "# Barchart\n",
    "fig_ax3 = fig.add_subplot(gs[-1, -1])\n",
    "temp_bar = df.groupby('Platform')['Global_Sales'].sum().sort_values(ascending=False).reset_index().head()\n",
    "fig_ax3.bar(temp_bar[\"Platform\"], temp_bar[\"Global_Sales\"],color=\"#809ab0\")\n",
    "\n",
    "plt.show()"
   ]
  }
 ],
 "metadata": {
  "colab": {
   "authorship_tag": "ABX9TyM4M7mfdYR53UI6peUyCYMc",
   "collapsed_sections": [],
   "name": "06-Examen_RESUELTO.ipynb",
   "provenance": []
  },
  "kernelspec": {
   "display_name": "notebook",
   "language": "python",
   "name": "python3"
  },
  "language_info": {
   "codemirror_mode": {
    "name": "ipython",
    "version": 3
   },
   "file_extension": ".py",
   "mimetype": "text/x-python",
   "name": "python",
   "nbconvert_exporter": "python",
   "pygments_lexer": "ipython3",
   "version": "3.12.7"
  }
 },
 "nbformat": 4,
 "nbformat_minor": 0
}
