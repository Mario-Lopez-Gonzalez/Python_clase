{
 "cells": [
  {
   "cell_type": "markdown",
   "metadata": {
    "id": "2HpKY32aha07"
   },
   "source": [
    "# PRIA - Examen PYTHON 09/12/2024 - TOTAL 30 Puntos"
   ]
  },
  {
   "cell_type": "markdown",
   "metadata": {
    "id": "dl2_sxL1rLqM"
   },
   "source": [
    "\n",
    "## UD01 - INTRODUCCIÓN PROGRAMACIÓN PYTHON y  LIBRERIAS PYTHON"
   ]
  },
  {
   "cell_type": "markdown",
   "metadata": {},
   "source": [
    "---\n",
    "## Ejercicio 1 - Importación de librerias- 1 Punto"
   ]
  },
  {
   "cell_type": "markdown",
   "metadata": {},
   "source": [
    "Como siempre, antes de empezar, importa todas las librerías que necesitas para trabajar: numpy, pandas y matplot.pyplot con los nombres reconocidos para cada uno."
   ]
  },
  {
   "cell_type": "code",
   "execution_count": null,
   "metadata": {},
   "outputs": [],
   "source": []
  },
  {
   "cell_type": "markdown",
   "metadata": {},
   "source": [
    "---\n",
    "## Ejercicio 2 - Excepciones - 3 Puntos"
   ]
  },
  {
   "cell_type": "markdown",
   "metadata": {},
   "source": [
    "Tenemos el siguiente fragmento de codigo que fuerza una división entre 0. Para ello se pide el divisor al usuario por pantalla. Para poder utilizar este codigo adecuadamente deberemos incluir las siguientes instrucciones para controlar errores: \n",
    "\n",
    "* Código\n",
    "    \n",
    "    divisor= input(\"Introduzca el divisor:\")\n",
    "    x = 2/int(divisor)\n",
    "\n",
    "* Intrucciones a seguir:\n",
    "    \n",
    "    * Incluir un control de excepciones\n",
    "    * Controlar errores de división por zero -> Mostrar mensaje \"No se ha podido realizar la división por dividir por cero\"\n",
    "    * Controlar mensaje a mostrar si la división va bien -> Mostrar mensaje \"La división se ejecuta correctamente\" siempre que no haya excepciones\n",
    "    * Bloque que se muestre siempre al finalizar el proceso -> Mostrar mensaje \"Entra en la última parte, se ejecuta el bloque siempre\"\n",
    "\n"
   ]
  },
  {
   "cell_type": "code",
   "execution_count": null,
   "metadata": {},
   "outputs": [],
   "source": [
    "\n"
   ]
  },
  {
   "cell_type": "markdown",
   "metadata": {},
   "source": [
    "---\n",
    "## Ejercicio 3 - Creación y manejo de una clase Alumno - 6 Puntos"
   ]
  },
  {
   "cell_type": "markdown",
   "metadata": {},
   "source": [
    "Realizar un programa que conste de una clase llamada Alumno que tenga como atributos el nombre y la nota del alumno. Definir los siguientes métodos:\n",
    "\n",
    "1. Definir la clase Alumno:\n",
    "\n",
    "* **Atributos:**\n",
    "    * nombre: nombre del alumno.\n",
    "    * nota: calificación obtenida por el alumno.\n",
    "* **Métodos:**\n",
    "    * Método constructor: Inicializa el nombre y la nota del alumno.\n",
    "    * Sobrescritura del método to_string: Devuelve una representación amigable de los atributos del alumno.\n",
    "    * Método de instancia `mostrar_detalle()`: Imprime los atributos con la frase: \"El alumno XXX ha sacado la nota YYY.\"\n",
    "    * Método de clase `asignar_nota_aleatoria(cls, nombre)`: Crea un nuevo alumno con una nota aleatoria entre 0 y 10.\n",
    "    * Método estático `comparar_notas(alumno1, alumno2)`: Compara las notas de dos alumnos y devuelve un mensaje indicando cuál tiene la mayor nota, o si están empatados.\n",
    "2. Crear dos objetos:\n",
    "    * Uno utilizando el constructor normal.\n",
    "    * Otro utilizando el método de clase.\n",
    "3. Utilizar los métodos:\n",
    "    * Mostrar los detalles de ambos alumnos.\n",
    "    * Comparar sus notas con el método estático.\n"
   ]
  },
  {
   "cell_type": "code",
   "execution_count": null,
   "metadata": {},
   "outputs": [],
   "source": [
    "\n"
   ]
  },
  {
   "cell_type": "markdown",
   "metadata": {
    "id": "jKx-RWxVrTvP"
   },
   "source": [
    "---\n",
    "## Ejercicio 4 - Operaciones con Matrices - 4 Puntos"
   ]
  },
  {
   "cell_type": "markdown",
   "metadata": {
    "id": "49hRG_zFrUTq"
   },
   "source": [
    "**Parte 1(2 puntos):** \n",
    "Genera una matriz (100 filas x 6 columnas) de números enteros aleatorios del 0 al 9 con NumPy. Muestra(imprime) la siguiente información de la misma:\n",
    "\n",
    "*   Tamaño (cantidad de elementos en total)\n",
    "*   Forma\n",
    "*   Todos los valores entre las filas 25 y 27 (ambas incluídas) en una sola linea y sin utilizar bucles\n",
    "*   Todos los valores de atras adelante en una sola linea y sin utilizar bucles"
   ]
  },
  {
   "cell_type": "code",
   "execution_count": null,
   "metadata": {},
   "outputs": [],
   "source": []
  },
  {
   "cell_type": "markdown",
   "metadata": {},
   "source": [
    "**Parte 2(2 puntos):**\n",
    "1. Crea dos matrices:\n",
    "    * Una matriz de ceros de tamaño 4x4.\n",
    "    * Una matriz de unos de tamaño 4x4.\n",
    "2. Concatenaciones:\n",
    "    * Concatenar las matrices por filas (una debajo de la otra) \n",
    "    * Concatenar las matrices por columnas (una al lado de la otra)\n",
    "3. Operaciones con las matrices:\n",
    "    * Suma la matriz de ceros y la matriz de unos para obtener una nueva matriz.\n",
    "    * Multiplica la matriz de ceros y la matriz de unos. Analiza el resultado.\n",
    "4. Muestra los siguiente información:\n",
    "    * \"Tamaño de la matriz de ceros:\"\n",
    "    * \"Forma(dimensiones) de la matriz de unos:\"\n",
    "    * \"Tipo de datos de la matriz de 0s:\"\n",
    "    * \"Tipo de datos de la matriz de 1s:\"\n",
    "    * \"Matriz concatenada por filas:\\n\"\n",
    "    * \"Matriz concatenada por columnas:\\n\"\n",
    "    * \"Matriz sumada:\\n\"\n",
    "    * \"Matriz multiplicada:\\n\""
   ]
  },
  {
   "cell_type": "code",
   "execution_count": null,
   "metadata": {
    "colab": {
     "base_uri": "https://localhost:8080/"
    },
    "executionInfo": {
     "elapsed": 3,
     "status": "ok",
     "timestamp": 1637831539615,
     "user": {
      "displayName": "Mikel Aingeru Jorge Soteras",
      "photoUrl": "https://lh3.googleusercontent.com/a/default-user=s64",
      "userId": "17327455162631325979"
     },
     "user_tz": -60
    },
    "id": "qz-NqWPrrUiW",
    "outputId": "de030d7b-bae5-4c20-987b-5a6e238a7984"
   },
   "outputs": [],
   "source": [
    "\n"
   ]
  },
  {
   "cell_type": "markdown",
   "metadata": {
    "id": "IHQyY4iorbDV"
   },
   "source": [
    "---\n",
    "## Ejercicio 5 - Manejo de la información con Dataframes - 6 puntos"
   ]
  },
  {
   "cell_type": "markdown",
   "metadata": {
    "id": "znWcQDjLrb3M"
   },
   "source": [
    "**Intrucciones:**\n",
    "* Carga el archivo `06-vg_sales.csv` en un DataFrame con Pandas.\n",
    "* Realiza las siguientes operaciones y muestra los resultados por pantalla:\n",
    "    * Muestra la forma del DataFrame (número de filas y columnas).\n",
    "    * Obtén el índice (index) del DataFrame.\n",
    "    * Calcula el número de filas.\n",
    "    * Calcula la media de la columna JP_Sales.\n",
    "    * Encuentra el valor máximo de la columna NA_Sales.\n",
    "    * Encuentra el valor mínimo de la columna EU_Sales.\n",
    "    * Filtra y muestra las 5 últimas filas correspondientes al año 2006.\n",
    "    * Muestra las 5 primeras filas con índices pares.\n",
    "    * Obtén la información general del DataFrame (info()).\n",
    "    * Calcula y muestra los datos estadísticos del DataFrame (describe()).\n",
    "    * Muestra los 5 primeros elementos del DataFrame.\n",
    "    * Muestra los 5 últimos elementos del DataFrame.\n",
    "\n",
    "** Nota: Si alguno de los metodos utilizados diera un Warning añadir a los metodos el siguiente valor -> numeric_only=True\n"
   ]
  },
  {
   "cell_type": "code",
   "execution_count": null,
   "metadata": {
    "colab": {
     "base_uri": "https://localhost:8080/"
    },
    "executionInfo": {
     "elapsed": 1077,
     "status": "ok",
     "timestamp": 1637913786685,
     "user": {
      "displayName": "Mikel Aingeru Jorge Soteras",
      "photoUrl": "https://lh3.googleusercontent.com/a/default-user=s64",
      "userId": "17327455162631325979"
     },
     "user_tz": -60
    },
    "id": "ra3tRJvHrcM7",
    "outputId": "c4984b7a-866d-4a5f-ddf2-366c078d57a5"
   },
   "outputs": [],
   "source": [
    "\n",
    "\n",
    "\n"
   ]
  },
  {
   "cell_type": "markdown",
   "metadata": {
    "id": "sBjnAsUvrUzi"
   },
   "source": [
    "---\n",
    "## Ejercicio 5 - Gráficos de Dispersión con Personalización - 10 puntos"
   ]
  },
  {
   "cell_type": "markdown",
   "metadata": {
    "id": "lsJM0MOprVuF"
   },
   "source": [
    "**Objetivo:**\n",
    "* Combinar distintos tipos de gráficos en una sola figura.\n",
    "* Aprender a personalizar gráficos de tarta, dispersión, y barras.\n",
    "* Desarrollar habilidades en manipulación y visualización de datos.\n",
    "\n",
    "**Instrucciones:**\n",
    "1. Carga el dataset:\n",
    "    * Asegúrate de que el archivo 06-vg_sales.csv esté disponible y cárgalo como un DataFrame.\n",
    "2. Crear la figura:\n",
    "    * Crea 3 graficos de tipo gráficos de tarta, dispersión, y barras. Agrupalos en una figura organizada.\n",
    "    * Asegúrate de que el gráfico de tarta sea el más graico principal y más grande.\n",
    "        * La figura ocupa 3 filas x 3 columnas\n",
    "        * El gráfico de tarta ocupa 2 filas x 3 columnas\n",
    "        * El gráfico de dispersión ocupa 1 filas x 2 columnas\n",
    "        * El gráfico de barras ocupa 1 filas x 1 columnas\n",
    "3. Gráfico de Tarta (principal):\n",
    "    * Filtra los datos relacionados con el videojuego \"Wii Sports\".\n",
    "    * Crea un gráfico de tarta utilizando las columnas relacionadas con las ventas por región: `NA_Sales`, `EU_Sales`, `JP_Sales`, y `Other_Sales`.\n",
    "    * Personaliza el gráfico:\n",
    "        * Añade sombreado.\n",
    "        * Separa 0.5 del sector correspondiente al valor más pequeño (`JP_Sales`).\n",
    "        * Empieza el gráfico en el ángulo 90.\n",
    "        * Muestra los porcentajes con el formato \"%1.1f%%\".\n",
    "        * Como título, utiliza el nombre del videojuego.\n",
    "        * Colores: \n",
    "            * #fbb4ae - Light Pink\n",
    "            * #b3cde3 - Light Blue\n",
    "            * #ccebc5 - Light Green\n",
    "            * #decbe4 - Lavender\n",
    "3. Gráfico de Dispersión:\n",
    "    * Crea un gráfico de dispersión utilizando dos columnas relacionadas con las ventas (e.g., `NA_Sales` en el eje X y `EU_Sales` en el eje Y).\n",
    "    * Personaliza el gráfico:\n",
    "        * Escalar `JP_Sales` para el tamaño de los puntos en 50\n",
    "        * Asignale al grafico una barra de colores y asocia el colorbar de tipo cmap=`Set3`\n",
    "4. Gráfico de Barras:\n",
    "    * Genera un gráfico de barras que muestre las 5 consolas con mayores ventas globales (`Global_Sales`).\n",
    "    * Color: #809ab0\n"
   ]
  },
  {
   "cell_type": "code",
   "execution_count": null,
   "metadata": {},
   "outputs": [],
   "source": []
  }
 ],
 "metadata": {
  "colab": {
   "authorship_tag": "ABX9TyM4M7mfdYR53UI6peUyCYMc",
   "collapsed_sections": [],
   "name": "06-Examen_RESUELTO.ipynb",
   "provenance": []
  },
  "kernelspec": {
   "display_name": "base",
   "language": "python",
   "name": "python3"
  },
  "language_info": {
   "codemirror_mode": {
    "name": "ipython",
    "version": 3
   },
   "file_extension": ".py",
   "mimetype": "text/x-python",
   "name": "python",
   "nbconvert_exporter": "python",
   "pygments_lexer": "ipython3",
   "version": "3.11.10"
  }
 },
 "nbformat": 4,
 "nbformat_minor": 0
}
