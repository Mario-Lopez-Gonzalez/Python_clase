{
 "cells": [
  {
   "cell_type": "markdown",
   "id": "82b79211",
   "metadata": {},
   "source": [
    "# EJERCICIOS"
   ]
  },
  {
   "cell_type": "markdown",
   "metadata": {},
   "source": [
    "## EJERCICIO 1"
   ]
  },
  {
   "cell_type": "markdown",
   "metadata": {},
   "source": [
    "Conéctate a una instancia local de MongoDB y lista las bases de datos disponibles"
   ]
  },
  {
   "cell_type": "code",
   "execution_count": 24,
   "metadata": {},
   "outputs": [
    {
     "name": "stdout",
     "output_type": "stream",
     "text": [
      "Bases de datos disponibles:\n",
      "admin\n",
      "config\n",
      "library\n",
      "local\n",
      "my_store\n",
      "sample_airbnb\n",
      "sample_analytics\n",
      "sample_geospatial\n",
      "sample_guides\n",
      "sample_mflix\n",
      "sample_restaurants\n",
      "sample_supplies\n",
      "sample_training\n",
      "sample_weatherdata\n",
      "usuariosdb\n"
     ]
    }
   ],
   "source": [
    "from pymongo import MongoClient\n",
    "\n",
    "# Crear una conexión al servidor de MongoDB en localhost (puerto predeterminado 27017)\n",
    "client = MongoClient('mongodb://localhost:27017/')\n",
    "\n",
    "# Listar las bases de datos disponibles\n",
    "databases = client.list_database_names()\n",
    "\n",
    "# Imprimir las bases de datos disponibles\n",
    "print(\"Bases de datos disponibles:\")\n",
    "for db in databases:\n",
    "    print(db)\n"
   ]
  },
  {
   "cell_type": "markdown",
   "metadata": {},
   "source": [
    "Crea una nueva base de datos llamada 'library' y una colección llamada 'books'"
   ]
  },
  {
   "cell_type": "code",
   "execution_count": 25,
   "metadata": {},
   "outputs": [],
   "source": [
    "db = client['library']  # Crear la base de datos\n",
    "collection = db['books']  # Crear la colección"
   ]
  },
  {
   "cell_type": "markdown",
   "metadata": {},
   "source": [
    "Inserta tres documentos en la colección 'books' con los siguientes datos:\n",
    "1. title: \"1984\", author: \"George Orwell\", published_year: 1949\n",
    "2. title: \"The Great Gatsby\", author: \"F. Scott Fitzgerald\", published_year: 1925\n",
    "3. title: \"War and Peace\", author: \"Leo Tolstoy\", published_year: 1869\n",
    "\n",
    "Muestra los id de los elementos insertados\n"
   ]
  },
  {
   "cell_type": "code",
   "execution_count": 26,
   "metadata": {},
   "outputs": [
    {
     "name": "stdout",
     "output_type": "stream",
     "text": [
      "{'_id': ObjectId('6748c03bdcccdf55303a3910')}\n",
      "{'_id': ObjectId('6748c03bdcccdf55303a3911')}\n",
      "{'_id': ObjectId('6748c03bdcccdf55303a3912')}\n"
     ]
    }
   ],
   "source": [
    "# Eliminar todos los documentos de la colección books por si se corre el bloque múltiples veces\n",
    "collection.delete_many({})\n",
    "\n",
    "# Crear los diccionarios con los libros\n",
    "book1 = {\n",
    "    'title' : '1984',\n",
    "    'author': 'George Orwell',\n",
    "    'published_year': 1949\n",
    "}\n",
    "\n",
    "book2 = {\n",
    "    'title' : 'The Great Gatsby',\n",
    "    'author': 'F.Scott Fitzgerald',\n",
    "    'published_year': 1925\n",
    "}\n",
    "\n",
    "book3 = {\n",
    "    'title' : 'War and Peace',\n",
    "    'author': 'Leo Tolstoy',\n",
    "    'published_year': 1869\n",
    "}\n",
    "\n",
    "# Hacer inserción múltiple\n",
    "collection.insert_many([book1,book2,book3])\n",
    "\n",
    "# Obtener los _id de todos los documentos en la colección\n",
    "ids = collection.find({}, {'_id': 1})  # Proyección solo del campo id\n",
    "\n",
    "for id in ids:\n",
    "    print(id)"
   ]
  },
  {
   "cell_type": "markdown",
   "metadata": {},
   "source": [
    "Accede a la base de datos y muestra todos los documentos en la colección 'books'"
   ]
  },
  {
   "cell_type": "code",
   "execution_count": 27,
   "metadata": {},
   "outputs": [
    {
     "name": "stdout",
     "output_type": "stream",
     "text": [
      "{'_id': ObjectId('6748c03bdcccdf55303a3910'), 'title': '1984', 'author': 'George Orwell', 'published_year': 1949}\n",
      "{'_id': ObjectId('6748c03bdcccdf55303a3911'), 'title': 'The Great Gatsby', 'author': 'F.Scott Fitzgerald', 'published_year': 1925}\n",
      "{'_id': ObjectId('6748c03bdcccdf55303a3912'), 'title': 'War and Peace', 'author': 'Leo Tolstoy', 'published_year': 1869}\n"
     ]
    }
   ],
   "source": [
    "# Obtener todos los documentos en la colección books\n",
    "documents = collection.find()\n",
    "\n",
    "# Imprimir todos los documentos encontrados\n",
    "for doc in documents:\n",
    "    print(doc)"
   ]
  },
  {
   "cell_type": "markdown",
   "metadata": {},
   "source": [
    "Actualizar el año de publicación del libro de titulo \"1984\" a 1984 (anteriormente estaba como 1949)."
   ]
  },
  {
   "cell_type": "code",
   "execution_count": 28,
   "metadata": {},
   "outputs": [
    {
     "data": {
      "text/plain": [
       "UpdateResult({'n': 1, 'nModified': 1, 'ok': 1.0, 'updatedExisting': True}, acknowledged=True)"
      ]
     },
     "execution_count": 28,
     "metadata": {},
     "output_type": "execute_result"
    }
   ],
   "source": [
    "# Actualizar el año de publicación\n",
    "collection.update_one(\n",
    "    {'title': '1984'},  # buscar el libro con título 1984\n",
    "    {'$set': {'published_year': 1984}}  # cambiar el año de publicación a 1984\n",
    ")"
   ]
  },
  {
   "cell_type": "markdown",
   "metadata": {},
   "source": [
    "Verifica que la actualización se haya realizado"
   ]
  },
  {
   "cell_type": "code",
   "execution_count": 29,
   "metadata": {},
   "outputs": [
    {
     "name": "stdout",
     "output_type": "stream",
     "text": [
      "{'_id': ObjectId('6748c03bdcccdf55303a3910'), 'title': '1984', 'author': 'George Orwell', 'published_year': 1984}\n"
     ]
    }
   ],
   "source": [
    "# Obtener todos los documentos en la colección books que coincidan\n",
    "documents = collection.find({'title':'1984'})\n",
    "\n",
    "# Imprimir todos los documentos encontrados\n",
    "for doc in documents:\n",
    "    print(doc)"
   ]
  },
  {
   "cell_type": "markdown",
   "metadata": {},
   "source": [
    "Elimina el documento \"War and Peace\" de la colección 'books'"
   ]
  },
  {
   "cell_type": "code",
   "execution_count": 30,
   "metadata": {},
   "outputs": [
    {
     "data": {
      "text/plain": [
       "DeleteResult({'n': 1, 'ok': 1.0}, acknowledged=True)"
      ]
     },
     "execution_count": 30,
     "metadata": {},
     "output_type": "execute_result"
    }
   ],
   "source": [
    "# Eliminar el libro War and Peace\n",
    "collection.delete_one({'title': 'War and Peace'})"
   ]
  },
  {
   "cell_type": "markdown",
   "metadata": {},
   "source": [
    "Verificar que el documento se haya eliminado"
   ]
  },
  {
   "cell_type": "code",
   "execution_count": 31,
   "metadata": {},
   "outputs": [
    {
     "name": "stdout",
     "output_type": "stream",
     "text": [
      "No hay resultados\n"
     ]
    }
   ],
   "source": [
    "# Obtener todos los documentos en la colección books que coincidan\n",
    "documents = collection.find({'title':'War and Peace'})\n",
    "\n",
    "# Imprimir todos los documentos encontrados si es que hay alguna coincidencia\n",
    "if len(list(documents)) != 0:\n",
    "    for doc in documents:\n",
    "        print(doc)\n",
    "else:\n",
    "    print(\"No hay resultados\")"
   ]
  },
  {
   "cell_type": "markdown",
   "metadata": {},
   "source": [
    "## EJERCICIO 2"
   ]
  },
  {
   "cell_type": "markdown",
   "id": "59d6f5d1",
   "metadata": {},
   "source": [
    "Inicializa un cliente y conectate a la base de datos my_store (no existe)"
   ]
  },
  {
   "cell_type": "code",
   "execution_count": 32,
   "id": "b6fb6675",
   "metadata": {},
   "outputs": [],
   "source": [
    "db = client['my_store']  # Crear la base de datos"
   ]
  },
  {
   "cell_type": "markdown",
   "id": "d8a52c99",
   "metadata": {},
   "source": [
    "Inserta en la base de datos estos datos en la colección items\n",
    "\n",
    "    {\n",
    "        \"name\": \"Bag\", \n",
    "        \"departments\": [\"School\"], \n",
    "        \"versions\": [\n",
    "            {\"color\": \"Black\", \"size\": \"small\", \"qty\": 5, \"price\": 17.79},\n",
    "            {\"color\": \"Red\", \"size\": \"small\", \"qty\": 3, \"price\": 18.23},\n",
    "            {\"color\": \"Green\", \"size\": \"small\", \"qty\": 5, \"price\": 20.03},\n",
    "            {\"color\": \"Black\", \"size\": \"large\", \"qty\": 1, \"price\": 41.23},\n",
    "            {\"color\": \"Red\", \"size\": \"large\", \"qty\": 10, \"price\": 46.82},\n",
    "            {\"color\": \"Green\", \"size\": \"large\", \"qty\": 7, \"price\": 45.43}\n",
    "        ]\n",
    "    }\n",
    "\n",
    "    {\n",
    "        \"name\": \"Mug\", \n",
    "        \"departments\": [\"Home\", \"Kitchen\"], \n",
    "        \"versions\": [\n",
    "            {\"color\": \"White\", \"size\": \"11 oz\", \"qty\": 14, \"price\": 14.79},\n",
    "            {\"color\": \"Blue\", \"size\": \"11 oz\", \"qty\": 23, \"price\": 15.23},\n",
    "            {\"color\": \"Green\", \"size\": \"11 oz\", \"qty\": 15, \"price\": 15.07},\n",
    "            {\"color\": \"White\", \"size\": \"15 oz\", \"qty\": 11, \"price\": 24.43},\n",
    "            {\"color\": \"Blue\", \"size\": \"15 oz\", \"qty\": 7, \"price\": 25.42},\n",
    "            {\"color\": \"Green\", \"size\": \"15 oz\", \"qty\": 10, \"price\": 25.83}\n",
    "        ]\n",
    "    }\n",
    "    \n",
    "    {\n",
    "        \"name\": \"Pens\", \n",
    "        \"departments\": [\"School\", \"Office\"], \n",
    "        \"versions\": [\n",
    "            {\"color\": \"Black\", \"type\": \"10 Pack\", \"qty\": 40, \"price\": 14.79},\n",
    "            {\"color\": \"Red\", \"type\": \"10 Pack\", \"qty\": 13, \"price\": 15.23},\n",
    "            {\"color\": \"Blue\", \"type\": \"10 Pack\", \"qty\": 12, \"price\": 15.07}\n",
    "        ]\n",
    "    }"
   ]
  },
  {
   "cell_type": "code",
   "execution_count": 33,
   "id": "998d2d20",
   "metadata": {},
   "outputs": [
    {
     "data": {
      "text/plain": [
       "InsertManyResult([ObjectId('6748c03bdcccdf55303a3913'), ObjectId('6748c03bdcccdf55303a3914'), ObjectId('6748c03bdcccdf55303a3915')], acknowledged=True)"
      ]
     },
     "execution_count": 33,
     "metadata": {},
     "output_type": "execute_result"
    }
   ],
   "source": [
    "# Crear la colección\n",
    "collection = db[\"items\"]\n",
    "\n",
    "# Eliminar todos los documentos de la colección books por si se corre el bloque múltiples veces\n",
    "collection.delete_many({})\n",
    "\n",
    "# Crear los objetos\n",
    "item1= {\n",
    "        \"name\": \"Bag\", \n",
    "        \"departments\": [\"School\"], \n",
    "        \"versions\": [\n",
    "            {\"color\": \"Black\", \"size\": \"small\", \"qty\": 5, \"price\": 17.79},\n",
    "            {\"color\": \"Red\", \"size\": \"small\", \"qty\": 3, \"price\": 18.23},\n",
    "            {\"color\": \"Green\", \"size\": \"small\", \"qty\": 5, \"price\": 20.03},\n",
    "            {\"color\": \"Black\", \"size\": \"large\", \"qty\": 1, \"price\": 41.23},\n",
    "            {\"color\": \"Red\", \"size\": \"large\", \"qty\": 10, \"price\": 46.82},\n",
    "            {\"color\": \"Green\", \"size\": \"large\", \"qty\": 7, \"price\": 45.43}\n",
    "        ]\n",
    "    }\n",
    "\n",
    "item2= {\n",
    "        \"name\": \"Mug\", \n",
    "        \"departments\": [\"Home\", \"Kitchen\"], \n",
    "        \"versions\": [\n",
    "            {\"color\": \"White\", \"size\": \"11 oz\", \"qty\": 14, \"price\": 14.79},\n",
    "            {\"color\": \"Blue\", \"size\": \"11 oz\", \"qty\": 23, \"price\": 15.23},\n",
    "            {\"color\": \"Green\", \"size\": \"11 oz\", \"qty\": 15, \"price\": 15.07},\n",
    "            {\"color\": \"White\", \"size\": \"15 oz\", \"qty\": 11, \"price\": 24.43},\n",
    "            {\"color\": \"Blue\", \"size\": \"15 oz\", \"qty\": 7, \"price\": 25.42},\n",
    "            {\"color\": \"Green\", \"size\": \"15 oz\", \"qty\": 10, \"price\": 25.83}\n",
    "        ]\n",
    "    }\n",
    "    \n",
    "item3= {\n",
    "        \"name\": \"Pens\", \n",
    "        \"departments\": [\"School\", \"Office\"], \n",
    "        \"versions\": [\n",
    "            {\"color\": \"Black\", \"type\": \"10 Pack\", \"qty\": 40, \"price\": 14.79},\n",
    "            {\"color\": \"Red\", \"type\": \"10 Pack\", \"qty\": 13, \"price\": 15.23},\n",
    "            {\"color\": \"Blue\", \"type\": \"10 Pack\", \"qty\": 12, \"price\": 15.07}\n",
    "        ]\n",
    "    }\n",
    "\n",
    "# Insertar todo\n",
    "collection.insert_many([item1,item2,item3])"
   ]
  },
  {
   "cell_type": "markdown",
   "id": "821f64a2",
   "metadata": {},
   "source": [
    "Crea una función a la que le pases el cursor con los resultados de una consulta y los imprima"
   ]
  },
  {
   "cell_type": "code",
   "execution_count": 34,
   "id": "fb611b3b",
   "metadata": {},
   "outputs": [
    {
     "name": "stdout",
     "output_type": "stream",
     "text": [
      "{'_id': ObjectId('6748c03bdcccdf55303a3913'), 'name': 'Bag', 'departments': ['School'], 'versions': [{'color': 'Black', 'size': 'small', 'qty': 5, 'price': 17.79}, {'color': 'Red', 'size': 'small', 'qty': 3, 'price': 18.23}, {'color': 'Green', 'size': 'small', 'qty': 5, 'price': 20.03}, {'color': 'Black', 'size': 'large', 'qty': 1, 'price': 41.23}, {'color': 'Red', 'size': 'large', 'qty': 10, 'price': 46.82}, {'color': 'Green', 'size': 'large', 'qty': 7, 'price': 45.43}]}\n",
      "{'_id': ObjectId('6748c03bdcccdf55303a3914'), 'name': 'Mug', 'departments': ['Home', 'Kitchen'], 'versions': [{'color': 'White', 'size': '11 oz', 'qty': 14, 'price': 14.79}, {'color': 'Blue', 'size': '11 oz', 'qty': 23, 'price': 15.23}, {'color': 'Green', 'size': '11 oz', 'qty': 15, 'price': 15.07}, {'color': 'White', 'size': '15 oz', 'qty': 11, 'price': 24.43}, {'color': 'Blue', 'size': '15 oz', 'qty': 7, 'price': 25.42}, {'color': 'Green', 'size': '15 oz', 'qty': 10, 'price': 25.83}]}\n",
      "{'_id': ObjectId('6748c03bdcccdf55303a3915'), 'name': 'Pens', 'departments': ['School', 'Office'], 'versions': [{'color': 'Black', 'type': '10 Pack', 'qty': 40, 'price': 14.79}, {'color': 'Red', 'type': '10 Pack', 'qty': 13, 'price': 15.23}, {'color': 'Blue', 'type': '10 Pack', 'qty': 12, 'price': 15.07}]}\n"
     ]
    }
   ],
   "source": [
    "def print_cursor(cursor):\n",
    "    # Iterar sobre el cursor y asegurarte de consumirlo completamente\n",
    "    for item in cursor:\n",
    "        print(item)\n",
    "\n",
    "# Obtener el cursor de la colección\n",
    "cursor = collection.find()\n",
    "\n",
    "# Consumir e imprimir los documentos\n",
    "print_cursor(cursor)\n"
   ]
  },
  {
   "cell_type": "markdown",
   "metadata": {},
   "source": [
    "Usando la función anterior muestra los articulos del departamento School"
   ]
  },
  {
   "cell_type": "code",
   "execution_count": 36,
   "id": "9b3149e7",
   "metadata": {},
   "outputs": [
    {
     "name": "stdout",
     "output_type": "stream",
     "text": [
      "{'_id': ObjectId('6748c03bdcccdf55303a3913'), 'name': 'Bag', 'departments': ['School'], 'versions': [{'color': 'Black', 'size': 'small', 'qty': 5, 'price': 17.79}, {'color': 'Red', 'size': 'small', 'qty': 3, 'price': 18.23}, {'color': 'Green', 'size': 'small', 'qty': 5, 'price': 20.03}, {'color': 'Black', 'size': 'large', 'qty': 1, 'price': 41.23}, {'color': 'Red', 'size': 'large', 'qty': 10, 'price': 46.82}, {'color': 'Green', 'size': 'large', 'qty': 7, 'price': 45.43}]}\n",
      "{'_id': ObjectId('6748c03bdcccdf55303a3915'), 'name': 'Pens', 'departments': ['School', 'Office'], 'versions': [{'color': 'Black', 'type': '10 Pack', 'qty': 40, 'price': 14.79}, {'color': 'Red', 'type': '10 Pack', 'qty': 13, 'price': 15.23}, {'color': 'Blue', 'type': '10 Pack', 'qty': 12, 'price': 15.07}]}\n"
     ]
    }
   ],
   "source": [
    "# Usar el operador $in para buscar coincidencias en listas\n",
    "cursor = collection.find({'departments': {'$in': ['School']}})\n",
    "\n",
    "# Imprimimos el cursor con la funcion\n",
    "print_cursor(cursor)"
   ]
  },
  {
   "cell_type": "markdown",
   "metadata": {},
   "source": [
    "Muestra los articulos que pertenecen a los departamentos Office o a Kitchen"
   ]
  },
  {
   "cell_type": "code",
   "execution_count": 37,
   "id": "e654b313",
   "metadata": {},
   "outputs": [
    {
     "name": "stdout",
     "output_type": "stream",
     "text": [
      "{'_id': ObjectId('6748c03bdcccdf55303a3914'), 'name': 'Mug', 'departments': ['Home', 'Kitchen'], 'versions': [{'color': 'White', 'size': '11 oz', 'qty': 14, 'price': 14.79}, {'color': 'Blue', 'size': '11 oz', 'qty': 23, 'price': 15.23}, {'color': 'Green', 'size': '11 oz', 'qty': 15, 'price': 15.07}, {'color': 'White', 'size': '15 oz', 'qty': 11, 'price': 24.43}, {'color': 'Blue', 'size': '15 oz', 'qty': 7, 'price': 25.42}, {'color': 'Green', 'size': '15 oz', 'qty': 10, 'price': 25.83}]}\n",
      "{'_id': ObjectId('6748c03bdcccdf55303a3915'), 'name': 'Pens', 'departments': ['School', 'Office'], 'versions': [{'color': 'Black', 'type': '10 Pack', 'qty': 40, 'price': 14.79}, {'color': 'Red', 'type': '10 Pack', 'qty': 13, 'price': 15.23}, {'color': 'Blue', 'type': '10 Pack', 'qty': 12, 'price': 15.07}]}\n"
     ]
    }
   ],
   "source": [
    "# Usar el operador $in para buscar coincidencias en listas\n",
    "cursor = collection.find({'departments': {'$in': ['Office','Kitchen']}})\n",
    "\n",
    "# Imprimimos el cursor con la funcion\n",
    "print_cursor(cursor)"
   ]
  },
  {
   "cell_type": "markdown",
   "metadata": {},
   "source": [
    "Muestra los articulos que pertenecen exactamente a dos departamentos"
   ]
  },
  {
   "cell_type": "code",
   "execution_count": 38,
   "id": "a9aaea19",
   "metadata": {},
   "outputs": [
    {
     "name": "stdout",
     "output_type": "stream",
     "text": [
      "{'_id': ObjectId('6748c03bdcccdf55303a3914'), 'name': 'Mug', 'departments': ['Home', 'Kitchen'], 'versions': [{'color': 'White', 'size': '11 oz', 'qty': 14, 'price': 14.79}, {'color': 'Blue', 'size': '11 oz', 'qty': 23, 'price': 15.23}, {'color': 'Green', 'size': '11 oz', 'qty': 15, 'price': 15.07}, {'color': 'White', 'size': '15 oz', 'qty': 11, 'price': 24.43}, {'color': 'Blue', 'size': '15 oz', 'qty': 7, 'price': 25.42}, {'color': 'Green', 'size': '15 oz', 'qty': 10, 'price': 25.83}]}\n",
      "{'_id': ObjectId('6748c03bdcccdf55303a3915'), 'name': 'Pens', 'departments': ['School', 'Office'], 'versions': [{'color': 'Black', 'type': '10 Pack', 'qty': 40, 'price': 14.79}, {'color': 'Red', 'type': '10 Pack', 'qty': 13, 'price': 15.23}, {'color': 'Blue', 'type': '10 Pack', 'qty': 12, 'price': 15.07}]}\n"
     ]
    }
   ],
   "source": [
    "# Usar el operador $size para buscar por tamaño de campo\n",
    "cursor = collection.find({\"departments\": {\"$size\": 2}})\n",
    "# Imprimimos el cursor con la funcion\n",
    "print_cursor(cursor)"
   ]
  },
  {
   "cell_type": "markdown",
   "id": "e59dad98",
   "metadata": {},
   "source": [
    "Muestra los articulos que tienen una version de color Red"
   ]
  },
  {
   "cell_type": "code",
   "execution_count": null,
   "id": "38f061ad",
   "metadata": {},
   "outputs": [
    {
     "name": "stdout",
     "output_type": "stream",
     "text": [
      "{'_id': ObjectId('6748c03bdcccdf55303a3913'), 'name': 'Bag', 'departments': ['School'], 'versions': [{'color': 'Black', 'size': 'small', 'qty': 5, 'price': 17.79}, {'color': 'Red', 'size': 'small', 'qty': 3, 'price': 18.23}, {'color': 'Green', 'size': 'small', 'qty': 5, 'price': 20.03}, {'color': 'Black', 'size': 'large', 'qty': 1, 'price': 41.23}, {'color': 'Red', 'size': 'large', 'qty': 10, 'price': 46.82}, {'color': 'Green', 'size': 'large', 'qty': 7, 'price': 45.43}]}\n",
      "{'_id': ObjectId('6748c03bdcccdf55303a3915'), 'name': 'Pens', 'departments': ['School', 'Office'], 'versions': [{'color': 'Black', 'type': '10 Pack', 'qty': 40, 'price': 14.79}, {'color': 'Red', 'type': '10 Pack', 'qty': 13, 'price': 15.23}, {'color': 'Blue', 'type': '10 Pack', 'qty': 12, 'price': 15.07}]}\n"
     ]
    }
   ],
   "source": [
    "# Usar el operador $elemMatch para buscar atributos anidados\n",
    "cursor = collection.find({\n",
    "    \"versions\": {\n",
    "        \"$elemMatch\": {\n",
    "            \"color\": \"Red\"\n",
    "        }\n",
    "    }\n",
    "})\n",
    "\n",
    "# Imprimimos el cursor con la funcion\n",
    "print_cursor(cursor)"
   ]
  },
  {
   "cell_type": "markdown",
   "metadata": {},
   "source": [
    "Muestra los artículos que dentro de las versiones tienen el atributo size"
   ]
  },
  {
   "cell_type": "code",
   "execution_count": 41,
   "id": "62eec0a1",
   "metadata": {},
   "outputs": [
    {
     "name": "stdout",
     "output_type": "stream",
     "text": [
      "{'_id': ObjectId('6748c03bdcccdf55303a3913'), 'name': 'Bag', 'departments': ['School'], 'versions': [{'color': 'Black', 'size': 'small', 'qty': 5, 'price': 17.79}, {'color': 'Red', 'size': 'small', 'qty': 3, 'price': 18.23}, {'color': 'Green', 'size': 'small', 'qty': 5, 'price': 20.03}, {'color': 'Black', 'size': 'large', 'qty': 1, 'price': 41.23}, {'color': 'Red', 'size': 'large', 'qty': 10, 'price': 46.82}, {'color': 'Green', 'size': 'large', 'qty': 7, 'price': 45.43}]}\n",
      "{'_id': ObjectId('6748c03bdcccdf55303a3914'), 'name': 'Mug', 'departments': ['Home', 'Kitchen'], 'versions': [{'color': 'White', 'size': '11 oz', 'qty': 14, 'price': 14.79}, {'color': 'Blue', 'size': '11 oz', 'qty': 23, 'price': 15.23}, {'color': 'Green', 'size': '11 oz', 'qty': 15, 'price': 15.07}, {'color': 'White', 'size': '15 oz', 'qty': 11, 'price': 24.43}, {'color': 'Blue', 'size': '15 oz', 'qty': 7, 'price': 25.42}, {'color': 'Green', 'size': '15 oz', 'qty': 10, 'price': 25.83}]}\n"
     ]
    }
   ],
   "source": [
    "# Usar el operador $exists para buscar la existencia de atributos anidados\n",
    "cursor = collection.find({\n",
    "    \"versions.size\": {\"$exists\": True}\n",
    "})\n",
    "\n",
    "# Imprimimos el cursor con la funcion\n",
    "print_cursor(cursor)"
   ]
  },
  {
   "cell_type": "markdown",
   "id": "8b32f857",
   "metadata": {},
   "source": [
    "Actualiza los  departamentos de Pens para que sean Office y School"
   ]
  },
  {
   "cell_type": "code",
   "execution_count": null,
   "id": "e6987cc5",
   "metadata": {},
   "outputs": [
    {
     "data": {
      "text/plain": [
       "UpdateResult({'n': 1, 'nModified': 0, 'ok': 1.0, 'updatedExisting': True}, acknowledged=True)"
      ]
     },
     "execution_count": 43,
     "metadata": {},
     "output_type": "execute_result"
    }
   ],
   "source": [
    "# Actualizamos un único documento\n",
    "collection.update_one(\n",
    "    {\"name\": \"Pens\"},          # Buscamos una única coincidencia de pens\n",
    "    {\"$set\": {\"departments\": [\"Office\", \"School\"]}}  # Cambiamos departments\n",
    ")"
   ]
  },
  {
   "cell_type": "markdown",
   "metadata": {},
   "source": [
    "Comprueba que la actualización ha sido correcta"
   ]
  },
  {
   "cell_type": "code",
   "execution_count": null,
   "id": "e7d5dd72",
   "metadata": {},
   "outputs": [
    {
     "name": "stdout",
     "output_type": "stream",
     "text": [
      "{'_id': ObjectId('6748c03bdcccdf55303a3915'), 'name': 'Pens', 'departments': ['Office', 'School'], 'versions': [{'color': 'Black', 'type': '10 Pack', 'qty': 40, 'price': 14.79}, {'color': 'Red', 'type': '10 Pack', 'qty': 13, 'price': 15.23}, {'color': 'Blue', 'type': '10 Pack', 'qty': 12, 'price': 15.07}]}\n"
     ]
    }
   ],
   "source": [
    "# Buscamos Pens\n",
    "cursor = collection.find({\n",
    "    \"name\": \"Pens\"\n",
    "})\n",
    "\n",
    "# Imprimimos el cursor con la funcion\n",
    "print_cursor(cursor)"
   ]
  },
  {
   "cell_type": "markdown",
   "metadata": {},
   "source": [
    "Elimina el último departamento de Mug (sin poner explicitamente el nombre del departamento)"
   ]
  },
  {
   "cell_type": "code",
   "execution_count": 45,
   "id": "f9cfbeda",
   "metadata": {},
   "outputs": [
    {
     "data": {
      "text/plain": [
       "UpdateResult({'n': 1, 'nModified': 1, 'ok': 1.0, 'updatedExisting': True}, acknowledged=True)"
      ]
     },
     "execution_count": 45,
     "metadata": {},
     "output_type": "execute_result"
    }
   ],
   "source": [
    "# Usamos $pop para sacar el último elemento de una lista\n",
    "collection.update_one(\n",
    "    {\"name\": \"Mug\"},\n",
    "    {\"$pop\": {\"departments\": 1}}\n",
    ")"
   ]
  },
  {
   "cell_type": "markdown",
   "metadata": {},
   "source": [
    "Comprueba que la actualización ha sido correcta"
   ]
  },
  {
   "cell_type": "code",
   "execution_count": 46,
   "id": "cd46c9de",
   "metadata": {},
   "outputs": [
    {
     "name": "stdout",
     "output_type": "stream",
     "text": [
      "{'_id': ObjectId('6748c03bdcccdf55303a3914'), 'name': 'Mug', 'departments': ['Home'], 'versions': [{'color': 'White', 'size': '11 oz', 'qty': 14, 'price': 14.79}, {'color': 'Blue', 'size': '11 oz', 'qty': 23, 'price': 15.23}, {'color': 'Green', 'size': '11 oz', 'qty': 15, 'price': 15.07}, {'color': 'White', 'size': '15 oz', 'qty': 11, 'price': 24.43}, {'color': 'Blue', 'size': '15 oz', 'qty': 7, 'price': 25.42}, {'color': 'Green', 'size': '15 oz', 'qty': 10, 'price': 25.83}]}\n"
     ]
    }
   ],
   "source": [
    "# Buscamos Pens\n",
    "cursor = collection.find({\n",
    "    \"name\": \"Mug\"\n",
    "})\n",
    "\n",
    "# Imprimimos el cursor con la funcion\n",
    "print_cursor(cursor)"
   ]
  }
 ],
 "metadata": {
  "kernelspec": {
   "display_name": "notebook",
   "language": "python",
   "name": "python3"
  },
  "language_info": {
   "codemirror_mode": {
    "name": "ipython",
    "version": 3
   },
   "file_extension": ".py",
   "mimetype": "text/x-python",
   "name": "python",
   "nbconvert_exporter": "python",
   "pygments_lexer": "ipython3",
   "version": "3.12.7"
  }
 },
 "nbformat": 4,
 "nbformat_minor": 5
}
