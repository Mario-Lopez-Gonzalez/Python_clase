{
 "cells": [
  {
   "cell_type": "markdown",
   "id": "e2128d1c-62d1-4681-abe1-754a1410e632",
   "metadata": {},
   "source": [
    "## Importar librerías e instancia de modelo de chat"
   ]
  },
  {
   "cell_type": "code",
   "execution_count": 1,
   "id": "e2d81e4f-8739-4a19-abf9-7515304fc0a9",
   "metadata": {},
   "outputs": [
    {
     "name": "stderr",
     "output_type": "stream",
     "text": [
      "/home/iabd/anaconda3/envs/entornoJon/lib/python3.12/site-packages/tqdm/auto.py:21: TqdmWarning: IProgress not found. Please update jupyter and ipywidgets. See https://ipywidgets.readthedocs.io/en/stable/user_install.html\n",
      "  from .autonotebook import tqdm as notebook_tqdm\n",
      "/home/iabd/anaconda3/envs/entornoJon/lib/python3.12/site-packages/torch/utils/_pytree.py:185: FutureWarning: optree is installed but the version is too old to support PyTorch Dynamo in C++ pytree. C++ pytree support is disabled. Please consider upgrading optree using `python3 -m pip install --upgrade 'optree>=0.13.0'`.\n",
      "  warnings.warn(\n"
     ]
    }
   ],
   "source": [
    "from langchain.prompts import PromptTemplate, SystemMessagePromptTemplate,ChatPromptTemplate, HumanMessagePromptTemplate\n",
    "import langchain\n",
    "from langchain.schema import SystemMessage, HumanMessage\n",
    "from langchain_huggingface import ChatHuggingFace, HuggingFaceEndpoint\n",
    "import getpass\n",
    "import os\n",
    "\n",
    "f = open('/home/iabd/huggingface_token.txt')\n",
    "api_key = f.read().strip()\n",
    "os.environ[\"HUGGINGFACEHUB_API_TOKEN\"] = api_key\n",
    "\n",
    "llm = HuggingFaceEndpoint(\n",
    "    repo_id=\"HuggingFaceH4/zephyr-7b-beta\",\n",
    "    task=\"text-generation\",\n",
    "    max_new_tokens=512,\n",
    "    do_sample=False,\n",
    "    repetition_penalty=1.03,\n",
    ")\n",
    "\n",
    "chat = ChatHuggingFace(llm=llm)"
   ]
  },
  {
   "cell_type": "markdown",
   "id": "728f1747-b8fc-4d31-96c2-047fc83c079d",
   "metadata": {},
   "source": [
    "#  Integración Wikipedia"
   ]
  },
  {
   "cell_type": "code",
   "execution_count": 2,
   "id": "244f42d8-2349-446e-a1c2-ae4b8d3ee38f",
   "metadata": {},
   "outputs": [],
   "source": [
    "from langchain.document_loaders import WikipediaLoader # pip install wikipedia en una terminal"
   ]
  },
  {
   "cell_type": "code",
   "execution_count": 3,
   "id": "b5243006-d86e-41b0-aa52-3b6f1308d631",
   "metadata": {},
   "outputs": [],
   "source": [
    "def responder_wikipedia(persona,pregunta_arg):\n",
    "    # Obtener artículo de wikipedia\n",
    "    docs = WikipediaLoader(query=persona,lang=\"es\",load_max_docs=10) #parámetros posibles en: https://python.langchain.com/v0.2/docs/integrations/document_loaders/wikipedia/\n",
    "    contexto_extra = docs.load()[0].page_content #para que sea más rápido solo pásamos el primer documento [0] como contexto extra\n",
    "    \n",
    "    # Pregunta de usuario\n",
    "    human_prompt = HumanMessagePromptTemplate.from_template('Responde a esta pregunta\\n{pregunta}, aquí tienes contenido extra:\\n{contenido}')\n",
    "    \n",
    "    # Construir prompt\n",
    "    chat_prompt = ChatPromptTemplate.from_messages([human_prompt])\n",
    "    \n",
    "    # Resultado\n",
    "    result = chat.invoke(chat_prompt.format_prompt(pregunta=pregunta_arg,contenido=contexto_extra).to_messages())\n",
    "    \n",
    "    print(result.content)"
   ]
  },
  {
   "cell_type": "code",
   "execution_count": 8,
   "id": "e3a43963-57d4-44c5-8d28-b6164b2c0b83",
   "metadata": {},
   "outputs": [
    {
     "name": "stdout",
     "output_type": "stream",
     "text": [
      "Nacido el 29 de julio de 1981 en Oviedo, España, Fernando Alonso es un piloto de automovilismo reconocido mundialmente. Ganador del Premio Príncipe de Asturias en 2005, ha logrado dos títulos mundiales de Fórmula 1 con el equipo Renault en 2005 y 2006, y también ha sido subcampeón en 2010, 2012 y 2013 con Ferrari. Además, ha competido en otros campeonatos como el Campeonato Mundial de Resistencia de la FIA, donde ganó en 2019, las 24 Horas de Le Mans en 2018 y 2019, y las 24 Horas de Daytona de 2019. En la Fórmula 1, tiene el récord de más carreras iniciadas con 401 participaciones, y ha logrado 32 victorias, 106 podios, 22 poles, 26 vueltas rápids y 87 lideratos de carrera. Está situado detrás de Max Verstappen en la lista de mayores avanzadas de posición en carrera con 9. Es también el piloto con más circuitos con podio empatado con Kimi Räikkönen con 30, y el quinto piloto con más vueltas lideradas en Fórmula 1. Entre sus triunfos se cuentan tres en Malasia, tres en Baréin, tres en Alemania y dos en Mónaco. Junto a Carlos Sainz Jr., es uno de los cuatro pilotos españoles que han podio en la Fórmula 1 y uno de los únicos que han logrado victorias en la categoría.\n"
     ]
    }
   ],
   "source": [
    "responder_wikipedia(\"Fernando Alonso\",\"Respodeme solamente cuando nació en español\")"
   ]
  }
 ],
 "metadata": {
  "kernelspec": {
   "display_name": "entornoJon",
   "language": "python",
   "name": "python3"
  },
  "language_info": {
   "codemirror_mode": {
    "name": "ipython",
    "version": 3
   },
   "file_extension": ".py",
   "mimetype": "text/x-python",
   "name": "python",
   "nbconvert_exporter": "python",
   "pygments_lexer": "ipython3",
   "version": "3.12.8"
  }
 },
 "nbformat": 4,
 "nbformat_minor": 5
}
