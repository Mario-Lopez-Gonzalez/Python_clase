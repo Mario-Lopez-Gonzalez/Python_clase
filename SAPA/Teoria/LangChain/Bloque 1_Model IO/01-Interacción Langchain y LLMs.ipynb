{
 "cells": [
  {
   "cell_type": "markdown",
   "id": "36df7e9f",
   "metadata": {},
   "source": [
    "## Importar librerías y clave OpenAI"
   ]
  },
  {
   "cell_type": "code",
   "execution_count": null,
   "id": "fbd4cf30",
   "metadata": {},
   "outputs": [
    {
     "name": "stdout",
     "output_type": "stream",
     "text": [
      "Collecting langchain\n",
      "  Downloading langchain-0.3.18-py3-none-any.whl.metadata (7.8 kB)\n",
      "Collecting langchain-core<1.0.0,>=0.3.34 (from langchain)\n",
      "  Downloading langchain_core-0.3.34-py3-none-any.whl.metadata (5.9 kB)\n",
      "Collecting langchain-text-splitters<1.0.0,>=0.3.6 (from langchain)\n",
      "  Downloading langchain_text_splitters-0.3.6-py3-none-any.whl.metadata (1.9 kB)\n",
      "Collecting langsmith<0.4,>=0.1.17 (from langchain)\n",
      "  Downloading langsmith-0.3.8-py3-none-any.whl.metadata (14 kB)\n",
      "Requirement already satisfied: pydantic<3.0.0,>=2.7.4 in /home/iabd/anaconda3/envs/ia_gpu312/lib/python3.12/site-packages (from langchain) (2.10.6)\n",
      "Collecting SQLAlchemy<3,>=1.4 (from langchain)\n",
      "  Downloading SQLAlchemy-2.0.38-cp312-cp312-manylinux_2_17_x86_64.manylinux2014_x86_64.whl.metadata (9.6 kB)\n",
      "Requirement already satisfied: requests<3,>=2 in /home/iabd/anaconda3/envs/ia_gpu312/lib/python3.12/site-packages (from langchain) (2.32.3)\n",
      "Requirement already satisfied: PyYAML>=5.3 in /home/iabd/anaconda3/envs/ia_gpu312/lib/python3.12/site-packages (from langchain) (6.0.2)\n",
      "Requirement already satisfied: aiohttp<4.0.0,>=3.8.3 in /home/iabd/anaconda3/envs/ia_gpu312/lib/python3.12/site-packages (from langchain) (3.10.11)\n",
      "Collecting tenacity!=8.4.0,<10,>=8.1.0 (from langchain)\n",
      "  Downloading tenacity-9.0.0-py3-none-any.whl.metadata (1.2 kB)\n",
      "Requirement already satisfied: numpy<3,>=1.26.2 in /home/iabd/anaconda3/envs/ia_gpu312/lib/python3.12/site-packages (from langchain) (1.26.4)\n",
      "Requirement already satisfied: aiohappyeyeballs>=2.3.0 in /home/iabd/anaconda3/envs/ia_gpu312/lib/python3.12/site-packages (from aiohttp<4.0.0,>=3.8.3->langchain) (2.4.4)\n",
      "Requirement already satisfied: aiosignal>=1.1.2 in /home/iabd/anaconda3/envs/ia_gpu312/lib/python3.12/site-packages (from aiohttp<4.0.0,>=3.8.3->langchain) (1.3.2)\n",
      "Requirement already satisfied: attrs>=17.3.0 in /home/iabd/anaconda3/envs/ia_gpu312/lib/python3.12/site-packages (from aiohttp<4.0.0,>=3.8.3->langchain) (24.3.0)\n",
      "Requirement already satisfied: frozenlist>=1.1.1 in /home/iabd/anaconda3/envs/ia_gpu312/lib/python3.12/site-packages (from aiohttp<4.0.0,>=3.8.3->langchain) (1.5.0)\n",
      "Requirement already satisfied: multidict<7.0,>=4.5 in /home/iabd/anaconda3/envs/ia_gpu312/lib/python3.12/site-packages (from aiohttp<4.0.0,>=3.8.3->langchain) (6.1.0)\n",
      "Requirement already satisfied: yarl<2.0,>=1.12.0 in /home/iabd/anaconda3/envs/ia_gpu312/lib/python3.12/site-packages (from aiohttp<4.0.0,>=3.8.3->langchain) (1.18.3)\n",
      "Collecting jsonpatch<2.0,>=1.33 (from langchain-core<1.0.0,>=0.3.34->langchain)\n",
      "  Downloading jsonpatch-1.33-py2.py3-none-any.whl.metadata (3.0 kB)\n",
      "Requirement already satisfied: packaging<25,>=23.2 in /home/iabd/anaconda3/envs/ia_gpu312/lib/python3.12/site-packages (from langchain-core<1.0.0,>=0.3.34->langchain) (24.2)\n",
      "Requirement already satisfied: typing-extensions>=4.7 in /home/iabd/anaconda3/envs/ia_gpu312/lib/python3.12/site-packages (from langchain-core<1.0.0,>=0.3.34->langchain) (4.12.2)\n",
      "Requirement already satisfied: httpx<1,>=0.23.0 in /home/iabd/anaconda3/envs/ia_gpu312/lib/python3.12/site-packages (from langsmith<0.4,>=0.1.17->langchain) (0.27.2)\n",
      "Requirement already satisfied: orjson<4.0.0,>=3.9.14 in /home/iabd/anaconda3/envs/ia_gpu312/lib/python3.12/site-packages (from langsmith<0.4,>=0.1.17->langchain) (3.10.15)\n",
      "Requirement already satisfied: requests-toolbelt<2.0.0,>=1.0.0 in /home/iabd/anaconda3/envs/ia_gpu312/lib/python3.12/site-packages (from langsmith<0.4,>=0.1.17->langchain) (1.0.0)\n",
      "Collecting zstandard<0.24.0,>=0.23.0 (from langsmith<0.4,>=0.1.17->langchain)\n",
      "  Downloading zstandard-0.23.0-cp312-cp312-manylinux_2_17_x86_64.manylinux2014_x86_64.whl.metadata (3.0 kB)\n",
      "Requirement already satisfied: annotated-types>=0.6.0 in /home/iabd/anaconda3/envs/ia_gpu312/lib/python3.12/site-packages (from pydantic<3.0.0,>=2.7.4->langchain) (0.7.0)\n",
      "Requirement already satisfied: pydantic-core==2.27.2 in /home/iabd/anaconda3/envs/ia_gpu312/lib/python3.12/site-packages (from pydantic<3.0.0,>=2.7.4->langchain) (2.27.2)\n",
      "Requirement already satisfied: charset-normalizer<4,>=2 in /home/iabd/anaconda3/envs/ia_gpu312/lib/python3.12/site-packages (from requests<3,>=2->langchain) (3.4.1)\n",
      "Requirement already satisfied: idna<4,>=2.5 in /home/iabd/anaconda3/envs/ia_gpu312/lib/python3.12/site-packages (from requests<3,>=2->langchain) (3.7)\n",
      "Requirement already satisfied: urllib3<3,>=1.21.1 in /home/iabd/anaconda3/envs/ia_gpu312/lib/python3.12/site-packages (from requests<3,>=2->langchain) (2.3.0)\n",
      "Requirement already satisfied: certifi>=2017.4.17 in /home/iabd/anaconda3/envs/ia_gpu312/lib/python3.12/site-packages (from requests<3,>=2->langchain) (2024.12.14)\n",
      "Collecting greenlet!=0.4.17 (from SQLAlchemy<3,>=1.4->langchain)\n",
      "  Downloading greenlet-3.1.1-cp312-cp312-manylinux_2_24_x86_64.manylinux_2_28_x86_64.whl.metadata (3.8 kB)\n",
      "Requirement already satisfied: anyio in /home/iabd/anaconda3/envs/ia_gpu312/lib/python3.12/site-packages (from httpx<1,>=0.23.0->langsmith<0.4,>=0.1.17->langchain) (4.8.0)\n",
      "Requirement already satisfied: httpcore==1.* in /home/iabd/anaconda3/envs/ia_gpu312/lib/python3.12/site-packages (from httpx<1,>=0.23.0->langsmith<0.4,>=0.1.17->langchain) (1.0.7)\n",
      "Requirement already satisfied: sniffio in /home/iabd/anaconda3/envs/ia_gpu312/lib/python3.12/site-packages (from httpx<1,>=0.23.0->langsmith<0.4,>=0.1.17->langchain) (1.3.1)\n",
      "Requirement already satisfied: h11<0.15,>=0.13 in /home/iabd/anaconda3/envs/ia_gpu312/lib/python3.12/site-packages (from httpcore==1.*->httpx<1,>=0.23.0->langsmith<0.4,>=0.1.17->langchain) (0.14.0)\n",
      "Requirement already satisfied: jsonpointer>=1.9 in /home/iabd/anaconda3/envs/ia_gpu312/lib/python3.12/site-packages (from jsonpatch<2.0,>=1.33->langchain-core<1.0.0,>=0.3.34->langchain) (3.0.0)\n",
      "Requirement already satisfied: propcache>=0.2.0 in /home/iabd/anaconda3/envs/ia_gpu312/lib/python3.12/site-packages (from yarl<2.0,>=1.12.0->aiohttp<4.0.0,>=3.8.3->langchain) (0.2.1)\n",
      "Downloading langchain-0.3.18-py3-none-any.whl (1.0 MB)\n",
      "\u001b[2K   \u001b[90m━━━━━━━━━━━━━━━━━━━━━━━━━━━━━━━━━━━━━━━━\u001b[0m \u001b[32m1.0/1.0 MB\u001b[0m \u001b[31m14.9 MB/s\u001b[0m eta \u001b[36m0:00:00\u001b[0m\n",
      "\u001b[?25hDownloading langchain_core-0.3.34-py3-none-any.whl (412 kB)\n",
      "Downloading langchain_text_splitters-0.3.6-py3-none-any.whl (31 kB)\n",
      "Downloading langsmith-0.3.8-py3-none-any.whl (332 kB)\n",
      "Downloading SQLAlchemy-2.0.38-cp312-cp312-manylinux_2_17_x86_64.manylinux2014_x86_64.whl (3.3 MB)\n",
      "\u001b[2K   \u001b[90m━━━━━━━━━━━━━━━━━━━━━━━━━━━━━━━━━━━━━━━━\u001b[0m \u001b[32m3.3/3.3 MB\u001b[0m \u001b[31m17.0 MB/s\u001b[0m eta \u001b[36m0:00:00\u001b[0m\n",
      "\u001b[?25hDownloading tenacity-9.0.0-py3-none-any.whl (28 kB)\n",
      "Downloading greenlet-3.1.1-cp312-cp312-manylinux_2_24_x86_64.manylinux_2_28_x86_64.whl (613 kB)\n",
      "\u001b[2K   \u001b[90m━━━━━━━━━━━━━━━━━━━━━━━━━━━━━━━━━━━━━━━━\u001b[0m \u001b[32m613.1/613.1 kB\u001b[0m \u001b[31m15.5 MB/s\u001b[0m eta \u001b[36m0:00:00\u001b[0m\n",
      "\u001b[?25hDownloading jsonpatch-1.33-py2.py3-none-any.whl (12 kB)\n",
      "Downloading zstandard-0.23.0-cp312-cp312-manylinux_2_17_x86_64.manylinux2014_x86_64.whl (5.4 MB)\n",
      "\u001b[2K   \u001b[90m━━━━━━━━━━━━━━━━━━━━━━━━━━━━━━━━━━━━━━━━\u001b[0m \u001b[32m5.4/5.4 MB\u001b[0m \u001b[31m20.1 MB/s\u001b[0m eta \u001b[36m0:00:00\u001b[0ma \u001b[36m0:00:01\u001b[0m\n",
      "\u001b[?25hInstalling collected packages: zstandard, tenacity, jsonpatch, greenlet, SQLAlchemy, langsmith, langchain-core, langchain-text-splitters, langchain\n",
      "Successfully installed SQLAlchemy-2.0.38 greenlet-3.1.1 jsonpatch-1.33 langchain-0.3.18 langchain-core-0.3.34 langchain-text-splitters-0.3.6 langsmith-0.3.8 tenacity-9.0.0 zstandard-0.23.0\n",
      "Note: you may need to restart the kernel to use updated packages.\n",
      "Requirement already satisfied: openai in /home/iabd/anaconda3/envs/ia_gpu312/lib/python3.12/site-packages (1.60.1)\n",
      "Requirement already satisfied: anyio<5,>=3.5.0 in /home/iabd/anaconda3/envs/ia_gpu312/lib/python3.12/site-packages (from openai) (4.8.0)\n",
      "Requirement already satisfied: distro<2,>=1.7.0 in /home/iabd/anaconda3/envs/ia_gpu312/lib/python3.12/site-packages (from openai) (1.9.0)\n",
      "Requirement already satisfied: httpx<1,>=0.23.0 in /home/iabd/anaconda3/envs/ia_gpu312/lib/python3.12/site-packages (from openai) (0.27.2)\n",
      "Requirement already satisfied: jiter<1,>=0.4.0 in /home/iabd/anaconda3/envs/ia_gpu312/lib/python3.12/site-packages (from openai) (0.8.2)\n",
      "Requirement already satisfied: pydantic<3,>=1.9.0 in /home/iabd/anaconda3/envs/ia_gpu312/lib/python3.12/site-packages (from openai) (2.10.6)\n",
      "Requirement already satisfied: sniffio in /home/iabd/anaconda3/envs/ia_gpu312/lib/python3.12/site-packages (from openai) (1.3.1)\n",
      "Requirement already satisfied: tqdm>4 in /home/iabd/anaconda3/envs/ia_gpu312/lib/python3.12/site-packages (from openai) (4.67.1)\n",
      "Requirement already satisfied: typing-extensions<5,>=4.11 in /home/iabd/anaconda3/envs/ia_gpu312/lib/python3.12/site-packages (from openai) (4.12.2)\n",
      "Requirement already satisfied: idna>=2.8 in /home/iabd/anaconda3/envs/ia_gpu312/lib/python3.12/site-packages (from anyio<5,>=3.5.0->openai) (3.7)\n",
      "Requirement already satisfied: certifi in /home/iabd/anaconda3/envs/ia_gpu312/lib/python3.12/site-packages (from httpx<1,>=0.23.0->openai) (2024.12.14)\n",
      "Requirement already satisfied: httpcore==1.* in /home/iabd/anaconda3/envs/ia_gpu312/lib/python3.12/site-packages (from httpx<1,>=0.23.0->openai) (1.0.7)\n",
      "Requirement already satisfied: h11<0.15,>=0.13 in /home/iabd/anaconda3/envs/ia_gpu312/lib/python3.12/site-packages (from httpcore==1.*->httpx<1,>=0.23.0->openai) (0.14.0)\n",
      "Requirement already satisfied: annotated-types>=0.6.0 in /home/iabd/anaconda3/envs/ia_gpu312/lib/python3.12/site-packages (from pydantic<3,>=1.9.0->openai) (0.7.0)\n",
      "Requirement already satisfied: pydantic-core==2.27.2 in /home/iabd/anaconda3/envs/ia_gpu312/lib/python3.12/site-packages (from pydantic<3,>=1.9.0->openai) (2.27.2)\n",
      "Note: you may need to restart the kernel to use updated packages.\n",
      "Collecting langchain_openai\n",
      "  Downloading langchain_openai-0.3.5-py3-none-any.whl.metadata (2.3 kB)\n",
      "Requirement already satisfied: langchain-core<1.0.0,>=0.3.34 in /home/iabd/anaconda3/envs/ia_gpu312/lib/python3.12/site-packages (from langchain_openai) (0.3.34)\n",
      "Requirement already satisfied: openai<2.0.0,>=1.58.1 in /home/iabd/anaconda3/envs/ia_gpu312/lib/python3.12/site-packages (from langchain_openai) (1.60.1)\n",
      "Requirement already satisfied: tiktoken<1,>=0.7 in /home/iabd/anaconda3/envs/ia_gpu312/lib/python3.12/site-packages (from langchain_openai) (0.8.0)\n",
      "Requirement already satisfied: langsmith<0.4,>=0.1.125 in /home/iabd/anaconda3/envs/ia_gpu312/lib/python3.12/site-packages (from langchain-core<1.0.0,>=0.3.34->langchain_openai) (0.3.8)\n",
      "Requirement already satisfied: tenacity!=8.4.0,<10.0.0,>=8.1.0 in /home/iabd/anaconda3/envs/ia_gpu312/lib/python3.12/site-packages (from langchain-core<1.0.0,>=0.3.34->langchain_openai) (9.0.0)\n",
      "Requirement already satisfied: jsonpatch<2.0,>=1.33 in /home/iabd/anaconda3/envs/ia_gpu312/lib/python3.12/site-packages (from langchain-core<1.0.0,>=0.3.34->langchain_openai) (1.33)\n",
      "Requirement already satisfied: PyYAML>=5.3 in /home/iabd/anaconda3/envs/ia_gpu312/lib/python3.12/site-packages (from langchain-core<1.0.0,>=0.3.34->langchain_openai) (6.0.2)\n",
      "Requirement already satisfied: packaging<25,>=23.2 in /home/iabd/anaconda3/envs/ia_gpu312/lib/python3.12/site-packages (from langchain-core<1.0.0,>=0.3.34->langchain_openai) (24.2)\n",
      "Requirement already satisfied: typing-extensions>=4.7 in /home/iabd/anaconda3/envs/ia_gpu312/lib/python3.12/site-packages (from langchain-core<1.0.0,>=0.3.34->langchain_openai) (4.12.2)\n",
      "Requirement already satisfied: pydantic<3.0.0,>=2.7.4 in /home/iabd/anaconda3/envs/ia_gpu312/lib/python3.12/site-packages (from langchain-core<1.0.0,>=0.3.34->langchain_openai) (2.10.6)\n",
      "Requirement already satisfied: anyio<5,>=3.5.0 in /home/iabd/anaconda3/envs/ia_gpu312/lib/python3.12/site-packages (from openai<2.0.0,>=1.58.1->langchain_openai) (4.8.0)\n",
      "Requirement already satisfied: distro<2,>=1.7.0 in /home/iabd/anaconda3/envs/ia_gpu312/lib/python3.12/site-packages (from openai<2.0.0,>=1.58.1->langchain_openai) (1.9.0)\n",
      "Requirement already satisfied: httpx<1,>=0.23.0 in /home/iabd/anaconda3/envs/ia_gpu312/lib/python3.12/site-packages (from openai<2.0.0,>=1.58.1->langchain_openai) (0.27.2)\n",
      "Requirement already satisfied: jiter<1,>=0.4.0 in /home/iabd/anaconda3/envs/ia_gpu312/lib/python3.12/site-packages (from openai<2.0.0,>=1.58.1->langchain_openai) (0.8.2)\n",
      "Requirement already satisfied: sniffio in /home/iabd/anaconda3/envs/ia_gpu312/lib/python3.12/site-packages (from openai<2.0.0,>=1.58.1->langchain_openai) (1.3.1)\n",
      "Requirement already satisfied: tqdm>4 in /home/iabd/anaconda3/envs/ia_gpu312/lib/python3.12/site-packages (from openai<2.0.0,>=1.58.1->langchain_openai) (4.67.1)\n",
      "Requirement already satisfied: regex>=2022.1.18 in /home/iabd/anaconda3/envs/ia_gpu312/lib/python3.12/site-packages (from tiktoken<1,>=0.7->langchain_openai) (2024.11.6)\n",
      "Requirement already satisfied: requests>=2.26.0 in /home/iabd/anaconda3/envs/ia_gpu312/lib/python3.12/site-packages (from tiktoken<1,>=0.7->langchain_openai) (2.32.3)\n",
      "Requirement already satisfied: idna>=2.8 in /home/iabd/anaconda3/envs/ia_gpu312/lib/python3.12/site-packages (from anyio<5,>=3.5.0->openai<2.0.0,>=1.58.1->langchain_openai) (3.7)\n",
      "Requirement already satisfied: certifi in /home/iabd/anaconda3/envs/ia_gpu312/lib/python3.12/site-packages (from httpx<1,>=0.23.0->openai<2.0.0,>=1.58.1->langchain_openai) (2024.12.14)\n",
      "Requirement already satisfied: httpcore==1.* in /home/iabd/anaconda3/envs/ia_gpu312/lib/python3.12/site-packages (from httpx<1,>=0.23.0->openai<2.0.0,>=1.58.1->langchain_openai) (1.0.7)\n",
      "Requirement already satisfied: h11<0.15,>=0.13 in /home/iabd/anaconda3/envs/ia_gpu312/lib/python3.12/site-packages (from httpcore==1.*->httpx<1,>=0.23.0->openai<2.0.0,>=1.58.1->langchain_openai) (0.14.0)\n",
      "Requirement already satisfied: jsonpointer>=1.9 in /home/iabd/anaconda3/envs/ia_gpu312/lib/python3.12/site-packages (from jsonpatch<2.0,>=1.33->langchain-core<1.0.0,>=0.3.34->langchain_openai) (3.0.0)\n",
      "Requirement already satisfied: orjson<4.0.0,>=3.9.14 in /home/iabd/anaconda3/envs/ia_gpu312/lib/python3.12/site-packages (from langsmith<0.4,>=0.1.125->langchain-core<1.0.0,>=0.3.34->langchain_openai) (3.10.15)\n",
      "Requirement already satisfied: requests-toolbelt<2.0.0,>=1.0.0 in /home/iabd/anaconda3/envs/ia_gpu312/lib/python3.12/site-packages (from langsmith<0.4,>=0.1.125->langchain-core<1.0.0,>=0.3.34->langchain_openai) (1.0.0)\n",
      "Requirement already satisfied: zstandard<0.24.0,>=0.23.0 in /home/iabd/anaconda3/envs/ia_gpu312/lib/python3.12/site-packages (from langsmith<0.4,>=0.1.125->langchain-core<1.0.0,>=0.3.34->langchain_openai) (0.23.0)\n",
      "Requirement already satisfied: annotated-types>=0.6.0 in /home/iabd/anaconda3/envs/ia_gpu312/lib/python3.12/site-packages (from pydantic<3.0.0,>=2.7.4->langchain-core<1.0.0,>=0.3.34->langchain_openai) (0.7.0)\n",
      "Requirement already satisfied: pydantic-core==2.27.2 in /home/iabd/anaconda3/envs/ia_gpu312/lib/python3.12/site-packages (from pydantic<3.0.0,>=2.7.4->langchain-core<1.0.0,>=0.3.34->langchain_openai) (2.27.2)\n",
      "Requirement already satisfied: charset-normalizer<4,>=2 in /home/iabd/anaconda3/envs/ia_gpu312/lib/python3.12/site-packages (from requests>=2.26.0->tiktoken<1,>=0.7->langchain_openai) (3.4.1)\n",
      "Requirement already satisfied: urllib3<3,>=1.21.1 in /home/iabd/anaconda3/envs/ia_gpu312/lib/python3.12/site-packages (from requests>=2.26.0->tiktoken<1,>=0.7->langchain_openai) (2.3.0)\n",
      "Downloading langchain_openai-0.3.5-py3-none-any.whl (54 kB)\n",
      "Installing collected packages: langchain_openai\n",
      "Successfully installed langchain_openai-0.3.5\n",
      "Note: you may need to restart the kernel to use updated packages.\n"
     ]
    }
   ],
   "source": [
    "%pip install langchain\n",
    "%pip install openai\n",
    "%pip install langchain_openai"
   ]
  },
  {
   "cell_type": "code",
   "execution_count": 1,
   "id": "2612ab20",
   "metadata": {},
   "outputs": [
    {
     "name": "stderr",
     "output_type": "stream",
     "text": [
      "/home/iabd/anaconda3/envs/entornoJon/lib/python3.12/site-packages/tqdm/auto.py:21: TqdmWarning: IProgress not found. Please update jupyter and ipywidgets. See https://ipywidgets.readthedocs.io/en/stable/user_install.html\n",
      "  from .autonotebook import tqdm as notebook_tqdm\n",
      "/home/iabd/anaconda3/envs/entornoJon/lib/python3.12/site-packages/torch/utils/_pytree.py:185: FutureWarning: optree is installed but the version is too old to support PyTorch Dynamo in C++ pytree. C++ pytree support is disabled. Please consider upgrading optree using `python3 -m pip install --upgrade 'optree>=0.13.0'`.\n",
      "  warnings.warn(\n"
     ]
    }
   ],
   "source": [
    "import langchain\n",
    "from langchain.schema import SystemMessage, HumanMessage\n",
    "from langchain_huggingface import ChatHuggingFace, HuggingFaceEndpoint\n",
    "import getpass\n",
    "import os\n",
    "\n",
    "f = open('/home/iabd/huggingface_token.txt')\n",
    "api_key = f.read().strip()\n",
    "os.environ[\"HUGGINGFACEHUB_API_TOKEN\"] = api_key\n",
    "\n",
    "llm = HuggingFaceEndpoint(\n",
    "    repo_id=\"HuggingFaceH4/zephyr-7b-beta\",\n",
    "    task=\"text-generation\",\n",
    "    max_new_tokens=512,\n",
    "    do_sample=False,\n",
    "    repetition_penalty=1.03,\n",
    ")\n",
    "\n",
    "chat = ChatHuggingFace(llm=llm)"
   ]
  },
  {
   "cell_type": "markdown",
   "id": "53eaa306",
   "metadata": {},
   "source": [
    "## Obtener 1 resultado invocando al chat de OpenAI"
   ]
  },
  {
   "cell_type": "code",
   "execution_count": 2,
   "id": "7c6555a0-3bfb-49e3-97aa-186eb5a528a7",
   "metadata": {},
   "outputs": [],
   "source": [
    "resultado = chat.invoke([HumanMessage(content=\"¿Puedes decirme dónde se encuentra Cáceres?\")])"
   ]
  },
  {
   "cell_type": "code",
   "execution_count": 3,
   "id": "58180fce-e04b-41d2-9ae8-87a41b232890",
   "metadata": {},
   "outputs": [
    {
     "data": {
      "text/plain": [
       "AIMessage(content='¡Claro! Cáceres se encuentra en el sur de España, en la comunidad autónoma de Extremadura. Más concretamente, se ubica en la provincia de Cáceres, a unos 320 kilómetros de la capital de la comunidad, Mérida, y a unos 360 kilómetros de Madrid, la capital española.', additional_kwargs={}, response_metadata={'token_usage': ChatCompletionOutputUsage(completion_tokens=89, prompt_tokens=39, total_tokens=128), 'model': '', 'finish_reason': 'stop'}, id='run-99313532-0639-4442-bab3-8c0253df80c1-0')"
      ]
     },
     "execution_count": 3,
     "metadata": {},
     "output_type": "execute_result"
    }
   ],
   "source": [
    "resultado"
   ]
  },
  {
   "cell_type": "code",
   "execution_count": 4,
   "id": "375586e2-7880-49c5-abf3-dbdf70593b9f",
   "metadata": {},
   "outputs": [
    {
     "data": {
      "text/plain": [
       "'¡Claro! Cáceres se encuentra en el sur de España, en la comunidad autónoma de Extremadura. Más concretamente, se ubica en la provincia de Cáceres, a unos 320 kilómetros de la capital de la comunidad, Mérida, y a unos 360 kilómetros de Madrid, la capital española.'"
      ]
     },
     "execution_count": 4,
     "metadata": {},
     "output_type": "execute_result"
    }
   ],
   "source": [
    "resultado.content"
   ]
  },
  {
   "cell_type": "code",
   "execution_count": null,
   "id": "553e8578",
   "metadata": {},
   "outputs": [],
   "source": [
    "#Especificamos el SystemMessage para definir la personalidad que debe tomar el sistema"
   ]
  },
  {
   "cell_type": "code",
   "execution_count": 5,
   "id": "be3fb5bc-13e3-45de-98a9-45fe1361d30a",
   "metadata": {},
   "outputs": [],
   "source": [
    "resultado = chat.invoke([SystemMessage(content='Eres un historiador que conoce los detalles de todas las ciudades del mundo'),\n",
    "               HumanMessage(content='¿Puedes decirme dónde se encuentra Cáceres')])"
   ]
  },
  {
   "cell_type": "code",
   "execution_count": 6,
   "id": "013daa46-53e4-47dc-83c9-5037c8286feb",
   "metadata": {},
   "outputs": [
    {
     "data": {
      "text/plain": [
       "'Claro, Cáceres es una ciudad histórica y monumental ubicada en la provincia de Cáceres, en la comunidad autónoma de Extremadura, al suroeste de España. Está situada en la serranía de Gredos, a aproximadamente 350 kilómetros al oeste de Madridejos (Madrid) y a 220 kilómetros al noroeste de Badajoz, la capital de la comunidad autónoma. Sus coordenadas geográficas son 40°6\\'N 5°12\\'O.\\n\\nEs una ciudad atractiva y con una arquitectura medieval conservada en buen estado, por lo que también es llamada la \"Ciudad-Museo\". En 1986 se declaró como Conjunto Histórico-Artístico y en 1987 fue parte del Patrimonio de la Humanidad declarado por la Unesco, por lo que destacan sus calles estrechas y empinadas, sus arcos, torres y murallas construidas entre los siglos XIV y XV.\\n\\nEspero que esto te haya ayudado en tu consulta. ¡Espero que puedas visitar pronto Cáceres y disfrutes de la belleza y valor histórico y cultural de la misma!'"
      ]
     },
     "execution_count": 6,
     "metadata": {},
     "output_type": "execute_result"
    }
   ],
   "source": [
    "resultado.content"
   ]
  },
  {
   "cell_type": "markdown",
   "id": "d4b0cd65",
   "metadata": {},
   "source": [
    "## Obtener varios resultados invocando al chat de OpenAI con \"generate\""
   ]
  },
  {
   "cell_type": "code",
   "execution_count": 7,
   "id": "c447b313",
   "metadata": {},
   "outputs": [],
   "source": [
    "resultado = chat.generate(\n",
    "    [\n",
    "        [SystemMessage(content='Eres un historiador que conoce los detalles de todas las ciudades del mundo'),\n",
    "         HumanMessage(content='¿Puedes decirme dónde se encuentra Cáceres')],\n",
    "        [SystemMessage(content='Eres un joven rudo que no le gusta que le pregunten, solo quiere estar de fiesta'),\n",
    "         HumanMessage(content='¿Puedes decirme dónde se encuentra Cáceres')]\n",
    "    ]\n",
    ")\n"
   ]
  },
  {
   "cell_type": "code",
   "execution_count": 8,
   "id": "4e616094",
   "metadata": {},
   "outputs": [
    {
     "name": "stdout",
     "output_type": "stream",
     "text": [
      "Claro, Cáceres es una ciudad histórica y monumental ubicada en la provincia de Cáceres, en la comunidad autónoma de Extremadura, al suroeste de España. Está situada en la serranía de Gredos, a aproximadamente 350 kilómetros al oeste de Madridejos (Madrid) y a 220 kilómetros al noroeste de Badajoz, la capital de la comunidad autónoma. Sus coordenadas geográficas son 40°6'N 5°12'O.\n",
      "\n",
      "Es una ciudad atractiva y con una arquitectura medieval conservada en buen estado, por lo que también es llamada la \"Ciudad-Museo\". En 1986 se declaró como Conjunto Histórico-Artístico y en 1987 fue parte del Patrimonio de la Humanidad declarado por la Unesco, por lo que destacan sus calles estrechas y empinadas, sus arcos, torres y murallas construidas entre los siglos XIV y XV.\n",
      "\n",
      "Espero que esto te haya ayudado en tu consulta. ¡Espero que puedas visitar pronto Cáceres y disfrutes de la belleza y valor histórico y cultural de la misma!\n"
     ]
    }
   ],
   "source": [
    "#Resultado con primer sistema\n",
    "print(resultado.generations[0][0].text)"
   ]
  },
  {
   "cell_type": "code",
   "execution_count": 9,
   "id": "75a4967a",
   "metadata": {},
   "outputs": [
    {
     "name": "stdout",
     "output_type": "stream",
     "text": [
      "Claro, Cáceres es una ciudad histórica y monumental situada en la comunidad autónoma de Extremadura, en España. En concreto, se encuentra en la provincia de Cáceres, al norte de la región, ocupando un terreno elevado y rodeada por pequeñas colinas. Su ubicación exacta es aproximadamente en los siguientes coordenadas geográficas: 40°11'53\" N y 6°01'05\" O.\n"
     ]
    }
   ],
   "source": [
    "#Resultado con segundo sistema\n",
    "print(resultado.generations[1][0].text)"
   ]
  }
 ],
 "metadata": {
  "kernelspec": {
   "display_name": "entornoJon",
   "language": "python",
   "name": "python3"
  },
  "language_info": {
   "codemirror_mode": {
    "name": "ipython",
    "version": 3
   },
   "file_extension": ".py",
   "mimetype": "text/x-python",
   "name": "python",
   "nbconvert_exporter": "python",
   "pygments_lexer": "ipython3",
   "version": "3.12.8"
  }
 },
 "nbformat": 4,
 "nbformat_minor": 5
}
