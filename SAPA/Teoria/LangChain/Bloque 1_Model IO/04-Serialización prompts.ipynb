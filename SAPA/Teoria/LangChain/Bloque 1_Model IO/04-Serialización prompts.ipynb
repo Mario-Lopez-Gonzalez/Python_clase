{
 "cells": [
  {
   "cell_type": "markdown",
   "id": "e2128d1c-62d1-4681-abe1-754a1410e632",
   "metadata": {},
   "source": [
    "## Importar librerías e instancia de modelo de chat"
   ]
  },
  {
   "cell_type": "code",
   "execution_count": 1,
   "id": "f5900191-d4cc-4e83-9de7-286cf204d0c0",
   "metadata": {},
   "outputs": [
    {
     "name": "stderr",
     "output_type": "stream",
     "text": [
      "/home/iabd/anaconda3/envs/entornoJon/lib/python3.12/site-packages/tqdm/auto.py:21: TqdmWarning: IProgress not found. Please update jupyter and ipywidgets. See https://ipywidgets.readthedocs.io/en/stable/user_install.html\n",
      "  from .autonotebook import tqdm as notebook_tqdm\n",
      "/home/iabd/anaconda3/envs/entornoJon/lib/python3.12/site-packages/torch/utils/_pytree.py:185: FutureWarning: optree is installed but the version is too old to support PyTorch Dynamo in C++ pytree. C++ pytree support is disabled. Please consider upgrading optree using `python3 -m pip install --upgrade 'optree>=0.13.0'`.\n",
      "  warnings.warn(\n"
     ]
    }
   ],
   "source": [
    "from langchain.prompts import PromptTemplate, SystemMessagePromptTemplate,ChatPromptTemplate, HumanMessagePromptTemplate\n",
    "import langchain\n",
    "from langchain.schema import SystemMessage, HumanMessage\n",
    "from langchain_huggingface import ChatHuggingFace, HuggingFaceEndpoint\n",
    "import getpass\n",
    "import os\n",
    "\n",
    "f = open('/home/iabd/huggingface_token.txt')\n",
    "api_key = f.read().strip()\n",
    "os.environ[\"HUGGINGFACEHUB_API_TOKEN\"] = api_key\n",
    "\n",
    "llm = HuggingFaceEndpoint(\n",
    "    repo_id=\"HuggingFaceH4/zephyr-7b-beta\",\n",
    "    task=\"text-generation\",\n",
    "    max_new_tokens=512,\n",
    "    do_sample=False,\n",
    "    repetition_penalty=1.03,\n",
    ")\n",
    "\n",
    "chat = ChatHuggingFace(llm=llm)"
   ]
  },
  {
   "cell_type": "markdown",
   "id": "d2f65382-0a41-44a6-9825-add30c68646a",
   "metadata": {},
   "source": [
    "### Guardar plantilla prompt"
   ]
  },
  {
   "cell_type": "code",
   "execution_count": 2,
   "id": "2469cffb-c2ef-4c9a-a2f0-3b8dc3f64cba",
   "metadata": {},
   "outputs": [],
   "source": [
    "plantilla = \"Pregunta: {pregunta_usuario}\\n\\nRespuesta: Vamos a verlo paso a paso.\"\n",
    "prompt = PromptTemplate(template=plantilla)\n",
    "prompt.save(\"prompt.json\")"
   ]
  },
  {
   "cell_type": "markdown",
   "id": "a836756f-e941-4fea-a284-d182988d2167",
   "metadata": {},
   "source": [
    "### Cargar plantilla prompt"
   ]
  },
  {
   "cell_type": "code",
   "execution_count": 3,
   "id": "40a012b4-df48-4998-9b57-3965659494f0",
   "metadata": {},
   "outputs": [],
   "source": [
    "from langchain.prompts import load_prompt"
   ]
  },
  {
   "cell_type": "code",
   "execution_count": 4,
   "id": "e1841fde-f012-4433-8b90-73968ddf5895",
   "metadata": {},
   "outputs": [],
   "source": [
    "prompt_cargado = load_prompt('prompt.json')"
   ]
  },
  {
   "cell_type": "code",
   "execution_count": 5,
   "id": "bfe8d0de-43d3-4040-ba95-de1cc74d1327",
   "metadata": {},
   "outputs": [
    {
     "data": {
      "text/plain": [
       "PromptTemplate(input_variables=['pregunta_usuario'], input_types={}, partial_variables={}, template='Pregunta: {pregunta_usuario}\\n\\nRespuesta: Vamos a verlo paso a paso.')"
      ]
     },
     "execution_count": 5,
     "metadata": {},
     "output_type": "execute_result"
    }
   ],
   "source": [
    "prompt_cargado"
   ]
  }
 ],
 "metadata": {
  "kernelspec": {
   "display_name": "entornoJon",
   "language": "python",
   "name": "python3"
  },
  "language_info": {
   "codemirror_mode": {
    "name": "ipython",
    "version": 3
   },
   "file_extension": ".py",
   "mimetype": "text/x-python",
   "name": "python",
   "nbconvert_exporter": "python",
   "pygments_lexer": "ipython3",
   "version": "3.12.8"
  }
 },
 "nbformat": 4,
 "nbformat_minor": 5
}
