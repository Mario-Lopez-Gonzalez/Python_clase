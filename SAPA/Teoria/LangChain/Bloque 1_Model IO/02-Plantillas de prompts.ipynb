{
 "cells": [
  {
   "cell_type": "markdown",
   "id": "81ad1f37",
   "metadata": {},
   "source": [
    "## Importar librerías de templates"
   ]
  },
  {
   "cell_type": "code",
   "execution_count": 1,
   "id": "a15b8279",
   "metadata": {},
   "outputs": [],
   "source": [
    "from langchain.prompts import (\n",
    "    ChatPromptTemplate,\n",
    "    PromptTemplate,\n",
    "    SystemMessagePromptTemplate,\n",
    "    AIMessagePromptTemplate,\n",
    "    HumanMessagePromptTemplate,\n",
    ")\n",
    "from langchain.schema import (\n",
    "    AIMessage,\n",
    "    HumanMessage,\n",
    "    SystemMessage\n",
    ")"
   ]
  },
  {
   "cell_type": "markdown",
   "id": "2f5eb446",
   "metadata": {},
   "source": [
    "## Generar plantillas de prompts"
   ]
  },
  {
   "cell_type": "code",
   "execution_count": 2,
   "id": "cbc8eeab-11ff-4c46-b69b-e963066980d0",
   "metadata": {},
   "outputs": [],
   "source": [
    "#Creamos la plantilla del sistema (system_template)\n",
    "system_template=\"Eres una IA especializada en coches de tipo {tipo_coches} y generar artículos que se leen en {tiempo_lectura}.\"\n",
    "system_message_prompt = SystemMessagePromptTemplate.from_template(system_template)"
   ]
  },
  {
   "cell_type": "code",
   "execution_count": 3,
   "id": "d93298f9-18d3-43af-bc23-633f5f3ab269",
   "metadata": {},
   "outputs": [
    {
     "data": {
      "text/plain": [
       "['tiempo_lectura', 'tipo_coches']"
      ]
     },
     "execution_count": 3,
     "metadata": {},
     "output_type": "execute_result"
    }
   ],
   "source": [
    "system_message_prompt.input_variables"
   ]
  },
  {
   "cell_type": "code",
   "execution_count": 4,
   "id": "2348e5e3-e878-403a-94e9-be61359fbb44",
   "metadata": {},
   "outputs": [],
   "source": [
    "#Creamos la plantilla de usuario (human_template)\n",
    "human_template=\"Necesito un artículo para vehículos con motor {peticion_tipo_motor}\"\n",
    "human_message_prompt = HumanMessagePromptTemplate.from_template(human_template)"
   ]
  },
  {
   "cell_type": "code",
   "execution_count": 5,
   "id": "d01b14b6-f422-4a08-bd0e-bba0f494563d",
   "metadata": {},
   "outputs": [
    {
     "data": {
      "text/plain": [
       "['peticion_tipo_motor']"
      ]
     },
     "execution_count": 5,
     "metadata": {},
     "output_type": "execute_result"
    }
   ],
   "source": [
    "human_message_prompt.input_variables"
   ]
  },
  {
   "cell_type": "code",
   "execution_count": 6,
   "id": "706756df-1264-4121-8043-b733e60188c0",
   "metadata": {},
   "outputs": [],
   "source": [
    "#Creamos una plantilla de chat con la concatenación tanto de mensajes del sistema como del humano\n",
    "chat_prompt = ChatPromptTemplate.from_messages([system_message_prompt, human_message_prompt])"
   ]
  },
  {
   "cell_type": "code",
   "execution_count": 7,
   "id": "52fdf3cf-f3d9-4108-ae72-b630487d9e9b",
   "metadata": {},
   "outputs": [
    {
     "data": {
      "text/plain": [
       "['peticion_tipo_motor', 'tiempo_lectura', 'tipo_coches']"
      ]
     },
     "execution_count": 7,
     "metadata": {},
     "output_type": "execute_result"
    }
   ],
   "source": [
    "chat_prompt.input_variables"
   ]
  },
  {
   "cell_type": "code",
   "execution_count": 8,
   "id": "3b19ae01-3be8-41c9-a470-3fd6fc69e801",
   "metadata": {},
   "outputs": [
    {
     "data": {
      "text/plain": [
       "ChatPromptValue(messages=[SystemMessage(content='Eres una IA especializada en coches de tipo japoneses y generar artículos que se leen en 10 min.', additional_kwargs={}, response_metadata={}), HumanMessage(content='Necesito un artículo para vehículos con motor híbrido enchufable', additional_kwargs={}, response_metadata={})])"
      ]
     },
     "execution_count": 8,
     "metadata": {},
     "output_type": "execute_result"
    }
   ],
   "source": [
    "# Completar el chat gracias al formateo de los mensajes\n",
    "chat_prompt.format_prompt(peticion_tipo_motor=\"híbrido enchufable\", tiempo_lectura=\"10 min\", tipo_coches=\"japoneses\")"
   ]
  },
  {
   "cell_type": "code",
   "execution_count": 9,
   "id": "73121537-8cee-42fc-ba0e-fc1c18154957",
   "metadata": {},
   "outputs": [],
   "source": [
    "#Transformamos el objeto prompt a una lista de mensajes y lo guardamos en \"solicitud_completa\" que es lo que pasaremos al LLM finalmente\n",
    "solicitud_completa = chat_prompt.format_prompt(peticion_tipo_motor=\"híbrido enchufable\", tiempo_lectura=\"10 min\", tipo_coches=\"japoneses\").to_messages()"
   ]
  },
  {
   "cell_type": "markdown",
   "id": "c276622f-d81c-40ed-864b-63d4c4311d84",
   "metadata": {},
   "source": [
    "## Obtener el resultado de la respuesta formateada"
   ]
  },
  {
   "cell_type": "code",
   "execution_count": 10,
   "id": "0d21e33e-6ce1-4391-b406-279af06510f2",
   "metadata": {},
   "outputs": [
    {
     "name": "stderr",
     "output_type": "stream",
     "text": [
      "/home/iabd/anaconda3/envs/entornoJon/lib/python3.12/site-packages/tqdm/auto.py:21: TqdmWarning: IProgress not found. Please update jupyter and ipywidgets. See https://ipywidgets.readthedocs.io/en/stable/user_install.html\n",
      "  from .autonotebook import tqdm as notebook_tqdm\n",
      "/home/iabd/anaconda3/envs/entornoJon/lib/python3.12/site-packages/torch/utils/_pytree.py:185: FutureWarning: optree is installed but the version is too old to support PyTorch Dynamo in C++ pytree. C++ pytree support is disabled. Please consider upgrading optree using `python3 -m pip install --upgrade 'optree>=0.13.0'`.\n",
      "  warnings.warn(\n"
     ]
    }
   ],
   "source": [
    "import langchain\n",
    "from langchain.schema import SystemMessage, HumanMessage\n",
    "from langchain_huggingface import ChatHuggingFace, HuggingFaceEndpoint\n",
    "import getpass\n",
    "import os\n",
    "\n",
    "f = open('/home/iabd/huggingface_token.txt')\n",
    "api_key = f.read().strip()\n",
    "os.environ[\"HUGGINGFACEHUB_API_TOKEN\"] = api_key\n",
    "\n",
    "llm = HuggingFaceEndpoint(\n",
    "    repo_id=\"HuggingFaceH4/zephyr-7b-beta\",\n",
    "    task=\"text-generation\",\n",
    "    max_new_tokens=512,\n",
    "    do_sample=False,\n",
    "    repetition_penalty=1.03,\n",
    ")\n",
    "\n",
    "chat = ChatHuggingFace(llm=llm)"
   ]
  },
  {
   "cell_type": "code",
   "execution_count": 11,
   "id": "8978391d-9c09-4b99-8520-27491ece4e9d",
   "metadata": {},
   "outputs": [],
   "source": [
    "result = chat.invoke(solicitud_completa)"
   ]
  },
  {
   "cell_type": "code",
   "execution_count": 12,
   "id": "88f47c1b-123c-4f47-8ee1-b72c88cbd048",
   "metadata": {},
   "outputs": [
    {
     "data": {
      "text/plain": [
       "AIMessage(content=\"In recent years, hybrid vehicles have gained immense popularity due to their eco-friendliness and reduced carbon footprint. However, with the advancement of technology, a new type of hybrid vehicle has emerged – the plug-in hybrid electric vehicle, or PHEV for short. These vehicles are equipped with an electric motor, a gasoline engine, and a large battery pack that can be charged using a power outlet.\\n\\nThe technology behind PHEVs is impressive. The electric motor is powered by a high-energy battery pack, which can provide an electric-only driving range of up to 60 kilometers. Once the battery is depleted, the gasoline engine kicks in, providing an additional 900 kilometers of range. This means that PHEVs can travel long distances without needing to be charged or refueled.\\n\\nOne of the most significant advantages of PHEVs is their ability to significantly reduce emissions. During electric-only mode, no emissions are released into the atmosphere, making PHEVs extremely environmentally friendly. Moreover, in areas with high congestion, the low-speed regenerative braking system of the electric motor allows PHEVs to harvest kinetic energy and store it in the battery pack, further reducing fuel consumption and emissions.\\n\\nPHEVs also offer significant cost savings. During electric-only mode, PHEVs have a lower cost per kilometer, making them cheaper to operate than traditional gasoline vehicles. Additionally, the high efficiency of PHEVs' gasoline engines results in lower fuel consumption and, therefore, lower fuel costs.\\n\\nAnother significant advantage of PHEVs is their versatility. The high range of both the electric and gasoline motors allows PHEVs to excel in all driving scenarios. Whether it's a short commute to work, a long road trip, or congested city driving, PHEVs offer an excellent driving experience. Moreover, the versatility of PHEVs is further enhanced through the intelligent hybrid drive system, which seamlessly switches between electric and gasoline mode based on driving conditions, maximizing efficiency and minimizing emissions.\\n\\nMany car manufacturers have already begun producing PHEVs, including Toyota, Honda, and Nissan. The Toyota Prius Prime is a well-known example. The Prius Prime has a driving range of 60 kilometers in electric-only mode, followed by a gasoline engine range of 900 kilometers. Moreover, the Prius Prime comes equipped with advanced features such as regenerative braking, forward collision warning, and lane departure alert, further enhancing the driving experience.\\n\\nAnother popular PHEV is the Honda Clarity Plug-In Hybrid. This vehicle has a driving range of 76 kilometers in electric-only mode, followed by a gasoline engine range of 900 kilometers. The Clarity Plug-In Hybrid also comes equipped with advanced features such as adaptive cruise control, lane keeping assist, and a head-up display.\\n\\nIn conclusion, PHEVs are a revolutionary technology that offers significant benefits over traditional gasoline vehicles. Their ability to significantly reduce emissions, reduce operating costs, and offer versatility in driving scenarios makes them an excellent investment. With various automakers already producing PHEV models, it is clear that the future of transportation is electric, and PHEVs are leading the charge.\", additional_kwargs={}, response_metadata={'token_usage': ChatCompletionOutputUsage(completion_tokens=736, prompt_tokens=88, total_tokens=824), 'model': '', 'finish_reason': 'stop'}, id='run-23843929-7a48-488e-99b5-f79954ba0a57-0')"
      ]
     },
     "execution_count": 12,
     "metadata": {},
     "output_type": "execute_result"
    }
   ],
   "source": [
    "result"
   ]
  },
  {
   "cell_type": "code",
   "execution_count": 13,
   "id": "6ae9e58d-00b9-4ba4-af37-9ff35a4bef9f",
   "metadata": {},
   "outputs": [
    {
     "name": "stdout",
     "output_type": "stream",
     "text": [
      "In recent years, hybrid vehicles have gained immense popularity due to their eco-friendliness and reduced carbon footprint. However, with the advancement of technology, a new type of hybrid vehicle has emerged – the plug-in hybrid electric vehicle, or PHEV for short. These vehicles are equipped with an electric motor, a gasoline engine, and a large battery pack that can be charged using a power outlet.\n",
      "\n",
      "The technology behind PHEVs is impressive. The electric motor is powered by a high-energy battery pack, which can provide an electric-only driving range of up to 60 kilometers. Once the battery is depleted, the gasoline engine kicks in, providing an additional 900 kilometers of range. This means that PHEVs can travel long distances without needing to be charged or refueled.\n",
      "\n",
      "One of the most significant advantages of PHEVs is their ability to significantly reduce emissions. During electric-only mode, no emissions are released into the atmosphere, making PHEVs extremely environmentally friendly. Moreover, in areas with high congestion, the low-speed regenerative braking system of the electric motor allows PHEVs to harvest kinetic energy and store it in the battery pack, further reducing fuel consumption and emissions.\n",
      "\n",
      "PHEVs also offer significant cost savings. During electric-only mode, PHEVs have a lower cost per kilometer, making them cheaper to operate than traditional gasoline vehicles. Additionally, the high efficiency of PHEVs' gasoline engines results in lower fuel consumption and, therefore, lower fuel costs.\n",
      "\n",
      "Another significant advantage of PHEVs is their versatility. The high range of both the electric and gasoline motors allows PHEVs to excel in all driving scenarios. Whether it's a short commute to work, a long road trip, or congested city driving, PHEVs offer an excellent driving experience. Moreover, the versatility of PHEVs is further enhanced through the intelligent hybrid drive system, which seamlessly switches between electric and gasoline mode based on driving conditions, maximizing efficiency and minimizing emissions.\n",
      "\n",
      "Many car manufacturers have already begun producing PHEVs, including Toyota, Honda, and Nissan. The Toyota Prius Prime is a well-known example. The Prius Prime has a driving range of 60 kilometers in electric-only mode, followed by a gasoline engine range of 900 kilometers. Moreover, the Prius Prime comes equipped with advanced features such as regenerative braking, forward collision warning, and lane departure alert, further enhancing the driving experience.\n",
      "\n",
      "Another popular PHEV is the Honda Clarity Plug-In Hybrid. This vehicle has a driving range of 76 kilometers in electric-only mode, followed by a gasoline engine range of 900 kilometers. The Clarity Plug-In Hybrid also comes equipped with advanced features such as adaptive cruise control, lane keeping assist, and a head-up display.\n",
      "\n",
      "In conclusion, PHEVs are a revolutionary technology that offers significant benefits over traditional gasoline vehicles. Their ability to significantly reduce emissions, reduce operating costs, and offer versatility in driving scenarios makes them an excellent investment. With various automakers already producing PHEV models, it is clear that the future of transportation is electric, and PHEVs are leading the charge.\n"
     ]
    }
   ],
   "source": [
    "print(result.content)"
   ]
  }
 ],
 "metadata": {
  "kernelspec": {
   "display_name": "entornoJon",
   "language": "python",
   "name": "python3"
  },
  "language_info": {
   "codemirror_mode": {
    "name": "ipython",
    "version": 3
   },
   "file_extension": ".py",
   "mimetype": "text/x-python",
   "name": "python",
   "nbconvert_exporter": "python",
   "pygments_lexer": "ipython3",
   "version": "3.12.8"
  }
 },
 "nbformat": 4,
 "nbformat_minor": 5
}
