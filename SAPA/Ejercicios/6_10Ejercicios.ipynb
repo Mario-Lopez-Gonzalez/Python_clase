{
 "cells": [
  {
   "cell_type": "code",
   "execution_count": 1,
   "metadata": {},
   "outputs": [
    {
     "name": "stdout",
     "output_type": "stream",
     "text": [
      "Requirement already satisfied: torch in /home/iabd/anaconda3/envs/entornoJon/lib/python3.12/site-packages (2.6.0)\n",
      "Requirement already satisfied: torchvision in /home/iabd/anaconda3/envs/entornoJon/lib/python3.12/site-packages (0.21.0)\n",
      "Requirement already satisfied: transformers in /home/iabd/anaconda3/envs/entornoJon/lib/python3.12/site-packages (4.48.3)\n",
      "Requirement already satisfied: diffusers in /home/iabd/anaconda3/envs/entornoJon/lib/python3.12/site-packages (0.32.2)\n",
      "Requirement already satisfied: pillow in /home/iabd/anaconda3/envs/entornoJon/lib/python3.12/site-packages (11.1.0)\n",
      "Requirement already satisfied: filelock in /home/iabd/anaconda3/envs/entornoJon/lib/python3.12/site-packages (from torch) (3.17.0)\n",
      "Requirement already satisfied: typing-extensions>=4.10.0 in /home/iabd/anaconda3/envs/entornoJon/lib/python3.12/site-packages (from torch) (4.12.2)\n",
      "Requirement already satisfied: networkx in /home/iabd/anaconda3/envs/entornoJon/lib/python3.12/site-packages (from torch) (3.4.2)\n",
      "Requirement already satisfied: jinja2 in /home/iabd/anaconda3/envs/entornoJon/lib/python3.12/site-packages (from torch) (3.1.5)\n",
      "Requirement already satisfied: fsspec in /home/iabd/anaconda3/envs/entornoJon/lib/python3.12/site-packages (from torch) (2025.2.0)\n",
      "Requirement already satisfied: nvidia-cuda-nvrtc-cu12==12.4.127 in /home/iabd/anaconda3/envs/entornoJon/lib/python3.12/site-packages (from torch) (12.4.127)\n",
      "Requirement already satisfied: nvidia-cuda-runtime-cu12==12.4.127 in /home/iabd/anaconda3/envs/entornoJon/lib/python3.12/site-packages (from torch) (12.4.127)\n",
      "Requirement already satisfied: nvidia-cuda-cupti-cu12==12.4.127 in /home/iabd/anaconda3/envs/entornoJon/lib/python3.12/site-packages (from torch) (12.4.127)\n",
      "Requirement already satisfied: nvidia-cudnn-cu12==9.1.0.70 in /home/iabd/anaconda3/envs/entornoJon/lib/python3.12/site-packages (from torch) (9.1.0.70)\n",
      "Requirement already satisfied: nvidia-cublas-cu12==12.4.5.8 in /home/iabd/anaconda3/envs/entornoJon/lib/python3.12/site-packages (from torch) (12.4.5.8)\n",
      "Requirement already satisfied: nvidia-cufft-cu12==11.2.1.3 in /home/iabd/anaconda3/envs/entornoJon/lib/python3.12/site-packages (from torch) (11.2.1.3)\n",
      "Requirement already satisfied: nvidia-curand-cu12==10.3.5.147 in /home/iabd/anaconda3/envs/entornoJon/lib/python3.12/site-packages (from torch) (10.3.5.147)\n",
      "Requirement already satisfied: nvidia-cusolver-cu12==11.6.1.9 in /home/iabd/anaconda3/envs/entornoJon/lib/python3.12/site-packages (from torch) (11.6.1.9)\n",
      "Requirement already satisfied: nvidia-cusparse-cu12==12.3.1.170 in /home/iabd/anaconda3/envs/entornoJon/lib/python3.12/site-packages (from torch) (12.3.1.170)\n",
      "Requirement already satisfied: nvidia-cusparselt-cu12==0.6.2 in /home/iabd/anaconda3/envs/entornoJon/lib/python3.12/site-packages (from torch) (0.6.2)\n",
      "Requirement already satisfied: nvidia-nccl-cu12==2.21.5 in /home/iabd/anaconda3/envs/entornoJon/lib/python3.12/site-packages (from torch) (2.21.5)\n",
      "Requirement already satisfied: nvidia-nvtx-cu12==12.4.127 in /home/iabd/anaconda3/envs/entornoJon/lib/python3.12/site-packages (from torch) (12.4.127)\n",
      "Requirement already satisfied: nvidia-nvjitlink-cu12==12.4.127 in /home/iabd/anaconda3/envs/entornoJon/lib/python3.12/site-packages (from torch) (12.4.127)\n",
      "Requirement already satisfied: triton==3.2.0 in /home/iabd/anaconda3/envs/entornoJon/lib/python3.12/site-packages (from torch) (3.2.0)\n",
      "Requirement already satisfied: setuptools in /home/iabd/anaconda3/envs/entornoJon/lib/python3.12/site-packages (from torch) (75.8.0)\n",
      "Requirement already satisfied: sympy==1.13.1 in /home/iabd/anaconda3/envs/entornoJon/lib/python3.12/site-packages (from torch) (1.13.1)\n",
      "Requirement already satisfied: mpmath<1.4,>=1.1.0 in /home/iabd/anaconda3/envs/entornoJon/lib/python3.12/site-packages (from sympy==1.13.1->torch) (1.3.0)\n",
      "Requirement already satisfied: numpy in /home/iabd/anaconda3/envs/entornoJon/lib/python3.12/site-packages (from torchvision) (1.26.4)\n",
      "Requirement already satisfied: huggingface-hub<1.0,>=0.24.0 in /home/iabd/anaconda3/envs/entornoJon/lib/python3.12/site-packages (from transformers) (0.28.1)\n",
      "Requirement already satisfied: packaging>=20.0 in /home/iabd/anaconda3/envs/entornoJon/lib/python3.12/site-packages (from transformers) (24.2)\n",
      "Requirement already satisfied: pyyaml>=5.1 in /home/iabd/anaconda3/envs/entornoJon/lib/python3.12/site-packages (from transformers) (6.0.2)\n",
      "Requirement already satisfied: regex!=2019.12.17 in /home/iabd/anaconda3/envs/entornoJon/lib/python3.12/site-packages (from transformers) (2024.11.6)\n",
      "Requirement already satisfied: requests in /home/iabd/anaconda3/envs/entornoJon/lib/python3.12/site-packages (from transformers) (2.32.3)\n",
      "Requirement already satisfied: tokenizers<0.22,>=0.21 in /home/iabd/anaconda3/envs/entornoJon/lib/python3.12/site-packages (from transformers) (0.21.0)\n",
      "Requirement already satisfied: safetensors>=0.4.1 in /home/iabd/anaconda3/envs/entornoJon/lib/python3.12/site-packages (from transformers) (0.5.2)\n",
      "Requirement already satisfied: tqdm>=4.27 in /home/iabd/anaconda3/envs/entornoJon/lib/python3.12/site-packages (from transformers) (4.66.5)\n",
      "Requirement already satisfied: importlib-metadata in /home/iabd/anaconda3/envs/entornoJon/lib/python3.12/site-packages (from diffusers) (8.5.0)\n",
      "Requirement already satisfied: zipp>=3.20 in /home/iabd/anaconda3/envs/entornoJon/lib/python3.12/site-packages (from importlib-metadata->diffusers) (3.21.0)\n",
      "Requirement already satisfied: MarkupSafe>=2.0 in /home/iabd/anaconda3/envs/entornoJon/lib/python3.12/site-packages (from jinja2->torch) (2.1.3)\n",
      "Requirement already satisfied: charset-normalizer<4,>=2 in /home/iabd/anaconda3/envs/entornoJon/lib/python3.12/site-packages (from requests->transformers) (3.3.2)\n",
      "Requirement already satisfied: idna<4,>=2.5 in /home/iabd/anaconda3/envs/entornoJon/lib/python3.12/site-packages (from requests->transformers) (3.7)\n",
      "Requirement already satisfied: urllib3<3,>=1.21.1 in /home/iabd/anaconda3/envs/entornoJon/lib/python3.12/site-packages (from requests->transformers) (2.3.0)\n",
      "Requirement already satisfied: certifi>=2017.4.17 in /home/iabd/anaconda3/envs/entornoJon/lib/python3.12/site-packages (from requests->transformers) (2025.1.31)\n"
     ]
    }
   ],
   "source": [
    "!pip install torch torchvision transformers diffusers pillow"
   ]
  },
  {
   "cell_type": "code",
   "execution_count": 3,
   "metadata": {},
   "outputs": [
    {
     "name": "stdout",
     "output_type": "stream",
     "text": [
      "Imagen: knots.jpg -> Descripción: a bunch of colorful ropes on a white surface\n",
      "Imagen: dry_blue_paint.jpg -> Descripción: a blue and brown wall with peeling paint\n",
      "Imagen: salt_worker.jpg -> Descripción: a man working in the terraces of the terraces\n",
      "Imagen: car_tunnel.jpg -> Descripción: a long tunnel with a car driving through it\n",
      "Imagen: two_motorbikers.jpg -> Descripción: a man riding on the back of a motorcycle\n",
      "Imagen: kid_in_tree.jpg -> Descripción: a trail through the forest\n",
      "Imagen: green_landscape.jpg -> Descripción: a beautiful view of the valley and mountains in the yorkshire countryside\n",
      "\n",
      "Generando nueva imagen con prompt: 'a bunch of colorful ropes on a white surface'\n"
     ]
    },
    {
     "name": "stderr",
     "output_type": "stream",
     "text": [
      "Fetching 13 files: 100%|██████████| 13/13 [01:51<00:00,  8.58s/it]\n",
      "Loading pipeline components...: 100%|██████████| 6/6 [00:00<00:00,  6.25it/s]\n",
      "100%|██████████| 50/50 [00:07<00:00,  6.35it/s]\n"
     ]
    },
    {
     "name": "stdout",
     "output_type": "stream",
     "text": [
      "Imagen generada guardada en: generada_knots.jpg\n"
     ]
    }
   ],
   "source": [
    "import os\n",
    "import torch\n",
    "from diffusers import StableDiffusionPipeline\n",
    "from transformers import BlipProcessor, BlipForConditionalGeneration\n",
    "from PIL import Image\n",
    "\n",
    "# Modelos de Hugging Face\n",
    "caption_model = \"Salesforce/blip-image-captioning-base\"\n",
    "image_gen_model = \"stabilityai/stable-diffusion-2\"\n",
    "\n",
    "# Cargar el modelo de descripción de imágenes\n",
    "processor = BlipProcessor.from_pretrained(caption_model)\n",
    "model = BlipForConditionalGeneration.from_pretrained(caption_model)\n",
    "\n",
    "# Función para generar descripciones de imágenes\n",
    "def generate_caption(image_path):\n",
    "    image = Image.open(image_path).convert(\"RGB\")\n",
    "    inputs = processor(image, return_tensors=\"pt\")\n",
    "    with torch.no_grad():\n",
    "        caption = model.generate(**inputs)\n",
    "    return processor.batch_decode(caption, skip_special_tokens=True)[0]\n",
    "\n",
    "# Directorio con imágenes\n",
    "image_dir = \"./imagenes\"\n",
    "output_file = \"descripciones.txt\"\n",
    "\n",
    "# Generar descripciones para todas las imágenes en el directorio\n",
    "descriptions = {}\n",
    "for filename in os.listdir(image_dir):\n",
    "    if filename.endswith((\".jpg\", \".png\", \".jpeg\")):\n",
    "        image_path = os.path.join(image_dir, filename)\n",
    "        caption = generate_caption(image_path)\n",
    "        descriptions[filename] = caption\n",
    "        print(f\"Imagen: {filename} -> Descripción: {caption}\")\n",
    "\n",
    "# Guardar las descripciones en un archivo\n",
    "with open(output_file, \"w\") as f:\n",
    "    for img, desc in descriptions.items():\n",
    "        f.write(f\"{img}: {desc}\\n\")\n",
    "\n",
    "# Elegir una imagen y regenerarla\n",
    "selected_image = list(descriptions.keys())[0]\n",
    "prompt = descriptions[selected_image]\n",
    "\n",
    "print(f\"\\nGenerando nueva imagen con prompt: '{prompt}'\")\n",
    "\n",
    "# Cargar modelo de generación de imágenes\n",
    "pipe = StableDiffusionPipeline.from_pretrained(image_gen_model, torch_dtype=torch.float16)\n",
    "pipe.to(\"cuda\" if torch.cuda.is_available() else \"cpu\")\n",
    "\n",
    "# Generar imagen\n",
    "generated_image = pipe(prompt).images[0]\n",
    "\n",
    "# Guardar la imagen generada\n",
    "generated_image_path = f\"generada_{selected_image}\"\n",
    "generated_image.save(generated_image_path)\n",
    "\n",
    "print(f\"Imagen generada guardada en: {generated_image_path}\")"
   ]
  }
 ],
 "metadata": {
  "kernelspec": {
   "display_name": "entornoJon",
   "language": "python",
   "name": "python3"
  },
  "language_info": {
   "codemirror_mode": {
    "name": "ipython",
    "version": 3
   },
   "file_extension": ".py",
   "mimetype": "text/x-python",
   "name": "python",
   "nbconvert_exporter": "python",
   "pygments_lexer": "ipython3",
   "version": "3.12.8"
  }
 },
 "nbformat": 4,
 "nbformat_minor": 2
}
