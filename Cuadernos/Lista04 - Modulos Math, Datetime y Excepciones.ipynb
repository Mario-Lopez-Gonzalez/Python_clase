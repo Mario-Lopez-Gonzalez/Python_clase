{
 "cells": [
  {
   "cell_type": "markdown",
   "id": "d287d88e",
   "metadata": {},
   "source": [
    "# LISTA 10 - MODULOS MATH, DATETIME Y EXCEPCIONES"
   ]
  },
  {
   "cell_type": "markdown",
   "id": "3b5dac37",
   "metadata": {},
   "source": [
    "## <ins>Ejercicios Obligatorios </ins>"
   ]
  },
  {
   "cell_type": "markdown",
   "id": "f99190d1",
   "metadata": {},
   "source": [
    "## MODULO MATH"
   ]
  },
  {
   "cell_type": "code",
   "execution_count": 5,
   "id": "d5e51552",
   "metadata": {},
   "outputs": [],
   "source": [
    "import math # El import se mantiene entre celdas"
   ]
  },
  {
   "cell_type": "markdown",
   "id": "e38807ed-ac94-4575-ad88-c53e775cf3b1",
   "metadata": {},
   "source": [
    "## EJERCICIO 1"
   ]
  },
  {
   "cell_type": "markdown",
   "id": "5001702b-dac9-4ca0-b6ce-4a1a2f9f9d1a",
   "metadata": {
    "tags": []
   },
   "source": [
    "Escriba un programa Python para convertir grados a radianes.\n",
    "\n",
    "Nota: El radian es la unidad estándar de medida angular, utilizada en muchas áreas de las matemáticas.\n",
    "La medida de un ángulo en radianes es numéricamente igual a la longitud de un arco correspondiente de un círculo unitario; \n",
    "un radian equivale a poco menos de 57,3 grados (cuando la longitud del arco es igual al radio).\n",
    "\n",
    "Datos de prueba:\n",
    "Grado : 15\n",
    "Resultado esperado en radianes: 0,2619047619047619"
   ]
  },
  {
   "cell_type": "code",
   "execution_count": 4,
   "id": "7c25d5e4-8edf-4e54-88e6-2d6214d6e1e7",
   "metadata": {},
   "outputs": [
    {
     "name": "stdout",
     "output_type": "stream",
     "text": [
      "0.2617993877991494\n"
     ]
    }
   ],
   "source": [
    "print(math.radians(15))"
   ]
  },
  {
   "cell_type": "markdown",
   "id": "a84c6a7e-6e46-4798-bdbd-6e5034562439",
   "metadata": {},
   "source": [
    "## EJERCICIO 2"
   ]
  },
  {
   "cell_type": "markdown",
   "id": "8cf0595a-cab0-48e9-a4fd-1e8b363f070d",
   "metadata": {},
   "source": [
    "Escriba un programa Python para calcular el volumen superficial y el área de un cilindro.\n",
    "\n",
    "Nota: Un cilindro es una de las formas geométricas curvilíneas más básicas, \n",
    "la superficie formada por los puntos a una distancia fija de una línea recta determinada, el eje del cilindro.\n",
    "\n",
    "Datos de prueba:\n",
    "volumen: Altura (4), Radio (6)\n",
    "\n",
    "Rendimiento esperado:\n",
    "El volumen es: 452.57142857142856\n",
    "El área de superficie es: 377.1428571428571"
   ]
  },
  {
   "cell_type": "code",
   "execution_count": 6,
   "id": "e5ec59b9-1e2d-4c1f-a6a0-93917ead5c0e",
   "metadata": {},
   "outputs": [
    {
     "name": "stdout",
     "output_type": "stream",
     "text": [
      "El area de un cilindro con altura 4 y radio 6 es de 376.99111843077515 y su volumen es de 452.3893421169302\n"
     ]
    }
   ],
   "source": [
    "def cylinderVolume(h,r):\n",
    "    return math.pi*(r**2)*h\n",
    "def cylinderArea(h,r):\n",
    "    return 2*math.pi*r*h + (2*math.pi*(r**2))\n",
    "print(f\"El area de un cilindro con altura 4 y radio 6 es de {cylinderArea(4,6)} y su volumen es de {cylinderVolume(4,6)}\")"
   ]
  },
  {
   "cell_type": "markdown",
   "id": "6aabcb23-baf4-49d8-aa4d-d57f0ec9570a",
   "metadata": {},
   "source": [
    "## EJERCICIO 3"
   ]
  },
  {
   "cell_type": "markdown",
   "id": "a986fa9c-70de-44b5-9e62-d679fc03bc99",
   "metadata": {},
   "source": [
    "Escriba un programa Python para calcular la diferencia entre la suma al cuadrado de los primeros n números naturales y \n",
    "la suma de los primeros n números naturales al cuadrado (valor predeterminado de número = 2).\n",
    "\n",
    "Datos de prueba:\n",
    "Si suma_diferencia(12)\n",
    "\n",
    "Rendimiento esperado :\n",
    "5434"
   ]
  },
  {
   "cell_type": "code",
   "execution_count": 15,
   "id": "5f2a5dd8-e034-4e73-a563-f202353df2cf",
   "metadata": {},
   "outputs": [
    {
     "name": "stdout",
     "output_type": "stream",
     "text": [
      "5434\n"
     ]
    }
   ],
   "source": [
    "def suma_diferencia(n):\n",
    "    suma = 0\n",
    "    suma2 = 0\n",
    "    for i in range(1,n+1): # Tiene que ser n inclusive, por tanto n+1\n",
    "        suma += i\n",
    "        suma2 += i**2\n",
    "    suma = suma**2\n",
    "    return suma-suma2\n",
    "print(suma_diferencia(12))"
   ]
  },
  {
   "cell_type": "markdown",
   "id": "922c88ea-96a8-4ef1-a7f1-a395815c32ae",
   "metadata": {},
   "source": [
    "## EJERCICIO 4"
   ]
  },
  {
   "cell_type": "markdown",
   "id": "a4f92524-6938-44d9-83aa-0651933e94a3",
   "metadata": {},
   "source": [
    "Escriba un programa Python para implementar el algoritmo euclidiano para calcular el máximo común divisor (MCD).\n",
    "\n",
    "Rendimiento esperado :\n",
    "\n",
    "304 = 2 * 150 + 4\n",
    "150 = 37 * 4 + 2\n",
    "4 = 2 * 2 + 0\n",
    "mcd es 2\n",
    ".........\n",
    "6 = 2 * 3 + 0\n",
    "mcd es 3\n"
   ]
  },
  {
   "cell_type": "code",
   "execution_count": 27,
   "id": "082e279c-8bfb-41bf-86ad-82c874292926",
   "metadata": {},
   "outputs": [
    {
     "name": "stdout",
     "output_type": "stream",
     "text": [
      "2\n"
     ]
    }
   ],
   "source": [
    "def mcd(a,b):\n",
    "    if b == 0:\n",
    "        return a\n",
    "    return mcd(b, a%b) # Devuelve de manera recursiva hasta que b sea 0\n",
    "print(mcd(304,6))"
   ]
  },
  {
   "cell_type": "markdown",
   "id": "2327c30f-6f55-4746-b9f9-f45b2f3fa4e7",
   "metadata": {},
   "source": [
    "## EJERCICIO 5"
   ]
  },
  {
   "cell_type": "markdown",
   "id": "5d487a6a-35ca-4a2d-b541-7cd24ea92609",
   "metadata": {},
   "source": [
    "Escriba un programa Python para crear una calculadora del teorema de Pitágoras.\n",
    "\n",
    "Nota: En matemáticas, el teorema de Pitágoras, también conocido como teorema de Pitágoras, \n",
    "es una relación fundamental en la geometría euclidiana entre los tres lados de un triángulo rectángulo. \n",
    "Dice que el cuadrado de la hipotenusa (el lado opuesto al ángulo recto) es igual a la suma de los cuadrados \n",
    "de los otros dos lados.\n",
    "\n",
    "Rendimiento esperado :\n",
    "\n",
    "¡Calculadora del teorema de Pitágoras! Calcula los lados de tu triángulo.\n",
    "Supongamos que los lados son a, b, c y c es la hipotenusa (el lado opuesto al derecho\n",
    " ángulo\n",
    "¿Qué lado (a, b, c) deseas calcular? lado>a\n",
    "Ingrese la longitud del lado b:10\n",
    "Introduzca la longitud del lado c:20\n",
    "La longitud del lado a es\n",
    "17.320508075688775"
   ]
  },
  {
   "cell_type": "code",
   "execution_count": 6,
   "id": "f80b2984-ac8d-4970-9927-6a0afb16b6d2",
   "metadata": {},
   "outputs": [
    {
     "name": "stdout",
     "output_type": "stream",
     "text": [
      "La longitud del lado a es de 17.320508075688775\n"
     ]
    }
   ],
   "source": [
    "side = input(\"¡Calculadora del teorema de Pitágoras! Calcula los lados de tu triángulo. Supongamos que los lados son a, b, c y c es la hipotenusa (el lado opuesto al derecho ángulo) ¿Qué lado (a, b, c) deseas calcular?: \")\n",
    "if side == 'a':\n",
    "    b = float(input(\"Introduce longitud del lado b: \"))\n",
    "    c = float(input(\"Introduce longitud del lado c: \"))\n",
    "    a = math.sqrt(c**2-b**2)\n",
    "    print(f\"La longitud del lado {side} es de {a}\")\n",
    "elif side == 'b':\n",
    "    a = float(input(\"Introduce longitud del lado a: \"))\n",
    "    c = float(input(\"Introduce longitud del lado c: \"))\n",
    "    b = math.sqrt(c**2-a**2)\n",
    "    print(f\"La longitud del lado {side} es de {b}\")\n",
    "elif side == 'c':\n",
    "    b = float(input(\"Introduce longitud del lado b: \"))\n",
    "    a = float(input(\"Introduce longitud del lado a: \"))\n",
    "    c = math.sqrt(a**2+b**2)\n",
    "    print(f\"La longitud del lado {side} es de {c}\")\n",
    "else:\n",
    "    print(\"Introduce un valor válido\")\n",
    "    exit\n"
   ]
  },
  {
   "cell_type": "markdown",
   "id": "269c4b20-4a4d-4c25-bc8d-090abc7f4dad",
   "metadata": {},
   "source": [
    "## MODULO DATE TIME"
   ]
  },
  {
   "cell_type": "code",
   "execution_count": 76,
   "id": "55f020db",
   "metadata": {},
   "outputs": [],
   "source": [
    "import datetime"
   ]
  },
  {
   "cell_type": "markdown",
   "id": "4e700cd7-0b76-466f-b769-abfeb7c8a5c4",
   "metadata": {},
   "source": [
    "## EJERCICIO 6"
   ]
  },
  {
   "cell_type": "markdown",
   "id": "1d0e5894-7eaa-4010-ae50-4c0ba58e7857",
   "metadata": {},
   "source": [
    "Escriba un script de Python para mostrar los distintos formatos de fecha y hora:\n",
    "a) Fecha y hora actuales\n",
    "b) año en curso\n",
    "c) Mes del año\n",
    "d) Número de semana del año\n",
    "e) Día laborable de la semana\n",
    "f) Día del año\n",
    "g) Día del mes\n",
    "h) Día de la semana"
   ]
  },
  {
   "cell_type": "code",
   "execution_count": 78,
   "id": "c38aad9c-aa2d-4a4c-8dd3-0afe3d2cb947",
   "metadata": {},
   "outputs": [
    {
     "name": "stdout",
     "output_type": "stream",
     "text": [
      "La fecha y hora actuales:  2024-09-25 18:41:56\n",
      "Año en curso:  2024\n",
      "Mes del año:  September\n",
      "Número de semana del año:  38\n",
      "Día laborable de la semana:  Wednesday\n",
      "Día del año:  269\n",
      "Día del mes:  25\n",
      "Día de la semana:  3\n"
     ]
    }
   ],
   "source": [
    "x = datetime.datetime.now()\n",
    "print(\"La fecha y hora actuales: \",x.strftime(\"%Y-%m-%d %H:%M:%S\"))\n",
    "print(\"Año en curso: \",x.strftime(\"%Y\"))\n",
    "print(\"Mes del año: \",x.strftime(\"%B\"))\n",
    "print(\"Número de semana del año: \",x.strftime(\"%U\"))\n",
    "print(\"Día laborable de la semana: \",x.strftime(\"%A\"))\n",
    "print(\"Día del año: \",x.strftime(\"%j\"))\n",
    "print(\"Día del mes: \",x.strftime(\"%d\"))\n",
    "print(\"Día de la semana: \",x.strftime(\"%w\"))"
   ]
  },
  {
   "cell_type": "markdown",
   "id": "51834dc8-91dd-49d1-adf6-ec489068b5f2",
   "metadata": {},
   "source": [
    "## EJERCICIO 7"
   ]
  },
  {
   "cell_type": "markdown",
   "id": "46e61586-83a9-44fd-a502-a17008540c1a",
   "metadata": {},
   "source": [
    "Escriba un programa Python para restar cinco días de la fecha actual.\n",
    "Fecha de muestra:\n",
    "Fecha actual: 2015-06-22\n",
    "5 días antes Fecha actual: 2015-06-17"
   ]
  },
  {
   "cell_type": "code",
   "execution_count": 81,
   "id": "3c7c83ab-3915-408b-8b19-f9af02ed4f5a",
   "metadata": {},
   "outputs": [
    {
     "name": "stdout",
     "output_type": "stream",
     "text": [
      "2024-09-20\n"
     ]
    }
   ],
   "source": [
    "def hace5dias():\n",
    "    return(datetime.date.today() - datetime.timedelta(5))\n",
    "print(hace5dias())"
   ]
  },
  {
   "cell_type": "markdown",
   "id": "082309e7-cb10-4f2d-a719-8264b95f3682",
   "metadata": {},
   "source": [
    "## MODULO EXCEPTIONS"
   ]
  },
  {
   "cell_type": "markdown",
   "id": "feb0417e",
   "metadata": {},
   "source": [
    "## EJERCICIO 8"
   ]
  },
  {
   "cell_type": "markdown",
   "id": "91cd8f7c",
   "metadata": {},
   "source": [
    "Dada la función divisors(), muestra TypeError con el mensaje correspondiente si el parámetro n no se trata de un número entero y muestra ValueError con el mensaje correspondiente si n no se trata de un número positivo.\n",
    "\n",
    "```\n",
    "def divisors(n):\n",
    "    \"\"\"\n",
    "    Calcula los divisores de un número entero positivo.\n",
    "    Args:\n",
    "        n: Número entero positive\n",
    "    Returns:\n",
    "        divisors: Lista de divisores de n\n",
    "    \"\"\"\"\n",
    "    divisors = []\n",
    "    for i in range(1, n + 1):\n",
    "        if n % i == 0: divisors.append(i)\n",
    "             return divisors\n",
    "```"
   ]
  },
  {
   "cell_type": "code",
   "execution_count": null,
   "id": "e292b60b-089a-40b4-a395-41f8a19a9c70",
   "metadata": {},
   "outputs": [],
   "source": []
  },
  {
   "cell_type": "markdown",
   "id": "59397f22",
   "metadata": {},
   "source": [
    "## EJERCICIO 9"
   ]
  },
  {
   "cell_type": "markdown",
   "id": "8272bcdf",
   "metadata": {},
   "source": [
    "Crea una función que solicite al usuario la edad. Lanza una excepción en caso de que no se trate de una edad válida. Se considera edad no válida una edad negativa o mayor a 150. En cada caso, lanza el mensaje correspondiente."
   ]
  },
  {
   "cell_type": "code",
   "execution_count": null,
   "id": "a127d166-e17c-459c-a10c-6fe487e327b5",
   "metadata": {},
   "outputs": [],
   "source": []
  },
  {
   "cell_type": "markdown",
   "id": "5e2e3866",
   "metadata": {},
   "source": [
    "## <ins>Ejercicios Opcionales </ins>"
   ]
  },
  {
   "cell_type": "markdown",
   "id": "0327de3d",
   "metadata": {},
   "source": [
    "## EJERCICIO 10"
   ]
  },
  {
   "cell_type": "markdown",
   "id": "7dd833aa",
   "metadata": {},
   "source": [
    "Crea una función que solicite al usuario una letra en mayúscula. Lanza una excepción en caso de que el usuario no haya introducido nada, no haya introducido una letra, no haya introducido una letra mayúscula o no haya introducido solamente un carácter. La función tiene que capturar todas las excepciones ocurridas y mostrar el mensaje de la excepción (sólo el mensaje, para que el usuario vea lo que ha pasado pero no tenga información que no le dice nada)."
   ]
  },
  {
   "cell_type": "code",
   "execution_count": null,
   "id": "e5f0459b",
   "metadata": {},
   "outputs": [],
   "source": []
  },
  {
   "cell_type": "markdown",
   "id": "822dc443",
   "metadata": {},
   "source": [
    "## EJERCICIO 11"
   ]
  },
  {
   "cell_type": "markdown",
   "id": "c54ded62",
   "metadata": {},
   "source": [
    "Escriba un programa Python para agregar años a una fecha determinada y mostrar la fecha actualizada.\n",
    "\n",
    "Datos de muestra: (addYears es el nombre de la función definida por el usuario)\n",
    "imprimir (agregar años (fecha y hora. fecha (2015,1,1), -1))\n",
    "imprimir (agregar años (fecha y hora. fecha (2015,1,1), 0))\n",
    "imprimir (agregar años (fecha y hora. fecha (2015,1,1), 2))\n",
    "imprimir(agregarAños(fechahora.fecha(2000,2,29),1))\n",
    "\n",
    "Rendimiento esperado :\n",
    "2014-01-01\n",
    "2015-01-01\n",
    "2017-01-01\n",
    "2001-03-01"
   ]
  },
  {
   "cell_type": "code",
   "execution_count": null,
   "id": "f65661eb",
   "metadata": {},
   "outputs": [],
   "source": []
  },
  {
   "cell_type": "markdown",
   "id": "f18c4085",
   "metadata": {},
   "source": [
    "## EJERCICIO 12"
   ]
  },
  {
   "cell_type": "markdown",
   "id": "3a561f46",
   "metadata": {},
   "source": [
    "Dada la función divisors(), asegura con assert que el parámetro n se trata de un número entero positivo. De lo contrario, muestra como mensaje que \"n debe ser de tipo int y debe ser mayor que 0\"\n",
    "\n",
    "```\n",
    "def divisors(n):\n",
    "    \"\"\"\n",
    "    Calcula los divisores de un número entero positivo.\n",
    "    Args:\n",
    "        n: Número entero positive\n",
    "    Returns:\n",
    "        divisors: Lista de divisores de n\n",
    "    \"\"\"\"\n",
    "    divisors = []\n",
    "    for i in range(1, n + 1):\n",
    "        if n % i == 0: divisors.append(i)\n",
    "     return divisors\n",
    "```"
   ]
  },
  {
   "cell_type": "code",
   "execution_count": null,
   "id": "d6733eec",
   "metadata": {},
   "outputs": [],
   "source": []
  },
  {
   "cell_type": "markdown",
   "id": "e4c6bd63",
   "metadata": {},
   "source": [
    "## EJERCICIO 13"
   ]
  },
  {
   "cell_type": "markdown",
   "id": "4f56267d",
   "metadata": {},
   "source": [
    "Dada la función is_palindrome(), asegura con assert que el parámetro word se trata de una variable de tipo string. De lo contrario, muestra como mensaje que \"word debe ser de tipo string\".\n",
    "\n",
    "```\n",
    "def is_palindrome(word):\n",
    "    \"\"\"\n",
    "    Devuelve si la palabra word es palíndroma.\n",
    "    Args:\n",
    "        word: Palabra\n",
    "    Returns:\n",
    "        isPalindrome: Booleano\n",
    "    \"\"\"\n",
    "    word = word.lower()\n",
    "    l = []\n",
    "    isPalindrome = True\n",
    "    for c in word: \n",
    "        l.append(c)\n",
    "        n = len(l)\n",
    "    for i in range(int(n / 2)):\n",
    "        if l[i] != l[n - (i + 1)]: \n",
    "            isPalindrome = False\n",
    "     return isPalindrome\n",
    "```"
   ]
  },
  {
   "cell_type": "code",
   "execution_count": null,
   "id": "7374d478",
   "metadata": {},
   "outputs": [],
   "source": []
  },
  {
   "cell_type": "markdown",
   "id": "f3265650",
   "metadata": {},
   "source": [
    "## EJERCICIO 14"
   ]
  },
  {
   "cell_type": "markdown",
   "id": "d61c5301",
   "metadata": {},
   "source": [
    "Dada la función is_palindrome(), muestra TypeError con el mensaje correspondiente si word no se trata de una variable de tipo string.\n",
    "```\n",
    "def is_palindrome(word):\n",
    "    \"\"\"\n",
    "    Devuelve si la palabra word es palíndroma.\n",
    "    Args:\n",
    "        word: Palabra\n",
    "    Returns:\n",
    "        isPalindrome: Booleano\n",
    "    \"\"\"\n",
    "    word = word.lower()\n",
    "    l = []\n",
    "    isPalindrome = True\n",
    "    for c in word: \n",
    "        l.append(c)\n",
    "        n = len(l)\n",
    "    for i in range(int(n / 2)):\n",
    "        if l[i] != l[n - (i + 1)]: \n",
    "            isPalindrome = False\n",
    "     return isPalindrome\n",
    "```"
   ]
  },
  {
   "cell_type": "code",
   "execution_count": null,
   "id": "3d0f69cd",
   "metadata": {},
   "outputs": [],
   "source": []
  },
  {
   "cell_type": "markdown",
   "id": "03d1590d",
   "metadata": {},
   "source": [
    "## EJERCICIO 15"
   ]
  },
  {
   "cell_type": "markdown",
   "id": "22f8ae59",
   "metadata": {},
   "source": [
    "Dada la función is_palindrome(), muestra ValueError con el mensaje correspondiente si word no se trata de una palabra. Es decir, si una vez ha pasado la comprobación de ser una variable de tipo string, comprueba que no tiene espacios.\n",
    "\n",
    "```\n",
    "def is_palindrome(word):\n",
    "    \"\"\"\n",
    "    Devuelve si la palabra word es palíndroma.\n",
    "    Args:\n",
    "        word: Palabra\n",
    "    Returns:\n",
    "        isPalindrome: Booleano\n",
    "    \"\"\"\n",
    "    word = word.lower()\n",
    "    l = []\n",
    "    isPalindrome = True\n",
    "    for c in word: \n",
    "        l.append(c)\n",
    "        n = len(l)\n",
    "    for i in range(int(n / 2)):\n",
    "        if l[i] != l[n - (i + 1)]: \n",
    "            isPalindrome = False\n",
    "     return isPalindrome\n",
    "```"
   ]
  },
  {
   "cell_type": "code",
   "execution_count": null,
   "id": "deb6d99b",
   "metadata": {},
   "outputs": [],
   "source": []
  },
  {
   "cell_type": "markdown",
   "id": "cbcf1a79",
   "metadata": {},
   "source": [
    "## EJERCICIO 16"
   ]
  },
  {
   "cell_type": "markdown",
   "id": "ffa12522",
   "metadata": {},
   "source": [
    "Utiliza try / except para dado un objeto de Python guardarlo en la variable x, aplicarle el método .index() y localizar el elemento \"c\". En el bloque try, guarda el resultado en la variable result. En el bloque except, en la variable result, si el objeto x es una lista, guarda el mensaje \"La lista no tiene el elemento 'c'\". En caso contrario, guarda el mensaje \"El objeto {tipo del objeto que sea x} no tiene el método .index()\". Finalmente, imprime por pantalla el resultado."
   ]
  },
  {
   "cell_type": "code",
   "execution_count": null,
   "id": "3f6fea32",
   "metadata": {},
   "outputs": [],
   "source": []
  },
  {
   "cell_type": "markdown",
   "id": "5cef8509",
   "metadata": {},
   "source": [
    "## EJERCICIO 17"
   ]
  },
  {
   "cell_type": "markdown",
   "id": "39b5ab2e",
   "metadata": {},
   "source": [
    "Crea una función que calcule el área de un cuadrado. Como parámetro se recibirá un número real, correspondiente a la longitud de la base. Lanza las excepciones pertinentes siempre que el parámetro no se trate de un número real o entero positivo."
   ]
  },
  {
   "cell_type": "code",
   "execution_count": null,
   "id": "5bdb0dbb",
   "metadata": {},
   "outputs": [],
   "source": []
  },
  {
   "cell_type": "markdown",
   "id": "1196822e",
   "metadata": {},
   "source": [
    "## EJERCICIO 18"
   ]
  },
  {
   "cell_type": "markdown",
   "id": "4f536572",
   "metadata": {},
   "source": [
    "Crea una función que solicite al usuario una letra en mayúscula. Lanza una excepción en caso de que el usuario no haya introducido nada, no haya introducido una letra, no haya introducido una letra mayúscula o no haya introducido solamente un carácter. La función tiene que capturar todas las excepciones ocurridas y mostrar el mensaje de la excepción (sólo el mensaje, para que el usuario vea lo que ha pasado pero no tenga información que no le dice nada)."
   ]
  },
  {
   "cell_type": "code",
   "execution_count": null,
   "id": "b8c8c022",
   "metadata": {},
   "outputs": [],
   "source": []
  },
  {
   "cell_type": "markdown",
   "id": "dc864064",
   "metadata": {},
   "source": []
  }
 ],
 "metadata": {
  "kernelspec": {
   "display_name": "Python 3 (ipykernel)",
   "language": "python",
   "name": "python3"
  },
  "language_info": {
   "codemirror_mode": {
    "name": "ipython",
    "version": 3
   },
   "file_extension": ".py",
   "mimetype": "text/x-python",
   "name": "python",
   "nbconvert_exporter": "python",
   "pygments_lexer": "ipython3",
   "version": "3.10.12"
  }
 },
 "nbformat": 4,
 "nbformat_minor": 5
}
