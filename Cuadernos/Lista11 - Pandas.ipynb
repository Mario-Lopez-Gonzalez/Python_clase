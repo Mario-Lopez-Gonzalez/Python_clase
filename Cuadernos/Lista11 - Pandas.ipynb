{
 "cells": [
  {
   "cell_type": "markdown",
   "id": "d287d88e",
   "metadata": {},
   "source": [
    "# LISTA 11 - PANDAS"
   ]
  },
  {
   "cell_type": "markdown",
   "id": "5abe7c16",
   "metadata": {},
   "source": [
    "## <ins>Ejercicios Obligatorios </ins>"
   ]
  },
  {
   "cell_type": "code",
   "execution_count": 1,
   "id": "336c39bd-b1dd-4ec7-807b-82612a36cebe",
   "metadata": {
    "tags": []
   },
   "outputs": [],
   "source": [
    "import pandas as pd\n",
    "import numpy as np\n",
    "import matplotlib.pyplot as plt\n",
    "from pandas import Series, DataFrame"
   ]
  },
  {
   "cell_type": "markdown",
   "id": "f99190d1",
   "metadata": {},
   "source": [
    "## EJERCICIO 1"
   ]
  },
  {
   "cell_type": "markdown",
   "id": "b3836703",
   "metadata": {},
   "source": [
    "Crea un dataframe con 15 filas y 2 columnas. La primera columna se llamará x, la segunda y. Cada entrada será un número aleatorio (puedes usar random.normal() de la librería numpy). Guarda el dataframe en una variable llamada points."
   ]
  },
  {
   "cell_type": "code",
   "execution_count": 26,
   "id": "9c09e6d7-32a7-486b-92b7-eb1646acf21f",
   "metadata": {
    "tags": []
   },
   "outputs": [
    {
     "name": "stdout",
     "output_type": "stream",
     "text": [
      "           x         y\n",
      "0   0.209339  1.208477\n",
      "1   0.730889 -0.319757\n",
      "2   1.060358  0.221681\n",
      "3  -0.029359 -0.584837\n",
      "4  -2.842888 -0.951093\n",
      "5   0.042998  1.442983\n",
      "6  -0.563719 -1.112271\n",
      "7  -0.287107  0.066881\n",
      "8  -3.005483 -2.648041\n",
      "9  -1.208865  0.354483\n",
      "10  2.156314 -0.205128\n",
      "11  1.089402  0.871555\n",
      "12  0.778905 -0.327643\n",
      "13 -0.412882 -0.215737\n",
      "14  0.980865  1.285192\n"
     ]
    }
   ],
   "source": [
    "import pandas as pd\n",
    "import numpy as np\n",
    "data = np.random.normal(size=(15, 2)) # Crea una sample de datos aleatorios de 15 filas en 2 columnas\n",
    "points = pd.DataFrame(data, columns=['x', 'y']) # Crea un dataframe con la matrix de 15x2 y le pone de cabecera la lista de columns\n",
    "print(points)"
   ]
  },
  {
   "cell_type": "markdown",
   "id": "feb0417e",
   "metadata": {},
   "source": [
    "## EJERCICIO 2"
   ]
  },
  {
   "cell_type": "markdown",
   "id": "91cd8f7c",
   "metadata": {},
   "source": [
    "Del dataframe points, muestra las filas cuyo valor en la columna x sea positivo."
   ]
  },
  {
   "cell_type": "code",
   "execution_count": 31,
   "id": "6bd457ba-4888-4018-9b5f-39494a9d57a6",
   "metadata": {},
   "outputs": [
    {
     "name": "stdout",
     "output_type": "stream",
     "text": [
      "           x         y\n",
      "0   0.209339  1.208477\n",
      "1   0.730889 -0.319757\n",
      "2   1.060358  0.221681\n",
      "5   0.042998  1.442983\n",
      "10  2.156314 -0.205128\n",
      "11  1.089402  0.871555\n",
      "12  0.778905 -0.327643\n",
      "14  0.980865  1.285192\n"
     ]
    }
   ],
   "source": [
    "print(points[points['x']>0]) # points['x']>0 genera una columna de booleanos que si se usa de indice indica si imprimir o no la fila"
   ]
  },
  {
   "cell_type": "markdown",
   "id": "abf81a65",
   "metadata": {},
   "source": [
    "## EJERCICIO 3"
   ]
  },
  {
   "cell_type": "code",
   "execution_count": 32,
   "id": "bc792bb2",
   "metadata": {},
   "outputs": [
    {
     "name": "stdout",
     "output_type": "stream",
     "text": [
      "           x         y\n",
      "1   0.730889 -0.319757\n",
      "3  -0.029359 -0.584837\n",
      "4  -2.842888 -0.951093\n",
      "6  -0.563719 -1.112271\n",
      "8  -3.005483 -2.648041\n",
      "10  2.156314 -0.205128\n",
      "12  0.778905 -0.327643\n",
      "13 -0.412882 -0.215737\n"
     ]
    }
   ],
   "source": [
    "print(points[points['y']<0])"
   ]
  },
  {
   "cell_type": "markdown",
   "id": "c0dda757",
   "metadata": {},
   "source": [
    "Del dataframe points, muestra las filas cuyo valor en la columna y sea negativo."
   ]
  },
  {
   "cell_type": "markdown",
   "id": "4d68e82b",
   "metadata": {},
   "source": [
    "## EJERCICIO 4"
   ]
  },
  {
   "cell_type": "code",
   "execution_count": 34,
   "id": "0013c654",
   "metadata": {},
   "outputs": [
    {
     "name": "stdout",
     "output_type": "stream",
     "text": [
      "           x         y\n",
      "0   0.209339  1.208477\n",
      "2   1.060358  0.221681\n",
      "5   0.042998  1.442983\n",
      "11  1.089402  0.871555\n",
      "14  0.980865  1.285192\n"
     ]
    }
   ],
   "source": [
    "print(points[(points['x'] > 0) & (points['y'] > 0)]) # Hace un AND entre las columnas booleanas de x e y para sacar las que ambas sean positivas"
   ]
  },
  {
   "cell_type": "markdown",
   "id": "ec7f3b2a",
   "metadata": {},
   "source": [
    "Del dataframe points, muestra las observaciones cuyos puntos (x, y) pertenezcan al primer cuadrante. "
   ]
  },
  {
   "cell_type": "markdown",
   "id": "5c943554",
   "metadata": {},
   "source": [
    "## EJERCICIO 5"
   ]
  },
  {
   "cell_type": "code",
   "execution_count": 38,
   "id": "08dfb2d2",
   "metadata": {},
   "outputs": [
    {
     "name": "stdout",
     "output_type": "stream",
     "text": [
      "0 El punto (0.2093,1.2085) si pertenece al primer cuadrante\n",
      "1 El punto (0.7309,-0.3198) no pertenece al primer cuadrante\n",
      "2 El punto (1.0604,0.2217) si pertenece al primer cuadrante\n",
      "3 El punto (-0.0294,-0.5848) no pertenece al primer cuadrante\n",
      "4 El punto (-2.8429,-0.9511) no pertenece al primer cuadrante\n",
      "5 El punto (0.0430,1.4430) si pertenece al primer cuadrante\n",
      "6 El punto (-0.5637,-1.1123) no pertenece al primer cuadrante\n",
      "7 El punto (-0.2871,0.0669) no pertenece al primer cuadrante\n",
      "8 El punto (-3.0055,-2.6480) no pertenece al primer cuadrante\n",
      "9 El punto (-1.2089,0.3545) no pertenece al primer cuadrante\n",
      "10 El punto (2.1563,-0.2051) no pertenece al primer cuadrante\n",
      "11 El punto (1.0894,0.8716) si pertenece al primer cuadrante\n",
      "12 El punto (0.7789,-0.3276) no pertenece al primer cuadrante\n",
      "13 El punto (-0.4129,-0.2157) no pertenece al primer cuadrante\n",
      "14 El punto (0.9809,1.2852) si pertenece al primer cuadrante\n"
     ]
    }
   ],
   "source": [
    "for i,row in points.iterrows():\n",
    "    sino = \"si\" if (row['x'] > 0) and (row['y'] > 0) else \"no\"\n",
    "    print(f\"{i} El punto ({row['x']:.4f},{row['y']:.4f}) {sino} pertenece al primer cuadrante\") # ..4f limita a 4 decimales y redondea"
   ]
  },
  {
   "cell_type": "markdown",
   "id": "13d2c744",
   "metadata": {},
   "source": [
    "Del dataframe points, muestra las observaciones de la forma: “El punto ({x}, {y}) {no/sí} pertenece al primer cuadrante”."
   ]
  },
  {
   "cell_type": "markdown",
   "id": "2972dd7e",
   "metadata": {},
   "source": [
    "## EJERCICIO 6"
   ]
  },
  {
   "cell_type": "code",
   "execution_count": 48,
   "id": "86c349df",
   "metadata": {},
   "outputs": [
    {
     "name": "stdout",
     "output_type": "stream",
     "text": [
      "       word  length  vowels  consonants\n",
      "0      euro       4       3           1\n",
      "1      diez       4       2           2\n",
      "2     algas       5       2           3\n",
      "3     broma       5       2           3\n",
      "4    cicuta       6       3           3\n",
      "5    fatiga       6       3           3\n",
      "6    nachos       6       2           4\n",
      "7    jadeos       6       3           3\n",
      "8   hazañas       7       3           4\n",
      "9  boutique       8       5           3\n"
     ]
    }
   ],
   "source": [
    "header = ['word']\n",
    "word = [\"euro\", \"diez\", \"algas\", \"broma\", \"cicuta\", \"fatiga\", \"nachos\", \"jadeos\", \"hazañas\", \"boutique\"]\n",
    "words = pd.DataFrame(data=word,columns=header)\n",
    "words['length'] = words['word'].apply(len) # Usa la función por cada item de cada fila para generar la columna\n",
    "\n",
    "def countVocals(word):\n",
    "    n = 0\n",
    "    for letter in word:\n",
    "        if letter.lower() in 'aeiouáéíóú':\n",
    "            n += 1\n",
    "    return n\n",
    "    \n",
    "words['vowels'] = words['word'].apply(countVocals)\n",
    "words['consonants'] = words['length'] - words['vowels']\n",
    "print(words)"
   ]
  },
  {
   "cell_type": "markdown",
   "id": "ef3c12ce",
   "metadata": {},
   "source": [
    "Crea un dataframe con 10 filas y 4 columnas. La primera columna se llamará word; la segunda, length; la tercera, vowels; y la última, consonants. La columna words contendrá las siguientes 10 palabras: “euro”, “diez” “algas”, “broma”, “cicuta”, “fatiga”, “nachos”, “jadeos”, “hazañas”, “boutique”. Las columnas length, vowels y consonants contendrán, respectivamente, la longitud, el total de vocales y el total de consonantes (añade las columnas calculando su valor por código). Guarda el dataframe en la variable words."
   ]
  },
  {
   "cell_type": "markdown",
   "id": "cbbfb36c",
   "metadata": {},
   "source": [
    "## EJERCICIO 7"
   ]
  },
  {
   "cell_type": "code",
   "execution_count": 49,
   "id": "e05becc9",
   "metadata": {},
   "outputs": [
    {
     "name": "stdout",
     "output_type": "stream",
     "text": [
      "0 La palabra euro tiene 4 letras, de las cuales 3 son vocales y 1 son consonantes.\n",
      "1 La palabra diez tiene 4 letras, de las cuales 2 son vocales y 2 son consonantes.\n",
      "2 La palabra algas tiene 5 letras, de las cuales 2 son vocales y 3 son consonantes.\n",
      "3 La palabra broma tiene 5 letras, de las cuales 2 son vocales y 3 son consonantes.\n",
      "4 La palabra cicuta tiene 6 letras, de las cuales 3 son vocales y 3 son consonantes.\n",
      "5 La palabra fatiga tiene 6 letras, de las cuales 3 son vocales y 3 son consonantes.\n",
      "6 La palabra nachos tiene 6 letras, de las cuales 2 son vocales y 4 son consonantes.\n",
      "7 La palabra jadeos tiene 6 letras, de las cuales 3 son vocales y 3 son consonantes.\n",
      "8 La palabra hazañas tiene 7 letras, de las cuales 3 son vocales y 4 son consonantes.\n",
      "9 La palabra boutique tiene 8 letras, de las cuales 5 son vocales y 3 son consonantes.\n"
     ]
    }
   ],
   "source": [
    "for i,row in words.iterrows():\n",
    "    print(f\"{i} La palabra {row['word']} tiene {row['length']} letras, de las cuales {row['vowels']} son vocales y {row['consonants']} son consonantes.\")"
   ]
  },
  {
   "cell_type": "markdown",
   "id": "f0211a75",
   "metadata": {},
   "source": [
    "Muestra las 10 observaciones de words con el formato “La palabra {word} tiene {length} letras, de las cuales {vowels} son vocales y {consonants} consonantes”."
   ]
  },
  {
   "cell_type": "markdown",
   "id": "59397f22",
   "metadata": {},
   "source": [
    "## EJERCICIO 8"
   ]
  },
  {
   "cell_type": "code",
   "execution_count": 50,
   "id": "16508527",
   "metadata": {},
   "outputs": [
    {
     "name": "stdout",
     "output_type": "stream",
     "text": [
      "La palabra diez tiene la misma cantidad de vocales y consonantes.\n",
      "La palabra cicuta tiene la misma cantidad de vocales y consonantes.\n",
      "La palabra fatiga tiene la misma cantidad de vocales y consonantes.\n",
      "La palabra jadeos tiene la misma cantidad de vocales y consonantes.\n"
     ]
    }
   ],
   "source": [
    "for i,row in words.iterrows():\n",
    "    if row['vowels'] == row['consonants']:\n",
    "        print(f\"La palabra {row['word']} tiene la misma cantidad de vocales y consonantes.\")"
   ]
  },
  {
   "cell_type": "markdown",
   "id": "8272bcdf",
   "metadata": {},
   "source": [
    "Muestra aquellas observaciones de words que tienen el mismo número de vocales y consonantes."
   ]
  },
  {
   "cell_type": "markdown",
   "id": "a157cc9d",
   "metadata": {},
   "source": [
    "## EJERCICIO 9"
   ]
  },
  {
   "cell_type": "code",
   "execution_count": 52,
   "id": "1a629c57",
   "metadata": {},
   "outputs": [
    {
     "name": "stdout",
     "output_type": "stream",
     "text": [
      "<class 'pandas.core.frame.DataFrame'>\n",
      "Index: 617 entries, 0 to 616\n",
      "Data columns (total 59 columns):\n",
      " #   Column               Non-Null Count  Dtype \n",
      "---  ------               --------------  ----- \n",
      " 0   Precio               598 non-null    object\n",
      " 1   Título               616 non-null    object\n",
      " 2   Descripción          588 non-null    object\n",
      " 3   Fotos                582 non-null    object\n",
      " 4   Dirección            597 non-null    object\n",
      " 5   Inmobiliaria         617 non-null    bool  \n",
      " 6   Anunciante           598 non-null    object\n",
      " 7   Habitaciones         551 non-null    object\n",
      " 8   Baños                592 non-null    object\n",
      " 9   Superficie           586 non-null    object\n",
      " 10  Tipo de inmueble     597 non-null    object\n",
      " 11  Ascensor             494 non-null    object\n",
      " 12  Amueblado            469 non-null    object\n",
      " 13  Depósito             136 non-null    object\n",
      " 14  Gastos de comunidad  390 non-null    object\n",
      " 15  Consumo energía      598 non-null    object\n",
      " 16  Emisiones            598 non-null    object\n",
      " 17  Aire acondicionado   415 non-null    object\n",
      " 18  Armarios             424 non-null    object\n",
      " 19  Electrodomésticos    454 non-null    object\n",
      " 20  Horno                182 non-null    object\n",
      " 21  Lavadora             300 non-null    object\n",
      " 22  Microondas           128 non-null    object\n",
      " 23  Nevera               295 non-null    object\n",
      " 24  Videoportero         137 non-null    object\n",
      " 25  Puerta Blindada      179 non-null    object\n",
      " 26  Lavadero             145 non-null    object\n",
      " 27  Cocina Equipada      455 non-null    object\n",
      " 28  Enlace               617 non-null    object\n",
      " 29  Planta               442 non-null    object\n",
      " 30  Antigüedad           210 non-null    object\n",
      " 31  Calefacción          288 non-null    object\n",
      " 32  Terraza              130 non-null    object\n",
      " 33  Balcón               193 non-null    object\n",
      " 34  Orientación          140 non-null    object\n",
      " 35  Estado               313 non-null    object\n",
      " 36  Parking              184 non-null    object\n",
      " 37  Gres Cerámica        73 non-null     object\n",
      " 38  Cocina Office        68 non-null     object\n",
      " 39  Trastero             109 non-null    object\n",
      " 40  Agua caliente        69 non-null     object\n",
      " 41  Jardín Privado       12 non-null     object\n",
      " 42  Parquet              83 non-null     object\n",
      " 43  Z. Comunitaria       16 non-null     object\n",
      " 44  Piscina              12 non-null     object\n",
      " 45  TV                   96 non-null     object\n",
      " 46  Zona Deportiva       6 non-null      object\n",
      " 47  Zona Infantil        7 non-null      object\n",
      " 48  Piscina comunitaria  10 non-null     object\n",
      " 49  Serv. portería       13 non-null     object\n",
      " 50  Internet             42 non-null     object\n",
      " 51  Suite - con baño     35 non-null     object\n",
      " 52  Patio                39 non-null     object\n",
      " 53  Domótica             3 non-null      object\n",
      " 54  Pista de Tenis       2 non-null      object\n",
      " 55  Alarma               1 non-null      object\n",
      " 56  Mascotas             5 non-null      object\n",
      " 57  Energía Solar        1 non-null      object\n",
      " 58  Gimnasio             1 non-null      object\n",
      "dtypes: bool(1), object(58)\n",
      "memory usage: 285.0+ KB\n"
     ]
    }
   ],
   "source": [
    "fotocasa_df = pd.read_csv(\"https://drive.google.com/uc?export=view&id=1DwvALe87aeDzTk7s6xGPDd6itJ65s4YE\", index_col = 0)\n",
    "fotocasa_df.info()"
   ]
  },
  {
   "cell_type": "markdown",
   "id": "41b16d4b",
   "metadata": {},
   "source": [
    "El siguiente DataFrame contiene información de los pisos en alquiler en Murcia a fecha de 31/12/2020:\n",
    "```\n",
    "fotocasa_df = pd.read_csv(\"https://drive.google.com/uc?export=view&id=1DwvALe87aeDzTk7s6xGPDd6itJ65s4YE\", index_col = 0)\n",
    "```\n",
    "Muestra el número de filas, columnas y valores que contiene el DataFrame cargado:"
   ]
  },
  {
   "cell_type": "markdown",
   "id": "5c606a0f",
   "metadata": {},
   "source": [
    "## EJERCICIO 10"
   ]
  },
  {
   "cell_type": "code",
   "execution_count": 53,
   "id": "5c764a7c",
   "metadata": {},
   "outputs": [
    {
     "data": {
      "text/html": [
       "<div>\n",
       "<style scoped>\n",
       "    .dataframe tbody tr th:only-of-type {\n",
       "        vertical-align: middle;\n",
       "    }\n",
       "\n",
       "    .dataframe tbody tr th {\n",
       "        vertical-align: top;\n",
       "    }\n",
       "\n",
       "    .dataframe thead th {\n",
       "        text-align: right;\n",
       "    }\n",
       "</style>\n",
       "<table border=\"1\" class=\"dataframe\">\n",
       "  <thead>\n",
       "    <tr style=\"text-align: right;\">\n",
       "      <th></th>\n",
       "      <th>Precio</th>\n",
       "      <th>Título</th>\n",
       "      <th>Descripción</th>\n",
       "      <th>Fotos</th>\n",
       "      <th>Dirección</th>\n",
       "      <th>Inmobiliaria</th>\n",
       "      <th>Anunciante</th>\n",
       "      <th>Habitaciones</th>\n",
       "      <th>Baños</th>\n",
       "      <th>Superficie</th>\n",
       "      <th>...</th>\n",
       "      <th>Serv. portería</th>\n",
       "      <th>Internet</th>\n",
       "      <th>Suite - con baño</th>\n",
       "      <th>Patio</th>\n",
       "      <th>Domótica</th>\n",
       "      <th>Pista de Tenis</th>\n",
       "      <th>Alarma</th>\n",
       "      <th>Mascotas</th>\n",
       "      <th>Energía Solar</th>\n",
       "      <th>Gimnasio</th>\n",
       "    </tr>\n",
       "  </thead>\n",
       "  <tbody>\n",
       "    <tr>\n",
       "      <th>0</th>\n",
       "      <td>A consultar</td>\n",
       "      <td>Piso de alquiler en Centro</td>\n",
       "      <td>TRABAJADORES Y ESTUDIANTES ATENCION!!!! VIVIEN...</td>\n",
       "      <td>18 Fotos</td>\n",
       "      <td>Centro</td>\n",
       "      <td>True</td>\n",
       "      <td>DPTO. COMERCIAL PISOSMUR</td>\n",
       "      <td>&lt;span&gt;&lt;span&gt;4&lt;/span&gt; habs.&lt;/span&gt;</td>\n",
       "      <td>&lt;span&gt;&lt;span&gt;2&lt;/span&gt; baños&lt;/span&gt;</td>\n",
       "      <td>&lt;span&gt;&lt;span&gt;110&lt;/span&gt; m²&lt;/span&gt;</td>\n",
       "      <td>...</td>\n",
       "      <td>NaN</td>\n",
       "      <td>NaN</td>\n",
       "      <td>NaN</td>\n",
       "      <td>NaN</td>\n",
       "      <td>NaN</td>\n",
       "      <td>NaN</td>\n",
       "      <td>NaN</td>\n",
       "      <td>NaN</td>\n",
       "      <td>NaN</td>\n",
       "      <td>NaN</td>\n",
       "    </tr>\n",
       "    <tr>\n",
       "      <th>1</th>\n",
       "      <td>500 € /mes</td>\n",
       "      <td>Apartamento de alquiler en Centro</td>\n",
       "      <td>Maravilloso apartamento para entrar a vivir en...</td>\n",
       "      <td>21 Fotos</td>\n",
       "      <td>Centro</td>\n",
       "      <td>True</td>\n",
       "      <td>BREXTOM MURCIA</td>\n",
       "      <td>&lt;span&gt;&lt;span&gt;1&lt;/span&gt; hab.&lt;/span&gt;</td>\n",
       "      <td>&lt;span&gt;&lt;span&gt;1&lt;/span&gt; baño&lt;/span&gt;</td>\n",
       "      <td>&lt;span&gt;&lt;span&gt;46&lt;/span&gt; m²&lt;/span&gt;</td>\n",
       "      <td>...</td>\n",
       "      <td>NaN</td>\n",
       "      <td>NaN</td>\n",
       "      <td>NaN</td>\n",
       "      <td>NaN</td>\n",
       "      <td>NaN</td>\n",
       "      <td>NaN</td>\n",
       "      <td>NaN</td>\n",
       "      <td>NaN</td>\n",
       "      <td>NaN</td>\n",
       "      <td>NaN</td>\n",
       "    </tr>\n",
       "    <tr>\n",
       "      <th>2</th>\n",
       "      <td>900 € /mes</td>\n",
       "      <td>Piso de alquiler en Doctor Marañón Centro</td>\n",
       "      <td>Se alquila estupenda vivienda recién reformada...</td>\n",
       "      <td>18 Fotos</td>\n",
       "      <td>Doctor Marañón Centro</td>\n",
       "      <td>True</td>\n",
       "      <td>ABAD SERVICIOS INMOBILIARIOS</td>\n",
       "      <td>&lt;span&gt;&lt;span&gt;4&lt;/span&gt; habs.&lt;/span&gt;</td>\n",
       "      <td>&lt;span&gt;&lt;span&gt;2&lt;/span&gt; baños&lt;/span&gt;</td>\n",
       "      <td>&lt;span&gt;&lt;span&gt;169&lt;/span&gt; m²&lt;/span&gt;</td>\n",
       "      <td>...</td>\n",
       "      <td>NaN</td>\n",
       "      <td>NaN</td>\n",
       "      <td>NaN</td>\n",
       "      <td>NaN</td>\n",
       "      <td>NaN</td>\n",
       "      <td>NaN</td>\n",
       "      <td>NaN</td>\n",
       "      <td>NaN</td>\n",
       "      <td>NaN</td>\n",
       "      <td>NaN</td>\n",
       "    </tr>\n",
       "    <tr>\n",
       "      <th>3</th>\n",
       "      <td>750 € /mes</td>\n",
       "      <td>Piso de alquiler en Centro</td>\n",
       "      <td>Te presentamos este fabuloso apartamento situa...</td>\n",
       "      <td>30 Fotos</td>\n",
       "      <td>Centro</td>\n",
       "      <td>True</td>\n",
       "      <td>ABAD SERVICIOS INMOBILIARIOS</td>\n",
       "      <td>&lt;span&gt;&lt;span&gt;2&lt;/span&gt; habs.&lt;/span&gt;</td>\n",
       "      <td>&lt;span&gt;&lt;span&gt;1&lt;/span&gt; baño&lt;/span&gt;</td>\n",
       "      <td>&lt;span&gt;&lt;span&gt;77&lt;/span&gt; m²&lt;/span&gt;</td>\n",
       "      <td>...</td>\n",
       "      <td>NaN</td>\n",
       "      <td>NaN</td>\n",
       "      <td>NaN</td>\n",
       "      <td>NaN</td>\n",
       "      <td>NaN</td>\n",
       "      <td>NaN</td>\n",
       "      <td>NaN</td>\n",
       "      <td>NaN</td>\n",
       "      <td>NaN</td>\n",
       "      <td>NaN</td>\n",
       "    </tr>\n",
       "    <tr>\n",
       "      <th>4</th>\n",
       "      <td>800 € /mes</td>\n",
       "      <td>Piso de alquiler en Centro</td>\n",
       "      <td>Fantástica vivienda en alquiler ubicada muy pr...</td>\n",
       "      <td>28 Fotos</td>\n",
       "      <td>Centro</td>\n",
       "      <td>True</td>\n",
       "      <td>BREXTOM MURCIA</td>\n",
       "      <td>&lt;span&gt;&lt;span&gt;3&lt;/span&gt; habs.&lt;/span&gt;</td>\n",
       "      <td>&lt;span&gt;&lt;span&gt;2&lt;/span&gt; baños&lt;/span&gt;</td>\n",
       "      <td>&lt;span&gt;&lt;span&gt;104&lt;/span&gt; m²&lt;/span&gt;</td>\n",
       "      <td>...</td>\n",
       "      <td>NaN</td>\n",
       "      <td>NaN</td>\n",
       "      <td>NaN</td>\n",
       "      <td>NaN</td>\n",
       "      <td>NaN</td>\n",
       "      <td>NaN</td>\n",
       "      <td>NaN</td>\n",
       "      <td>NaN</td>\n",
       "      <td>NaN</td>\n",
       "      <td>NaN</td>\n",
       "    </tr>\n",
       "  </tbody>\n",
       "</table>\n",
       "<p>5 rows × 59 columns</p>\n",
       "</div>"
      ],
      "text/plain": [
       "        Precio                                     Título  \\\n",
       "0  A consultar                 Piso de alquiler en Centro   \n",
       "1   500 € /mes          Apartamento de alquiler en Centro   \n",
       "2   900 € /mes  Piso de alquiler en Doctor Marañón Centro   \n",
       "3   750 € /mes                 Piso de alquiler en Centro   \n",
       "4   800 € /mes                 Piso de alquiler en Centro   \n",
       "\n",
       "                                         Descripción     Fotos  \\\n",
       "0  TRABAJADORES Y ESTUDIANTES ATENCION!!!! VIVIEN...  18 Fotos   \n",
       "1  Maravilloso apartamento para entrar a vivir en...  21 Fotos   \n",
       "2  Se alquila estupenda vivienda recién reformada...  18 Fotos   \n",
       "3  Te presentamos este fabuloso apartamento situa...  30 Fotos   \n",
       "4  Fantástica vivienda en alquiler ubicada muy pr...  28 Fotos   \n",
       "\n",
       "               Dirección  Inmobiliaria                    Anunciante  \\\n",
       "0                 Centro          True      DPTO. COMERCIAL PISOSMUR   \n",
       "1                 Centro          True                BREXTOM MURCIA   \n",
       "2  Doctor Marañón Centro          True  ABAD SERVICIOS INMOBILIARIOS   \n",
       "3                 Centro          True  ABAD SERVICIOS INMOBILIARIOS   \n",
       "4                 Centro          True                BREXTOM MURCIA   \n",
       "\n",
       "                        Habitaciones                              Baños  \\\n",
       "0  <span><span>4</span> habs.</span>  <span><span>2</span> baños</span>   \n",
       "1   <span><span>1</span> hab.</span>   <span><span>1</span> baño</span>   \n",
       "2  <span><span>4</span> habs.</span>  <span><span>2</span> baños</span>   \n",
       "3  <span><span>2</span> habs.</span>   <span><span>1</span> baño</span>   \n",
       "4  <span><span>3</span> habs.</span>  <span><span>2</span> baños</span>   \n",
       "\n",
       "                         Superficie  ... Serv. portería Internet  \\\n",
       "0  <span><span>110</span> m²</span>  ...            NaN      NaN   \n",
       "1   <span><span>46</span> m²</span>  ...            NaN      NaN   \n",
       "2  <span><span>169</span> m²</span>  ...            NaN      NaN   \n",
       "3   <span><span>77</span> m²</span>  ...            NaN      NaN   \n",
       "4  <span><span>104</span> m²</span>  ...            NaN      NaN   \n",
       "\n",
       "  Suite - con baño Patio Domótica Pista de Tenis Alarma Mascotas  \\\n",
       "0              NaN   NaN      NaN            NaN    NaN      NaN   \n",
       "1              NaN   NaN      NaN            NaN    NaN      NaN   \n",
       "2              NaN   NaN      NaN            NaN    NaN      NaN   \n",
       "3              NaN   NaN      NaN            NaN    NaN      NaN   \n",
       "4              NaN   NaN      NaN            NaN    NaN      NaN   \n",
       "\n",
       "  Energía Solar Gimnasio  \n",
       "0           NaN      NaN  \n",
       "1           NaN      NaN  \n",
       "2           NaN      NaN  \n",
       "3           NaN      NaN  \n",
       "4           NaN      NaN  \n",
       "\n",
       "[5 rows x 59 columns]"
      ]
     },
     "execution_count": 53,
     "metadata": {},
     "output_type": "execute_result"
    }
   ],
   "source": [
    "fotocasa_df.head()"
   ]
  },
  {
   "cell_type": "markdown",
   "id": "3b8ae681",
   "metadata": {},
   "source": [
    "Recupera los cinco primeros pisos (filas)"
   ]
  },
  {
   "cell_type": "markdown",
   "id": "f33f8820",
   "metadata": {},
   "source": [
    "## EJERCICIO 11"
   ]
  },
  {
   "cell_type": "code",
   "execution_count": 54,
   "id": "86856b04",
   "metadata": {},
   "outputs": [
    {
     "data": {
      "text/html": [
       "<div>\n",
       "<style scoped>\n",
       "    .dataframe tbody tr th:only-of-type {\n",
       "        vertical-align: middle;\n",
       "    }\n",
       "\n",
       "    .dataframe tbody tr th {\n",
       "        vertical-align: top;\n",
       "    }\n",
       "\n",
       "    .dataframe thead th {\n",
       "        text-align: right;\n",
       "    }\n",
       "</style>\n",
       "<table border=\"1\" class=\"dataframe\">\n",
       "  <thead>\n",
       "    <tr style=\"text-align: right;\">\n",
       "      <th></th>\n",
       "      <th>Precio</th>\n",
       "      <th>Título</th>\n",
       "      <th>Descripción</th>\n",
       "      <th>Fotos</th>\n",
       "      <th>Dirección</th>\n",
       "      <th>Inmobiliaria</th>\n",
       "      <th>Anunciante</th>\n",
       "      <th>Habitaciones</th>\n",
       "      <th>Baños</th>\n",
       "      <th>Superficie</th>\n",
       "      <th>...</th>\n",
       "      <th>Serv. portería</th>\n",
       "      <th>Internet</th>\n",
       "      <th>Suite - con baño</th>\n",
       "      <th>Patio</th>\n",
       "      <th>Domótica</th>\n",
       "      <th>Pista de Tenis</th>\n",
       "      <th>Alarma</th>\n",
       "      <th>Mascotas</th>\n",
       "      <th>Energía Solar</th>\n",
       "      <th>Gimnasio</th>\n",
       "    </tr>\n",
       "  </thead>\n",
       "  <tbody>\n",
       "    <tr>\n",
       "      <th>612</th>\n",
       "      <td>NaN</td>\n",
       "      <td>Alquiler piso en barrio dEl Carmen en El Carme...</td>\n",
       "      <td>NaN</td>\n",
       "      <td>NaN</td>\n",
       "      <td>NaN</td>\n",
       "      <td>True</td>\n",
       "      <td>NaN</td>\n",
       "      <td>NaN</td>\n",
       "      <td>NaN</td>\n",
       "      <td>NaN</td>\n",
       "      <td>...</td>\n",
       "      <td>NaN</td>\n",
       "      <td>NaN</td>\n",
       "      <td>NaN</td>\n",
       "      <td>NaN</td>\n",
       "      <td>NaN</td>\n",
       "      <td>NaN</td>\n",
       "      <td>NaN</td>\n",
       "      <td>NaN</td>\n",
       "      <td>NaN</td>\n",
       "      <td>NaN</td>\n",
       "    </tr>\n",
       "    <tr>\n",
       "      <th>613</th>\n",
       "      <td>NaN</td>\n",
       "      <td>Alquiler apartamento en plaza san nicolas en M...</td>\n",
       "      <td>NaN</td>\n",
       "      <td>NaN</td>\n",
       "      <td>NaN</td>\n",
       "      <td>True</td>\n",
       "      <td>NaN</td>\n",
       "      <td>NaN</td>\n",
       "      <td>NaN</td>\n",
       "      <td>NaN</td>\n",
       "      <td>...</td>\n",
       "      <td>NaN</td>\n",
       "      <td>NaN</td>\n",
       "      <td>NaN</td>\n",
       "      <td>NaN</td>\n",
       "      <td>NaN</td>\n",
       "      <td>NaN</td>\n",
       "      <td>NaN</td>\n",
       "      <td>NaN</td>\n",
       "      <td>NaN</td>\n",
       "      <td>NaN</td>\n",
       "    </tr>\n",
       "    <tr>\n",
       "      <th>614</th>\n",
       "      <td>NaN</td>\n",
       "      <td>Alquiler apartamento exclusivo apto plaza flor...</td>\n",
       "      <td>NaN</td>\n",
       "      <td>NaN</td>\n",
       "      <td>NaN</td>\n",
       "      <td>True</td>\n",
       "      <td>NaN</td>\n",
       "      <td>NaN</td>\n",
       "      <td>NaN</td>\n",
       "      <td>NaN</td>\n",
       "      <td>...</td>\n",
       "      <td>NaN</td>\n",
       "      <td>NaN</td>\n",
       "      <td>NaN</td>\n",
       "      <td>NaN</td>\n",
       "      <td>NaN</td>\n",
       "      <td>NaN</td>\n",
       "      <td>NaN</td>\n",
       "      <td>NaN</td>\n",
       "      <td>NaN</td>\n",
       "      <td>NaN</td>\n",
       "    </tr>\n",
       "    <tr>\n",
       "      <th>615</th>\n",
       "      <td>NaN</td>\n",
       "      <td>Alquiler piso alquiler de local entresuelo en ...</td>\n",
       "      <td>NaN</td>\n",
       "      <td>NaN</td>\n",
       "      <td>NaN</td>\n",
       "      <td>True</td>\n",
       "      <td>NaN</td>\n",
       "      <td>NaN</td>\n",
       "      <td>NaN</td>\n",
       "      <td>NaN</td>\n",
       "      <td>...</td>\n",
       "      <td>NaN</td>\n",
       "      <td>NaN</td>\n",
       "      <td>NaN</td>\n",
       "      <td>NaN</td>\n",
       "      <td>NaN</td>\n",
       "      <td>NaN</td>\n",
       "      <td>NaN</td>\n",
       "      <td>NaN</td>\n",
       "      <td>NaN</td>\n",
       "      <td>NaN</td>\n",
       "    </tr>\n",
       "    <tr>\n",
       "      <th>616</th>\n",
       "      <td>NaN</td>\n",
       "      <td>Alquiler piso en alquiler en edificio alba, sa...</td>\n",
       "      <td>NaN</td>\n",
       "      <td>NaN</td>\n",
       "      <td>NaN</td>\n",
       "      <td>True</td>\n",
       "      <td>NaN</td>\n",
       "      <td>NaN</td>\n",
       "      <td>NaN</td>\n",
       "      <td>NaN</td>\n",
       "      <td>...</td>\n",
       "      <td>NaN</td>\n",
       "      <td>NaN</td>\n",
       "      <td>NaN</td>\n",
       "      <td>NaN</td>\n",
       "      <td>NaN</td>\n",
       "      <td>NaN</td>\n",
       "      <td>NaN</td>\n",
       "      <td>NaN</td>\n",
       "      <td>NaN</td>\n",
       "      <td>NaN</td>\n",
       "    </tr>\n",
       "  </tbody>\n",
       "</table>\n",
       "<p>5 rows × 59 columns</p>\n",
       "</div>"
      ],
      "text/plain": [
       "    Precio                                             Título Descripción  \\\n",
       "612    NaN  Alquiler piso en barrio dEl Carmen en El Carme...         NaN   \n",
       "613    NaN  Alquiler apartamento en plaza san nicolas en M...         NaN   \n",
       "614    NaN  Alquiler apartamento exclusivo apto plaza flor...         NaN   \n",
       "615    NaN  Alquiler piso alquiler de local entresuelo en ...         NaN   \n",
       "616    NaN  Alquiler piso en alquiler en edificio alba, sa...         NaN   \n",
       "\n",
       "    Fotos Dirección  Inmobiliaria Anunciante Habitaciones Baños Superficie  \\\n",
       "612   NaN       NaN          True        NaN          NaN   NaN        NaN   \n",
       "613   NaN       NaN          True        NaN          NaN   NaN        NaN   \n",
       "614   NaN       NaN          True        NaN          NaN   NaN        NaN   \n",
       "615   NaN       NaN          True        NaN          NaN   NaN        NaN   \n",
       "616   NaN       NaN          True        NaN          NaN   NaN        NaN   \n",
       "\n",
       "     ... Serv. portería Internet Suite - con baño Patio Domótica  \\\n",
       "612  ...            NaN      NaN              NaN   NaN      NaN   \n",
       "613  ...            NaN      NaN              NaN   NaN      NaN   \n",
       "614  ...            NaN      NaN              NaN   NaN      NaN   \n",
       "615  ...            NaN      NaN              NaN   NaN      NaN   \n",
       "616  ...            NaN      NaN              NaN   NaN      NaN   \n",
       "\n",
       "    Pista de Tenis Alarma Mascotas Energía Solar Gimnasio  \n",
       "612            NaN    NaN      NaN           NaN      NaN  \n",
       "613            NaN    NaN      NaN           NaN      NaN  \n",
       "614            NaN    NaN      NaN           NaN      NaN  \n",
       "615            NaN    NaN      NaN           NaN      NaN  \n",
       "616            NaN    NaN      NaN           NaN      NaN  \n",
       "\n",
       "[5 rows x 59 columns]"
      ]
     },
     "execution_count": 54,
     "metadata": {},
     "output_type": "execute_result"
    }
   ],
   "source": [
    "fotocasa_df.tail()"
   ]
  },
  {
   "cell_type": "markdown",
   "id": "02e62bf3",
   "metadata": {},
   "source": [
    "Recupera los cinco últimos pisos:"
   ]
  },
  {
   "cell_type": "markdown",
   "id": "1671f2ca",
   "metadata": {},
   "source": [
    "Muestra los campos Inmobiliaria y Tipo de inmueble de los tres últimos pisos:"
   ]
  },
  {
   "cell_type": "markdown",
   "id": "bad2b17d",
   "metadata": {},
   "source": [
    "## EJERCICIO 12"
   ]
  },
  {
   "cell_type": "code",
   "execution_count": 55,
   "id": "3e099bca",
   "metadata": {},
   "outputs": [
    {
     "name": "stdout",
     "output_type": "stream",
     "text": [
      "<class 'pandas.core.frame.DataFrame'>\n",
      "Index: 617 entries, 0 to 616\n",
      "Data columns (total 53 columns):\n",
      " #   Column               Non-Null Count  Dtype \n",
      "---  ------               --------------  ----- \n",
      " 0   Precio               598 non-null    object\n",
      " 1   Título               616 non-null    object\n",
      " 2   Descripción          588 non-null    object\n",
      " 3   Fotos                582 non-null    object\n",
      " 4   Dirección            597 non-null    object\n",
      " 5   Inmobiliaria         617 non-null    bool  \n",
      " 6   Anunciante           598 non-null    object\n",
      " 7   Habitaciones         551 non-null    object\n",
      " 8   Baños                592 non-null    object\n",
      " 9   Superficie           586 non-null    object\n",
      " 10  Tipo de inmueble     597 non-null    object\n",
      " 11  Ascensor             494 non-null    object\n",
      " 12  Amueblado            469 non-null    object\n",
      " 13  Depósito             136 non-null    object\n",
      " 14  Gastos de comunidad  390 non-null    object\n",
      " 15  Consumo energía      598 non-null    object\n",
      " 16  Emisiones            598 non-null    object\n",
      " 17  Aire acondicionado   415 non-null    object\n",
      " 18  Armarios             424 non-null    object\n",
      " 19  Electrodomésticos    454 non-null    object\n",
      " 20  Horno                182 non-null    object\n",
      " 21  Lavadora             300 non-null    object\n",
      " 22  Microondas           128 non-null    object\n",
      " 23  Nevera               295 non-null    object\n",
      " 24  Videoportero         137 non-null    object\n",
      " 25  Puerta Blindada      179 non-null    object\n",
      " 26  Lavadero             145 non-null    object\n",
      " 27  Cocina Equipada      455 non-null    object\n",
      " 28  Enlace               617 non-null    object\n",
      " 29  Planta               442 non-null    object\n",
      " 30  Antigüedad           210 non-null    object\n",
      " 31  Calefacción          288 non-null    object\n",
      " 32  Terraza              130 non-null    object\n",
      " 33  Balcón               193 non-null    object\n",
      " 34  Orientación          140 non-null    object\n",
      " 35  Estado               313 non-null    object\n",
      " 36  Parking              184 non-null    object\n",
      " 37  Gres Cerámica        73 non-null     object\n",
      " 38  Cocina Office        68 non-null     object\n",
      " 39  Trastero             109 non-null    object\n",
      " 40  Agua caliente        69 non-null     object\n",
      " 41  Jardín Privado       12 non-null     object\n",
      " 42  Parquet              83 non-null     object\n",
      " 43  Z. Comunitaria       16 non-null     object\n",
      " 44  Piscina              12 non-null     object\n",
      " 45  TV                   96 non-null     object\n",
      " 46  Zona Deportiva       6 non-null      object\n",
      " 47  Zona Infantil        7 non-null      object\n",
      " 48  Piscina comunitaria  10 non-null     object\n",
      " 49  Serv. portería       13 non-null     object\n",
      " 50  Internet             42 non-null     object\n",
      " 51  Suite - con baño     35 non-null     object\n",
      " 52  Patio                39 non-null     object\n",
      "dtypes: bool(1), object(52)\n",
      "memory usage: 256.1+ KB\n"
     ]
    }
   ],
   "source": [
    "fotocasa1_df = fotocasa_df.drop(labels = [\"Domótica\", \"Pista de Tenis\",\"Alarma\",\"Mascotas\",\"Energía Solar\",\"Gimnasio\"], axis = 1)\n",
    "fotocasa1_df.info()"
   ]
  },
  {
   "cell_type": "markdown",
   "id": "bc18b640",
   "metadata": {},
   "source": [
    "Las columnas Domótica, Pista de Tenis, Alarma, Mascotas, Energía Solar y Gimnasio no contienen apenas valores definidos. Elimínalas del DataFrame y almacena el resultado en fotocasa1_df:"
   ]
  },
  {
   "cell_type": "markdown",
   "id": "66e14b8f",
   "metadata": {},
   "source": [
    "## EJERCICIO 13"
   ]
  },
  {
   "cell_type": "code",
   "execution_count": 56,
   "id": "0ab61535",
   "metadata": {},
   "outputs": [
    {
     "name": "stdout",
     "output_type": "stream",
     "text": [
      "0           Piso\n",
      "1    Apartamento\n",
      "2           Piso\n",
      "3           Piso\n",
      "4           Piso\n",
      "Name: Tipo, dtype: object\n"
     ]
    }
   ],
   "source": [
    "fotocasa2_df = fotocasa1_df.rename(columns={'Tipo de inmueble': 'Tipo'})\n",
    "print(fotocasa2_df['Tipo'].head())"
   ]
  },
  {
   "cell_type": "markdown",
   "id": "ef449a83",
   "metadata": {},
   "source": [
    "Renombra a continuación la columna Tipo de inmueble de fotocasa1_df por Tipo. Asigna el resultado a la variable fotocasa2_df:"
   ]
  },
  {
   "cell_type": "markdown",
   "id": "5d8cb243",
   "metadata": {},
   "source": [
    "## EJERCICIO 14"
   ]
  },
  {
   "cell_type": "code",
   "execution_count": 63,
   "id": "fd2551a7",
   "metadata": {},
   "outputs": [
    {
     "name": "stdout",
     "output_type": "stream",
     "text": [
      "0      A consultar\n",
      "1       500 € /mes\n",
      "2       900 € /mes\n",
      "3       750 € /mes\n",
      "4       800 € /mes\n",
      "          ...     \n",
      "612            NaN\n",
      "613            NaN\n",
      "614            NaN\n",
      "615            NaN\n",
      "616            NaN\n",
      "Name: Precio, Length: 617, dtype: object\n",
      "\n",
      "\n",
      "\n"
     ]
    },
    {
     "data": {
      "text/plain": [
       "1      500 € /mes\n",
       "2      900 € /mes\n",
       "3      750 € /mes\n",
       "4      800 € /mes\n",
       "5      650 € /mes\n",
       "          ...    \n",
       "589    600 € /mes\n",
       "590    800 € /mes\n",
       "591    800 € /mes\n",
       "593    800 € /mes\n",
       "596    850 € /mes\n",
       "Name: Precio, Length: 588, dtype: object"
      ]
     },
     "execution_count": 63,
     "metadata": {},
     "output_type": "execute_result"
    }
   ],
   "source": [
    "fotocasa4_df = fotocasa2_df[fotocasa2_df['Precio'].notnull() & (fotocasa2_df['Precio'] != \"A consultar\")]\n",
    "print(fotocasa2_df['Precio'])\n",
    "print(\"\\n\\n\")\n",
    "fotocasa4_df['Precio']"
   ]
  },
  {
   "cell_type": "markdown",
   "id": "f235bf13",
   "metadata": {},
   "source": [
    "Elimina del DataFrame aquellos pisos que no tienen Precio o que su Precio sea \"A consultar\". Asigna el resultado a la variable fotocasa4_df:\n",
    "\n",
    "PISTA: para seleccionar los alquileres sin precio utiliza el método isnull(). Utiliza notnull() para seleccionar los alquileres con precio.."
   ]
  },
  {
   "cell_type": "markdown",
   "id": "7c5bac3c",
   "metadata": {},
   "source": [
    "## EJERCICIO 15"
   ]
  },
  {
   "cell_type": "code",
   "execution_count": 72,
   "id": "0984ba08",
   "metadata": {},
   "outputs": [
    {
     "data": {
      "text/plain": [
       "Tipo           category\n",
       "Orientación    category\n",
       "Estado         category\n",
       "Parking        category\n",
       "dtype: object"
      ]
     },
     "execution_count": 72,
     "metadata": {},
     "output_type": "execute_result"
    }
   ],
   "source": [
    "convert = [\"Tipo\",\"Orientación\",\"Estado\",\"Parking\"]\n",
    "fotocasa5_df = fotocasa4_df.copy()\n",
    "fotocasa5_df[convert] = fotocasa4_df[convert].astype(\"category\")\n",
    "fotocasa5_df[convert].dtypes"
   ]
  },
  {
   "cell_type": "markdown",
   "id": "ed66bd5b",
   "metadata": {},
   "source": [
    "Utiliza la función astype para convertir las columnas Tipo, Orientación, Estado y Parking a tipo categórico. Asigna los resultados a la variable fotocasa5_df y comprueba mediante el parámetro dtype que el tipo asignado sea correcto:"
   ]
  },
  {
   "cell_type": "markdown",
   "id": "2223ff4c",
   "metadata": {},
   "source": [
    "## EJERCICIO 16"
   ]
  },
  {
   "cell_type": "code",
   "execution_count": null,
   "id": "e7a78b14",
   "metadata": {},
   "outputs": [],
   "source": []
  },
  {
   "cell_type": "markdown",
   "id": "df0c3d80",
   "metadata": {},
   "source": [
    "Cargar el fichero situado en https://raw.githubusercontent.com/ainaramu-icjardin/big_data/main/ciudades_ejemplo.csv\n",
    "como un dataframe Pandas, y guardarlo a continuación en formato excel."
   ]
  },
  {
   "cell_type": "markdown",
   "id": "a6304ee6",
   "metadata": {},
   "source": [
    "## EJERCICIO 17"
   ]
  },
  {
   "cell_type": "markdown",
   "id": "788c7d0a",
   "metadata": {},
   "source": [
    "Cargar el fichero \"https://raw.githubusercontent.com/ainaramu-icjardin/big_data/main/parocomunidades.csv\" que está con codificación (encoding) \"latin1\" y dejarlo en un dataframe df_paro.\n",
    "\n",
    "Mostrar solo las filas de `df_paro` que corresponden al Periodo 2019.\n",
    "\n",
    "Mostrar solo las filas de df_paro que corresponden a un total mayor de 15.\n",
    "\n",
    "Mostrar solo las filas que corresponden al Periodo 2019 y tienen Total mayor de 15."
   ]
  },
  {
   "cell_type": "markdown",
   "id": "d4499388",
   "metadata": {},
   "source": [
    "## <ins>Ejercicios Opcionales </ins>"
   ]
  },
  {
   "cell_type": "markdown",
   "id": "e207b56d",
   "metadata": {},
   "source": [
    "## EJERCICIO 18"
   ]
  },
  {
   "cell_type": "markdown",
   "id": "052f87b0",
   "metadata": {},
   "source": [
    "Investiga el método .sort_values() para ordenar las observaciones según la longitud de las palabras en orden descendente."
   ]
  },
  {
   "cell_type": "markdown",
   "id": "2639e1ab",
   "metadata": {},
   "source": [
    "## EJERCICIO 19"
   ]
  },
  {
   "cell_type": "markdown",
   "id": "3196772c",
   "metadata": {},
   "source": [
    "Convierte la columna vowels a lista y, con sorted() ordénala de mayor a menor. Investiga para ello el método .tolist()."
   ]
  },
  {
   "cell_type": "markdown",
   "id": "61777947",
   "metadata": {},
   "source": [
    "## EJERCICIO 20"
   ]
  },
  {
   "cell_type": "markdown",
   "id": "17af4349",
   "metadata": {},
   "source": [
    "Recupera aquellos pisos que ocupan una posición múltiplo de 100:"
   ]
  },
  {
   "cell_type": "markdown",
   "id": "274661d0",
   "metadata": {},
   "source": [
    "## EJERCICIO 21"
   ]
  },
  {
   "cell_type": "markdown",
   "id": "b6ad7a6f",
   "metadata": {},
   "source": [
    "Muestra el piso que se encuentra en la posición 7:"
   ]
  },
  {
   "cell_type": "markdown",
   "id": "edbe24c0",
   "metadata": {},
   "source": [
    "## EJERCICIO 22"
   ]
  },
  {
   "cell_type": "markdown",
   "id": "cc54c300",
   "metadata": {},
   "source": [
    "Muestra el piso cuyo índice vale 9:"
   ]
  },
  {
   "cell_type": "markdown",
   "id": "c543d072",
   "metadata": {},
   "source": [
    "## EJERCICIO 23"
   ]
  },
  {
   "cell_type": "markdown",
   "id": "f9d437ee",
   "metadata": {},
   "source": [
    "Muestra el campo Dirección de los tres primeros pisos. Utiliza para ello tanto el operador ```[]``` como ```[[]]```. ¿Qué diferencia encuentras?"
   ]
  },
  {
   "cell_type": "markdown",
   "id": "91951d7d",
   "metadata": {},
   "source": [
    "## EJERCICIO 24"
   ]
  },
  {
   "cell_type": "markdown",
   "id": "381312d3",
   "metadata": {},
   "source": [
    "Muestra los campos Inmobiliaria y Tipo de inmueble de los tres últimos pisos:"
   ]
  },
  {
   "cell_type": "markdown",
   "id": "5626bf1b",
   "metadata": {},
   "source": [
    "## EJERCICIO 25"
   ]
  },
  {
   "cell_type": "markdown",
   "id": "a3e08a47",
   "metadata": {},
   "source": [
    "Muestra el valor del DataFrame contenido en la posición (2,2):"
   ]
  },
  {
   "cell_type": "markdown",
   "id": "38293350",
   "metadata": {},
   "source": [
    "## EJERCICIO 26"
   ]
  },
  {
   "cell_type": "markdown",
   "id": "460d4de1",
   "metadata": {},
   "source": [
    "Muestra el valor del DataFrame cuyo índice es 2 y cuya columna es Título:"
   ]
  },
  {
   "cell_type": "markdown",
   "id": "3d59e291",
   "metadata": {},
   "source": [
    "## EJERCICIO 27"
   ]
  },
  {
   "cell_type": "markdown",
   "id": "90422333",
   "metadata": {},
   "source": [
    "Muestra los tres primeros inmuebles de Tipo de inmueble = Apartamento:"
   ]
  },
  {
   "cell_type": "markdown",
   "id": "4782f1d2",
   "metadata": {},
   "source": [
    "## EJERCICIO 28"
   ]
  },
  {
   "cell_type": "markdown",
   "id": "b6e5cbaf",
   "metadata": {},
   "source": [
    "Muestra los dos primeros inmuebles de Tipo de inmueble = Piso y que no se alquilen por inmobiliaria (Inmobiliaria = False):"
   ]
  },
  {
   "cell_type": "markdown",
   "id": "f2d48ba8",
   "metadata": {},
   "source": [
    "## EJERCICIO 29"
   ]
  },
  {
   "cell_type": "markdown",
   "id": "18e1b9ff",
   "metadata": {},
   "source": [
    "Elimina del DataFrame contenido en fotocasa2_df los alquileres de la posición 597 y 598. Asigna el resultado a fotocasa3_df:"
   ]
  }
 ],
 "metadata": {
  "kernelspec": {
   "display_name": "Python 3 (ipykernel)",
   "language": "python",
   "name": "python3"
  },
  "language_info": {
   "codemirror_mode": {
    "name": "ipython",
    "version": 3
   },
   "file_extension": ".py",
   "mimetype": "text/x-python",
   "name": "python",
   "nbconvert_exporter": "python",
   "pygments_lexer": "ipython3",
   "version": "3.12.4"
  }
 },
 "nbformat": 4,
 "nbformat_minor": 5
}
