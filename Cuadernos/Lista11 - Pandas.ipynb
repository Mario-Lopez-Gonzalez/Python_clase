{
 "cells": [
  {
   "cell_type": "markdown",
   "id": "d287d88e",
   "metadata": {},
   "source": [
    "# LISTA 11 - PANDAS"
   ]
  },
  {
   "cell_type": "markdown",
   "id": "5abe7c16",
   "metadata": {},
   "source": [
    "## <ins>Ejercicios Obligatorios </ins>"
   ]
  },
  {
   "cell_type": "code",
   "execution_count": 1,
   "id": "336c39bd-b1dd-4ec7-807b-82612a36cebe",
   "metadata": {
    "tags": []
   },
   "outputs": [],
   "source": [
    "import pandas as pd\n",
    "import numpy as np\n",
    "import matplotlib.pyplot as plt\n",
    "from pandas import Series, DataFrame"
   ]
  },
  {
   "cell_type": "markdown",
   "id": "f99190d1",
   "metadata": {},
   "source": [
    "## EJERCICIO 1"
   ]
  },
  {
   "cell_type": "markdown",
   "id": "b3836703",
   "metadata": {},
   "source": [
    "Crea un dataframe con 15 filas y 2 columnas. La primera columna se llamará x, la segunda y. Cada entrada será un número aleatorio (puedes usar random.normal() de la librería numpy). Guarda el dataframe en una variable llamada points."
   ]
  },
  {
   "cell_type": "code",
   "execution_count": 2,
   "id": "9c09e6d7-32a7-486b-92b7-eb1646acf21f",
   "metadata": {
    "tags": []
   },
   "outputs": [
    {
     "name": "stdout",
     "output_type": "stream",
     "text": [
      "           x         y\n",
      "0   0.070148  0.407486\n",
      "1  -0.781381 -0.245572\n",
      "2   0.894044  1.409231\n",
      "3   0.616098  1.064374\n",
      "4  -0.141509  0.741211\n",
      "5  -1.031070 -1.224261\n",
      "6   1.384198  1.451956\n",
      "7   2.351305 -0.116768\n",
      "8  -0.662139 -0.711534\n",
      "9   0.397724  0.533483\n",
      "10  1.785779  0.105086\n",
      "11  1.406627 -0.922734\n",
      "12 -0.340750  0.789104\n",
      "13 -0.416812 -0.307955\n",
      "14 -0.230535  0.205743\n"
     ]
    }
   ],
   "source": [
    "import pandas as pd\n",
    "import numpy as np\n",
    "data = np.random.normal(size=(15, 2)) # Crea una sample de datos aleatorios de 15 filas en 2 columnas\n",
    "points = pd.DataFrame(data, columns=['x', 'y']) # Crea un dataframe con la matrix de 15x2 y le pone de cabecera la lista de columns\n",
    "print(points)"
   ]
  },
  {
   "cell_type": "markdown",
   "id": "feb0417e",
   "metadata": {},
   "source": [
    "## EJERCICIO 2"
   ]
  },
  {
   "cell_type": "markdown",
   "id": "91cd8f7c",
   "metadata": {},
   "source": [
    "Del dataframe points, muestra las filas cuyo valor en la columna x sea positivo."
   ]
  },
  {
   "cell_type": "code",
   "execution_count": 3,
   "id": "6bd457ba-4888-4018-9b5f-39494a9d57a6",
   "metadata": {},
   "outputs": [
    {
     "name": "stdout",
     "output_type": "stream",
     "text": [
      "           x         y\n",
      "0   0.070148  0.407486\n",
      "2   0.894044  1.409231\n",
      "3   0.616098  1.064374\n",
      "6   1.384198  1.451956\n",
      "7   2.351305 -0.116768\n",
      "9   0.397724  0.533483\n",
      "10  1.785779  0.105086\n",
      "11  1.406627 -0.922734\n"
     ]
    }
   ],
   "source": [
    "print(points[points['x']>0]) # points['x']>0 genera una columna de booleanos que si se usa de indice indica si imprimir o no la fila"
   ]
  },
  {
   "cell_type": "markdown",
   "id": "abf81a65",
   "metadata": {},
   "source": [
    "## EJERCICIO 3"
   ]
  },
  {
   "cell_type": "code",
   "execution_count": 4,
   "id": "bc792bb2",
   "metadata": {},
   "outputs": [
    {
     "name": "stdout",
     "output_type": "stream",
     "text": [
      "           x         y\n",
      "1  -0.781381 -0.245572\n",
      "5  -1.031070 -1.224261\n",
      "7   2.351305 -0.116768\n",
      "8  -0.662139 -0.711534\n",
      "11  1.406627 -0.922734\n",
      "13 -0.416812 -0.307955\n"
     ]
    }
   ],
   "source": [
    "print(points[points['y']<0])"
   ]
  },
  {
   "cell_type": "markdown",
   "id": "c0dda757",
   "metadata": {},
   "source": [
    "Del dataframe points, muestra las filas cuyo valor en la columna y sea negativo."
   ]
  },
  {
   "cell_type": "markdown",
   "id": "4d68e82b",
   "metadata": {},
   "source": [
    "## EJERCICIO 4"
   ]
  },
  {
   "cell_type": "code",
   "execution_count": 5,
   "id": "0013c654",
   "metadata": {},
   "outputs": [
    {
     "name": "stdout",
     "output_type": "stream",
     "text": [
      "           x         y\n",
      "0   0.070148  0.407486\n",
      "2   0.894044  1.409231\n",
      "3   0.616098  1.064374\n",
      "6   1.384198  1.451956\n",
      "9   0.397724  0.533483\n",
      "10  1.785779  0.105086\n"
     ]
    }
   ],
   "source": [
    "print(points[(points['x'] > 0) & (points['y'] > 0)]) # Hace un AND entre las columnas booleanas de x e y para sacar las que ambas sean positivas"
   ]
  },
  {
   "cell_type": "markdown",
   "id": "ec7f3b2a",
   "metadata": {},
   "source": [
    "Del dataframe points, muestra las observaciones cuyos puntos (x, y) pertenezcan al primer cuadrante. "
   ]
  },
  {
   "cell_type": "markdown",
   "id": "5c943554",
   "metadata": {},
   "source": [
    "## EJERCICIO 5"
   ]
  },
  {
   "cell_type": "code",
   "execution_count": 6,
   "id": "08dfb2d2",
   "metadata": {},
   "outputs": [
    {
     "name": "stdout",
     "output_type": "stream",
     "text": [
      "0 El punto (0.0701,0.4075) si pertenece al primer cuadrante\n",
      "1 El punto (-0.7814,-0.2456) no pertenece al primer cuadrante\n",
      "2 El punto (0.8940,1.4092) si pertenece al primer cuadrante\n",
      "3 El punto (0.6161,1.0644) si pertenece al primer cuadrante\n",
      "4 El punto (-0.1415,0.7412) no pertenece al primer cuadrante\n",
      "5 El punto (-1.0311,-1.2243) no pertenece al primer cuadrante\n",
      "6 El punto (1.3842,1.4520) si pertenece al primer cuadrante\n",
      "7 El punto (2.3513,-0.1168) no pertenece al primer cuadrante\n",
      "8 El punto (-0.6621,-0.7115) no pertenece al primer cuadrante\n",
      "9 El punto (0.3977,0.5335) si pertenece al primer cuadrante\n",
      "10 El punto (1.7858,0.1051) si pertenece al primer cuadrante\n",
      "11 El punto (1.4066,-0.9227) no pertenece al primer cuadrante\n",
      "12 El punto (-0.3408,0.7891) no pertenece al primer cuadrante\n",
      "13 El punto (-0.4168,-0.3080) no pertenece al primer cuadrante\n",
      "14 El punto (-0.2305,0.2057) no pertenece al primer cuadrante\n"
     ]
    }
   ],
   "source": [
    "for i,row in points.iterrows():\n",
    "    sino = \"si\" if (row['x'] > 0) and (row['y'] > 0) else \"no\"\n",
    "    print(f\"{i} El punto ({row['x']:.4f},{row['y']:.4f}) {sino} pertenece al primer cuadrante\") # ..4f limita a 4 decimales y redondea"
   ]
  },
  {
   "cell_type": "markdown",
   "id": "13d2c744",
   "metadata": {},
   "source": [
    "Del dataframe points, muestra las observaciones de la forma: “El punto ({x}, {y}) {no/sí} pertenece al primer cuadrante”."
   ]
  },
  {
   "cell_type": "markdown",
   "id": "2972dd7e",
   "metadata": {},
   "source": [
    "## EJERCICIO 6"
   ]
  },
  {
   "cell_type": "code",
   "execution_count": 7,
   "id": "86c349df",
   "metadata": {},
   "outputs": [
    {
     "name": "stdout",
     "output_type": "stream",
     "text": [
      "       word  length  vowels  consonants\n",
      "0      euro       4       3           1\n",
      "1      diez       4       2           2\n",
      "2     algas       5       2           3\n",
      "3     broma       5       2           3\n",
      "4    cicuta       6       3           3\n",
      "5    fatiga       6       3           3\n",
      "6    nachos       6       2           4\n",
      "7    jadeos       6       3           3\n",
      "8   hazañas       7       3           4\n",
      "9  boutique       8       5           3\n"
     ]
    }
   ],
   "source": [
    "header = ['word']\n",
    "word = [\"euro\", \"diez\", \"algas\", \"broma\", \"cicuta\", \"fatiga\", \"nachos\", \"jadeos\", \"hazañas\", \"boutique\"]\n",
    "words = pd.DataFrame(data=word,columns=header)\n",
    "words['length'] = words['word'].apply(len) # Usa la función por cada item de cada fila para generar la columna\n",
    "\n",
    "def countVocals(word):\n",
    "    n = 0\n",
    "    for letter in word:\n",
    "        if letter.lower() in 'aeiouáéíóú':\n",
    "            n += 1\n",
    "    return n\n",
    "    \n",
    "words['vowels'] = words['word'].apply(countVocals)\n",
    "words['consonants'] = words['length'] - words['vowels']\n",
    "print(words)"
   ]
  },
  {
   "cell_type": "markdown",
   "id": "ef3c12ce",
   "metadata": {},
   "source": [
    "Crea un dataframe con 10 filas y 4 columnas. La primera columna se llamará word; la segunda, length; la tercera, vowels; y la última, consonants. La columna words contendrá las siguientes 10 palabras: “euro”, “diez” “algas”, “broma”, “cicuta”, “fatiga”, “nachos”, “jadeos”, “hazañas”, “boutique”. Las columnas length, vowels y consonants contendrán, respectivamente, la longitud, el total de vocales y el total de consonantes (añade las columnas calculando su valor por código). Guarda el dataframe en la variable words."
   ]
  },
  {
   "cell_type": "markdown",
   "id": "cbbfb36c",
   "metadata": {},
   "source": [
    "## EJERCICIO 7"
   ]
  },
  {
   "cell_type": "code",
   "execution_count": 8,
   "id": "e05becc9",
   "metadata": {},
   "outputs": [
    {
     "name": "stdout",
     "output_type": "stream",
     "text": [
      "0 La palabra euro tiene 4 letras, de las cuales 3 son vocales y 1 son consonantes.\n",
      "1 La palabra diez tiene 4 letras, de las cuales 2 son vocales y 2 son consonantes.\n",
      "2 La palabra algas tiene 5 letras, de las cuales 2 son vocales y 3 son consonantes.\n",
      "3 La palabra broma tiene 5 letras, de las cuales 2 son vocales y 3 son consonantes.\n",
      "4 La palabra cicuta tiene 6 letras, de las cuales 3 son vocales y 3 son consonantes.\n",
      "5 La palabra fatiga tiene 6 letras, de las cuales 3 son vocales y 3 son consonantes.\n",
      "6 La palabra nachos tiene 6 letras, de las cuales 2 son vocales y 4 son consonantes.\n",
      "7 La palabra jadeos tiene 6 letras, de las cuales 3 son vocales y 3 son consonantes.\n",
      "8 La palabra hazañas tiene 7 letras, de las cuales 3 son vocales y 4 son consonantes.\n",
      "9 La palabra boutique tiene 8 letras, de las cuales 5 son vocales y 3 son consonantes.\n"
     ]
    }
   ],
   "source": [
    "for i,row in words.iterrows():\n",
    "    print(f\"{i} La palabra {row['word']} tiene {row['length']} letras, de las cuales {row['vowels']} son vocales y {row['consonants']} son consonantes.\")"
   ]
  },
  {
   "cell_type": "markdown",
   "id": "f0211a75",
   "metadata": {},
   "source": [
    "Muestra las 10 observaciones de words con el formato “La palabra {word} tiene {length} letras, de las cuales {vowels} son vocales y {consonants} consonantes”."
   ]
  },
  {
   "cell_type": "markdown",
   "id": "59397f22",
   "metadata": {},
   "source": [
    "## EJERCICIO 8"
   ]
  },
  {
   "cell_type": "code",
   "execution_count": 9,
   "id": "16508527",
   "metadata": {},
   "outputs": [
    {
     "name": "stdout",
     "output_type": "stream",
     "text": [
      "La palabra diez tiene la misma cantidad de vocales y consonantes.\n",
      "La palabra cicuta tiene la misma cantidad de vocales y consonantes.\n",
      "La palabra fatiga tiene la misma cantidad de vocales y consonantes.\n",
      "La palabra jadeos tiene la misma cantidad de vocales y consonantes.\n"
     ]
    }
   ],
   "source": [
    "for i,row in words.iterrows():\n",
    "    if row['vowels'] == row['consonants']:\n",
    "        print(f\"La palabra {row['word']} tiene la misma cantidad de vocales y consonantes.\")"
   ]
  },
  {
   "cell_type": "markdown",
   "id": "8272bcdf",
   "metadata": {},
   "source": [
    "Muestra aquellas observaciones de words que tienen el mismo número de vocales y consonantes."
   ]
  },
  {
   "cell_type": "markdown",
   "id": "a157cc9d",
   "metadata": {},
   "source": [
    "## EJERCICIO 9"
   ]
  },
  {
   "cell_type": "code",
   "execution_count": 10,
   "id": "1a629c57",
   "metadata": {},
   "outputs": [
    {
     "name": "stdout",
     "output_type": "stream",
     "text": [
      "<class 'pandas.core.frame.DataFrame'>\n",
      "Index: 617 entries, 0 to 616\n",
      "Data columns (total 59 columns):\n",
      " #   Column               Non-Null Count  Dtype \n",
      "---  ------               --------------  ----- \n",
      " 0   Precio               598 non-null    object\n",
      " 1   Título               616 non-null    object\n",
      " 2   Descripción          588 non-null    object\n",
      " 3   Fotos                582 non-null    object\n",
      " 4   Dirección            597 non-null    object\n",
      " 5   Inmobiliaria         617 non-null    bool  \n",
      " 6   Anunciante           598 non-null    object\n",
      " 7   Habitaciones         551 non-null    object\n",
      " 8   Baños                592 non-null    object\n",
      " 9   Superficie           586 non-null    object\n",
      " 10  Tipo de inmueble     597 non-null    object\n",
      " 11  Ascensor             494 non-null    object\n",
      " 12  Amueblado            469 non-null    object\n",
      " 13  Depósito             136 non-null    object\n",
      " 14  Gastos de comunidad  390 non-null    object\n",
      " 15  Consumo energía      598 non-null    object\n",
      " 16  Emisiones            598 non-null    object\n",
      " 17  Aire acondicionado   415 non-null    object\n",
      " 18  Armarios             424 non-null    object\n",
      " 19  Electrodomésticos    454 non-null    object\n",
      " 20  Horno                182 non-null    object\n",
      " 21  Lavadora             300 non-null    object\n",
      " 22  Microondas           128 non-null    object\n",
      " 23  Nevera               295 non-null    object\n",
      " 24  Videoportero         137 non-null    object\n",
      " 25  Puerta Blindada      179 non-null    object\n",
      " 26  Lavadero             145 non-null    object\n",
      " 27  Cocina Equipada      455 non-null    object\n",
      " 28  Enlace               617 non-null    object\n",
      " 29  Planta               442 non-null    object\n",
      " 30  Antigüedad           210 non-null    object\n",
      " 31  Calefacción          288 non-null    object\n",
      " 32  Terraza              130 non-null    object\n",
      " 33  Balcón               193 non-null    object\n",
      " 34  Orientación          140 non-null    object\n",
      " 35  Estado               313 non-null    object\n",
      " 36  Parking              184 non-null    object\n",
      " 37  Gres Cerámica        73 non-null     object\n",
      " 38  Cocina Office        68 non-null     object\n",
      " 39  Trastero             109 non-null    object\n",
      " 40  Agua caliente        69 non-null     object\n",
      " 41  Jardín Privado       12 non-null     object\n",
      " 42  Parquet              83 non-null     object\n",
      " 43  Z. Comunitaria       16 non-null     object\n",
      " 44  Piscina              12 non-null     object\n",
      " 45  TV                   96 non-null     object\n",
      " 46  Zona Deportiva       6 non-null      object\n",
      " 47  Zona Infantil        7 non-null      object\n",
      " 48  Piscina comunitaria  10 non-null     object\n",
      " 49  Serv. portería       13 non-null     object\n",
      " 50  Internet             42 non-null     object\n",
      " 51  Suite - con baño     35 non-null     object\n",
      " 52  Patio                39 non-null     object\n",
      " 53  Domótica             3 non-null      object\n",
      " 54  Pista de Tenis       2 non-null      object\n",
      " 55  Alarma               1 non-null      object\n",
      " 56  Mascotas             5 non-null      object\n",
      " 57  Energía Solar        1 non-null      object\n",
      " 58  Gimnasio             1 non-null      object\n",
      "dtypes: bool(1), object(58)\n",
      "memory usage: 285.0+ KB\n"
     ]
    }
   ],
   "source": [
    "fotocasa_df = pd.read_csv(\"https://drive.google.com/uc?export=view&id=1DwvALe87aeDzTk7s6xGPDd6itJ65s4YE\", index_col = 0)\n",
    "fotocasa_df.info()"
   ]
  },
  {
   "cell_type": "markdown",
   "id": "41b16d4b",
   "metadata": {},
   "source": [
    "El siguiente DataFrame contiene información de los pisos en alquiler en Murcia a fecha de 31/12/2020:\n",
    "```\n",
    "fotocasa_df = pd.read_csv(\"https://drive.google.com/uc?export=view&id=1DwvALe87aeDzTk7s6xGPDd6itJ65s4YE\", index_col = 0)\n",
    "```\n",
    "Muestra el número de filas, columnas y valores que contiene el DataFrame cargado:"
   ]
  },
  {
   "cell_type": "markdown",
   "id": "5c606a0f",
   "metadata": {},
   "source": [
    "## EJERCICIO 10"
   ]
  },
  {
   "cell_type": "code",
   "execution_count": 11,
   "id": "5c764a7c",
   "metadata": {},
   "outputs": [
    {
     "data": {
      "text/html": [
       "<div>\n",
       "<style scoped>\n",
       "    .dataframe tbody tr th:only-of-type {\n",
       "        vertical-align: middle;\n",
       "    }\n",
       "\n",
       "    .dataframe tbody tr th {\n",
       "        vertical-align: top;\n",
       "    }\n",
       "\n",
       "    .dataframe thead th {\n",
       "        text-align: right;\n",
       "    }\n",
       "</style>\n",
       "<table border=\"1\" class=\"dataframe\">\n",
       "  <thead>\n",
       "    <tr style=\"text-align: right;\">\n",
       "      <th></th>\n",
       "      <th>Precio</th>\n",
       "      <th>Título</th>\n",
       "      <th>Descripción</th>\n",
       "      <th>Fotos</th>\n",
       "      <th>Dirección</th>\n",
       "      <th>Inmobiliaria</th>\n",
       "      <th>Anunciante</th>\n",
       "      <th>Habitaciones</th>\n",
       "      <th>Baños</th>\n",
       "      <th>Superficie</th>\n",
       "      <th>...</th>\n",
       "      <th>Serv. portería</th>\n",
       "      <th>Internet</th>\n",
       "      <th>Suite - con baño</th>\n",
       "      <th>Patio</th>\n",
       "      <th>Domótica</th>\n",
       "      <th>Pista de Tenis</th>\n",
       "      <th>Alarma</th>\n",
       "      <th>Mascotas</th>\n",
       "      <th>Energía Solar</th>\n",
       "      <th>Gimnasio</th>\n",
       "    </tr>\n",
       "  </thead>\n",
       "  <tbody>\n",
       "    <tr>\n",
       "      <th>0</th>\n",
       "      <td>A consultar</td>\n",
       "      <td>Piso de alquiler en Centro</td>\n",
       "      <td>TRABAJADORES Y ESTUDIANTES ATENCION!!!! VIVIEN...</td>\n",
       "      <td>18 Fotos</td>\n",
       "      <td>Centro</td>\n",
       "      <td>True</td>\n",
       "      <td>DPTO. COMERCIAL PISOSMUR</td>\n",
       "      <td>&lt;span&gt;&lt;span&gt;4&lt;/span&gt; habs.&lt;/span&gt;</td>\n",
       "      <td>&lt;span&gt;&lt;span&gt;2&lt;/span&gt; baños&lt;/span&gt;</td>\n",
       "      <td>&lt;span&gt;&lt;span&gt;110&lt;/span&gt; m²&lt;/span&gt;</td>\n",
       "      <td>...</td>\n",
       "      <td>NaN</td>\n",
       "      <td>NaN</td>\n",
       "      <td>NaN</td>\n",
       "      <td>NaN</td>\n",
       "      <td>NaN</td>\n",
       "      <td>NaN</td>\n",
       "      <td>NaN</td>\n",
       "      <td>NaN</td>\n",
       "      <td>NaN</td>\n",
       "      <td>NaN</td>\n",
       "    </tr>\n",
       "    <tr>\n",
       "      <th>1</th>\n",
       "      <td>500 € /mes</td>\n",
       "      <td>Apartamento de alquiler en Centro</td>\n",
       "      <td>Maravilloso apartamento para entrar a vivir en...</td>\n",
       "      <td>21 Fotos</td>\n",
       "      <td>Centro</td>\n",
       "      <td>True</td>\n",
       "      <td>BREXTOM MURCIA</td>\n",
       "      <td>&lt;span&gt;&lt;span&gt;1&lt;/span&gt; hab.&lt;/span&gt;</td>\n",
       "      <td>&lt;span&gt;&lt;span&gt;1&lt;/span&gt; baño&lt;/span&gt;</td>\n",
       "      <td>&lt;span&gt;&lt;span&gt;46&lt;/span&gt; m²&lt;/span&gt;</td>\n",
       "      <td>...</td>\n",
       "      <td>NaN</td>\n",
       "      <td>NaN</td>\n",
       "      <td>NaN</td>\n",
       "      <td>NaN</td>\n",
       "      <td>NaN</td>\n",
       "      <td>NaN</td>\n",
       "      <td>NaN</td>\n",
       "      <td>NaN</td>\n",
       "      <td>NaN</td>\n",
       "      <td>NaN</td>\n",
       "    </tr>\n",
       "    <tr>\n",
       "      <th>2</th>\n",
       "      <td>900 € /mes</td>\n",
       "      <td>Piso de alquiler en Doctor Marañón Centro</td>\n",
       "      <td>Se alquila estupenda vivienda recién reformada...</td>\n",
       "      <td>18 Fotos</td>\n",
       "      <td>Doctor Marañón Centro</td>\n",
       "      <td>True</td>\n",
       "      <td>ABAD SERVICIOS INMOBILIARIOS</td>\n",
       "      <td>&lt;span&gt;&lt;span&gt;4&lt;/span&gt; habs.&lt;/span&gt;</td>\n",
       "      <td>&lt;span&gt;&lt;span&gt;2&lt;/span&gt; baños&lt;/span&gt;</td>\n",
       "      <td>&lt;span&gt;&lt;span&gt;169&lt;/span&gt; m²&lt;/span&gt;</td>\n",
       "      <td>...</td>\n",
       "      <td>NaN</td>\n",
       "      <td>NaN</td>\n",
       "      <td>NaN</td>\n",
       "      <td>NaN</td>\n",
       "      <td>NaN</td>\n",
       "      <td>NaN</td>\n",
       "      <td>NaN</td>\n",
       "      <td>NaN</td>\n",
       "      <td>NaN</td>\n",
       "      <td>NaN</td>\n",
       "    </tr>\n",
       "    <tr>\n",
       "      <th>3</th>\n",
       "      <td>750 € /mes</td>\n",
       "      <td>Piso de alquiler en Centro</td>\n",
       "      <td>Te presentamos este fabuloso apartamento situa...</td>\n",
       "      <td>30 Fotos</td>\n",
       "      <td>Centro</td>\n",
       "      <td>True</td>\n",
       "      <td>ABAD SERVICIOS INMOBILIARIOS</td>\n",
       "      <td>&lt;span&gt;&lt;span&gt;2&lt;/span&gt; habs.&lt;/span&gt;</td>\n",
       "      <td>&lt;span&gt;&lt;span&gt;1&lt;/span&gt; baño&lt;/span&gt;</td>\n",
       "      <td>&lt;span&gt;&lt;span&gt;77&lt;/span&gt; m²&lt;/span&gt;</td>\n",
       "      <td>...</td>\n",
       "      <td>NaN</td>\n",
       "      <td>NaN</td>\n",
       "      <td>NaN</td>\n",
       "      <td>NaN</td>\n",
       "      <td>NaN</td>\n",
       "      <td>NaN</td>\n",
       "      <td>NaN</td>\n",
       "      <td>NaN</td>\n",
       "      <td>NaN</td>\n",
       "      <td>NaN</td>\n",
       "    </tr>\n",
       "    <tr>\n",
       "      <th>4</th>\n",
       "      <td>800 € /mes</td>\n",
       "      <td>Piso de alquiler en Centro</td>\n",
       "      <td>Fantástica vivienda en alquiler ubicada muy pr...</td>\n",
       "      <td>28 Fotos</td>\n",
       "      <td>Centro</td>\n",
       "      <td>True</td>\n",
       "      <td>BREXTOM MURCIA</td>\n",
       "      <td>&lt;span&gt;&lt;span&gt;3&lt;/span&gt; habs.&lt;/span&gt;</td>\n",
       "      <td>&lt;span&gt;&lt;span&gt;2&lt;/span&gt; baños&lt;/span&gt;</td>\n",
       "      <td>&lt;span&gt;&lt;span&gt;104&lt;/span&gt; m²&lt;/span&gt;</td>\n",
       "      <td>...</td>\n",
       "      <td>NaN</td>\n",
       "      <td>NaN</td>\n",
       "      <td>NaN</td>\n",
       "      <td>NaN</td>\n",
       "      <td>NaN</td>\n",
       "      <td>NaN</td>\n",
       "      <td>NaN</td>\n",
       "      <td>NaN</td>\n",
       "      <td>NaN</td>\n",
       "      <td>NaN</td>\n",
       "    </tr>\n",
       "  </tbody>\n",
       "</table>\n",
       "<p>5 rows × 59 columns</p>\n",
       "</div>"
      ],
      "text/plain": [
       "        Precio                                     Título  \\\n",
       "0  A consultar                 Piso de alquiler en Centro   \n",
       "1   500 € /mes          Apartamento de alquiler en Centro   \n",
       "2   900 € /mes  Piso de alquiler en Doctor Marañón Centro   \n",
       "3   750 € /mes                 Piso de alquiler en Centro   \n",
       "4   800 € /mes                 Piso de alquiler en Centro   \n",
       "\n",
       "                                         Descripción     Fotos  \\\n",
       "0  TRABAJADORES Y ESTUDIANTES ATENCION!!!! VIVIEN...  18 Fotos   \n",
       "1  Maravilloso apartamento para entrar a vivir en...  21 Fotos   \n",
       "2  Se alquila estupenda vivienda recién reformada...  18 Fotos   \n",
       "3  Te presentamos este fabuloso apartamento situa...  30 Fotos   \n",
       "4  Fantástica vivienda en alquiler ubicada muy pr...  28 Fotos   \n",
       "\n",
       "               Dirección  Inmobiliaria                    Anunciante  \\\n",
       "0                 Centro          True      DPTO. COMERCIAL PISOSMUR   \n",
       "1                 Centro          True                BREXTOM MURCIA   \n",
       "2  Doctor Marañón Centro          True  ABAD SERVICIOS INMOBILIARIOS   \n",
       "3                 Centro          True  ABAD SERVICIOS INMOBILIARIOS   \n",
       "4                 Centro          True                BREXTOM MURCIA   \n",
       "\n",
       "                        Habitaciones                              Baños  \\\n",
       "0  <span><span>4</span> habs.</span>  <span><span>2</span> baños</span>   \n",
       "1   <span><span>1</span> hab.</span>   <span><span>1</span> baño</span>   \n",
       "2  <span><span>4</span> habs.</span>  <span><span>2</span> baños</span>   \n",
       "3  <span><span>2</span> habs.</span>   <span><span>1</span> baño</span>   \n",
       "4  <span><span>3</span> habs.</span>  <span><span>2</span> baños</span>   \n",
       "\n",
       "                         Superficie  ... Serv. portería Internet  \\\n",
       "0  <span><span>110</span> m²</span>  ...            NaN      NaN   \n",
       "1   <span><span>46</span> m²</span>  ...            NaN      NaN   \n",
       "2  <span><span>169</span> m²</span>  ...            NaN      NaN   \n",
       "3   <span><span>77</span> m²</span>  ...            NaN      NaN   \n",
       "4  <span><span>104</span> m²</span>  ...            NaN      NaN   \n",
       "\n",
       "  Suite - con baño Patio Domótica Pista de Tenis Alarma Mascotas  \\\n",
       "0              NaN   NaN      NaN            NaN    NaN      NaN   \n",
       "1              NaN   NaN      NaN            NaN    NaN      NaN   \n",
       "2              NaN   NaN      NaN            NaN    NaN      NaN   \n",
       "3              NaN   NaN      NaN            NaN    NaN      NaN   \n",
       "4              NaN   NaN      NaN            NaN    NaN      NaN   \n",
       "\n",
       "  Energía Solar Gimnasio  \n",
       "0           NaN      NaN  \n",
       "1           NaN      NaN  \n",
       "2           NaN      NaN  \n",
       "3           NaN      NaN  \n",
       "4           NaN      NaN  \n",
       "\n",
       "[5 rows x 59 columns]"
      ]
     },
     "execution_count": 11,
     "metadata": {},
     "output_type": "execute_result"
    }
   ],
   "source": [
    "fotocasa_df.head()"
   ]
  },
  {
   "cell_type": "markdown",
   "id": "3b8ae681",
   "metadata": {},
   "source": [
    "Recupera los cinco primeros pisos (filas)"
   ]
  },
  {
   "cell_type": "markdown",
   "id": "f33f8820",
   "metadata": {},
   "source": [
    "## EJERCICIO 11"
   ]
  },
  {
   "cell_type": "code",
   "execution_count": 12,
   "id": "86856b04",
   "metadata": {},
   "outputs": [
    {
     "data": {
      "text/html": [
       "<div>\n",
       "<style scoped>\n",
       "    .dataframe tbody tr th:only-of-type {\n",
       "        vertical-align: middle;\n",
       "    }\n",
       "\n",
       "    .dataframe tbody tr th {\n",
       "        vertical-align: top;\n",
       "    }\n",
       "\n",
       "    .dataframe thead th {\n",
       "        text-align: right;\n",
       "    }\n",
       "</style>\n",
       "<table border=\"1\" class=\"dataframe\">\n",
       "  <thead>\n",
       "    <tr style=\"text-align: right;\">\n",
       "      <th></th>\n",
       "      <th>Precio</th>\n",
       "      <th>Título</th>\n",
       "      <th>Descripción</th>\n",
       "      <th>Fotos</th>\n",
       "      <th>Dirección</th>\n",
       "      <th>Inmobiliaria</th>\n",
       "      <th>Anunciante</th>\n",
       "      <th>Habitaciones</th>\n",
       "      <th>Baños</th>\n",
       "      <th>Superficie</th>\n",
       "      <th>...</th>\n",
       "      <th>Serv. portería</th>\n",
       "      <th>Internet</th>\n",
       "      <th>Suite - con baño</th>\n",
       "      <th>Patio</th>\n",
       "      <th>Domótica</th>\n",
       "      <th>Pista de Tenis</th>\n",
       "      <th>Alarma</th>\n",
       "      <th>Mascotas</th>\n",
       "      <th>Energía Solar</th>\n",
       "      <th>Gimnasio</th>\n",
       "    </tr>\n",
       "  </thead>\n",
       "  <tbody>\n",
       "    <tr>\n",
       "      <th>612</th>\n",
       "      <td>NaN</td>\n",
       "      <td>Alquiler piso en barrio dEl Carmen en El Carme...</td>\n",
       "      <td>NaN</td>\n",
       "      <td>NaN</td>\n",
       "      <td>NaN</td>\n",
       "      <td>True</td>\n",
       "      <td>NaN</td>\n",
       "      <td>NaN</td>\n",
       "      <td>NaN</td>\n",
       "      <td>NaN</td>\n",
       "      <td>...</td>\n",
       "      <td>NaN</td>\n",
       "      <td>NaN</td>\n",
       "      <td>NaN</td>\n",
       "      <td>NaN</td>\n",
       "      <td>NaN</td>\n",
       "      <td>NaN</td>\n",
       "      <td>NaN</td>\n",
       "      <td>NaN</td>\n",
       "      <td>NaN</td>\n",
       "      <td>NaN</td>\n",
       "    </tr>\n",
       "    <tr>\n",
       "      <th>613</th>\n",
       "      <td>NaN</td>\n",
       "      <td>Alquiler apartamento en plaza san nicolas en M...</td>\n",
       "      <td>NaN</td>\n",
       "      <td>NaN</td>\n",
       "      <td>NaN</td>\n",
       "      <td>True</td>\n",
       "      <td>NaN</td>\n",
       "      <td>NaN</td>\n",
       "      <td>NaN</td>\n",
       "      <td>NaN</td>\n",
       "      <td>...</td>\n",
       "      <td>NaN</td>\n",
       "      <td>NaN</td>\n",
       "      <td>NaN</td>\n",
       "      <td>NaN</td>\n",
       "      <td>NaN</td>\n",
       "      <td>NaN</td>\n",
       "      <td>NaN</td>\n",
       "      <td>NaN</td>\n",
       "      <td>NaN</td>\n",
       "      <td>NaN</td>\n",
       "    </tr>\n",
       "    <tr>\n",
       "      <th>614</th>\n",
       "      <td>NaN</td>\n",
       "      <td>Alquiler apartamento exclusivo apto plaza flor...</td>\n",
       "      <td>NaN</td>\n",
       "      <td>NaN</td>\n",
       "      <td>NaN</td>\n",
       "      <td>True</td>\n",
       "      <td>NaN</td>\n",
       "      <td>NaN</td>\n",
       "      <td>NaN</td>\n",
       "      <td>NaN</td>\n",
       "      <td>...</td>\n",
       "      <td>NaN</td>\n",
       "      <td>NaN</td>\n",
       "      <td>NaN</td>\n",
       "      <td>NaN</td>\n",
       "      <td>NaN</td>\n",
       "      <td>NaN</td>\n",
       "      <td>NaN</td>\n",
       "      <td>NaN</td>\n",
       "      <td>NaN</td>\n",
       "      <td>NaN</td>\n",
       "    </tr>\n",
       "    <tr>\n",
       "      <th>615</th>\n",
       "      <td>NaN</td>\n",
       "      <td>Alquiler piso alquiler de local entresuelo en ...</td>\n",
       "      <td>NaN</td>\n",
       "      <td>NaN</td>\n",
       "      <td>NaN</td>\n",
       "      <td>True</td>\n",
       "      <td>NaN</td>\n",
       "      <td>NaN</td>\n",
       "      <td>NaN</td>\n",
       "      <td>NaN</td>\n",
       "      <td>...</td>\n",
       "      <td>NaN</td>\n",
       "      <td>NaN</td>\n",
       "      <td>NaN</td>\n",
       "      <td>NaN</td>\n",
       "      <td>NaN</td>\n",
       "      <td>NaN</td>\n",
       "      <td>NaN</td>\n",
       "      <td>NaN</td>\n",
       "      <td>NaN</td>\n",
       "      <td>NaN</td>\n",
       "    </tr>\n",
       "    <tr>\n",
       "      <th>616</th>\n",
       "      <td>NaN</td>\n",
       "      <td>Alquiler piso en alquiler en edificio alba, sa...</td>\n",
       "      <td>NaN</td>\n",
       "      <td>NaN</td>\n",
       "      <td>NaN</td>\n",
       "      <td>True</td>\n",
       "      <td>NaN</td>\n",
       "      <td>NaN</td>\n",
       "      <td>NaN</td>\n",
       "      <td>NaN</td>\n",
       "      <td>...</td>\n",
       "      <td>NaN</td>\n",
       "      <td>NaN</td>\n",
       "      <td>NaN</td>\n",
       "      <td>NaN</td>\n",
       "      <td>NaN</td>\n",
       "      <td>NaN</td>\n",
       "      <td>NaN</td>\n",
       "      <td>NaN</td>\n",
       "      <td>NaN</td>\n",
       "      <td>NaN</td>\n",
       "    </tr>\n",
       "  </tbody>\n",
       "</table>\n",
       "<p>5 rows × 59 columns</p>\n",
       "</div>"
      ],
      "text/plain": [
       "    Precio                                             Título Descripción  \\\n",
       "612    NaN  Alquiler piso en barrio dEl Carmen en El Carme...         NaN   \n",
       "613    NaN  Alquiler apartamento en plaza san nicolas en M...         NaN   \n",
       "614    NaN  Alquiler apartamento exclusivo apto plaza flor...         NaN   \n",
       "615    NaN  Alquiler piso alquiler de local entresuelo en ...         NaN   \n",
       "616    NaN  Alquiler piso en alquiler en edificio alba, sa...         NaN   \n",
       "\n",
       "    Fotos Dirección  Inmobiliaria Anunciante Habitaciones Baños Superficie  \\\n",
       "612   NaN       NaN          True        NaN          NaN   NaN        NaN   \n",
       "613   NaN       NaN          True        NaN          NaN   NaN        NaN   \n",
       "614   NaN       NaN          True        NaN          NaN   NaN        NaN   \n",
       "615   NaN       NaN          True        NaN          NaN   NaN        NaN   \n",
       "616   NaN       NaN          True        NaN          NaN   NaN        NaN   \n",
       "\n",
       "     ... Serv. portería Internet Suite - con baño Patio Domótica  \\\n",
       "612  ...            NaN      NaN              NaN   NaN      NaN   \n",
       "613  ...            NaN      NaN              NaN   NaN      NaN   \n",
       "614  ...            NaN      NaN              NaN   NaN      NaN   \n",
       "615  ...            NaN      NaN              NaN   NaN      NaN   \n",
       "616  ...            NaN      NaN              NaN   NaN      NaN   \n",
       "\n",
       "    Pista de Tenis Alarma Mascotas Energía Solar Gimnasio  \n",
       "612            NaN    NaN      NaN           NaN      NaN  \n",
       "613            NaN    NaN      NaN           NaN      NaN  \n",
       "614            NaN    NaN      NaN           NaN      NaN  \n",
       "615            NaN    NaN      NaN           NaN      NaN  \n",
       "616            NaN    NaN      NaN           NaN      NaN  \n",
       "\n",
       "[5 rows x 59 columns]"
      ]
     },
     "execution_count": 12,
     "metadata": {},
     "output_type": "execute_result"
    }
   ],
   "source": [
    "fotocasa_df.tail()"
   ]
  },
  {
   "cell_type": "markdown",
   "id": "02e62bf3",
   "metadata": {},
   "source": [
    "Recupera los cinco últimos pisos:"
   ]
  },
  {
   "cell_type": "markdown",
   "id": "1671f2ca",
   "metadata": {},
   "source": [
    "Muestra los campos Inmobiliaria y Tipo de inmueble de los tres últimos pisos:"
   ]
  },
  {
   "cell_type": "markdown",
   "id": "bad2b17d",
   "metadata": {},
   "source": [
    "## EJERCICIO 12"
   ]
  },
  {
   "cell_type": "code",
   "execution_count": 13,
   "id": "3e099bca",
   "metadata": {},
   "outputs": [
    {
     "name": "stdout",
     "output_type": "stream",
     "text": [
      "<class 'pandas.core.frame.DataFrame'>\n",
      "Index: 617 entries, 0 to 616\n",
      "Data columns (total 53 columns):\n",
      " #   Column               Non-Null Count  Dtype \n",
      "---  ------               --------------  ----- \n",
      " 0   Precio               598 non-null    object\n",
      " 1   Título               616 non-null    object\n",
      " 2   Descripción          588 non-null    object\n",
      " 3   Fotos                582 non-null    object\n",
      " 4   Dirección            597 non-null    object\n",
      " 5   Inmobiliaria         617 non-null    bool  \n",
      " 6   Anunciante           598 non-null    object\n",
      " 7   Habitaciones         551 non-null    object\n",
      " 8   Baños                592 non-null    object\n",
      " 9   Superficie           586 non-null    object\n",
      " 10  Tipo de inmueble     597 non-null    object\n",
      " 11  Ascensor             494 non-null    object\n",
      " 12  Amueblado            469 non-null    object\n",
      " 13  Depósito             136 non-null    object\n",
      " 14  Gastos de comunidad  390 non-null    object\n",
      " 15  Consumo energía      598 non-null    object\n",
      " 16  Emisiones            598 non-null    object\n",
      " 17  Aire acondicionado   415 non-null    object\n",
      " 18  Armarios             424 non-null    object\n",
      " 19  Electrodomésticos    454 non-null    object\n",
      " 20  Horno                182 non-null    object\n",
      " 21  Lavadora             300 non-null    object\n",
      " 22  Microondas           128 non-null    object\n",
      " 23  Nevera               295 non-null    object\n",
      " 24  Videoportero         137 non-null    object\n",
      " 25  Puerta Blindada      179 non-null    object\n",
      " 26  Lavadero             145 non-null    object\n",
      " 27  Cocina Equipada      455 non-null    object\n",
      " 28  Enlace               617 non-null    object\n",
      " 29  Planta               442 non-null    object\n",
      " 30  Antigüedad           210 non-null    object\n",
      " 31  Calefacción          288 non-null    object\n",
      " 32  Terraza              130 non-null    object\n",
      " 33  Balcón               193 non-null    object\n",
      " 34  Orientación          140 non-null    object\n",
      " 35  Estado               313 non-null    object\n",
      " 36  Parking              184 non-null    object\n",
      " 37  Gres Cerámica        73 non-null     object\n",
      " 38  Cocina Office        68 non-null     object\n",
      " 39  Trastero             109 non-null    object\n",
      " 40  Agua caliente        69 non-null     object\n",
      " 41  Jardín Privado       12 non-null     object\n",
      " 42  Parquet              83 non-null     object\n",
      " 43  Z. Comunitaria       16 non-null     object\n",
      " 44  Piscina              12 non-null     object\n",
      " 45  TV                   96 non-null     object\n",
      " 46  Zona Deportiva       6 non-null      object\n",
      " 47  Zona Infantil        7 non-null      object\n",
      " 48  Piscina comunitaria  10 non-null     object\n",
      " 49  Serv. portería       13 non-null     object\n",
      " 50  Internet             42 non-null     object\n",
      " 51  Suite - con baño     35 non-null     object\n",
      " 52  Patio                39 non-null     object\n",
      "dtypes: bool(1), object(52)\n",
      "memory usage: 256.1+ KB\n"
     ]
    }
   ],
   "source": [
    "fotocasa1_df = fotocasa_df.drop(labels = [\"Domótica\", \"Pista de Tenis\",\"Alarma\",\"Mascotas\",\"Energía Solar\",\"Gimnasio\"], axis = 1)\n",
    "fotocasa1_df.info()"
   ]
  },
  {
   "cell_type": "markdown",
   "id": "bc18b640",
   "metadata": {},
   "source": [
    "Las columnas Domótica, Pista de Tenis, Alarma, Mascotas, Energía Solar y Gimnasio no contienen apenas valores definidos. Elimínalas del DataFrame y almacena el resultado en fotocasa1_df:"
   ]
  },
  {
   "cell_type": "markdown",
   "id": "66e14b8f",
   "metadata": {},
   "source": [
    "## EJERCICIO 13"
   ]
  },
  {
   "cell_type": "code",
   "execution_count": 14,
   "id": "0ab61535",
   "metadata": {},
   "outputs": [
    {
     "name": "stdout",
     "output_type": "stream",
     "text": [
      "0           Piso\n",
      "1    Apartamento\n",
      "2           Piso\n",
      "3           Piso\n",
      "4           Piso\n",
      "Name: Tipo, dtype: object\n"
     ]
    }
   ],
   "source": [
    "fotocasa2_df = fotocasa1_df.rename(columns={'Tipo de inmueble': 'Tipo'})\n",
    "print(fotocasa2_df['Tipo'].head())"
   ]
  },
  {
   "cell_type": "markdown",
   "id": "ef449a83",
   "metadata": {},
   "source": [
    "Renombra a continuación la columna Tipo de inmueble de fotocasa1_df por Tipo. Asigna el resultado a la variable fotocasa2_df:"
   ]
  },
  {
   "cell_type": "markdown",
   "id": "5d8cb243",
   "metadata": {},
   "source": [
    "## EJERCICIO 14"
   ]
  },
  {
   "cell_type": "code",
   "execution_count": 15,
   "id": "fd2551a7",
   "metadata": {},
   "outputs": [
    {
     "name": "stdout",
     "output_type": "stream",
     "text": [
      "0      A consultar\n",
      "1       500 € /mes\n",
      "2       900 € /mes\n",
      "3       750 € /mes\n",
      "4       800 € /mes\n",
      "          ...     \n",
      "612            NaN\n",
      "613            NaN\n",
      "614            NaN\n",
      "615            NaN\n",
      "616            NaN\n",
      "Name: Precio, Length: 617, dtype: object\n",
      "\n",
      "\n",
      "\n"
     ]
    },
    {
     "data": {
      "text/plain": [
       "1      500 € /mes\n",
       "2      900 € /mes\n",
       "3      750 € /mes\n",
       "4      800 € /mes\n",
       "5      650 € /mes\n",
       "          ...    \n",
       "589    600 € /mes\n",
       "590    800 € /mes\n",
       "591    800 € /mes\n",
       "593    800 € /mes\n",
       "596    850 € /mes\n",
       "Name: Precio, Length: 588, dtype: object"
      ]
     },
     "execution_count": 15,
     "metadata": {},
     "output_type": "execute_result"
    }
   ],
   "source": [
    "fotocasa4_df = fotocasa2_df[fotocasa2_df['Precio'].notnull() & (fotocasa2_df['Precio'] != \"A consultar\")]\n",
    "print(fotocasa2_df['Precio'])\n",
    "print(\"\\n\\n\")\n",
    "fotocasa4_df['Precio']"
   ]
  },
  {
   "cell_type": "markdown",
   "id": "f235bf13",
   "metadata": {},
   "source": [
    "Elimina del DataFrame aquellos pisos que no tienen Precio o que su Precio sea \"A consultar\". Asigna el resultado a la variable fotocasa4_df:\n",
    "\n",
    "PISTA: para seleccionar los alquileres sin precio utiliza el método isnull(). Utiliza notnull() para seleccionar los alquileres con precio.."
   ]
  },
  {
   "cell_type": "markdown",
   "id": "7c5bac3c",
   "metadata": {},
   "source": [
    "## EJERCICIO 15"
   ]
  },
  {
   "cell_type": "code",
   "execution_count": 16,
   "id": "0984ba08",
   "metadata": {},
   "outputs": [
    {
     "data": {
      "text/plain": [
       "Tipo           category\n",
       "Orientación    category\n",
       "Estado         category\n",
       "Parking        category\n",
       "dtype: object"
      ]
     },
     "execution_count": 16,
     "metadata": {},
     "output_type": "execute_result"
    }
   ],
   "source": [
    "convert = [\"Tipo\",\"Orientación\",\"Estado\",\"Parking\"]\n",
    "fotocasa5_df = fotocasa4_df.copy()\n",
    "fotocasa5_df[convert] = fotocasa4_df[convert].astype(\"category\")\n",
    "fotocasa5_df[convert].dtypes"
   ]
  },
  {
   "cell_type": "markdown",
   "id": "ed66bd5b",
   "metadata": {},
   "source": [
    "Utiliza la función astype para convertir las columnas Tipo, Orientación, Estado y Parking a tipo categórico. Asigna los resultados a la variable fotocasa5_df y comprueba mediante el parámetro dtype que el tipo asignado sea correcto:"
   ]
  },
  {
   "cell_type": "markdown",
   "id": "2223ff4c",
   "metadata": {},
   "source": [
    "## EJERCICIO 16"
   ]
  },
  {
   "cell_type": "code",
   "execution_count": null,
   "id": "e7a78b14",
   "metadata": {},
   "outputs": [],
   "source": []
  },
  {
   "cell_type": "markdown",
   "id": "df0c3d80",
   "metadata": {},
   "source": [
    "Cargar el fichero situado en https://raw.githubusercontent.com/ainaramu-icjardin/big_data/main/ciudades_ejemplo.csv\n",
    "como un dataframe Pandas, y guardarlo a continuación en formato excel."
   ]
  },
  {
   "cell_type": "markdown",
   "id": "a6304ee6",
   "metadata": {},
   "source": [
    "## EJERCICIO 17"
   ]
  },
  {
   "cell_type": "code",
   "execution_count": null,
   "id": "60692f18",
   "metadata": {},
   "outputs": [],
   "source": []
  },
  {
   "cell_type": "markdown",
   "id": "788c7d0a",
   "metadata": {},
   "source": [
    "Cargar el fichero \"https://raw.githubusercontent.com/ainaramu-icjardin/big_data/main/parocomunidades.csv\" que está con codificación (encoding) \"latin1\" y dejarlo en un dataframe df_paro.\n",
    "\n",
    "Mostrar solo las filas de `df_paro` que corresponden al Periodo 2019.\n",
    "\n",
    "Mostrar solo las filas de df_paro que corresponden a un total mayor de 15.\n",
    "\n",
    "Mostrar solo las filas que corresponden al Periodo 2019 y tienen Total mayor de 15."
   ]
  },
  {
   "cell_type": "markdown",
   "id": "d4499388",
   "metadata": {},
   "source": [
    "## <ins>Ejercicios Opcionales </ins>"
   ]
  },
  {
   "cell_type": "markdown",
   "id": "e207b56d",
   "metadata": {},
   "source": [
    "## EJERCICIO 18"
   ]
  },
  {
   "cell_type": "code",
   "execution_count": 17,
   "id": "b9f5f4bf",
   "metadata": {},
   "outputs": [
    {
     "data": {
      "text/html": [
       "<div>\n",
       "<style scoped>\n",
       "    .dataframe tbody tr th:only-of-type {\n",
       "        vertical-align: middle;\n",
       "    }\n",
       "\n",
       "    .dataframe tbody tr th {\n",
       "        vertical-align: top;\n",
       "    }\n",
       "\n",
       "    .dataframe thead th {\n",
       "        text-align: right;\n",
       "    }\n",
       "</style>\n",
       "<table border=\"1\" class=\"dataframe\">\n",
       "  <thead>\n",
       "    <tr style=\"text-align: right;\">\n",
       "      <th></th>\n",
       "      <th>word</th>\n",
       "      <th>length</th>\n",
       "      <th>vowels</th>\n",
       "      <th>consonants</th>\n",
       "    </tr>\n",
       "  </thead>\n",
       "  <tbody>\n",
       "    <tr>\n",
       "      <th>9</th>\n",
       "      <td>boutique</td>\n",
       "      <td>8</td>\n",
       "      <td>5</td>\n",
       "      <td>3</td>\n",
       "    </tr>\n",
       "    <tr>\n",
       "      <th>8</th>\n",
       "      <td>hazañas</td>\n",
       "      <td>7</td>\n",
       "      <td>3</td>\n",
       "      <td>4</td>\n",
       "    </tr>\n",
       "    <tr>\n",
       "      <th>4</th>\n",
       "      <td>cicuta</td>\n",
       "      <td>6</td>\n",
       "      <td>3</td>\n",
       "      <td>3</td>\n",
       "    </tr>\n",
       "    <tr>\n",
       "      <th>5</th>\n",
       "      <td>fatiga</td>\n",
       "      <td>6</td>\n",
       "      <td>3</td>\n",
       "      <td>3</td>\n",
       "    </tr>\n",
       "    <tr>\n",
       "      <th>6</th>\n",
       "      <td>nachos</td>\n",
       "      <td>6</td>\n",
       "      <td>2</td>\n",
       "      <td>4</td>\n",
       "    </tr>\n",
       "    <tr>\n",
       "      <th>7</th>\n",
       "      <td>jadeos</td>\n",
       "      <td>6</td>\n",
       "      <td>3</td>\n",
       "      <td>3</td>\n",
       "    </tr>\n",
       "    <tr>\n",
       "      <th>2</th>\n",
       "      <td>algas</td>\n",
       "      <td>5</td>\n",
       "      <td>2</td>\n",
       "      <td>3</td>\n",
       "    </tr>\n",
       "    <tr>\n",
       "      <th>3</th>\n",
       "      <td>broma</td>\n",
       "      <td>5</td>\n",
       "      <td>2</td>\n",
       "      <td>3</td>\n",
       "    </tr>\n",
       "    <tr>\n",
       "      <th>0</th>\n",
       "      <td>euro</td>\n",
       "      <td>4</td>\n",
       "      <td>3</td>\n",
       "      <td>1</td>\n",
       "    </tr>\n",
       "    <tr>\n",
       "      <th>1</th>\n",
       "      <td>diez</td>\n",
       "      <td>4</td>\n",
       "      <td>2</td>\n",
       "      <td>2</td>\n",
       "    </tr>\n",
       "  </tbody>\n",
       "</table>\n",
       "</div>"
      ],
      "text/plain": [
       "       word  length  vowels  consonants\n",
       "9  boutique       8       5           3\n",
       "8   hazañas       7       3           4\n",
       "4    cicuta       6       3           3\n",
       "5    fatiga       6       3           3\n",
       "6    nachos       6       2           4\n",
       "7    jadeos       6       3           3\n",
       "2     algas       5       2           3\n",
       "3     broma       5       2           3\n",
       "0      euro       4       3           1\n",
       "1      diez       4       2           2"
      ]
     },
     "execution_count": 17,
     "metadata": {},
     "output_type": "execute_result"
    }
   ],
   "source": [
    "words.sort_values(by=\"length\",ascending=False)"
   ]
  },
  {
   "cell_type": "markdown",
   "id": "052f87b0",
   "metadata": {},
   "source": [
    "Investiga el método .sort_values() para ordenar las observaciones según la longitud de las palabras en orden descendente."
   ]
  },
  {
   "cell_type": "markdown",
   "id": "2639e1ab",
   "metadata": {},
   "source": [
    "## EJERCICIO 19"
   ]
  },
  {
   "cell_type": "code",
   "execution_count": 18,
   "id": "e93c477c",
   "metadata": {},
   "outputs": [
    {
     "name": "stdout",
     "output_type": "stream",
     "text": [
      "[5, 3, 3, 3, 3, 3, 2, 2, 2, 2]\n"
     ]
    }
   ],
   "source": [
    "l_vowels = sorted(words['vowels'].tolist(),reverse=True)\n",
    "print(l_vowels)"
   ]
  },
  {
   "cell_type": "markdown",
   "id": "3196772c",
   "metadata": {},
   "source": [
    "Convierte la columna vowels a lista y, con sorted() ordénala de mayor a menor. Investiga para ello el método .tolist()."
   ]
  },
  {
   "cell_type": "markdown",
   "id": "61777947",
   "metadata": {},
   "source": [
    "## EJERCICIO 20"
   ]
  },
  {
   "cell_type": "code",
   "execution_count": 19,
   "id": "0fd588fa",
   "metadata": {},
   "outputs": [
    {
     "data": {
      "text/html": [
       "<div>\n",
       "<style scoped>\n",
       "    .dataframe tbody tr th:only-of-type {\n",
       "        vertical-align: middle;\n",
       "    }\n",
       "\n",
       "    .dataframe tbody tr th {\n",
       "        vertical-align: top;\n",
       "    }\n",
       "\n",
       "    .dataframe thead th {\n",
       "        text-align: right;\n",
       "    }\n",
       "</style>\n",
       "<table border=\"1\" class=\"dataframe\">\n",
       "  <thead>\n",
       "    <tr style=\"text-align: right;\">\n",
       "      <th></th>\n",
       "      <th>Precio</th>\n",
       "      <th>Título</th>\n",
       "      <th>Descripción</th>\n",
       "      <th>Fotos</th>\n",
       "      <th>Dirección</th>\n",
       "      <th>Inmobiliaria</th>\n",
       "      <th>Anunciante</th>\n",
       "      <th>Habitaciones</th>\n",
       "      <th>Baños</th>\n",
       "      <th>Superficie</th>\n",
       "      <th>...</th>\n",
       "      <th>Z. Comunitaria</th>\n",
       "      <th>Piscina</th>\n",
       "      <th>TV</th>\n",
       "      <th>Zona Deportiva</th>\n",
       "      <th>Zona Infantil</th>\n",
       "      <th>Piscina comunitaria</th>\n",
       "      <th>Serv. portería</th>\n",
       "      <th>Internet</th>\n",
       "      <th>Suite - con baño</th>\n",
       "      <th>Patio</th>\n",
       "    </tr>\n",
       "  </thead>\n",
       "  <tbody>\n",
       "    <tr>\n",
       "      <th>100</th>\n",
       "      <td>540 € /mes</td>\n",
       "      <td>Piso de alquiler en C/ José Hernández - Ed Alc...</td>\n",
       "      <td>PROMOCIÓN: 1 MES DE ALQUILER GRATIS si reserva...</td>\n",
       "      <td>27 Fotos</td>\n",
       "      <td>C/ José Hernández - Ed Alcántara II - Espinardo</td>\n",
       "      <td>True</td>\n",
       "      <td>SOLVIA SERVICIOS INMOBILIARIOS S.L</td>\n",
       "      <td>&lt;span&gt;&lt;span&gt;2&lt;/span&gt; habs.&lt;/span&gt;</td>\n",
       "      <td>&lt;span&gt;&lt;span&gt;1&lt;/span&gt; baño&lt;/span&gt;</td>\n",
       "      <td>&lt;span&gt;&lt;span&gt;82&lt;/span&gt; m²&lt;/span&gt;</td>\n",
       "      <td>...</td>\n",
       "      <td>NaN</td>\n",
       "      <td>NaN</td>\n",
       "      <td>NaN</td>\n",
       "      <td>NaN</td>\n",
       "      <td>NaN</td>\n",
       "      <td>NaN</td>\n",
       "      <td>NaN</td>\n",
       "      <td>NaN</td>\n",
       "      <td>NaN</td>\n",
       "      <td>NaN</td>\n",
       "    </tr>\n",
       "    <tr>\n",
       "      <th>200</th>\n",
       "      <td>700 € /mes</td>\n",
       "      <td>Apartamento de alquiler en Centro</td>\n",
       "      <td>Alquiler de apartamento en el centro, junto a ...</td>\n",
       "      <td>19 Fotos</td>\n",
       "      <td>Centro</td>\n",
       "      <td>True</td>\n",
       "      <td>BASCUÑANA INMOBILIARIA</td>\n",
       "      <td>&lt;span&gt;&lt;span&gt;2&lt;/span&gt; habs.&lt;/span&gt;</td>\n",
       "      <td>&lt;span&gt;&lt;span&gt;2&lt;/span&gt; baños&lt;/span&gt;</td>\n",
       "      <td>&lt;span&gt;&lt;span&gt;70&lt;/span&gt; m²&lt;/span&gt;</td>\n",
       "      <td>...</td>\n",
       "      <td>NaN</td>\n",
       "      <td>NaN</td>\n",
       "      <td>NaN</td>\n",
       "      <td>NaN</td>\n",
       "      <td>NaN</td>\n",
       "      <td>NaN</td>\n",
       "      <td>NaN</td>\n",
       "      <td>NaN</td>\n",
       "      <td>NaN</td>\n",
       "      <td>NaN</td>\n",
       "    </tr>\n",
       "    <tr>\n",
       "      <th>300</th>\n",
       "      <td>850 € /mes</td>\n",
       "      <td>Piso de alquiler en Juan de Borbón - La Flota</td>\n",
       "      <td>Piso completamente amueblado y cocina equipada...</td>\n",
       "      <td>13 Fotos</td>\n",
       "      <td>Juan de Borbón - La Flota</td>\n",
       "      <td>True</td>\n",
       "      <td>THE SIMPLE RENT LUXURY PROPERTIES</td>\n",
       "      <td>&lt;span&gt;&lt;span&gt;3&lt;/span&gt; habs.&lt;/span&gt;</td>\n",
       "      <td>&lt;span&gt;&lt;span&gt;2&lt;/span&gt; baños&lt;/span&gt;</td>\n",
       "      <td>&lt;span&gt;&lt;span&gt;90&lt;/span&gt; m²&lt;/span&gt;</td>\n",
       "      <td>...</td>\n",
       "      <td>NaN</td>\n",
       "      <td>NaN</td>\n",
       "      <td>NaN</td>\n",
       "      <td>NaN</td>\n",
       "      <td>NaN</td>\n",
       "      <td>NaN</td>\n",
       "      <td>NaN</td>\n",
       "      <td>NaN</td>\n",
       "      <td>True</td>\n",
       "      <td>NaN</td>\n",
       "    </tr>\n",
       "    <tr>\n",
       "      <th>400</th>\n",
       "      <td>700 € /mes</td>\n",
       "      <td>Piso de alquiler en Centro</td>\n",
       "      <td>Piso completamente amueblado y cocina equipada...</td>\n",
       "      <td>10 Fotos</td>\n",
       "      <td>Centro</td>\n",
       "      <td>True</td>\n",
       "      <td>OPAU MURCIA</td>\n",
       "      <td>&lt;span&gt;&lt;span&gt;2&lt;/span&gt; habs.&lt;/span&gt;</td>\n",
       "      <td>&lt;span&gt;&lt;span&gt;2&lt;/span&gt; baños&lt;/span&gt;</td>\n",
       "      <td>&lt;span&gt;&lt;span&gt;45&lt;/span&gt; m²&lt;/span&gt;</td>\n",
       "      <td>...</td>\n",
       "      <td>NaN</td>\n",
       "      <td>NaN</td>\n",
       "      <td>NaN</td>\n",
       "      <td>NaN</td>\n",
       "      <td>NaN</td>\n",
       "      <td>NaN</td>\n",
       "      <td>NaN</td>\n",
       "      <td>NaN</td>\n",
       "      <td>NaN</td>\n",
       "      <td>NaN</td>\n",
       "    </tr>\n",
       "    <tr>\n",
       "      <th>500</th>\n",
       "      <td>550 € /mes</td>\n",
       "      <td>Piso de alquiler en Calle del Platanito Vistab...</td>\n",
       "      <td>Vivienda 4 dormitorios en Avenida de la Fama! ...</td>\n",
       "      <td>9 Fotos</td>\n",
       "      <td>Calle del Platanito Vistabella</td>\n",
       "      <td>True</td>\n",
       "      <td>LOGAR 21</td>\n",
       "      <td>&lt;span&gt;&lt;span&gt;4&lt;/span&gt; habs.&lt;/span&gt;</td>\n",
       "      <td>&lt;span&gt;&lt;span&gt;1&lt;/span&gt; baño&lt;/span&gt;</td>\n",
       "      <td>&lt;span&gt;&lt;span&gt;95&lt;/span&gt; m²&lt;/span&gt;</td>\n",
       "      <td>...</td>\n",
       "      <td>True</td>\n",
       "      <td>NaN</td>\n",
       "      <td>NaN</td>\n",
       "      <td>NaN</td>\n",
       "      <td>NaN</td>\n",
       "      <td>NaN</td>\n",
       "      <td>NaN</td>\n",
       "      <td>NaN</td>\n",
       "      <td>NaN</td>\n",
       "      <td>NaN</td>\n",
       "    </tr>\n",
       "  </tbody>\n",
       "</table>\n",
       "<p>5 rows × 53 columns</p>\n",
       "</div>"
      ],
      "text/plain": [
       "         Precio                                             Título  \\\n",
       "100  540 € /mes  Piso de alquiler en C/ José Hernández - Ed Alc...   \n",
       "200  700 € /mes                  Apartamento de alquiler en Centro   \n",
       "300  850 € /mes      Piso de alquiler en Juan de Borbón - La Flota   \n",
       "400  700 € /mes                         Piso de alquiler en Centro   \n",
       "500  550 € /mes  Piso de alquiler en Calle del Platanito Vistab...   \n",
       "\n",
       "                                           Descripción     Fotos  \\\n",
       "100  PROMOCIÓN: 1 MES DE ALQUILER GRATIS si reserva...  27 Fotos   \n",
       "200  Alquiler de apartamento en el centro, junto a ...  19 Fotos   \n",
       "300  Piso completamente amueblado y cocina equipada...  13 Fotos   \n",
       "400  Piso completamente amueblado y cocina equipada...  10 Fotos   \n",
       "500  Vivienda 4 dormitorios en Avenida de la Fama! ...   9 Fotos   \n",
       "\n",
       "                                           Dirección  Inmobiliaria  \\\n",
       "100  C/ José Hernández - Ed Alcántara II - Espinardo          True   \n",
       "200                                           Centro          True   \n",
       "300                        Juan de Borbón - La Flota          True   \n",
       "400                                           Centro          True   \n",
       "500                   Calle del Platanito Vistabella          True   \n",
       "\n",
       "                             Anunciante                       Habitaciones  \\\n",
       "100  SOLVIA SERVICIOS INMOBILIARIOS S.L  <span><span>2</span> habs.</span>   \n",
       "200              BASCUÑANA INMOBILIARIA  <span><span>2</span> habs.</span>   \n",
       "300   THE SIMPLE RENT LUXURY PROPERTIES  <span><span>3</span> habs.</span>   \n",
       "400                         OPAU MURCIA  <span><span>2</span> habs.</span>   \n",
       "500                            LOGAR 21  <span><span>4</span> habs.</span>   \n",
       "\n",
       "                                 Baños                       Superficie  ...  \\\n",
       "100   <span><span>1</span> baño</span>  <span><span>82</span> m²</span>  ...   \n",
       "200  <span><span>2</span> baños</span>  <span><span>70</span> m²</span>  ...   \n",
       "300  <span><span>2</span> baños</span>  <span><span>90</span> m²</span>  ...   \n",
       "400  <span><span>2</span> baños</span>  <span><span>45</span> m²</span>  ...   \n",
       "500   <span><span>1</span> baño</span>  <span><span>95</span> m²</span>  ...   \n",
       "\n",
       "    Z. Comunitaria Piscina   TV Zona Deportiva Zona Infantil  \\\n",
       "100            NaN     NaN  NaN            NaN           NaN   \n",
       "200            NaN     NaN  NaN            NaN           NaN   \n",
       "300            NaN     NaN  NaN            NaN           NaN   \n",
       "400            NaN     NaN  NaN            NaN           NaN   \n",
       "500           True     NaN  NaN            NaN           NaN   \n",
       "\n",
       "    Piscina comunitaria Serv. portería Internet Suite - con baño Patio  \n",
       "100                 NaN            NaN      NaN              NaN   NaN  \n",
       "200                 NaN            NaN      NaN              NaN   NaN  \n",
       "300                 NaN            NaN      NaN             True   NaN  \n",
       "400                 NaN            NaN      NaN              NaN   NaN  \n",
       "500                 NaN            NaN      NaN              NaN   NaN  \n",
       "\n",
       "[5 rows x 53 columns]"
      ]
     },
     "execution_count": 19,
     "metadata": {},
     "output_type": "execute_result"
    }
   ],
   "source": [
    "fotocasa100_df = fotocasa5_df[fotocasa5_df.index % 100 == 0]\n",
    "fotocasa100_df"
   ]
  },
  {
   "cell_type": "markdown",
   "id": "17af4349",
   "metadata": {},
   "source": [
    "Recupera aquellos pisos que ocupan una posición múltiplo de 100:"
   ]
  },
  {
   "cell_type": "markdown",
   "id": "274661d0",
   "metadata": {},
   "source": [
    "## EJERCICIO 21"
   ]
  },
  {
   "cell_type": "code",
   "execution_count": 20,
   "id": "f5da4f70",
   "metadata": {},
   "outputs": [
    {
     "data": {
      "text/plain": [
       "Precio                                                        450 € /mes\n",
       "Título                                     Piso de alquiler en El Carmen\n",
       "Descripción            Piso de 2 dormitorios equipado completo, cocin...\n",
       "Fotos                                                            6 Fotos\n",
       "Dirección                                                      El Carmen\n",
       "Inmobiliaria                                                        True\n",
       "Anunciante                                                   OPAU MURCIA\n",
       "Habitaciones                           <span><span>2</span> habs.</span>\n",
       "Baños                                   <span><span>1</span> baño</span>\n",
       "Superficie                               <span><span>85</span> m²</span>\n",
       "Tipo                                                                Piso\n",
       "Ascensor                                                             NaN\n",
       "Amueblado                                                             Sí\n",
       "Depósito                                                             NaN\n",
       "Gastos de comunidad                                                   Sí\n",
       "Consumo energía                                     G\\n999 kW h m² / año\n",
       "Emisiones                                  En trámite\\n- kg CO₂ m² / año\n",
       "Aire acondicionado                                                  True\n",
       "Armarios                                                             NaN\n",
       "Electrodomésticos                                                   True\n",
       "Horno                                                                NaN\n",
       "Lavadora                                                            True\n",
       "Microondas                                                           NaN\n",
       "Nevera                                                              True\n",
       "Videoportero                                                         NaN\n",
       "Puerta Blindada                                                      NaN\n",
       "Lavadero                                                             NaN\n",
       "Cocina Equipada                                                     True\n",
       "Enlace                 https://www.fotocasa.es/es/alquiler/vivienda/m...\n",
       "Planta                                                         2ª planta\n",
       "Antigüedad                                                           NaN\n",
       "Calefacción                                                         True\n",
       "Terraza                                                              NaN\n",
       "Balcón                                                               NaN\n",
       "Orientación                                                          NaN\n",
       "Estado                                                              Bien\n",
       "Parking                                                              NaN\n",
       "Gres Cerámica                                                       True\n",
       "Cocina Office                                                        NaN\n",
       "Trastero                                                             NaN\n",
       "Agua caliente                                                        NaN\n",
       "Jardín Privado                                                       NaN\n",
       "Parquet                                                              NaN\n",
       "Z. Comunitaria                                                       NaN\n",
       "Piscina                                                              NaN\n",
       "TV                                                                   NaN\n",
       "Zona Deportiva                                                       NaN\n",
       "Zona Infantil                                                        NaN\n",
       "Piscina comunitaria                                                  NaN\n",
       "Serv. portería                                                       NaN\n",
       "Internet                                                             NaN\n",
       "Suite - con baño                                                     NaN\n",
       "Patio                                                                NaN\n",
       "Name: 8, dtype: object"
      ]
     },
     "execution_count": 20,
     "metadata": {},
     "output_type": "execute_result"
    }
   ],
   "source": [
    "fotocasa5_df.iloc[7]"
   ]
  },
  {
   "cell_type": "markdown",
   "id": "b6ad7a6f",
   "metadata": {},
   "source": [
    "Muestra el piso que se encuentra en la posición 7:"
   ]
  },
  {
   "cell_type": "markdown",
   "id": "edbe24c0",
   "metadata": {},
   "source": [
    "## EJERCICIO 22"
   ]
  },
  {
   "cell_type": "code",
   "execution_count": 21,
   "id": "b8d8076e",
   "metadata": {},
   "outputs": [
    {
     "data": {
      "text/plain": [
       "Precio                                                      1.400 € /mes\n",
       "Título                                        Piso de alquiler en Centro\n",
       "Descripción            Piso de 3 dormitorios, equipados completos, la...\n",
       "Fotos                                                           16 Fotos\n",
       "Dirección                                                         Centro\n",
       "Inmobiliaria                                                        True\n",
       "Anunciante                             THE SIMPLE RENT LUXURY PROPERTIES\n",
       "Habitaciones                           <span><span>3</span> habs.</span>\n",
       "Baños                                  <span><span>2</span> baños</span>\n",
       "Superficie                              <span><span>150</span> m²</span>\n",
       "Tipo                                                                Piso\n",
       "Ascensor                                                              Sí\n",
       "Amueblado                                                             Sí\n",
       "Depósito                                                             NaN\n",
       "Gastos de comunidad                                                   Sí\n",
       "Consumo energía                                     G\\n999 kW h m² / año\n",
       "Emisiones                                  En trámite\\n- kg CO₂ m² / año\n",
       "Aire acondicionado                                                  True\n",
       "Armarios                                                             NaN\n",
       "Electrodomésticos                                                   True\n",
       "Horno                                                                NaN\n",
       "Lavadora                                                            True\n",
       "Microondas                                                           NaN\n",
       "Nevera                                                              True\n",
       "Videoportero                                                         NaN\n",
       "Puerta Blindada                                                      NaN\n",
       "Lavadero                                                             NaN\n",
       "Cocina Equipada                                                     True\n",
       "Enlace                 https://www.fotocasa.es/es/alquiler/vivienda/m...\n",
       "Planta                                                         3ª planta\n",
       "Antigüedad                                                           NaN\n",
       "Calefacción                                                          NaN\n",
       "Terraza                                                              NaN\n",
       "Balcón                                                               NaN\n",
       "Orientación                                                          NaN\n",
       "Estado                                                               NaN\n",
       "Parking                                                      Comunitario\n",
       "Gres Cerámica                                                        NaN\n",
       "Cocina Office                                                        NaN\n",
       "Trastero                                                             NaN\n",
       "Agua caliente                                                        NaN\n",
       "Jardín Privado                                                       NaN\n",
       "Parquet                                                              NaN\n",
       "Z. Comunitaria                                                       NaN\n",
       "Piscina                                                              NaN\n",
       "TV                                                                   NaN\n",
       "Zona Deportiva                                                       NaN\n",
       "Zona Infantil                                                        NaN\n",
       "Piscina comunitaria                                                  NaN\n",
       "Serv. portería                                                       NaN\n",
       "Internet                                                             NaN\n",
       "Suite - con baño                                                     NaN\n",
       "Patio                                                                NaN\n",
       "Name: 9, dtype: object"
      ]
     },
     "execution_count": 21,
     "metadata": {},
     "output_type": "execute_result"
    }
   ],
   "source": [
    "fotocasa5_df.loc[9]"
   ]
  },
  {
   "cell_type": "markdown",
   "id": "cc54c300",
   "metadata": {},
   "source": [
    "Muestra el piso cuyo índice vale 9:"
   ]
  },
  {
   "cell_type": "markdown",
   "id": "c543d072",
   "metadata": {},
   "source": [
    "## EJERCICIO 23"
   ]
  },
  {
   "cell_type": "code",
   "execution_count": 22,
   "id": "7c5d8316",
   "metadata": {},
   "outputs": [
    {
     "name": "stdout",
     "output_type": "stream",
     "text": [
      "1                   Centro\n",
      "2    Doctor Marañón Centro\n",
      "3                   Centro\n",
      "Name: Dirección, dtype: object\n",
      "\n",
      "\n",
      "\n",
      "               Dirección\n",
      "1                 Centro\n",
      "2  Doctor Marañón Centro\n",
      "3                 Centro\n"
     ]
    }
   ],
   "source": [
    "print(fotocasa5_df['Dirección'].head(3))\n",
    "print(\"\\n\\n\")\n",
    "print(fotocasa5_df[['Dirección']].head(3))"
   ]
  },
  {
   "cell_type": "markdown",
   "id": "f9d437ee",
   "metadata": {},
   "source": [
    "Muestra el campo Dirección de los tres primeros pisos. Utiliza para ello tanto el operador ```[]``` como ```[[]]```. ¿Qué diferencia encuentras?\n",
    "\n",
    "Que en el segundo se omite la información sobre la columna"
   ]
  },
  {
   "cell_type": "markdown",
   "id": "91951d7d",
   "metadata": {},
   "source": [
    "## EJERCICIO 24"
   ]
  },
  {
   "cell_type": "code",
   "execution_count": 25,
   "id": "f2381469",
   "metadata": {},
   "outputs": [
    {
     "data": {
      "text/html": [
       "<div>\n",
       "<style scoped>\n",
       "    .dataframe tbody tr th:only-of-type {\n",
       "        vertical-align: middle;\n",
       "    }\n",
       "\n",
       "    .dataframe tbody tr th {\n",
       "        vertical-align: top;\n",
       "    }\n",
       "\n",
       "    .dataframe thead th {\n",
       "        text-align: right;\n",
       "    }\n",
       "</style>\n",
       "<table border=\"1\" class=\"dataframe\">\n",
       "  <thead>\n",
       "    <tr style=\"text-align: right;\">\n",
       "      <th></th>\n",
       "      <th>Tipo</th>\n",
       "      <th>Inmobiliaria</th>\n",
       "    </tr>\n",
       "  </thead>\n",
       "  <tbody>\n",
       "    <tr>\n",
       "      <th>591</th>\n",
       "      <td>Piso</td>\n",
       "      <td>True</td>\n",
       "    </tr>\n",
       "    <tr>\n",
       "      <th>593</th>\n",
       "      <td>Piso</td>\n",
       "      <td>True</td>\n",
       "    </tr>\n",
       "    <tr>\n",
       "      <th>596</th>\n",
       "      <td>Piso</td>\n",
       "      <td>True</td>\n",
       "    </tr>\n",
       "  </tbody>\n",
       "</table>\n",
       "</div>"
      ],
      "text/plain": [
       "     Tipo  Inmobiliaria\n",
       "591  Piso          True\n",
       "593  Piso          True\n",
       "596  Piso          True"
      ]
     },
     "execution_count": 25,
     "metadata": {},
     "output_type": "execute_result"
    }
   ],
   "source": [
    "fotocasa5_df[[\"Tipo\",\"Inmobiliaria\"]].tail(3)"
   ]
  },
  {
   "cell_type": "markdown",
   "id": "381312d3",
   "metadata": {},
   "source": [
    "Muestra los campos Inmobiliaria y Tipo de inmueble de los tres últimos pisos:"
   ]
  },
  {
   "cell_type": "markdown",
   "id": "5626bf1b",
   "metadata": {},
   "source": [
    "## EJERCICIO 25"
   ]
  },
  {
   "cell_type": "code",
   "execution_count": 27,
   "id": "0f3ff15f",
   "metadata": {},
   "outputs": [
    {
     "data": {
      "text/plain": [
       "'Te presentamos este fabuloso apartamento situado en calle Balsas de Murcia, junto a Calle Correos. Zona céntrica con todos los servicios y a un minuto de la Catedral y la Universidad de la Merced. Se trata de una vivienda de dos dormitorios grandes, cocina independiente comunicada con el salón por un cristal, baño completo, recibidor y salón con balcón. La vivienda está reformada, para entrar a vivir con tarima, pintura lisa, puertas de madera lacadas en blanco, cocina equipada y tres consolas de aire acondicionado. Se alquila con muebles. Además, cuenta con la mejor orientación Levante mediodía. Llámanos y visítala!!'"
      ]
     },
     "execution_count": 27,
     "metadata": {},
     "output_type": "execute_result"
    }
   ],
   "source": [
    "fotocasa5_df.iloc[2,2]"
   ]
  },
  {
   "cell_type": "markdown",
   "id": "a3e08a47",
   "metadata": {},
   "source": [
    "Muestra el valor del DataFrame contenido en la posición (2,2):"
   ]
  },
  {
   "cell_type": "markdown",
   "id": "38293350",
   "metadata": {},
   "source": [
    "## EJERCICIO 26"
   ]
  },
  {
   "cell_type": "code",
   "execution_count": 28,
   "id": "4c8c645d",
   "metadata": {},
   "outputs": [
    {
     "data": {
      "text/plain": [
       "'Piso de alquiler en Doctor Marañón Centro'"
      ]
     },
     "execution_count": 28,
     "metadata": {},
     "output_type": "execute_result"
    }
   ],
   "source": [
    "fotocasa5_df.loc[2,\"Título\"]"
   ]
  },
  {
   "cell_type": "markdown",
   "id": "460d4de1",
   "metadata": {},
   "source": [
    "Muestra el valor del DataFrame cuyo índice es 2 y cuya columna es Título:"
   ]
  },
  {
   "cell_type": "markdown",
   "id": "3d59e291",
   "metadata": {},
   "source": [
    "## EJERCICIO 27"
   ]
  },
  {
   "cell_type": "code",
   "execution_count": 29,
   "id": "0c1108c1",
   "metadata": {},
   "outputs": [
    {
     "data": {
      "text/html": [
       "<div>\n",
       "<style scoped>\n",
       "    .dataframe tbody tr th:only-of-type {\n",
       "        vertical-align: middle;\n",
       "    }\n",
       "\n",
       "    .dataframe tbody tr th {\n",
       "        vertical-align: top;\n",
       "    }\n",
       "\n",
       "    .dataframe thead th {\n",
       "        text-align: right;\n",
       "    }\n",
       "</style>\n",
       "<table border=\"1\" class=\"dataframe\">\n",
       "  <thead>\n",
       "    <tr style=\"text-align: right;\">\n",
       "      <th></th>\n",
       "      <th>Precio</th>\n",
       "      <th>Título</th>\n",
       "      <th>Descripción</th>\n",
       "      <th>Fotos</th>\n",
       "      <th>Dirección</th>\n",
       "      <th>Inmobiliaria</th>\n",
       "      <th>Anunciante</th>\n",
       "      <th>Habitaciones</th>\n",
       "      <th>Baños</th>\n",
       "      <th>Superficie</th>\n",
       "      <th>...</th>\n",
       "      <th>Z. Comunitaria</th>\n",
       "      <th>Piscina</th>\n",
       "      <th>TV</th>\n",
       "      <th>Zona Deportiva</th>\n",
       "      <th>Zona Infantil</th>\n",
       "      <th>Piscina comunitaria</th>\n",
       "      <th>Serv. portería</th>\n",
       "      <th>Internet</th>\n",
       "      <th>Suite - con baño</th>\n",
       "      <th>Patio</th>\n",
       "    </tr>\n",
       "  </thead>\n",
       "  <tbody>\n",
       "    <tr>\n",
       "      <th>1</th>\n",
       "      <td>500 € /mes</td>\n",
       "      <td>Apartamento de alquiler en Centro</td>\n",
       "      <td>Maravilloso apartamento para entrar a vivir en...</td>\n",
       "      <td>21 Fotos</td>\n",
       "      <td>Centro</td>\n",
       "      <td>True</td>\n",
       "      <td>BREXTOM MURCIA</td>\n",
       "      <td>&lt;span&gt;&lt;span&gt;1&lt;/span&gt; hab.&lt;/span&gt;</td>\n",
       "      <td>&lt;span&gt;&lt;span&gt;1&lt;/span&gt; baño&lt;/span&gt;</td>\n",
       "      <td>&lt;span&gt;&lt;span&gt;46&lt;/span&gt; m²&lt;/span&gt;</td>\n",
       "      <td>...</td>\n",
       "      <td>NaN</td>\n",
       "      <td>NaN</td>\n",
       "      <td>NaN</td>\n",
       "      <td>NaN</td>\n",
       "      <td>NaN</td>\n",
       "      <td>NaN</td>\n",
       "      <td>NaN</td>\n",
       "      <td>NaN</td>\n",
       "      <td>NaN</td>\n",
       "      <td>NaN</td>\n",
       "    </tr>\n",
       "    <tr>\n",
       "      <th>12</th>\n",
       "      <td>500 € /mes</td>\n",
       "      <td>Apartamento de alquiler en Espinardo</td>\n",
       "      <td>Apartamento de 1 dormitorio,totalmente amuebla...</td>\n",
       "      <td>8 Fotos</td>\n",
       "      <td>Espinardo</td>\n",
       "      <td>True</td>\n",
       "      <td>OPAU MURCIA</td>\n",
       "      <td>&lt;span&gt;&lt;span&gt;1&lt;/span&gt; hab.&lt;/span&gt;</td>\n",
       "      <td>&lt;span&gt;&lt;span&gt;1&lt;/span&gt; baño&lt;/span&gt;</td>\n",
       "      <td>&lt;span&gt;&lt;span&gt;40&lt;/span&gt; m²&lt;/span&gt;</td>\n",
       "      <td>...</td>\n",
       "      <td>NaN</td>\n",
       "      <td>NaN</td>\n",
       "      <td>NaN</td>\n",
       "      <td>NaN</td>\n",
       "      <td>NaN</td>\n",
       "      <td>NaN</td>\n",
       "      <td>NaN</td>\n",
       "      <td>NaN</td>\n",
       "      <td>NaN</td>\n",
       "      <td>NaN</td>\n",
       "    </tr>\n",
       "    <tr>\n",
       "      <th>15</th>\n",
       "      <td>400 € /mes</td>\n",
       "      <td>Apartamento de alquiler en El Carmen</td>\n",
       "      <td>Apartamento con 1 dormitorio independiente, eq...</td>\n",
       "      <td>5 Fotos</td>\n",
       "      <td>El Carmen</td>\n",
       "      <td>True</td>\n",
       "      <td>OPAU MURCIA</td>\n",
       "      <td>&lt;span&gt;&lt;span&gt;1&lt;/span&gt; hab.&lt;/span&gt;</td>\n",
       "      <td>&lt;span&gt;&lt;span&gt;1&lt;/span&gt; baño&lt;/span&gt;</td>\n",
       "      <td>&lt;span&gt;&lt;span&gt;33&lt;/span&gt; m²&lt;/span&gt;</td>\n",
       "      <td>...</td>\n",
       "      <td>NaN</td>\n",
       "      <td>NaN</td>\n",
       "      <td>NaN</td>\n",
       "      <td>NaN</td>\n",
       "      <td>NaN</td>\n",
       "      <td>NaN</td>\n",
       "      <td>NaN</td>\n",
       "      <td>NaN</td>\n",
       "      <td>NaN</td>\n",
       "      <td>NaN</td>\n",
       "    </tr>\n",
       "  </tbody>\n",
       "</table>\n",
       "<p>3 rows × 53 columns</p>\n",
       "</div>"
      ],
      "text/plain": [
       "        Precio                                Título  \\\n",
       "1   500 € /mes     Apartamento de alquiler en Centro   \n",
       "12  500 € /mes  Apartamento de alquiler en Espinardo   \n",
       "15  400 € /mes  Apartamento de alquiler en El Carmen   \n",
       "\n",
       "                                          Descripción     Fotos  Dirección  \\\n",
       "1   Maravilloso apartamento para entrar a vivir en...  21 Fotos     Centro   \n",
       "12  Apartamento de 1 dormitorio,totalmente amuebla...   8 Fotos  Espinardo   \n",
       "15  Apartamento con 1 dormitorio independiente, eq...   5 Fotos  El Carmen   \n",
       "\n",
       "    Inmobiliaria      Anunciante                      Habitaciones  \\\n",
       "1           True  BREXTOM MURCIA  <span><span>1</span> hab.</span>   \n",
       "12          True     OPAU MURCIA  <span><span>1</span> hab.</span>   \n",
       "15          True     OPAU MURCIA  <span><span>1</span> hab.</span>   \n",
       "\n",
       "                               Baños                       Superficie  ...  \\\n",
       "1   <span><span>1</span> baño</span>  <span><span>46</span> m²</span>  ...   \n",
       "12  <span><span>1</span> baño</span>  <span><span>40</span> m²</span>  ...   \n",
       "15  <span><span>1</span> baño</span>  <span><span>33</span> m²</span>  ...   \n",
       "\n",
       "   Z. Comunitaria Piscina   TV Zona Deportiva Zona Infantil  \\\n",
       "1             NaN     NaN  NaN            NaN           NaN   \n",
       "12            NaN     NaN  NaN            NaN           NaN   \n",
       "15            NaN     NaN  NaN            NaN           NaN   \n",
       "\n",
       "   Piscina comunitaria Serv. portería Internet Suite - con baño Patio  \n",
       "1                  NaN            NaN      NaN              NaN   NaN  \n",
       "12                 NaN            NaN      NaN              NaN   NaN  \n",
       "15                 NaN            NaN      NaN              NaN   NaN  \n",
       "\n",
       "[3 rows x 53 columns]"
      ]
     },
     "execution_count": 29,
     "metadata": {},
     "output_type": "execute_result"
    }
   ],
   "source": [
    "fotocasa5_df[fotocasa5_df[\"Tipo\"] == \"Apartamento\"].head(3)"
   ]
  },
  {
   "cell_type": "markdown",
   "id": "90422333",
   "metadata": {},
   "source": [
    "Muestra los tres primeros inmuebles de Tipo de inmueble = Apartamento:"
   ]
  },
  {
   "cell_type": "markdown",
   "id": "4782f1d2",
   "metadata": {},
   "source": [
    "## EJERCICIO 28"
   ]
  },
  {
   "cell_type": "code",
   "execution_count": 31,
   "id": "d97f0578",
   "metadata": {},
   "outputs": [
    {
     "data": {
      "text/html": [
       "<div>\n",
       "<style scoped>\n",
       "    .dataframe tbody tr th:only-of-type {\n",
       "        vertical-align: middle;\n",
       "    }\n",
       "\n",
       "    .dataframe tbody tr th {\n",
       "        vertical-align: top;\n",
       "    }\n",
       "\n",
       "    .dataframe thead th {\n",
       "        text-align: right;\n",
       "    }\n",
       "</style>\n",
       "<table border=\"1\" class=\"dataframe\">\n",
       "  <thead>\n",
       "    <tr style=\"text-align: right;\">\n",
       "      <th></th>\n",
       "      <th>Precio</th>\n",
       "      <th>Título</th>\n",
       "      <th>Descripción</th>\n",
       "      <th>Fotos</th>\n",
       "      <th>Dirección</th>\n",
       "      <th>Inmobiliaria</th>\n",
       "      <th>Anunciante</th>\n",
       "      <th>Habitaciones</th>\n",
       "      <th>Baños</th>\n",
       "      <th>Superficie</th>\n",
       "      <th>...</th>\n",
       "      <th>Z. Comunitaria</th>\n",
       "      <th>Piscina</th>\n",
       "      <th>TV</th>\n",
       "      <th>Zona Deportiva</th>\n",
       "      <th>Zona Infantil</th>\n",
       "      <th>Piscina comunitaria</th>\n",
       "      <th>Serv. portería</th>\n",
       "      <th>Internet</th>\n",
       "      <th>Suite - con baño</th>\n",
       "      <th>Patio</th>\n",
       "    </tr>\n",
       "  </thead>\n",
       "  <tbody>\n",
       "    <tr>\n",
       "      <th>36</th>\n",
       "      <td>550 € /mes</td>\n",
       "      <td>Piso de alquiler en Calle Joaquín Báguena, 10 ...</td>\n",
       "      <td>Alquilo piso centrico y muy cuidado, con parqu...</td>\n",
       "      <td>15 Fotos</td>\n",
       "      <td>Calle Joaquín Báguena, 10 Centro</td>\n",
       "      <td>False</td>\n",
       "      <td>&lt;span class=\"re-ContactDetail-particularLabel\"...</td>\n",
       "      <td>&lt;span&gt;&lt;span&gt;2&lt;/span&gt; habs.&lt;/span&gt;</td>\n",
       "      <td>&lt;span&gt;&lt;span&gt;1&lt;/span&gt; baño&lt;/span&gt;</td>\n",
       "      <td>&lt;span&gt;&lt;span&gt;53&lt;/span&gt; m²&lt;/span&gt;</td>\n",
       "      <td>...</td>\n",
       "      <td>NaN</td>\n",
       "      <td>NaN</td>\n",
       "      <td>NaN</td>\n",
       "      <td>NaN</td>\n",
       "      <td>NaN</td>\n",
       "      <td>NaN</td>\n",
       "      <td>NaN</td>\n",
       "      <td>NaN</td>\n",
       "      <td>NaN</td>\n",
       "      <td>NaN</td>\n",
       "    </tr>\n",
       "    <tr>\n",
       "      <th>38</th>\n",
       "      <td>560 € /mes</td>\n",
       "      <td>Piso de alquiler en Avenida del Palmar, 44 Ron...</td>\n",
       "      <td>RONDA SUR (Zona innovadora)\\nParticular (Sin c...</td>\n",
       "      <td>20 Fotos</td>\n",
       "      <td>Avenida del Palmar, 44 Ronda Sur</td>\n",
       "      <td>False</td>\n",
       "      <td>&lt;span class=\"re-ContactDetail-particularLabel\"...</td>\n",
       "      <td>&lt;span&gt;&lt;span&gt;2&lt;/span&gt; habs.&lt;/span&gt;</td>\n",
       "      <td>&lt;span&gt;&lt;span&gt;1&lt;/span&gt; baño&lt;/span&gt;</td>\n",
       "      <td>&lt;span&gt;&lt;span&gt;78&lt;/span&gt; m²&lt;/span&gt;</td>\n",
       "      <td>...</td>\n",
       "      <td>NaN</td>\n",
       "      <td>NaN</td>\n",
       "      <td>True</td>\n",
       "      <td>NaN</td>\n",
       "      <td>NaN</td>\n",
       "      <td>NaN</td>\n",
       "      <td>NaN</td>\n",
       "      <td>NaN</td>\n",
       "      <td>NaN</td>\n",
       "      <td>NaN</td>\n",
       "    </tr>\n",
       "  </tbody>\n",
       "</table>\n",
       "<p>2 rows × 53 columns</p>\n",
       "</div>"
      ],
      "text/plain": [
       "        Precio                                             Título  \\\n",
       "36  550 € /mes  Piso de alquiler en Calle Joaquín Báguena, 10 ...   \n",
       "38  560 € /mes  Piso de alquiler en Avenida del Palmar, 44 Ron...   \n",
       "\n",
       "                                          Descripción     Fotos  \\\n",
       "36  Alquilo piso centrico y muy cuidado, con parqu...  15 Fotos   \n",
       "38  RONDA SUR (Zona innovadora)\\nParticular (Sin c...  20 Fotos   \n",
       "\n",
       "                           Dirección  Inmobiliaria  \\\n",
       "36  Calle Joaquín Báguena, 10 Centro         False   \n",
       "38  Avenida del Palmar, 44 Ronda Sur         False   \n",
       "\n",
       "                                           Anunciante  \\\n",
       "36  <span class=\"re-ContactDetail-particularLabel\"...   \n",
       "38  <span class=\"re-ContactDetail-particularLabel\"...   \n",
       "\n",
       "                         Habitaciones                             Baños  \\\n",
       "36  <span><span>2</span> habs.</span>  <span><span>1</span> baño</span>   \n",
       "38  <span><span>2</span> habs.</span>  <span><span>1</span> baño</span>   \n",
       "\n",
       "                         Superficie  ... Z. Comunitaria Piscina    TV  \\\n",
       "36  <span><span>53</span> m²</span>  ...            NaN     NaN   NaN   \n",
       "38  <span><span>78</span> m²</span>  ...            NaN     NaN  True   \n",
       "\n",
       "   Zona Deportiva Zona Infantil Piscina comunitaria Serv. portería Internet  \\\n",
       "36            NaN           NaN                 NaN            NaN      NaN   \n",
       "38            NaN           NaN                 NaN            NaN      NaN   \n",
       "\n",
       "   Suite - con baño Patio  \n",
       "36              NaN   NaN  \n",
       "38              NaN   NaN  \n",
       "\n",
       "[2 rows x 53 columns]"
      ]
     },
     "execution_count": 31,
     "metadata": {},
     "output_type": "execute_result"
    }
   ],
   "source": [
    "fotocasa5_df[(fotocasa5_df[\"Tipo\"] == \"Piso\") & (fotocasa5_df[\"Inmobiliaria\"] == False)].head(2)"
   ]
  },
  {
   "cell_type": "markdown",
   "id": "b6e5cbaf",
   "metadata": {},
   "source": [
    "Muestra los dos primeros inmuebles de Tipo de inmueble = Piso y que no se alquilen por inmobiliaria (Inmobiliaria = False):"
   ]
  },
  {
   "cell_type": "markdown",
   "id": "f2d48ba8",
   "metadata": {},
   "source": [
    "## EJERCICIO 29"
   ]
  },
  {
   "cell_type": "code",
   "execution_count": 32,
   "id": "312ef766",
   "metadata": {},
   "outputs": [
    {
     "data": {
      "text/html": [
       "<div>\n",
       "<style scoped>\n",
       "    .dataframe tbody tr th:only-of-type {\n",
       "        vertical-align: middle;\n",
       "    }\n",
       "\n",
       "    .dataframe tbody tr th {\n",
       "        vertical-align: top;\n",
       "    }\n",
       "\n",
       "    .dataframe thead th {\n",
       "        text-align: right;\n",
       "    }\n",
       "</style>\n",
       "<table border=\"1\" class=\"dataframe\">\n",
       "  <thead>\n",
       "    <tr style=\"text-align: right;\">\n",
       "      <th></th>\n",
       "      <th>Precio</th>\n",
       "      <th>Título</th>\n",
       "      <th>Descripción</th>\n",
       "      <th>Fotos</th>\n",
       "      <th>Dirección</th>\n",
       "      <th>Inmobiliaria</th>\n",
       "      <th>Anunciante</th>\n",
       "      <th>Habitaciones</th>\n",
       "      <th>Baños</th>\n",
       "      <th>Superficie</th>\n",
       "      <th>...</th>\n",
       "      <th>Z. Comunitaria</th>\n",
       "      <th>Piscina</th>\n",
       "      <th>TV</th>\n",
       "      <th>Zona Deportiva</th>\n",
       "      <th>Zona Infantil</th>\n",
       "      <th>Piscina comunitaria</th>\n",
       "      <th>Serv. portería</th>\n",
       "      <th>Internet</th>\n",
       "      <th>Suite - con baño</th>\n",
       "      <th>Patio</th>\n",
       "    </tr>\n",
       "  </thead>\n",
       "  <tbody>\n",
       "    <tr>\n",
       "      <th>597</th>\n",
       "      <td>A consultar</td>\n",
       "      <td>Piso de alquiler en San Andrés - San Antón</td>\n",
       "      <td>ATENCIÓN ESTUDIANTES, MAGNÍFICA VIVIENDA RONDA...</td>\n",
       "      <td>10 Fotos</td>\n",
       "      <td>San Andrés - San Antón</td>\n",
       "      <td>True</td>\n",
       "      <td>DPTO. COMERCIAL PISOSMUR</td>\n",
       "      <td>&lt;span&gt;&lt;span&gt;4&lt;/span&gt; habs.&lt;/span&gt;</td>\n",
       "      <td>&lt;span&gt;&lt;span&gt;2&lt;/span&gt; baños&lt;/span&gt;</td>\n",
       "      <td>&lt;span&gt;&lt;span&gt;120&lt;/span&gt; m²&lt;/span&gt;</td>\n",
       "      <td>...</td>\n",
       "      <td>NaN</td>\n",
       "      <td>True</td>\n",
       "      <td>NaN</td>\n",
       "      <td>NaN</td>\n",
       "      <td>NaN</td>\n",
       "      <td>NaN</td>\n",
       "      <td>NaN</td>\n",
       "      <td>NaN</td>\n",
       "      <td>NaN</td>\n",
       "      <td>NaN</td>\n",
       "    </tr>\n",
       "    <tr>\n",
       "      <th>598</th>\n",
       "      <td>A consultar</td>\n",
       "      <td>Piso de alquiler en El Ranero</td>\n",
       "      <td>ATENCIÓN ESTUDIANTES JUNTO A LA ESCUELA DE IDI...</td>\n",
       "      <td>7 Fotos</td>\n",
       "      <td>El Ranero</td>\n",
       "      <td>True</td>\n",
       "      <td>DPTO. COMERCIAL PISOSMUR</td>\n",
       "      <td>&lt;span&gt;&lt;span&gt;4&lt;/span&gt; habs.&lt;/span&gt;</td>\n",
       "      <td>&lt;span&gt;&lt;span&gt;2&lt;/span&gt; baños&lt;/span&gt;</td>\n",
       "      <td>NaN</td>\n",
       "      <td>...</td>\n",
       "      <td>NaN</td>\n",
       "      <td>NaN</td>\n",
       "      <td>True</td>\n",
       "      <td>NaN</td>\n",
       "      <td>NaN</td>\n",
       "      <td>NaN</td>\n",
       "      <td>NaN</td>\n",
       "      <td>NaN</td>\n",
       "      <td>NaN</td>\n",
       "      <td>NaN</td>\n",
       "    </tr>\n",
       "  </tbody>\n",
       "</table>\n",
       "<p>2 rows × 53 columns</p>\n",
       "</div>"
      ],
      "text/plain": [
       "          Precio                                      Título  \\\n",
       "597  A consultar  Piso de alquiler en San Andrés - San Antón   \n",
       "598  A consultar               Piso de alquiler en El Ranero   \n",
       "\n",
       "                                           Descripción     Fotos  \\\n",
       "597  ATENCIÓN ESTUDIANTES, MAGNÍFICA VIVIENDA RONDA...  10 Fotos   \n",
       "598  ATENCIÓN ESTUDIANTES JUNTO A LA ESCUELA DE IDI...   7 Fotos   \n",
       "\n",
       "                  Dirección  Inmobiliaria                Anunciante  \\\n",
       "597  San Andrés - San Antón          True  DPTO. COMERCIAL PISOSMUR   \n",
       "598               El Ranero          True  DPTO. COMERCIAL PISOSMUR   \n",
       "\n",
       "                          Habitaciones                              Baños  \\\n",
       "597  <span><span>4</span> habs.</span>  <span><span>2</span> baños</span>   \n",
       "598  <span><span>4</span> habs.</span>  <span><span>2</span> baños</span>   \n",
       "\n",
       "                           Superficie  ... Z. Comunitaria Piscina    TV  \\\n",
       "597  <span><span>120</span> m²</span>  ...            NaN    True   NaN   \n",
       "598                               NaN  ...            NaN     NaN  True   \n",
       "\n",
       "    Zona Deportiva Zona Infantil Piscina comunitaria Serv. portería Internet  \\\n",
       "597            NaN           NaN                 NaN            NaN      NaN   \n",
       "598            NaN           NaN                 NaN            NaN      NaN   \n",
       "\n",
       "    Suite - con baño Patio  \n",
       "597              NaN   NaN  \n",
       "598              NaN   NaN  \n",
       "\n",
       "[2 rows x 53 columns]"
      ]
     },
     "execution_count": 32,
     "metadata": {},
     "output_type": "execute_result"
    }
   ],
   "source": [
    "fotocasa3_df = fotocasa2_df.iloc[597:599]\n",
    "fotocasa2_df.drop(fotocasa2_df.index[597:599])\n",
    "fotocasa3_df"
   ]
  },
  {
   "cell_type": "markdown",
   "id": "18e1b9ff",
   "metadata": {},
   "source": [
    "Elimina del DataFrame contenido en fotocasa2_df los alquileres de la posición 597 y 598. Asigna el resultado a fotocasa3_df:"
   ]
  }
 ],
 "metadata": {
  "kernelspec": {
   "display_name": "Python 3 (ipykernel)",
   "language": "python",
   "name": "python3"
  },
  "language_info": {
   "codemirror_mode": {
    "name": "ipython",
    "version": 3
   },
   "file_extension": ".py",
   "mimetype": "text/x-python",
   "name": "python",
   "nbconvert_exporter": "python",
   "pygments_lexer": "ipython3",
   "version": "3.12.4"
  }
 },
 "nbformat": 4,
 "nbformat_minor": 5
}
