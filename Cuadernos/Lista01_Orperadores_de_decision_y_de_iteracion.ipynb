{
  "cells": [
    {
      "cell_type": "markdown",
      "id": "f9c06951",
      "metadata": {
        "id": "f9c06951"
      },
      "source": [
        "# LISTA 1 - OPERADORES DE DECISIÓN Y DE ITERACIÓN"
      ]
    },
    {
      "cell_type": "markdown",
      "id": "d70d2839",
      "metadata": {
        "id": "d70d2839"
      },
      "source": [
        "## EJERCICIO 1"
      ]
    },
    {
      "cell_type": "code",
      "source": [
        "while True:\n",
        "  try:\n",
        "    user_input = int(input(\"Introduce un número: \"))\n",
        "  except ValueError:\n",
        "    print(\"Por favor introduce solo números\")\n",
        "  if user_input!=0:\n",
        "    if user_input%2!=1:\n",
        "      print(\"El número\",user_input,\"es par\")\n",
        "    else:\n",
        "      print(\"El número\",user_input,\"es impar\")\n",
        "  else:\n",
        "    break"
      ],
      "metadata": {
        "colab": {
          "base_uri": "https://localhost:8080/"
        },
        "id": "40PKNOvx6nHc",
        "outputId": "1e8ea763-482b-46af-9a6f-c3352665008a"
      },
      "id": "40PKNOvx6nHc",
      "execution_count": null,
      "outputs": [
        {
          "name": "stdout",
          "output_type": "stream",
          "text": [
            "Introduce un número: 0\n"
          ]
        }
      ]
    },
    {
      "cell_type": "markdown",
      "id": "6de3f4d0",
      "metadata": {
        "id": "6de3f4d0"
      },
      "source": [
        "Haz que el usuario introduzca números enteros por teclado. Mientras el usuario no introduzca el 0, muestra si el número introducido es par o impar."
      ]
    },
    {
      "cell_type": "markdown",
      "id": "28b6f5c0",
      "metadata": {
        "id": "28b6f5c0"
      },
      "source": [
        "## EJERCICIO 2"
      ]
    },
    {
      "cell_type": "code",
      "source": [
        "nombre = input(\"Cuál es tu nombre?: \")\n",
        "if len(nombre)>10:\n",
        "  print(f\"Tu nombre {nombre} tiene más de 10 caracteres\")\n",
        "else:\n",
        "  print(f\"Tu nombre {nombre} tiene menos de 10 caracteres\")"
      ],
      "metadata": {
        "colab": {
          "base_uri": "https://localhost:8080/"
        },
        "id": "IQFuyQII8g1k",
        "outputId": "07f5782f-32fd-4f2f-dfdd-985c992c9f97"
      },
      "id": "IQFuyQII8g1k",
      "execution_count": null,
      "outputs": [
        {
          "output_type": "stream",
          "name": "stdout",
          "text": [
            "Cuál es tu nombre?: esternocleidomastoideo\n",
            "Tu nombre esternocleidomastoideo tiene más de 10 caracteres\n"
          ]
        }
      ]
    },
    {
      "cell_type": "markdown",
      "id": "9ccfc0d9",
      "metadata": {
        "id": "9ccfc0d9"
      },
      "source": [
        "Haz que un usuario introduzca su nombre y evalúa con operadores if y else si dicho nombre tiene una longitud mayor a 10 caracteres o no. Devuelve por pantalla el resultado en cada caso (en el resultado debe aparecer el nombre usado por el usuario, para ello usa format en el método print)."
      ]
    },
    {
      "cell_type": "markdown",
      "id": "73f81d57",
      "metadata": {
        "id": "73f81d57"
      },
      "source": [
        "## EJERCICIO 3"
      ]
    },
    {
      "cell_type": "code",
      "source": [
        "n1 = int(input(\"Introduce el primer número: \"))\n",
        "n2 = int(input(\"Introduce el segundo número: \"))\n",
        "if n1>=n2:\n",
        "  print(f\"{n1} es mayor o igual que {n2}\")\n",
        "  resto = n1%n2\n",
        "  if resto==0:\n",
        "    print(f\"La división es exacta. El cociente es {n1//n2}\")\n",
        "  else:\n",
        "    print(f\"La división no es exacta. El cociente es {n1//n2} y el resto es {resto}\")\n",
        "else:\n",
        "  print(f\"{n2} es mayor o igual que {n1}\")\n",
        "  resto = n2%n1\n",
        "  if resto==0:\n",
        "    print(f\"La división es exacta. El cociente es {n2//n1}\")\n",
        "  else:\n",
        "    print(f\"La división no es exacta. El cociente es {n2//n1} y el resto es {resto}\")"
      ],
      "metadata": {
        "colab": {
          "base_uri": "https://localhost:8080/"
        },
        "id": "FvUu5z5pId-m",
        "outputId": "30e2fcef-fa09-4fbe-e635-38e667a2eb0f"
      },
      "id": "FvUu5z5pId-m",
      "execution_count": null,
      "outputs": [
        {
          "output_type": "stream",
          "name": "stdout",
          "text": [
            "Introduce el primer número: 2\n",
            "Introduce el segundo número: 51\n",
            "51 es mayor o igual que 2\n",
            "La división no es exacta. El cociente es 25 y el resto es 1\n"
          ]
        }
      ]
    },
    {
      "cell_type": "markdown",
      "id": "49fb6c34",
      "metadata": {
        "id": "49fb6c34"
      },
      "source": [
        "Pide al usuario que introduzca dos números enteros por pantalla y:\n",
        "* Comprueba si el primer número es mayor o igual al segundo número introducido por el usuario e informa al usuario (x>=y)\n",
        "* Haz la división entera pertinente en cada caso.\n",
        "  * Si la división es exacta, entonces devolver por pantalla el cociente e indicar que la división es exacta.\n",
        "  * Si la división no es exacta, entonces devolver por pantalla el cociente y el resto e indicar que la división realizada no es exacta."
      ]
    },
    {
      "cell_type": "markdown",
      "id": "75e63cb2",
      "metadata": {
        "id": "75e63cb2"
      },
      "source": [
        "## EJERCICIO 4"
      ]
    },
    {
      "cell_type": "code",
      "source": [
        "n1= int(input(\"Introduce un número:\"))\n",
        "n2= int(input(\"Introduce otro número:\"))\n",
        "if n1 >= n2:\n",
        "  if n1%n2 == 0:\n",
        "    print(f\"{n1} es múltiplo de {n2}\")\n",
        "  else:\n",
        "    print(f\"{n1} no es múltiplo de {n2}\")\n",
        "else:\n",
        "  if n2%n1 == 0:\n",
        "    print(f\"{n2} es múltiplo de {n1}\")\n",
        "  else:\n",
        "    print(f\"{n2} no es múltiplo de {n1}\")\n"
      ],
      "metadata": {
        "colab": {
          "base_uri": "https://localhost:8080/"
        },
        "id": "mYeRP6bNK1gi",
        "outputId": "2e5630dd-3ea2-4904-fcec-23d14a646a53"
      },
      "id": "mYeRP6bNK1gi",
      "execution_count": null,
      "outputs": [
        {
          "output_type": "stream",
          "name": "stdout",
          "text": [
            "Introduce un número:3\n",
            "Introduce otro número:286\n",
            "286 no es múltiplo de 3\n"
          ]
        }
      ]
    },
    {
      "cell_type": "markdown",
      "id": "2c98004a",
      "metadata": {
        "id": "2c98004a"
      },
      "source": [
        "Haz que un usuario introduzca dos números enteros positivos. Comprueba si el mayor es múltiplo del menor. Devuelve por pantalla el resultado en cada caso."
      ]
    },
    {
      "cell_type": "markdown",
      "id": "a044da35",
      "metadata": {
        "id": "a044da35"
      },
      "source": [
        "## EJERCICIO 5"
      ]
    },
    {
      "cell_type": "code",
      "source": [
        "word = input(\"Introduce una palabra: \")\n",
        "if word[0].isupper():\n",
        "  print(f\"La primera letra de {word} es mayúscula\")\n",
        "else:\n",
        "  print(f\"La primera letra de {word} no es mayúscula\")"
      ],
      "metadata": {
        "colab": {
          "base_uri": "https://localhost:8080/"
        },
        "id": "W1tWevIDMHxG",
        "outputId": "d8fc66b4-d528-421f-969d-86222da4bd67"
      },
      "id": "W1tWevIDMHxG",
      "execution_count": null,
      "outputs": [
        {
          "output_type": "stream",
          "name": "stdout",
          "text": [
            "Introduce una palabra: Pepino\n",
            "La primera letra de Pepino es mayúscula\n"
          ]
        }
      ]
    },
    {
      "cell_type": "markdown",
      "id": "473a499c",
      "metadata": {
        "id": "473a499c"
      },
      "source": [
        "Haz que un usuario introduzca una palabra y comprueba si dicha palabra empieza por mayúscula. Devuelve por pantalla el resultado en cada caso."
      ]
    },
    {
      "cell_type": "markdown",
      "id": "1e0c6b87",
      "metadata": {
        "id": "1e0c6b87"
      },
      "source": [
        "## EJERCICIO 6"
      ]
    },
    {
      "cell_type": "code",
      "source": [
        "vocal = ['a','e','i','o','u']\n",
        "letter = input(\"Introduce solo una letra: \").lower()\n",
        "while len(letter) > 1:\n",
        "  print(\"Error\")\n",
        "  letter = input(\"Introduce solo una letra: \").lower()\n",
        "if letter in vocal:\n",
        "  print(f\"La letra {letter} es vocal\")\n",
        "else:\n",
        "  print(f\"La letra {letter} no es vocal\")\n"
      ],
      "metadata": {
        "colab": {
          "base_uri": "https://localhost:8080/"
        },
        "id": "iYBLEdoDMijF",
        "outputId": "14f65afe-8e9f-4339-9ab1-88df2364e472"
      },
      "id": "iYBLEdoDMijF",
      "execution_count": null,
      "outputs": [
        {
          "output_type": "stream",
          "name": "stdout",
          "text": [
            "Introduce solo una letra: U\n",
            "La letra u es vocal\n"
          ]
        }
      ]
    },
    {
      "cell_type": "markdown",
      "id": "fdad22cc",
      "metadata": {
        "id": "fdad22cc"
      },
      "source": [
        "Haz que un usuario introduzca una letra y comprueba si se trata de una vocal. Si el usuario introduce un string de más de un carácter, infórmale de que no se puede procesar el dato, pues debe tener como máximo tamaño 1. Convierte la letra introducida a minúsculas para tener que realizar menos comprobaciones."
      ]
    },
    {
      "cell_type": "markdown",
      "id": "df74b4e7",
      "metadata": {
        "id": "df74b4e7"
      },
      "source": [
        "## EJERCICIO 7"
      ]
    },
    {
      "cell_type": "code",
      "source": [
        "import math\n",
        "a = int(input(\"Introduce el valor de 'a': \"))\n",
        "b = int(input(\"Introduce el valor de 'b': \"))\n",
        "c = int(input(\"Introduce el valor de 'c': \"))\n",
        "disc = b * b - 4 * a * c\n",
        "if disc < 0:\n",
        "  print(\"La ecuación no tiene solución\")\n",
        "else:\n",
        "  raiz = math.sqrt(disc)\n",
        "  x_1 = (-b + raiz) / (2 * a)\n",
        "  if disc != 0:\n",
        "    x_2 = (-b - raiz) / (2 * a)\n",
        "    print(f\"Las soluciones para {a}x²+{b}x+{c} = 02 son {x_1} y {x_2}\")\n",
        "  else:\n",
        "    print(f\"La solucion para {a}x²+{b}x+{c} es {x_1}\")"
      ],
      "metadata": {
        "colab": {
          "base_uri": "https://localhost:8080/"
        },
        "id": "DhPszWO1NXzQ",
        "outputId": "6c15d5ad-a0bb-43d6-fd00-5f1b36b217c3"
      },
      "id": "DhPszWO1NXzQ",
      "execution_count": null,
      "outputs": [
        {
          "output_type": "stream",
          "name": "stdout",
          "text": [
            "Introduce el valor de 'a': 4\n",
            "Introduce el valor de 'b': 2\n",
            "Introduce el valor de 'c': 0\n",
            "Las soluciones para 4x²+2x+0 = 0 son 0.0 y -0.5\n"
          ]
        }
      ]
    },
    {
      "cell_type": "markdown",
      "id": "aff89d46",
      "metadata": {
        "id": "aff89d46"
      },
      "source": [
        "Haz que el usuario introduzca los valores de los coeficientes a, b y c de una ecuación de segundo grado (ax2 + bx + c = 0) y resuelve la ecuación siempre que tenga soluciones reales. Muestra las soluciones sólo con dos decimales (usa format dentro de print)"
      ]
    },
    {
      "cell_type": "markdown",
      "id": "3bbee414",
      "metadata": {
        "id": "3bbee414"
      },
      "source": [
        "## EJERCICIO 8"
      ]
    },
    {
      "cell_type": "code",
      "source": [
        "print(\"Este es el ejercicio 1\")"
      ],
      "metadata": {
        "colab": {
          "base_uri": "https://localhost:8080/"
        },
        "id": "oX8yWXG-Rief",
        "outputId": "ffe5e9f6-a559-401a-fa09-44e3f14bd5dc"
      },
      "id": "oX8yWXG-Rief",
      "execution_count": null,
      "outputs": [
        {
          "output_type": "stream",
          "name": "stdout",
          "text": [
            "Este es el ejercicio 1\n"
          ]
        }
      ]
    },
    {
      "cell_type": "markdown",
      "id": "1acacbca",
      "metadata": {
        "id": "1acacbca"
      },
      "source": [
        "Haz que el usuario introduzca números enteros por teclado. Mientras el usuario no introduzca el 0, muestra si el número introducido es par o impar."
      ]
    },
    {
      "cell_type": "markdown",
      "id": "c0a5faa8",
      "metadata": {
        "id": "c0a5faa8"
      },
      "source": [
        "## EJERCICIO 9"
      ]
    },
    {
      "cell_type": "code",
      "source": [
        "total = 0\n",
        "price = float(input(\"Introduce un precio:\"))\n",
        "total += price\n",
        "while total < 200 and price != 0:\n",
        "  print(f\"Tu total es de {total} euros\")\n",
        "  price = float(input(\"Introduce un precio:\"))\n",
        "  total += price\n",
        "print(f\"Tu total es de {total} euros\")"
      ],
      "metadata": {
        "colab": {
          "base_uri": "https://localhost:8080/"
        },
        "id": "ni7mjVx2R6x2",
        "outputId": "45c6457a-695f-45fb-af70-4d1094371b40"
      },
      "id": "ni7mjVx2R6x2",
      "execution_count": null,
      "outputs": [
        {
          "output_type": "stream",
          "name": "stdout",
          "text": [
            "Introduce un precio:182\n",
            "Tu total es de 182.0 euros\n",
            "Introduce un precio:1.22\n",
            "Tu total es de 183.22 euros\n",
            "Introduce un precio:5.41\n",
            "Tu total es de 188.63 euros\n",
            "Introduce un precio:22.3\n",
            "Tu total es de 210.93 euros\n"
          ]
        }
      ]
    },
    {
      "cell_type": "markdown",
      "id": "cb1b44fb",
      "metadata": {
        "id": "cb1b44fb"
      },
      "source": [
        "Haz que el usuario introduzca precios por teclado (si introduce 0, entonces es que ha finalizado). Si el usuario pasa de 200€, entonces ya no debe poder introducir más precios pues se ha pasado de presupuesto. Sea cual sea el resultado (o bien el precio final o bien que no tiene más presupuesto y la cantidad final)."
      ]
    },
    {
      "cell_type": "markdown",
      "id": "285580df",
      "metadata": {
        "id": "285580df"
      },
      "source": [
        "## EJERCICIO 10"
      ]
    },
    {
      "cell_type": "code",
      "source": [
        "n = int(input(\"Introduce números enteros o 0 para parar:\"))\n",
        "lista = []\n",
        "lista.append(n)\n",
        "while n != 0:\n",
        "  n = int(input(\"Introduce números enteros o 0 para parar:\"))\n",
        "  if n != 0:\n",
        "    lista.append(n)\n",
        "pos = 0\n",
        "neg = 0\n",
        "for i in lista:\n",
        "  if i > 0:\n",
        "    pos += 1\n",
        "  else:\n",
        "    neg += 1\n",
        "print(f\"Has introducido un total de {pos} números positivos y {neg} números negativos\")\n",
        "print(lista)"
      ],
      "metadata": {
        "colab": {
          "base_uri": "https://localhost:8080/"
        },
        "id": "XWIsOwGIToou",
        "outputId": "26897734-80e7-40c9-d932-915e122d07c8"
      },
      "id": "XWIsOwGIToou",
      "execution_count": null,
      "outputs": [
        {
          "output_type": "stream",
          "name": "stdout",
          "text": [
            "Introduce números enteros o 0 para parar:123\n",
            "Introduce números enteros o 0 para parar:-2\n",
            "Introduce números enteros o 0 para parar:-31\n",
            "Introduce números enteros o 0 para parar:0\n",
            "Has introducido un total de 1 números positivos y 2 números negativos\n",
            "[123, -2, -31]\n"
          ]
        }
      ]
    },
    {
      "cell_type": "markdown",
      "id": "c7ec2aab",
      "metadata": {
        "id": "c7ec2aab"
      },
      "source": [
        "Haz que el usuario introduzca números enteros por teclado. Mientras el usuario no introduzca el 0, calcula cuántos números positivos y cuántos negativos ha introducido y muéstraselo al final."
      ]
    },
    {
      "cell_type": "markdown",
      "id": "82261b10",
      "metadata": {
        "id": "82261b10"
      },
      "source": [
        "## EJERCICIO 11"
      ]
    },
    {
      "cell_type": "code",
      "source": [
        "n1 = int(input(\"Introduce el extremo izquiero: \"))\n",
        "n2 = int(input(\"Introduce el extremo derecho: \"))\n",
        "start = n1\n",
        "cantidad = 0\n",
        "total = 0\n",
        "\n",
        "while start >= n2:\n",
        "  if start % 3 == 0:\n",
        "    cantidad += 1\n",
        "    total += start\n",
        "  start -= 1\n",
        "\n",
        "print(f\"La suma de los múltiplos de 3 entre {n1} y {n2} es de {total} y son un total de {cantidad} números\")"
      ],
      "metadata": {
        "colab": {
          "base_uri": "https://localhost:8080/"
        },
        "id": "pJAjttJmVZjs",
        "outputId": "3e707d2a-384d-4e6d-fe81-e5a40e389059"
      },
      "id": "pJAjttJmVZjs",
      "execution_count": null,
      "outputs": [
        {
          "output_type": "stream",
          "name": "stdout",
          "text": [
            "Introduce el extremo izquiero: 41222\n",
            "Introduce el extremo derecho: 14\n",
            "La suma de los múltiplos de 3 entre 41222 y 14 es de 283201980 y son un total de 13736 números\n"
          ]
        }
      ]
    },
    {
      "cell_type": "markdown",
      "id": "38918bae",
      "metadata": {
        "id": "38918bae"
      },
      "source": [
        "Haz que el usuario introduzca dos números enteros por teclado. El primero será el extremo izquierdo del intervalo y, el segundo, el extremo derecho. Imprime la suma de todos los múltiplos de 3 que se encuentren entre los dos números introducidos por el usuario (los extremos incluidos). Finalmente, muestra por pantalla el resultado de la media de los múltiplos de 3."
      ]
    },
    {
      "cell_type": "markdown",
      "id": "c3d775ce",
      "metadata": {
        "id": "c3d775ce"
      },
      "source": [
        "## EJERCICIO 12"
      ]
    },
    {
      "cell_type": "code",
      "source": [
        "cantidad = int(input(\"Cuantos numeros vas a meter? \"))\n",
        "producto = 1\n",
        "for i in range(cantidad):\n",
        "  producto *= int(input(\"Introduce un número \"))\n",
        "print(f\"El total es de: {producto}\")"
      ],
      "metadata": {
        "colab": {
          "base_uri": "https://localhost:8080/"
        },
        "id": "lgxao8JyZw0W",
        "outputId": "d6a70b93-6c97-4c87-b2a4-909fdcc59243"
      },
      "id": "lgxao8JyZw0W",
      "execution_count": null,
      "outputs": [
        {
          "output_type": "stream",
          "name": "stdout",
          "text": [
            "Cuantos numeros vas a meter? 6\n",
            "Introduce un número 123\n",
            "Introduce un número 4\n",
            "Introduce un número 412\n",
            "Introduce un número 23\n",
            "Introduce un número 6\n",
            "Introduce un número 235\n",
            "El total es de: 6573690720\n"
          ]
        }
      ]
    },
    {
      "cell_type": "markdown",
      "id": "06be9e73",
      "metadata": {
        "id": "06be9e73"
      },
      "source": [
        "Pídele al usuario cuántos números va a introducir. Con un bucle for, solicítale esa cantidad de números y calcula su producto."
      ]
    },
    {
      "cell_type": "markdown",
      "id": "8f71c1c4",
      "metadata": {
        "id": "8f71c1c4"
      },
      "source": [
        "## EJERCICIO 13"
      ]
    },
    {
      "cell_type": "code",
      "source": [
        "length = int(input(\"Introduce la longitud: \"))\n",
        "\n",
        "# Comienzo triangulo\n",
        "row = 1\n",
        "while row <= length:\n",
        "  i = 1\n",
        "  print(\"\")\n",
        "  start = row\n",
        "  while i <= row:\n",
        "    print(start, end=\"\")\n",
        "    start += 1\n",
        "    i += 1\n",
        "  row += 1\n",
        "\n",
        "print(f\"\\n\\n\")\n",
        "\n",
        "# Comienzo cuadrado\n",
        "row = 1\n",
        "while row <= length:\n",
        "  i = 1\n",
        "  print(\"\")\n",
        "  start = row\n",
        "  while i <= 5:\n",
        "    print(start, end=\"\")\n",
        "    start += 1\n",
        "    i += 1\n",
        "  row += 1"
      ],
      "metadata": {
        "colab": {
          "base_uri": "https://localhost:8080/"
        },
        "id": "JeZRllYVbAU7",
        "outputId": "05c78761-1e66-4960-ae1e-f8a830f3b630"
      },
      "id": "JeZRllYVbAU7",
      "execution_count": 12,
      "outputs": [
        {
          "output_type": "stream",
          "name": "stdout",
          "text": [
            "Introduce la longitud: 5\n",
            "\n",
            "1\n",
            "23\n",
            "345\n",
            "4567\n",
            "56789\n",
            "\n",
            "\n",
            "\n",
            "12345\n",
            "23456\n",
            "34567\n",
            "45678\n",
            "56789"
          ]
        }
      ]
    },
    {
      "cell_type": "markdown",
      "id": "533bd6bd",
      "metadata": {
        "id": "533bd6bd"
      },
      "source": [
        "Haz que el usuario introduzca un número entero. Muestra un triánguloy luego un rectángulo de lado y altura, respectivamente, el número entero introducido.\n",
        "\n",
        "Por ejemplo, si el usuario introduce como número 5, se deberá mostrar:\n",
        "\n",
        "![image-2.png](attachment:image-2.png)"
      ]
    }
  ],
  "metadata": {
    "kernelspec": {
      "display_name": "Python 3 (ipykernel)",
      "language": "python",
      "name": "python3"
    },
    "language_info": {
      "codemirror_mode": {
        "name": "ipython",
        "version": 3
      },
      "file_extension": ".py",
      "mimetype": "text/x-python",
      "name": "python",
      "nbconvert_exporter": "python",
      "pygments_lexer": "ipython3",
      "version": "3.10.9"
    },
    "colab": {
      "provenance": []
    }
  },
  "nbformat": 4,
  "nbformat_minor": 5
}