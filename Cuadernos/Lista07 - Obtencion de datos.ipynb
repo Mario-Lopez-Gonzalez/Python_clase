{
 "cells": [
  {
   "cell_type": "markdown",
   "id": "d287d88e",
   "metadata": {
    "id": "d287d88e"
   },
   "source": [
    "# LISTA 7 - OBTENCIÓN DE DATOS"
   ]
  },
  {
   "cell_type": "markdown",
   "id": "60f29b17",
   "metadata": {},
   "source": [
    "## <ins>Ejercicios Obligatorios </ins>"
   ]
  },
  {
   "cell_type": "markdown",
   "id": "f99190d1",
   "metadata": {
    "id": "f99190d1"
   },
   "source": [
    "## EJERCICIO 1"
   ]
  },
  {
   "cell_type": "markdown",
   "id": "b3836703",
   "metadata": {
    "id": "b3836703"
   },
   "source": [
    "La base de datos shop tiene una tabla people con información sobre los clientes de la tienda ficticia. Escribe el código Python necesario para inicializar un DataFrame con el contenido de la tabla:"
   ]
  },
  {
   "cell_type": "markdown",
   "id": "4d68e82b",
   "metadata": {
    "id": "4d68e82b"
   },
   "source": [
    "## EJERCICIO 2"
   ]
  },
  {
   "cell_type": "markdown",
   "id": "ec7f3b2a",
   "metadata": {
    "id": "ec7f3b2a"
   },
   "source": [
    "La siguiente URL https://datosabiertos.carm.es/odata/Agricultura/IMIDA_dia_2018.csv contiene el informe meteorológico diario de las diferentes estaciones meteorológicas de la Región de Murcia a lo largo del año 2018. Observa el contenido del fichero csv y a continuación utiliza la función read_csv de pandas sobre esta URL con los  parámetros necesarios (header, sep, decimal, quotechar y encoding)."
   ]
  },
  {
   "cell_type": "markdown",
   "id": "5c943554",
   "metadata": {
    "id": "5c943554"
   },
   "source": [
    "## EJERCICIO 3"
   ]
  },
  {
   "cell_type": "markdown",
   "id": "f2fe60bc",
   "metadata": {
    "id": "f2fe60bc"
   },
   "source": [
    "El Instituto de Salud Carlos III ofrece gratuitamente información actualizada sobre la situación del COVID-19 en España. En la siguiente URL podemos obtener un fichero csv actualizado con los casos positivos notificados por las Comunidades Autónomas a nivel provincial: https://cnecovid.isciii.es/covid19/resources/casos_diagnostico_provincia.csv. En el siguiente enlace se nos describe este conjunto de datos y se nos proporcionan otros conjuntos de datos de interés.\n",
    "\n",
    "Utiliza el método read_csv con los parámetros adecuados para obtener el DataFrame con los casos positivos por provincia. Muestra a continuación su contenido:"
   ]
  },
  {
   "cell_type": "markdown",
   "id": "cbbfb36c",
   "metadata": {
    "id": "cbbfb36c"
   },
   "source": [
    "## EJERCICIO 4"
   ]
  },
  {
   "cell_type": "markdown",
   "id": "f0211a75",
   "metadata": {
    "id": "f0211a75"
   },
   "source": [
    "La siguiente URL contiene información de películas estadounidenses obtenidas de la Wikipedia en formato JSON: https://raw.githubusercontent.com/prust/wikipedia-movie-data/master/movies.json. Utiliza el método `read_json` de `pandas` para cargar su contenido en un DataFrame:"
   ]
  },
  {
   "cell_type": "markdown",
   "id": "88fe1c72",
   "metadata": {
    "id": "88fe1c72"
   },
   "source": [
    "## EJERCICIO 5"
   ]
  },
  {
   "cell_type": "markdown",
   "id": "f7446bb5",
   "metadata": {
    "id": "f7446bb5"
   },
   "source": [
    "Haciendo uso de la librería `requests` y `BeautifulSoup`, accede a la siguiente URL https://catalogoreina.com/859-grifos-cocina-roca y recupera el nombre de los artículos mostrados:"
   ]
  },
  {
   "cell_type": "markdown",
   "id": "6bcd805d",
   "metadata": {
    "id": "6bcd805d"
   },
   "source": [
    "## EJERCICIO 6"
   ]
  },
  {
   "cell_type": "markdown",
   "id": "18202d6c",
   "metadata": {
    "id": "18202d6c"
   },
   "source": [
    "Haciendo uso de la librería `requests` y `BeautifulSoup`, accede a la página web del DB-Engines https://db-engines.com/en/ranking y recupera los nombres de las 10 bases de datos más populares:\n",
    "\n",
    "PISTA: el selector CSS [`nth-child`](https://developer.mozilla.org/es/docs/Web/CSS/:nth-child) puede serte de utilidad.\n",
    "\n",
    "OTRA PISTA: para evitar que salga el contenido de la etiqueta `info` junto al nombre de la base de datos, haz uso del método [`extract`](https://www.crummy.com/software/BeautifulSoup/bs4/doc/#extract)."
   ]
  },
  {
   "cell_type": "markdown",
   "id": "e60749fd",
   "metadata": {
    "id": "e60749fd"
   },
   "source": [
    "## EJERCICIO 7"
   ]
  },
  {
   "cell_type": "markdown",
   "id": "e7b12a5a",
   "metadata": {
    "id": "e7b12a5a"
   },
   "source": [
    "Haciendo uso de la librería `requests` y `BeautifulSoup`, recupera el nombre, los acabados, las medidas y el plazo de entrega del siguiente artículo: https://catalogoreina.com/nuestras-marcas-muebles-bano/10233-mueble-bano-con-patas-althea-moderno-3-cajones.html"
   ]
  },
  {
   "cell_type": "markdown",
   "id": "765b822c",
   "metadata": {},
   "source": [
    "## <ins>Ejercicios Opcionales </ins>"
   ]
  },
  {
   "cell_type": "markdown",
   "id": "63c95369",
   "metadata": {},
   "source": [
    "## EJERCICIO 8"
   ]
  },
  {
   "cell_type": "markdown",
   "id": "f2ebf9a9",
   "metadata": {},
   "source": [
    "Esta base de datos también contiene una tabla orders con información de la cabecera de los pedidos de la tienda. En esta tabla existe una columna price que almacena el importe total del pedido. Construye a continuación un DataFrame con las cabeceras de pedidos ordenada por importe de manera descendente:"
   ]
  },
  {
   "cell_type": "markdown",
   "id": "5e8dcec8",
   "metadata": {},
   "source": [
    "## EJERCICIO 9"
   ]
  },
  {
   "cell_type": "markdown",
   "id": "636b544b",
   "metadata": {},
   "source": [
    "La base de datos también contiene las tablas web_pages y accesses con información de las páginas web de la empresa y de los accesos realizados a ellas respectivamente. Ambas tablas pueden relacionarse por el campo page_id. Inicializa un DataFrame que contenga los campos page_id y path de web_pages y el total de accesos realizado sobre cada una de ellas:"
   ]
  },
  {
   "cell_type": "markdown",
   "id": "d6a2a0e3",
   "metadata": {},
   "source": [
    "## EJERCICIO 10"
   ]
  },
  {
   "cell_type": "markdown",
   "id": "178aee78",
   "metadata": {},
   "source": [
    "Crea un diccionario Python que represente una factura en formato JSON:\n",
    "\n",
    "* Contendrá 4 campos cuyos valores puedes inventarte, pero siguiendo las siguientes indicaciones:\n",
    "  * **client_id**: identificador de cliente, de tipo cadena.\n",
    "  * **products**: array con al menos dos productos de tipo objeto. Cada objeto tendrá dos campos:\n",
    "    * **name**: de tipo cadena.\n",
    "    * **price**: de tipo numérico.\n",
    "  * **date**: de tipo cadena.\n",
    "  * **address**: de tipo objeto, con los siguientes campos:\n",
    "    * **street**: de tipo objeto, con los siguientes campos:\n",
    "      * **name**: de tipo cadena.\n",
    "      * **number**: de tipo numérico.\n",
    "    * **zipcode**: de tipo numérico.\n",
    "\n",
    "El diccionario tendrá que tener un formato tal que sea aceptado por el siguiente [validador](https://jsonlint.com/) de contenido JSON."
   ]
  },
  {
   "cell_type": "markdown",
   "id": "7618e719",
   "metadata": {},
   "source": [
    "## EJERCICIO 11"
   ]
  },
  {
   "cell_type": "markdown",
   "id": "24b89ce5",
   "metadata": {},
   "source": [
    "Utilizando la librería PyPDF4, recupera el número de páginas del siguiente PDF:\n",
    "```\n",
    "PDF_URL = 'https://www.mscbs.gob.es/profesionales/saludPublica/ccayes/alertasActual/nCov/documentos/Actualizacion_278_COVID-19.pdf'\n",
    "```"
   ]
  },
  {
   "cell_type": "markdown",
   "id": "863214e7",
   "metadata": {},
   "source": [
    "## EJERCICIO 12"
   ]
  },
  {
   "cell_type": "markdown",
   "id": "f065f31d",
   "metadata": {},
   "source": [
    "Utilizando la librería PyPDF4, recupera la fecha de creación del documento (campo /CreationDate de los metadatos):"
   ]
  },
  {
   "cell_type": "markdown",
   "id": "67a27f6c",
   "metadata": {},
   "source": [
    "## EJERCICIO 13"
   ]
  },
  {
   "cell_type": "markdown",
   "id": "9e80dc86",
   "metadata": {},
   "source": [
    "Extrae la información del pdf en tablas y obten aquella que contiene los Detalles de los quince países con más casos confirmados fuera de Europa.\n",
    "\n",
    "PISTA: esta tabla es la última del documento PDF. Utiliza la función len para obtener el total de tablas extraídas y saber cuál de ellas seleccionar."
   ]
  },
  {
   "cell_type": "markdown",
   "id": "e31aded0",
   "metadata": {},
   "source": [
    "## EJERCICIO 14"
   ]
  },
  {
   "cell_type": "markdown",
   "id": "fd167507",
   "metadata": {},
   "source": [
    "Mediante `read_excel`, carga el contenido de todas las hojas del fichero excel \"Orders-With Nulls.xlsx\", muestra el nombre de todas las hojas y muestra la hoja denominada `Summary`:"
   ]
  }
 ],
 "metadata": {
  "colab": {
   "provenance": []
  },
  "kernelspec": {
   "display_name": "Python 3 (ipykernel)",
   "language": "python",
   "name": "python3"
  },
  "language_info": {
   "codemirror_mode": {
    "name": "ipython",
    "version": 3
   },
   "file_extension": ".py",
   "mimetype": "text/x-python",
   "name": "python",
   "nbconvert_exporter": "python",
   "pygments_lexer": "ipython3",
   "version": "3.10.9"
  }
 },
 "nbformat": 4,
 "nbformat_minor": 5
}
