{
  "cells": [
    {
      "cell_type": "markdown",
      "id": "d287d88e",
      "metadata": {
        "id": "d287d88e"
      },
      "source": [
        "# LISTA 3 - FUNCIONES\n",
        "## <ins>Ejercicios Obligatorios </ins>"
      ]
    },
    {
      "cell_type": "markdown",
      "id": "f99190d1",
      "metadata": {
        "id": "f99190d1"
      },
      "source": [
        "## EJERCICIO 1"
      ]
    },
    {
      "cell_type": "code",
      "source": [
        "# Devuelve los divisores de un número\n",
        "def divisores(n):\n",
        "  try:\n",
        "    l = []\n",
        "    i = 1\n",
        "    while i < (n+1):\n",
        "      if n%i == 0:\n",
        "        l.append(i)\n",
        "      i+=1\n",
        "    return l\n",
        "  except:\n",
        "    print(\"Tipo de dato incorrecto\")\n",
        "    return -1 # No es plan de devolverle null...\n",
        "\n",
        "\n",
        "print(divisores(354))"
      ],
      "metadata": {
        "colab": {
          "base_uri": "https://localhost:8080/"
        },
        "id": "aTj3mWDKyJ06",
        "outputId": "f7e2c112-305d-491e-ee1e-f1dede032f3c"
      },
      "id": "aTj3mWDKyJ06",
      "execution_count": null,
      "outputs": [
        {
          "output_type": "stream",
          "name": "stdout",
          "text": [
            "Tipo de dato incorrecto\n",
            "-1\n"
          ]
        }
      ]
    },
    {
      "cell_type": "markdown",
      "id": "b3836703",
      "metadata": {
        "id": "b3836703"
      },
      "source": [
        "Crea una función que devuelva la lista de todos los divisores de un número entero positivo pasado por parámetro (hay que comprobar el dato sea correcto)."
      ]
    },
    {
      "cell_type": "markdown",
      "id": "feb0417e",
      "metadata": {
        "id": "feb0417e"
      },
      "source": [
        "## EJERCICIO 2"
      ]
    },
    {
      "cell_type": "code",
      "source": [
        "# Devuelve booleano según sea vocal o consonante el string\n",
        "def isVocal(letter):\n",
        "  vocal = ['a','e','i','o','u']\n",
        "  b = False\n",
        "  if letter.lower() in vocal: # No vamos a mirar mayúsculas por repetido\n",
        "    b = True\n",
        "  return b\n",
        "\n",
        "print(isVocal(\"E\"))"
      ],
      "metadata": {
        "colab": {
          "base_uri": "https://localhost:8080/"
        },
        "id": "QLGzZd2Mzd0k",
        "outputId": "3208afcc-c367-4243-a8dd-8294ffff8e08"
      },
      "id": "QLGzZd2Mzd0k",
      "execution_count": null,
      "outputs": [
        {
          "output_type": "stream",
          "name": "stdout",
          "text": [
            "True\n"
          ]
        }
      ]
    },
    {
      "cell_type": "markdown",
      "id": "91cd8f7c",
      "metadata": {
        "id": "91cd8f7c"
      },
      "source": [
        "Crea una función que devuelva True si el carácter introducido por parámetro se trata de una vocal y False en caso contrario."
      ]
    },
    {
      "cell_type": "markdown",
      "id": "abf81a65",
      "metadata": {
        "id": "abf81a65"
      },
      "source": [
        "## EJERCICIO 3"
      ]
    },
    {
      "cell_type": "code",
      "source": [
        "# Devuelve un diccionario con letra única: número de apariciones\n",
        "def letterCount(phrase):\n",
        "  string = phrase.replace(\" \",\"\") # Limpiamos el string de espacios\n",
        "  d = {}\n",
        "  for letter in string:\n",
        "    if letter not in d:\n",
        "      d[letter] = string.count(letter)\n",
        "  return d\n",
        "\n",
        "print(letterCount(\"lagartija amarilla\"))"
      ],
      "metadata": {
        "colab": {
          "base_uri": "https://localhost:8080/"
        },
        "id": "IkW-QV0K0jK5",
        "outputId": "29bca6fa-61be-42e0-8c25-8fbf8999f062"
      },
      "id": "IkW-QV0K0jK5",
      "execution_count": null,
      "outputs": [
        {
          "output_type": "stream",
          "name": "stdout",
          "text": [
            "{'l': 3, 'a': 6, 'g': 1, 'r': 2, 't': 1, 'i': 2, 'j': 1, 'm': 1}\n"
          ]
        }
      ]
    },
    {
      "cell_type": "markdown",
      "id": "ec7f3b2a",
      "metadata": {
        "id": "ec7f3b2a"
      },
      "source": [
        "Crea una función que dado un string por parámetro cuente cuántas veces sale cada carácter en dicho string y devuelva toda esa información en un diccionario."
      ]
    },
    {
      "cell_type": "markdown",
      "id": "4d68e82b",
      "metadata": {
        "id": "4d68e82b"
      },
      "source": [
        "## EJERCICIO 4"
      ]
    },
    {
      "cell_type": "code",
      "source": [
        "# Devuelve el total de vocales ignorando mayusculas\n",
        "def vocals(s):\n",
        "  return s.lower().count('a')+s.lower().count('e')+s.lower().count('i')+s.lower().count('o')+s.lower().count('u') # Función terrorista\n",
        "\n",
        "# Devuelve true si hay más vocales que consonantes\n",
        "def moreVocals(s):\n",
        "  if vocals(s) > len(s)/2:\n",
        "    return True\n",
        "  else:\n",
        "    return False\n",
        "\n",
        "l = [\"perro\",\"gato\",\"lagarto\",\"chihuahua\",\"oso\"]\n",
        "\n",
        "print(list(filter(moreVocals, l))) #Filter devuelve un puntero iterable, hay que convertirlo"
      ],
      "metadata": {
        "colab": {
          "base_uri": "https://localhost:8080/"
        },
        "id": "29T2oDkC6pay",
        "outputId": "cfce8c19-8e16-4003-8cdf-cabac618e8f5"
      },
      "id": "29T2oDkC6pay",
      "execution_count": 37,
      "outputs": [
        {
          "output_type": "stream",
          "name": "stdout",
          "text": [
            "['chihuahua', 'oso']\n"
          ]
        }
      ]
    },
    {
      "cell_type": "markdown",
      "id": "f0211a75",
      "metadata": {
        "id": "f0211a75"
      },
      "source": [
        "Dada una lista de palabras, quédate con filter() con las que tengan más vocales que consonantes. Necesitarás una función que devuelva si una palabra tiene más vocales que consonantes."
      ]
    },
    {
      "cell_type": "markdown",
      "id": "5c943554",
      "metadata": {
        "id": "5c943554"
      },
      "source": [
        "## EJERCICIO 5"
      ]
    },
    {
      "cell_type": "code",
      "source": [
        "# Devuelve booleano según si el número de divisores supera 5\n",
        "def divisors(n):\n",
        "  count = 0\n",
        "  for i in range(1,n):\n",
        "    if n % i == 0:\n",
        "      count += 1\n",
        "  return count > 5\n",
        "\n",
        "print(list(filter(divisors, [1,2,4,8,16,32,64,128,256])))"
      ],
      "metadata": {
        "colab": {
          "base_uri": "https://localhost:8080/"
        },
        "id": "Y2EVb-9o4uTM",
        "outputId": "9d74ca4b-283a-41d3-b989-49a1841dc469"
      },
      "id": "Y2EVb-9o4uTM",
      "execution_count": 38,
      "outputs": [
        {
          "output_type": "stream",
          "name": "stdout",
          "text": [
            "[64, 128, 256]\n"
          ]
        }
      ]
    },
    {
      "cell_type": "markdown",
      "id": "8272bcdf",
      "metadata": {
        "id": "8272bcdf"
      },
      "source": [
        "Dada una lista de números enteros, quédate con filter() con los que tengan más de 5 divisores. Necesitarás una función que devuelva el número de divisores de un número dado."
      ]
    },
    {
      "cell_type": "markdown",
      "id": "2972dd7e",
      "metadata": {
        "id": "2972dd7e"
      },
      "source": [
        "## EJERCICIO 6"
      ]
    },
    {
      "cell_type": "code",
      "source": [
        "# Devuelve la palabra más larga de las dos\n",
        "def longer(s1,s2):\n",
        "  if len(s1)>=len(s2):\n",
        "    return s1\n",
        "  else:\n",
        "    return s2\n",
        "\n",
        "# Hay que importar reduce\n",
        "from functools import reduce\n",
        "print(str(reduce(longer, [\"oso\",\"gato\",\"perro\",\"lagarto\",\"murcielago\",\"esternocleidomastoideo\"])))"
      ],
      "metadata": {
        "id": "upwi6Cm36YGk",
        "colab": {
          "base_uri": "https://localhost:8080/"
        },
        "outputId": "c2c4159f-f419-45fe-a15a-dcd91de659d9"
      },
      "id": "upwi6Cm36YGk",
      "execution_count": 42,
      "outputs": [
        {
          "output_type": "stream",
          "name": "stdout",
          "text": [
            "esternocleidomastoideo\n"
          ]
        }
      ]
    },
    {
      "cell_type": "markdown",
      "id": "9da406b8",
      "metadata": {
        "id": "9da406b8"
      },
      "source": [
        "Dada una lista de palabras, quédate con reduce() con la palabra más larga. Necesitarás una función que compare dos palabras y devuelva la que tenga mayor longitud."
      ]
    },
    {
      "cell_type": "markdown",
      "id": "cbbfb36c",
      "metadata": {
        "id": "cbbfb36c"
      },
      "source": [
        "## EJERCICIO 7"
      ]
    },
    {
      "cell_type": "code",
      "source": [
        "# Cuenta consonantes\n",
        "def consonant(s):\n",
        "  count = 0\n",
        "  vocal = ['a','e','i','o','u']\n",
        "  for l in s:\n",
        "    if l not in vocal:\n",
        "      count += 1\n",
        "  return count\n",
        "\n",
        "# Devuelve el número mayor\n",
        "def bigger(n1,n2):\n",
        "  if n1 > n2:\n",
        "    return n1\n",
        "  else:\n",
        "    return n2\n",
        "\n",
        "print(int(reduce(bigger, map(consonant, [\"oso\",\"gato\",\"perro\",\"lagarto\",\"tortuga\",\"cebra\"]))))"
      ],
      "metadata": {
        "colab": {
          "base_uri": "https://localhost:8080/"
        },
        "id": "l0qhgQq__Qax",
        "outputId": "910412a7-95e9-4e5f-ac0d-d41aec019766"
      },
      "id": "l0qhgQq__Qax",
      "execution_count": 43,
      "outputs": [
        {
          "output_type": "stream",
          "name": "stdout",
          "text": [
            "4\n"
          ]
        }
      ]
    },
    {
      "cell_type": "markdown",
      "id": "eb6f147e",
      "metadata": {
        "id": "eb6f147e"
      },
      "source": [
        "Dada una lista de palabras, quédate con reduce() y map() con la palabra con más consonantes (hay que mostrar el número de consonantes). Necesitarás una función que cuente el número de consonantes de una palabra y otra que dados dos números, devuelva el mayor."
      ]
    },
    {
      "cell_type": "markdown",
      "id": "4ec84fb7",
      "metadata": {
        "id": "4ec84fb7"
      },
      "source": [
        "## <ins>Ejercicios Opcionales </ins>"
      ]
    },
    {
      "cell_type": "markdown",
      "id": "59397f22",
      "metadata": {
        "id": "59397f22"
      },
      "source": [
        "## EJERCICIO 8"
      ]
    },
    {
      "cell_type": "code",
      "source": [
        "# Convierte un color hexadecimal a RGB, descarta un asumido hashtag\n",
        "def toRGB(hex):\n",
        "  R = int(hex[1:3],16) # int() viene con un argumento de base numérica que convierte a otras bases\n",
        "  G = int(hex[3:5],16)\n",
        "  B = int(hex[-2:],16) # No me dejaba pillar los últimos dos bien así que cojo los dos primeros por el final\n",
        "  return [R,G,B]\n",
        "\n",
        "print(toRGB(\"#03fc49\"))"
      ],
      "metadata": {
        "colab": {
          "base_uri": "https://localhost:8080/"
        },
        "id": "3enOXPhpA5Aa",
        "outputId": "cb05977b-9356-423a-b3c4-83630e68373c"
      },
      "id": "3enOXPhpA5Aa",
      "execution_count": 58,
      "outputs": [
        {
          "output_type": "stream",
          "name": "stdout",
          "text": [
            "[3, 252, 73]\n"
          ]
        }
      ]
    },
    {
      "cell_type": "markdown",
      "id": "c0dda757",
      "metadata": {
        "id": "c0dda757"
      },
      "source": [
        "Crea una función que dado un color en hexadecimal devuelva una lista de 3 posiciones, cada una de ellas correspondiente al valor R, G y B en este orden. Los valores de RGB varían entre 0 y 255."
      ]
    },
    {
      "cell_type": "markdown",
      "id": "3e767176",
      "metadata": {
        "id": "3e767176"
      },
      "source": [
        "## EJERCICIO 9"
      ]
    },
    {
      "cell_type": "code",
      "source": [
        "a = lambda x: (x-1)*x*(x+1)\n",
        "print(a(3))"
      ],
      "metadata": {
        "colab": {
          "base_uri": "https://localhost:8080/"
        },
        "id": "VEFOA6xyDvki",
        "outputId": "b93ea970-9dc4-4bc5-9d11-c15dcbd92255"
      },
      "id": "VEFOA6xyDvki",
      "execution_count": 60,
      "outputs": [
        {
          "output_type": "stream",
          "name": "stdout",
          "text": [
            "24\n"
          ]
        }
      ]
    },
    {
      "cell_type": "markdown",
      "id": "13d2c744",
      "metadata": {
        "id": "13d2c744"
      },
      "source": [
        "Crea una función lambda que dado un número entero multiplique por su anterior y su siguiente. Por ejemplo, si proporcionamos n = 3, nos tendrá que devolver 2 x 3 x 4 = 24."
      ]
    },
    {
      "cell_type": "markdown",
      "id": "b97cdccc",
      "metadata": {
        "id": "b97cdccc"
      },
      "source": [
        "## EJERCICIO 10"
      ]
    },
    {
      "cell_type": "code",
      "source": [
        "# Cuenta vocales\n",
        "def vocals(s):\n",
        "  count = 0\n",
        "  vocal = ['a','e','i','o','u']\n",
        "  for l in s.lower():\n",
        "    if l in vocal:\n",
        "      count += 1\n",
        "  return count\n",
        "\n",
        "print(list(map(vocals, [\"oso\",\"gato\",\"perro\",\"koala\"])))"
      ],
      "metadata": {
        "colab": {
          "base_uri": "https://localhost:8080/"
        },
        "id": "DbsN4Z01E2FB",
        "outputId": "d30dcbe9-fd86-40c9-cb36-5d4e9208c02a"
      },
      "id": "DbsN4Z01E2FB",
      "execution_count": 63,
      "outputs": [
        {
          "output_type": "stream",
          "name": "stdout",
          "text": [
            "[2, 2, 2, 3]\n"
          ]
        }
      ]
    },
    {
      "cell_type": "markdown",
      "id": "4bbf4135",
      "metadata": {
        "id": "4bbf4135"
      },
      "source": [
        "Dada una lista de palabras, calcula el número de vocales de cada una con map()."
      ]
    },
    {
      "cell_type": "markdown",
      "id": "17b343e6",
      "metadata": {
        "id": "17b343e6"
      },
      "source": [
        "## EJERCICIO 11"
      ]
    },
    {
      "cell_type": "code",
      "source": [
        "x = lambda n1,n2: n1 > n2\n",
        "print(x(14,2))\n",
        "print(x(14,22))"
      ],
      "metadata": {
        "colab": {
          "base_uri": "https://localhost:8080/"
        },
        "id": "bzANPtsUFZU6",
        "outputId": "cd1c17b1-f9bf-4031-cf2d-7494ad5dc3c1"
      },
      "id": "bzANPtsUFZU6",
      "execution_count": 65,
      "outputs": [
        {
          "output_type": "stream",
          "name": "stdout",
          "text": [
            "True\n",
            "False\n"
          ]
        }
      ]
    },
    {
      "cell_type": "markdown",
      "id": "ef3c12ce",
      "metadata": {
        "id": "ef3c12ce"
      },
      "source": [
        "Crea una función lambda que dados dos números devuelva si el primero es mayor."
      ]
    },
    {
      "cell_type": "markdown",
      "id": "88fe1c72",
      "metadata": {
        "id": "88fe1c72"
      },
      "source": [
        "## EJERCICIO 12"
      ]
    },
    {
      "cell_type": "code",
      "source": [
        "# Lambda para hacer -1 a cada elemento\n",
        "x = lambda n: n-1\n",
        "print(list(map(x, [1,2,3,4,5,6])))"
      ],
      "metadata": {
        "colab": {
          "base_uri": "https://localhost:8080/"
        },
        "id": "cmgJNqopF3DM",
        "outputId": "4bb6127c-9a44-4d85-8716-e819d44f0a01"
      },
      "id": "cmgJNqopF3DM",
      "execution_count": 66,
      "outputs": [
        {
          "output_type": "stream",
          "name": "stdout",
          "text": [
            "[0, 1, 2, 3, 4, 5]\n"
          ]
        }
      ]
    },
    {
      "cell_type": "markdown",
      "id": "f7446bb5",
      "metadata": {
        "id": "f7446bb5"
      },
      "source": [
        "Dada una lista de números enteros, calcula otra lista con el número anterior de cada elemento con map()."
      ]
    },
    {
      "cell_type": "markdown",
      "id": "6bcd805d",
      "metadata": {
        "id": "6bcd805d"
      },
      "source": [
        "## EJERCICIO 13"
      ]
    },
    {
      "cell_type": "code",
      "source": [
        "print(list(sorted([20,-33,1.22,-4.3332],key=abs))) #sorted(valores,key=funct,reverse)"
      ],
      "metadata": {
        "colab": {
          "base_uri": "https://localhost:8080/"
        },
        "id": "VyBFmCdUGo-0",
        "outputId": "bef59be6-e89a-4748-8f42-2ea197672665"
      },
      "id": "VyBFmCdUGo-0",
      "execution_count": 67,
      "outputs": [
        {
          "output_type": "stream",
          "name": "stdout",
          "text": [
            "[1.22, -4.3332, 20, -33]\n"
          ]
        }
      ]
    },
    {
      "cell_type": "markdown",
      "id": "18202d6c",
      "metadata": {
        "id": "18202d6c"
      },
      "source": [
        "Dada una lista de números reales, ordénalos con sorted() por valor absoluto de menor a mayor."
      ]
    },
    {
      "cell_type": "markdown",
      "id": "e60749fd",
      "metadata": {
        "id": "e60749fd"
      },
      "source": [
        "## EJERCICIO 14"
      ]
    },
    {
      "cell_type": "code",
      "source": [
        "def consonant(s):\n",
        "  count = 0\n",
        "  vocal = ['a','e','i','o','u']\n",
        "  for l in s:\n",
        "    if l not in vocal:\n",
        "      count += 1\n",
        "  return count\n",
        "\n",
        "print(list(sorted([\"oso\",\"lagarto\",\"cocodrilo\",\"estegosaurio\"],key=consonant,reverse=True)))"
      ],
      "metadata": {
        "colab": {
          "base_uri": "https://localhost:8080/"
        },
        "id": "gA3-LT4eHcMP",
        "outputId": "59726f22-8ad9-4dac-8074-cc0ee5f7637d"
      },
      "id": "gA3-LT4eHcMP",
      "execution_count": 73,
      "outputs": [
        {
          "output_type": "stream",
          "name": "stdout",
          "text": [
            "['cocodrilo', 'estegosaurio', 'lagarto', 'oso']\n"
          ]
        }
      ]
    },
    {
      "cell_type": "markdown",
      "id": "e7b12a5a",
      "metadata": {
        "id": "e7b12a5a"
      },
      "source": [
        "Dada una lista de palabras, ordénalos con sorted() por número de consonantes de mayor a menor."
      ]
    }
  ],
  "metadata": {
    "kernelspec": {
      "display_name": "Python 3 (ipykernel)",
      "language": "python",
      "name": "python3"
    },
    "language_info": {
      "codemirror_mode": {
        "name": "ipython",
        "version": 3
      },
      "file_extension": ".py",
      "mimetype": "text/x-python",
      "name": "python",
      "nbconvert_exporter": "python",
      "pygments_lexer": "ipython3",
      "version": "3.10.9"
    },
    "colab": {
      "provenance": []
    }
  },
  "nbformat": 4,
  "nbformat_minor": 5
}