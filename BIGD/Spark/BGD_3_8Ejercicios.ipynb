{
  "cells": [
    {
      "cell_type": "markdown",
      "metadata": {
        "id": "1CkMrsp85SQ4"
      },
      "source": [
        "# EJERCICIOS"
      ]
    },
    {
      "cell_type": "code",
      "execution_count": 23,
      "metadata": {
        "id": "LuecDqKh5SRT"
      },
      "outputs": [],
      "source": [
        "import pandas as pd\n",
        "from pyspark.sql import SparkSession\n",
        "from pyspark.sql.functions import lit, current_date, year, monotonically_increasing_id,  avg, min, coalesce, col, when\n",
        "from pyspark.sql.types import StructType, StructField, StringType, IntegerType, DoubleType, DateType, FloatType\n",
        "\n",
        "spark = SparkSession.builder.master(\"local[*]\").appName(\"pyspark_rdd\").getOrCreate()\n",
        "#spark = SparkSession.builder.getOrCreate()\n",
        "sc = spark.sparkContext"
      ]
    },
    {
      "cell_type": "markdown",
      "metadata": {
        "id": "xxPbn7ct5SRW"
      },
      "source": [
        "## EJERCICIO 0\n",
        "En un documento word haz una lista de las diferentes operaciones con una breve descripción de lo que hace y un ejemplo de como se utiliza"
      ]
    },
    {
      "cell_type": "markdown",
      "metadata": {
        "id": "p2ywlD0T5SRX"
      },
      "source": [
        "## EJERCICIO 1\n",
        "Realiza las siguientes operaciones:\n",
        "* Importa el csv de \"data/WorldCupPlayers.csv\" (que deduzca el esquema)\n",
        "* Visualiza los datos\n",
        "* ¿Que tipo de datos contiene cada variable?\n",
        "* ¿Cuantos registros hay?\n",
        "* Obtén los principales estadísticos de Position\n",
        "* Selecciona y muestra los \"Team initials\" diferentes que hay ¿Cuántos hay?\n",
        "* ¿Cuantos partidos con el ID de 1096 ha habido?\n",
        "* Muestra los datos donde la posicion haya sido C y el evento sea G40\n",
        "* Utiliza Spark SQL para mostras los registros donde el MatchID sea mayor o igual a 20"
      ]
    },
    {
      "cell_type": "code",
      "execution_count": 7,
      "metadata": {
        "colab": {
          "base_uri": "https://localhost:8080/"
        },
        "id": "0QnmFQq55SRX",
        "outputId": "cbfb95e7-dd96-40bf-c9fe-80a07a6bad62"
      },
      "outputs": [],
      "source": [
        "dfPlayers = (\n",
        "    spark.read.option(\"sep\", \",\")\n",
        "    .option(\"header\", \"true\")\n",
        "    .option(\"inferSchema\", \"true\")\n",
        "    .csv(\"Datos/WorldCupPlayers.csv\")\n",
        ")"
      ]
    },
    {
      "cell_type": "code",
      "execution_count": 6,
      "metadata": {},
      "outputs": [
        {
          "name": "stdout",
          "output_type": "stream",
          "text": [
            "+-------+-------+-------------+-------------------+-------+------------+-----------+--------+-----+\n",
            "|RoundID|MatchID|Team Initials|         Coach Name|Line-up|Shirt Number|Player Name|Position|Event|\n",
            "+-------+-------+-------------+-------------------+-------+------------+-----------+--------+-----+\n",
            "|    201|   1096|          FRA|CAUDRON Raoul (FRA)|      S|           0|Alex THEPOT|      GK| NULL|\n",
            "+-------+-------+-------------+-------------------+-------+------------+-----------+--------+-----+\n",
            "only showing top 1 row\n",
            "\n"
          ]
        }
      ],
      "source": [
        "dfPlayers.show(1)"
      ]
    },
    {
      "cell_type": "code",
      "execution_count": 8,
      "metadata": {},
      "outputs": [
        {
          "name": "stdout",
          "output_type": "stream",
          "text": [
            "root\n",
            " |-- RoundID: integer (nullable = true)\n",
            " |-- MatchID: integer (nullable = true)\n",
            " |-- Team Initials: string (nullable = true)\n",
            " |-- Coach Name: string (nullable = true)\n",
            " |-- Line-up: string (nullable = true)\n",
            " |-- Shirt Number: integer (nullable = true)\n",
            " |-- Player Name: string (nullable = true)\n",
            " |-- Position: string (nullable = true)\n",
            " |-- Event: string (nullable = true)\n",
            "\n"
          ]
        }
      ],
      "source": [
        "dfPlayers.printSchema()"
      ]
    },
    {
      "cell_type": "code",
      "execution_count": 9,
      "metadata": {},
      "outputs": [
        {
          "data": {
            "text/plain": [
              "37784"
            ]
          },
          "execution_count": 9,
          "metadata": {},
          "output_type": "execute_result"
        }
      ],
      "source": [
        "dfPlayers.count()"
      ]
    },
    {
      "cell_type": "code",
      "execution_count": 12,
      "metadata": {},
      "outputs": [
        {
          "name": "stdout",
          "output_type": "stream",
          "text": [
            "+-------+--------+\n",
            "|summary|position|\n",
            "+-------+--------+\n",
            "|  count|    4143|\n",
            "|   mean|    NULL|\n",
            "| stddev|    NULL|\n",
            "|    min|       C|\n",
            "|    max|     GKC|\n",
            "+-------+--------+\n",
            "\n"
          ]
        }
      ],
      "source": [
        "dfPlayers.describe(\"position\").show()"
      ]
    },
    {
      "cell_type": "code",
      "execution_count": 13,
      "metadata": {},
      "outputs": [
        {
          "name": "stdout",
          "output_type": "stream",
          "text": [
            "+-------------+\n",
            "|Team Initials|\n",
            "+-------------+\n",
            "|          POL|\n",
            "|          JAM|\n",
            "|          BRA|\n",
            "|          CUB|\n",
            "|          FRA|\n",
            "|          ALG|\n",
            "|          BOL|\n",
            "|          RSA|\n",
            "|          ITA|\n",
            "|          UKR|\n",
            "|          CMR|\n",
            "|          SCG|\n",
            "|          GHA|\n",
            "|          SEN|\n",
            "|          TOG|\n",
            "|          TRI|\n",
            "|          TCH|\n",
            "|          AUS|\n",
            "|          MEX|\n",
            "|          PAR|\n",
            "+-------------+\n",
            "only showing top 20 rows\n",
            "\n"
          ]
        }
      ],
      "source": [
        "dfPlayers.select(\"Team Initials\").distinct().show()"
      ]
    },
    {
      "cell_type": "code",
      "execution_count": 16,
      "metadata": {},
      "outputs": [
        {
          "data": {
            "text/plain": [
              "33"
            ]
          },
          "execution_count": 16,
          "metadata": {},
          "output_type": "execute_result"
        }
      ],
      "source": [
        "dfPlayers.filter(dfPlayers.MatchID == 1096).count()"
      ]
    },
    {
      "cell_type": "code",
      "execution_count": 17,
      "metadata": {},
      "outputs": [
        {
          "name": "stdout",
          "output_type": "stream",
          "text": [
            "+-------+-------+-------------+----------+-------+------------+-----------+--------+-----+\n",
            "|RoundID|MatchID|Team Initials|Coach Name|Line-up|Shirt Number|Player Name|Position|Event|\n",
            "+-------+-------+-------------+----------+-------+------------+-----------+--------+-----+\n",
            "+-------+-------+-------------+----------+-------+------------+-----------+--------+-----+\n",
            "\n"
          ]
        }
      ],
      "source": [
        "dfPlayers.filter((dfPlayers.Event == \"G40\") & (dfPlayers.Position == \"C\")).show()"
      ]
    },
    {
      "cell_type": "code",
      "execution_count": 18,
      "metadata": {},
      "outputs": [
        {
          "name": "stdout",
          "output_type": "stream",
          "text": [
            "+-------+-------+-------------+-------------------+-------+------------+-----------------+--------+---------+\n",
            "|RoundID|MatchID|Team Initials|         Coach Name|Line-up|Shirt Number|      Player Name|Position|    Event|\n",
            "+-------+-------+-------------+-------------------+-------+------------+-----------------+--------+---------+\n",
            "|    201|   1096|          FRA|CAUDRON Raoul (FRA)|      S|           0|      Alex THEPOT|      GK|     NULL|\n",
            "|    201|   1096|          MEX|   LUQUE Juan (MEX)|      S|           0|  Oscar BONFIGLIO|      GK|     NULL|\n",
            "|    201|   1096|          FRA|CAUDRON Raoul (FRA)|      S|           0| Marcel LANGILLER|    NULL|     G40'|\n",
            "|    201|   1096|          MEX|   LUQUE Juan (MEX)|      S|           0|     Juan CARRENO|    NULL|     G70'|\n",
            "|    201|   1096|          FRA|CAUDRON Raoul (FRA)|      S|           0|  Ernest LIBERATI|    NULL|     NULL|\n",
            "|    201|   1096|          MEX|   LUQUE Juan (MEX)|      S|           0|     Rafael GARZA|       C|     NULL|\n",
            "|    201|   1096|          FRA|CAUDRON Raoul (FRA)|      S|           0|  Andre MASCHINOT|    NULL|G43' G87'|\n",
            "|    201|   1096|          MEX|   LUQUE Juan (MEX)|      S|           0|    Hilario LOPEZ|    NULL|     NULL|\n",
            "|    201|   1096|          FRA|CAUDRON Raoul (FRA)|      S|           0|  Etienne MATTLER|    NULL|     NULL|\n",
            "|    201|   1096|          MEX|   LUQUE Juan (MEX)|      S|           0|   Dionisio MEJIA|    NULL|     NULL|\n",
            "|    201|   1096|          FRA|CAUDRON Raoul (FRA)|      S|           0|     Marcel PINEL|    NULL|     NULL|\n",
            "|    201|   1096|          MEX|   LUQUE Juan (MEX)|      S|           0|     Felipe ROSAS|    NULL|     NULL|\n",
            "|    201|   1096|          FRA|CAUDRON Raoul (FRA)|      S|           0|  Alex VILLAPLANE|       C|     NULL|\n",
            "|    201|   1096|          MEX|   LUQUE Juan (MEX)|      S|           0|     Manuel ROSAS|    NULL|     NULL|\n",
            "|    201|   1096|          FRA|CAUDRON Raoul (FRA)|      S|           0|   Lucien LAURENT|    NULL|     G19'|\n",
            "|    201|   1096|          MEX|   LUQUE Juan (MEX)|      S|           0|        Jose RUIZ|    NULL|     NULL|\n",
            "|    201|   1096|          FRA|CAUDRON Raoul (FRA)|      S|           0|   Marcel CAPELLE|    NULL|     NULL|\n",
            "|    201|   1096|          MEX|   LUQUE Juan (MEX)|      S|           0|  Alfredo SANCHEZ|    NULL|     NULL|\n",
            "|    201|   1096|          FRA|CAUDRON Raoul (FRA)|      S|           0|Augustin CHANTREL|    NULL|     NULL|\n",
            "|    201|   1096|          MEX|   LUQUE Juan (MEX)|      S|           0|   Efrain AMEZCUA|    NULL|     NULL|\n",
            "+-------+-------+-------------+-------------------+-------+------------+-----------------+--------+---------+\n",
            "only showing top 20 rows\n",
            "\n"
          ]
        }
      ],
      "source": [
        "dfPlayers.createOrReplaceTempView(\"players_table\")\n",
        "spark.sql(\"SELECT * FROM players_table WHERE MatchID >= 20\").show()"
      ]
    },
    {
      "cell_type": "markdown",
      "metadata": {
        "id": "LwlXPat85SRc"
      },
      "source": [
        "## EJERCICIO 2"
      ]
    },
    {
      "cell_type": "markdown",
      "metadata": {
        "id": "ySES8yYI5SRc"
      },
      "source": [
        "A partir del archivo nombres.json, crea un DataFrame y realiza las siguientes operaciones:\n",
        "\n",
        "1. Crea una nueva columna (columna Mayor30) que indique si la persona es mayor de 30 años.\n",
        "2. Crea una nueva columna (columna FaltanJubilacion) que calcule cuantos años le faltan para jubilarse (supongamos que se jubila a los 67 años)\n",
        "3. Crea una nueva columna (columna Apellidos) que contenga XYZ (puedes utilizar la función lit)\n",
        "4. Elimina las columna Mayor30 y Apellidos.\n",
        "5. Crea una nueva columna (columna AnyoNac) con el año de nacimiento de cada persona (puedes utilizar la función current_date).\n",
        "6. Añade un id incremental para cada fila (campo Id) y haz que al hacer un show se vea en primer lugar (puedes utilizar la función monotonically_increasing_id) seguidos del Nombre, Edad, AnyoNac, FaltaJubilacion y Ciudad\n",
        "\n",
        "Al realizar los seis pasos, el resultado del DataFrame será similar a :\n",
        "``````\n",
        "+---+-------+----+-------+----------------+--------+\n",
        "| Id|Nombre |Edad|AnyoNac|FaltanJubilacion|  Ciudad|\n",
        "+---+-------+----+-------+----------------+--------+\n",
        "|  0|  Aitor|  45|   1977|              22|   Elche|\n",
        "|  1| Marina|  14|   2008|              53|Alicante|\n",
        "|  2|  Laura|  19|   2003|              48|   Elche|\n",
        "|  3|  Sonia|  45|   1977|              22|    Aspe|\n",
        "|  4|  Pedro|null|   null|            null|   Elche|\n",
        "+---+-------+----+-------+----------------+--------+\n",
        "``````"
      ]
    },
    {
      "cell_type": "code",
      "execution_count": 24,
      "metadata": {
        "colab": {
          "base_uri": "https://localhost:8080/"
        },
        "id": "YpLo_k6g5SRc",
        "outputId": "4a0cebf1-589b-4053-ad62-db2740038016"
      },
      "outputs": [
        {
          "name": "stdout",
          "output_type": "stream",
          "text": [
            "+------+----+------+\n",
            "|Ciudad|Edad|Nombre|\n",
            "+------+----+------+\n",
            "| Elche|  45| Aitor|\n",
            "+------+----+------+\n",
            "only showing top 1 row\n",
            "\n"
          ]
        }
      ],
      "source": [
        "dfNombre = spark.read.json(\"Datos/nombres.json\")\n",
        "dfNombre.show(1)"
      ]
    },
    {
      "cell_type": "code",
      "execution_count": 25,
      "metadata": {},
      "outputs": [
        {
          "name": "stdout",
          "output_type": "stream",
          "text": [
            "+------+----+------+-------+\n",
            "|Ciudad|Edad|Nombre|mayor30|\n",
            "+------+----+------+-------+\n",
            "| Elche|  45| Aitor|      Y|\n",
            "+------+----+------+-------+\n",
            "only showing top 1 row\n",
            "\n"
          ]
        }
      ],
      "source": [
        "dfNombre = dfNombre.withColumn(\"mayor30\", when(col(\"Edad\") > 30, \"Y\").otherwise(\"N\"))\n",
        "dfNombre.show(1)"
      ]
    },
    {
      "cell_type": "code",
      "execution_count": 26,
      "metadata": {},
      "outputs": [
        {
          "name": "stdout",
          "output_type": "stream",
          "text": [
            "+------+----+------+-------+---------------+\n",
            "|Ciudad|Edad|Nombre|mayor30|FaltaJubilacion|\n",
            "+------+----+------+-------+---------------+\n",
            "| Elche|  45| Aitor|      Y|             22|\n",
            "+------+----+------+-------+---------------+\n",
            "only showing top 1 row\n",
            "\n"
          ]
        }
      ],
      "source": [
        "dfNombre = dfNombre.withColumn(\"FaltaJubilacion\", 67 - col(\"Edad\"))\n",
        "dfNombre.show(1)"
      ]
    },
    {
      "cell_type": "code",
      "execution_count": 27,
      "metadata": {},
      "outputs": [
        {
          "name": "stdout",
          "output_type": "stream",
          "text": [
            "+------+----+------+-------+---------------+---------+\n",
            "|Ciudad|Edad|Nombre|mayor30|FaltaJubilacion|Apellidos|\n",
            "+------+----+------+-------+---------------+---------+\n",
            "| Elche|  45| Aitor|      Y|             22|      XYZ|\n",
            "+------+----+------+-------+---------------+---------+\n",
            "only showing top 1 row\n",
            "\n"
          ]
        }
      ],
      "source": [
        "dfNombre = dfNombre.withColumn(\"Apellidos\", lit(\"XYZ\"))\n",
        "dfNombre.show(1)"
      ]
    },
    {
      "cell_type": "code",
      "execution_count": 28,
      "metadata": {},
      "outputs": [
        {
          "name": "stdout",
          "output_type": "stream",
          "text": [
            "+------+----+------+---------------+\n",
            "|Ciudad|Edad|Nombre|FaltaJubilacion|\n",
            "+------+----+------+---------------+\n",
            "| Elche|  45| Aitor|             22|\n",
            "+------+----+------+---------------+\n",
            "only showing top 1 row\n",
            "\n"
          ]
        }
      ],
      "source": [
        "dfNombre = dfNombre.drop(\"Apellidos\", \"mayor30\")\n",
        "dfNombre.show(1)"
      ]
    },
    {
      "cell_type": "code",
      "execution_count": 29,
      "metadata": {},
      "outputs": [
        {
          "name": "stdout",
          "output_type": "stream",
          "text": [
            "+------+----+------+---------------+-------+\n",
            "|Ciudad|Edad|Nombre|FaltaJubilacion|AnyoNac|\n",
            "+------+----+------+---------------+-------+\n",
            "| Elche|  45| Aitor|             22|   1980|\n",
            "+------+----+------+---------------+-------+\n",
            "only showing top 1 row\n",
            "\n"
          ]
        }
      ],
      "source": [
        "dfNombre = dfNombre.withColumn(\"AnyoNac\", year(current_date()) - col(\"Edad\"))\n",
        "dfNombre.show(1)"
      ]
    },
    {
      "cell_type": "code",
      "execution_count": 30,
      "metadata": {},
      "outputs": [
        {
          "name": "stdout",
          "output_type": "stream",
          "text": [
            "+---+------+----+-------+---------------+--------+\n",
            "| Id|Nombre|Edad|AnyoNac|FaltaJubilacion|  Ciudad|\n",
            "+---+------+----+-------+---------------+--------+\n",
            "|  0| Aitor|  45|   1980|             22|   Elche|\n",
            "|  1|Marina|  14|   2011|             53|Alicante|\n",
            "|  2| Laura|  19|   2006|             48|   Elche|\n",
            "|  3| Sonia|  45|   1980|             22|    Aspe|\n",
            "|  4| Pedro|NULL|   NULL|           NULL|   Elche|\n",
            "+---+------+----+-------+---------------+--------+\n",
            "\n"
          ]
        }
      ],
      "source": [
        "dfNombre = dfNombre.withColumn(\"Id\", monotonically_increasing_id())\n",
        "dfNombre = dfNombre.select(\"Id\", \"Nombre\", \"Edad\", \"AnyoNac\", \"FaltaJubilacion\", \"Ciudad\")\n",
        "dfNombre.show()"
      ]
    },
    {
      "cell_type": "markdown",
      "metadata": {
        "id": "SZhUS4RU5SRd"
      },
      "source": [
        "## EJERCICIO 3"
      ]
    },
    {
      "cell_type": "markdown",
      "metadata": {
        "id": "j0VRuSPS5SRd"
      },
      "source": [
        "A partir del archivo VentasNulos.csv:\n",
        "\n",
        "1. Elimina las filas que tengan al menos 4 nulos.\n",
        "\n",
        "2. Con las filas restantes, sustituye:\n",
        "\n",
        "    * Los nombres nulos por Empleado\n",
        "    * Las ventas nulas por la media de las ventas de los compañeros (redondeado a entero).\n",
        "    ``````\n",
        "        media = df.groupBy().avg('Ventas')\n",
        "    ``````\n",
        "    * Los euros nulos por el valor del compañero que menos € ha ganado. (tras agrupar, puedes usar la función min)\n",
        "    * La ciudad nula por C.V. y el identificador nulo por XYZ"
      ]
    },
    {
      "cell_type": "code",
      "execution_count": 10,
      "metadata": {
        "colab": {
          "base_uri": "https://localhost:8080/"
        },
        "id": "Ma0jMrYh5SRe",
        "outputId": "efe5c87e-8e98-45c3-96e3-d44befd97f6f"
      },
      "outputs": [
        {
          "name": "stdout",
          "output_type": "stream",
          "text": [
            "+------+------+-----+-----------+-------------+\n",
            "|Nombre|Ventas|Euros|     Ciudad|Identificador|\n",
            "+------+------+-----+-----------+-------------+\n",
            "|  Pepe|     4|  200|      Elche|          X21|\n",
            "|Andreu|     8| NULL|       NULL|         NULL|\n",
            "|  Juan|  NULL| NULL|       NULL|          C54|\n",
            "| Pedro|     1|   30|   Valencia|          R23|\n",
            "| María|  NULL|  300| Torrellano|         NULL|\n",
            "|Marina|     3|  350|       Aspe|          V55|\n",
            "|  NULL|    10|  500|Crevillente|          AMV|\n",
            "|   Ana|    10| 2300|   Alicante|          B89|\n",
            "|  NULL|  NULL| NULL|       NULL|         NULL|\n",
            "| Jorge|     8| NULL|       NULL|          T19|\n",
            "+------+------+-----+-----------+-------------+\n",
            "\n"
          ]
        }
      ],
      "source": [
        "dfNull = (\n",
        "    spark.read.option(\"sep\", \",\")\n",
        "    .option(\"header\", \"true\")\n",
        "    .option(\"inferSchema\", \"true\")\n",
        "    .csv(\"Datos/VentasNulos.csv\")\n",
        ")\n",
        "dfNull.show()"
      ]
    },
    {
      "cell_type": "code",
      "execution_count": 8,
      "metadata": {},
      "outputs": [
        {
          "name": "stdout",
          "output_type": "stream",
          "text": [
            "+------+------+-----+-----------+-------------+\n",
            "|Nombre|Ventas|Euros|     Ciudad|Identificador|\n",
            "+------+------+-----+-----------+-------------+\n",
            "|  Pepe|     4|  200|      Elche|          X21|\n",
            "|Andreu|     8| NULL|       NULL|         NULL|\n",
            "|  Juan|  NULL| NULL|       NULL|          C54|\n",
            "| Pedro|     1|   30|   Valencia|          R23|\n",
            "| María|  NULL|  300| Torrellano|         NULL|\n",
            "|Marina|     3|  350|       Aspe|          V55|\n",
            "|  NULL|    10|  500|Crevillente|          AMV|\n",
            "|   Ana|    10| 2300|   Alicante|          B89|\n",
            "| Jorge|     8| NULL|       NULL|          T19|\n",
            "+------+------+-----+-----------+-------------+\n",
            "\n"
          ]
        }
      ],
      "source": [
        "dfNull = dfNull.filter(sum(col(c).isNull().cast(\"int\") for c in dfNull.columns) < 4)\n",
        "dfNull.show()"
      ]
    },
    {
      "cell_type": "code",
      "execution_count": 11,
      "metadata": {},
      "outputs": [
        {
          "name": "stdout",
          "output_type": "stream",
          "text": [
            "+--------+------+-----+-----------+-------------+\n",
            "|  Nombre|Ventas|Euros|     Ciudad|Identificador|\n",
            "+--------+------+-----+-----------+-------------+\n",
            "|    Pepe|     4|  200|      Elche|          X21|\n",
            "|  Andreu|     8| NULL|       NULL|         NULL|\n",
            "|    Juan|  NULL| NULL|       NULL|          C54|\n",
            "|   Pedro|     1|   30|   Valencia|          R23|\n",
            "|   María|  NULL|  300| Torrellano|         NULL|\n",
            "|  Marina|     3|  350|       Aspe|          V55|\n",
            "|Empleado|    10|  500|Crevillente|          AMV|\n",
            "|     Ana|    10| 2300|   Alicante|          B89|\n",
            "|Empleado|  NULL| NULL|       NULL|         NULL|\n",
            "|   Jorge|     8| NULL|       NULL|          T19|\n",
            "+--------+------+-----+-----------+-------------+\n",
            "\n"
          ]
        }
      ],
      "source": [
        "dfNull = dfNull.na.fill(\"Empleado\",subset=\"Nombre\")\n",
        "dfNull.show()"
      ]
    },
    {
      "cell_type": "code",
      "execution_count": 13,
      "metadata": {},
      "outputs": [
        {
          "name": "stdout",
          "output_type": "stream",
          "text": [
            "+--------+------+-----+-----------+-------------+\n",
            "|  Nombre|Ventas|Euros|     Ciudad|Identificador|\n",
            "+--------+------+-----+-----------+-------------+\n",
            "|    Pepe|     4|  200|      Elche|          X21|\n",
            "|  Andreu|     8| NULL|       NULL|         NULL|\n",
            "|    Juan|     6| NULL|       NULL|          C54|\n",
            "|   Pedro|     1|   30|   Valencia|          R23|\n",
            "|   María|     6|  300| Torrellano|         NULL|\n",
            "|  Marina|     3|  350|       Aspe|          V55|\n",
            "|Empleado|    10|  500|Crevillente|          AMV|\n",
            "|     Ana|    10| 2300|   Alicante|          B89|\n",
            "|Empleado|     6| NULL|       NULL|         NULL|\n",
            "|   Jorge|     8| NULL|       NULL|          T19|\n",
            "+--------+------+-----+-----------+-------------+\n",
            "\n"
          ]
        }
      ],
      "source": [
        "media = dfNull.select(avg(\"Ventas\")).collect()[0][0]\n",
        "dfNull = dfNull.na.fill({\"Ventas\": media})\n",
        "dfNull.show()\n"
      ]
    },
    {
      "cell_type": "code",
      "execution_count": 14,
      "metadata": {},
      "outputs": [
        {
          "name": "stdout",
          "output_type": "stream",
          "text": [
            "+--------+------+-----+-----------+-------------+\n",
            "|  Nombre|Ventas|Euros|     Ciudad|Identificador|\n",
            "+--------+------+-----+-----------+-------------+\n",
            "|    Pepe|     4|  200|      Elche|          X21|\n",
            "|  Andreu|     8|   30|       NULL|         NULL|\n",
            "|    Juan|     6|   30|       NULL|          C54|\n",
            "|   Pedro|     1|   30|   Valencia|          R23|\n",
            "|   María|     6|  300| Torrellano|         NULL|\n",
            "|  Marina|     3|  350|       Aspe|          V55|\n",
            "|Empleado|    10|  500|Crevillente|          AMV|\n",
            "|     Ana|    10| 2300|   Alicante|          B89|\n",
            "|Empleado|     6|   30|       NULL|         NULL|\n",
            "|   Jorge|     8|   30|       NULL|          T19|\n",
            "+--------+------+-----+-----------+-------------+\n",
            "\n"
          ]
        }
      ],
      "source": [
        "min_euros = dfNull.select(min(\"Euros\")).collect()[0][0]\n",
        "dfNull = dfNull.na.fill({\"Euros\": min_euros})\n",
        "dfNull.show()\n"
      ]
    },
    {
      "cell_type": "code",
      "execution_count": 15,
      "metadata": {},
      "outputs": [
        {
          "name": "stdout",
          "output_type": "stream",
          "text": [
            "+--------+------+-----+-----------+-------------+\n",
            "|  Nombre|Ventas|Euros|     Ciudad|Identificador|\n",
            "+--------+------+-----+-----------+-------------+\n",
            "|    Pepe|     4|  200|      Elche|          X21|\n",
            "|  Andreu|     8|   30|       C.V.|          XYZ|\n",
            "|    Juan|     6|   30|       C.V.|          C54|\n",
            "|   Pedro|     1|   30|   Valencia|          R23|\n",
            "|   María|     6|  300| Torrellano|          XYZ|\n",
            "|  Marina|     3|  350|       Aspe|          V55|\n",
            "|Empleado|    10|  500|Crevillente|          AMV|\n",
            "|     Ana|    10| 2300|   Alicante|          B89|\n",
            "|Empleado|     6|   30|       C.V.|          XYZ|\n",
            "|   Jorge|     8|   30|       C.V.|          T19|\n",
            "+--------+------+-----+-----------+-------------+\n",
            "\n"
          ]
        }
      ],
      "source": [
        "dfNull = dfNull.na.fill({\"Ciudad\":\"C.V.\"})\n",
        "dfNull = dfNull.na.fill({\"Identificador\": \"XYZ\"})\n",
        "dfNull.show()"
      ]
    },
    {
      "cell_type": "markdown",
      "metadata": {
        "id": "62C3pGjg5SRe"
      },
      "source": [
        "## EJERCICIO 4"
      ]
    },
    {
      "cell_type": "markdown",
      "metadata": {
        "id": "Kz8oZ4zB5SRe"
      },
      "source": [
        " A partir del archivo movies.tsv, crea una esquema de forma declarativa con los campos:\n",
        "\n",
        "* interprete de tipo string\n",
        "* pelicula de tipo string\n",
        "* anyo de tipo int\n",
        "\n",
        "Cada fila del fichero implica que el actor/actriz ha trabajado en dicha película en el año indicado.\n",
        "1. Una vez creado el esquema, carga los datos en un DataFrame.\n",
        "\n",
        "A continuación, mediante el DataFrame API:\n",
        "\n",
        "2. Muestra las películas en las que ha trabajado Murphy, Eddie (I).\n",
        "3. Muestra los intérpretes que aparecen tanto en Superman como en Superman II."
      ]
    },
    {
      "cell_type": "code",
      "execution_count": null,
      "metadata": {
        "id": "SeFxQSdgbuti"
      },
      "outputs": [
        {
          "name": "stdout",
          "output_type": "stream",
          "text": [
            "+-----------------+--------------------+----+\n",
            "|       interprete|            pelicula|anyo|\n",
            "+-----------------+--------------------+----+\n",
            "|McClure, Marc (I)|       Freaky Friday|2003|\n",
            "|McClure, Marc (I)|        Coach Carter|2005|\n",
            "|McClure, Marc (I)|         Superman II|1980|\n",
            "|McClure, Marc (I)|           Apollo 13|1995|\n",
            "|McClure, Marc (I)|            Superman|1978|\n",
            "|McClure, Marc (I)|  Back to the Future|1985|\n",
            "|McClure, Marc (I)|Back to the Futur...|1990|\n",
            "|Cooper, Chris (I)|  Me, Myself & Irene|2000|\n",
            "|Cooper, Chris (I)|         October Sky|1999|\n",
            "|Cooper, Chris (I)|              Capote|2005|\n",
            "|Cooper, Chris (I)|The Bourne Supremacy|2004|\n",
            "|Cooper, Chris (I)|         The Patriot|2000|\n",
            "|Cooper, Chris (I)|            The Town|2010|\n",
            "|Cooper, Chris (I)|          Seabiscuit|2003|\n",
            "|Cooper, Chris (I)|      A Time to Kill|1996|\n",
            "|Cooper, Chris (I)|Where the Wild Th...|2009|\n",
            "|Cooper, Chris (I)|         The Muppets|2011|\n",
            "|Cooper, Chris (I)|     American Beauty|1999|\n",
            "|Cooper, Chris (I)|             Syriana|2005|\n",
            "|Cooper, Chris (I)| The Horse Whisperer|1998|\n",
            "+-----------------+--------------------+----+\n",
            "only showing top 20 rows\n",
            "\n"
          ]
        }
      ],
      "source": [
        "esquema = StructType(\n",
        "    [\n",
        "        StructField(\"interprete\", StringType(), False),\n",
        "        StructField(\"pelicula\", StringType(), False),\n",
        "        StructField(\"anyo\", IntegerType(), False),\n",
        "    ]\n",
        ")\n",
        "dfMovies = spark.read.option(\"sep\", \"\\t\").schema(esquema).csv(\"Datos/movies.tsv\")\n",
        "dfMovies.show()"
      ]
    },
    {
      "cell_type": "code",
      "execution_count": 20,
      "metadata": {},
      "outputs": [
        {
          "name": "stdout",
          "output_type": "stream",
          "text": [
            "+--------------------+\n",
            "|            pelicula|\n",
            "+--------------------+\n",
            "|            Showtime|\n",
            "|              Norbit|\n",
            "|Hot Tub Time Machine|\n",
            "|Nutty Professor I...|\n",
            "|Beverly Hills Cop II|\n",
            "|      Trading Places|\n",
            "|      Daddy Day Care|\n",
            "|      Dr. Dolittle 2|\n",
            "| Shrek Forever After|\n",
            "|   Beverly Hills Cop|\n",
            "|               Shrek|\n",
            "| The Haunted Mansion|\n",
            "|   Coming to America|\n",
            "|             Shrek 2|\n",
            "|     Doctor Dolittle|\n",
            "| The Nutty Professor|\n",
            "|               Mulan|\n",
            "|         Tower Heist|\n",
            "|          Dreamgirls|\n",
            "|           Bowfinger|\n",
            "+--------------------+\n",
            "only showing top 20 rows\n",
            "\n"
          ]
        }
      ],
      "source": [
        "dfMovies.filter(col(\"interprete\") == \"Murphy, Eddie (I)\").select(\"pelicula\").show()"
      ]
    },
    {
      "cell_type": "code",
      "execution_count": 21,
      "metadata": {},
      "outputs": [
        {
          "name": "stdout",
          "output_type": "stream",
          "text": [
            "+------------------+\n",
            "|        interprete|\n",
            "+------------------+\n",
            "|  O'Halloran, Jack|\n",
            "|   Tucker, Burnell|\n",
            "|  Hollis, John (I)|\n",
            "|       Beatty, Ned|\n",
            "|    Stamp, Terence|\n",
            "|Ratzenberger, John|\n",
            "|     Hackman, Gene|\n",
            "|    Fielder, Harry|\n",
            "|  Perrine, Valerie|\n",
            "| McClure, Marc (I)|\n",
            "|   Donner, Richard|\n",
            "+------------------+\n",
            "\n"
          ]
        }
      ],
      "source": [
        "dfSuperman1 = dfMovies.filter(col(\"pelicula\") == \"Superman\").select(\"interprete\")\n",
        "dfSuperman2 = dfMovies.filter(col(\"pelicula\") == \"Superman II\").select(\"interprete\")\n",
        "dfSuperman1.intersect(dfSuperman2).show()\n"
      ]
    },
    {
      "cell_type": "markdown",
      "metadata": {
        "id": "HhZ9aGeq5SRf"
      },
      "source": [
        "## EJERCICIO 5\n",
        "Realiza las siguientes operaciones:\n",
        "* Carga el dataset de “data/stocks_price_final.csv”, con el esquema correcto de datos (tienes que crear tu el schema\").\n",
        "* Renombra la variable market.cap a market\n",
        "* Elimina la variable market\n",
        "* Muestra las filas donde el valor de \"open\" es nulo.\n",
        "* Elimina las filas donde el valor de \"open\" es nulo.\n",
        "* Para comprobar el punto anterior vuelve a mostrar las filas donde el valor de \"open\" es nulo.\n"
      ]
    },
    {
      "cell_type": "code",
      "execution_count": 34,
      "metadata": {
        "colab": {
          "base_uri": "https://localhost:8080/"
        },
        "id": "oawpRKQ55SRf",
        "outputId": "21b4b449-0fe5-480f-f9bd-7b3e2e1ff6f4"
      },
      "outputs": [
        {
          "name": "stdout",
          "output_type": "stream",
          "text": [
            "+---+------+----------+-----+------+------+-----+-------+--------+----------+-------------+--------------------+--------+\n",
            "|   |symbol|      date| open|  high|   low|close| volume|adjusted|market.cap|       sector|            industry|exchange|\n",
            "+---+------+----------+-----+------+------+-----+-------+--------+----------+-------------+--------------------+--------+\n",
            "|  1|   TXG|2019-09-12| 54.0|  58.0|  51.0|52.75|7326300|   52.75|    $9.31B|Capital Goods|Biotechnology: La...|  NASDAQ|\n",
            "|  2|   TXG|2019-09-13|52.75|54.355| 49.15|52.27|1025200|   52.27|    $9.31B|Capital Goods|Biotechnology: La...|  NASDAQ|\n",
            "|  3|   TXG|2019-09-16|52.45|  56.0| 52.01| 55.2| 269900|    55.2|    $9.31B|Capital Goods|Biotechnology: La...|  NASDAQ|\n",
            "|  4|   TXG|2019-09-17|56.21|  60.9|55.423|56.78| 602800|   56.78|    $9.31B|Capital Goods|Biotechnology: La...|  NASDAQ|\n",
            "|  5|   TXG|2019-09-18|56.85| 62.27| 55.65| 62.0|1589600|    62.0|    $9.31B|Capital Goods|Biotechnology: La...|  NASDAQ|\n",
            "|  6|   TXG|2019-09-19|62.81|63.375| 61.03|61.12| 425200|   61.12|    $9.31B|Capital Goods|Biotechnology: La...|  NASDAQ|\n",
            "|  7|   TXG|2019-09-20|61.71| 62.42| 59.82| 60.5| 392000|    60.5|    $9.31B|Capital Goods|Biotechnology: La...|  NASDAQ|\n",
            "|  8|   TXG|2019-09-23|60.22|61.485| 59.94|60.33| 137200|   60.33|    $9.31B|Capital Goods|Biotechnology: La...|  NASDAQ|\n",
            "|  9|   TXG|2019-09-24| 61.0|  61.0|  54.0| 54.3| 713800|    54.3|    $9.31B|Capital Goods|Biotechnology: La...|  NASDAQ|\n",
            "| 10|   TXG|2019-09-25|54.46| 55.88|52.563|52.76| 261200|   52.76|    $9.31B|Capital Goods|Biotechnology: La...|  NASDAQ|\n",
            "| 11|   TXG|2019-09-26|52.78| 53.69| 46.62|49.99| 596300|   49.99|    $9.31B|Capital Goods|Biotechnology: La...|  NASDAQ|\n",
            "| 12|   TXG|2019-09-27|51.13|  55.0|  50.7|51.03| 621300|   51.03|    $9.31B|Capital Goods|Biotechnology: La...|  NASDAQ|\n",
            "| 13|   TXG|2019-09-30|51.05|  52.0| 49.25| 50.4| 168900|    50.4|    $9.31B|Capital Goods|Biotechnology: La...|  NASDAQ|\n",
            "| 14|   TXG|2019-10-01|50.51| 51.92|  46.0|47.03| 536300|   47.03|    $9.31B|Capital Goods|Biotechnology: La...|  NASDAQ|\n",
            "| 15|   TXG|2019-10-02|46.78| 47.23| 45.11|46.07| 519600|   46.07|    $9.31B|Capital Goods|Biotechnology: La...|  NASDAQ|\n",
            "| 16|   TXG|2019-10-03|46.77| 48.24| 45.75|48.12| 703900|   48.12|    $9.31B|Capital Goods|Biotechnology: La...|  NASDAQ|\n",
            "| 17|   TXG|2019-10-04| 48.0| 53.34| 47.82|51.45| 322400|   51.45|    $9.31B|Capital Goods|Biotechnology: La...|  NASDAQ|\n",
            "| 18|   TXG|2019-10-07| 52.1| 53.22| 49.03|50.36| 476600|   50.36|    $9.31B|Capital Goods|Biotechnology: La...|  NASDAQ|\n",
            "| 19|   TXG|2019-10-08| 50.0| 51.27|  49.0|49.55| 284100|   49.55|    $9.31B|Capital Goods|Biotechnology: La...|  NASDAQ|\n",
            "| 20|   TXG|2019-10-09|49.63|51.525|49.575|50.01| 201100|   50.01|    $9.31B|Capital Goods|Biotechnology: La...|  NASDAQ|\n",
            "+---+------+----------+-----+------+------+-----+-------+--------+----------+-------------+--------------------+--------+\n",
            "only showing top 20 rows\n",
            "\n"
          ]
        }
      ],
      "source": [
        "esquema = StructType([\n",
        "    StructField(\"\", IntegerType(), False),\n",
        "    StructField(\"symbol\", StringType(), False),\n",
        "    StructField(\"date\", StringType(), False),\n",
        "    StructField(\"open\", FloatType(), False),\n",
        "    StructField(\"high\", FloatType(), False),\n",
        "    StructField(\"low\", FloatType(), False),\n",
        "    StructField(\"close\", FloatType(), False),\n",
        "    StructField(\"volume\", IntegerType(), False),\n",
        "    StructField(\"adjusted\", FloatType(), False),\n",
        "    StructField(\"market.cap\", StringType(), False),\n",
        "    StructField(\"sector\", StringType(), False),\n",
        "    StructField(\"industry\", StringType(), False),\n",
        "    StructField(\"exchange\", StringType(), False)\n",
        "])\n",
        "dfStock = spark.read.option(\"header\", True).schema(esquema).csv(\"Datos/stocks_price_final.csv\")\n",
        "dfStock.show()"
      ]
    },
    {
      "cell_type": "code",
      "execution_count": 35,
      "metadata": {},
      "outputs": [
        {
          "name": "stdout",
          "output_type": "stream",
          "text": [
            "+---+------+----------+-----+------+------+-----+-------+--------+------+-------------+--------------------+--------+\n",
            "|   |symbol|      date| open|  high|   low|close| volume|adjusted|market|       sector|            industry|exchange|\n",
            "+---+------+----------+-----+------+------+-----+-------+--------+------+-------------+--------------------+--------+\n",
            "|  1|   TXG|2019-09-12| 54.0|  58.0|  51.0|52.75|7326300|   52.75|$9.31B|Capital Goods|Biotechnology: La...|  NASDAQ|\n",
            "|  2|   TXG|2019-09-13|52.75|54.355| 49.15|52.27|1025200|   52.27|$9.31B|Capital Goods|Biotechnology: La...|  NASDAQ|\n",
            "|  3|   TXG|2019-09-16|52.45|  56.0| 52.01| 55.2| 269900|    55.2|$9.31B|Capital Goods|Biotechnology: La...|  NASDAQ|\n",
            "|  4|   TXG|2019-09-17|56.21|  60.9|55.423|56.78| 602800|   56.78|$9.31B|Capital Goods|Biotechnology: La...|  NASDAQ|\n",
            "|  5|   TXG|2019-09-18|56.85| 62.27| 55.65| 62.0|1589600|    62.0|$9.31B|Capital Goods|Biotechnology: La...|  NASDAQ|\n",
            "|  6|   TXG|2019-09-19|62.81|63.375| 61.03|61.12| 425200|   61.12|$9.31B|Capital Goods|Biotechnology: La...|  NASDAQ|\n",
            "|  7|   TXG|2019-09-20|61.71| 62.42| 59.82| 60.5| 392000|    60.5|$9.31B|Capital Goods|Biotechnology: La...|  NASDAQ|\n",
            "|  8|   TXG|2019-09-23|60.22|61.485| 59.94|60.33| 137200|   60.33|$9.31B|Capital Goods|Biotechnology: La...|  NASDAQ|\n",
            "|  9|   TXG|2019-09-24| 61.0|  61.0|  54.0| 54.3| 713800|    54.3|$9.31B|Capital Goods|Biotechnology: La...|  NASDAQ|\n",
            "| 10|   TXG|2019-09-25|54.46| 55.88|52.563|52.76| 261200|   52.76|$9.31B|Capital Goods|Biotechnology: La...|  NASDAQ|\n",
            "| 11|   TXG|2019-09-26|52.78| 53.69| 46.62|49.99| 596300|   49.99|$9.31B|Capital Goods|Biotechnology: La...|  NASDAQ|\n",
            "| 12|   TXG|2019-09-27|51.13|  55.0|  50.7|51.03| 621300|   51.03|$9.31B|Capital Goods|Biotechnology: La...|  NASDAQ|\n",
            "| 13|   TXG|2019-09-30|51.05|  52.0| 49.25| 50.4| 168900|    50.4|$9.31B|Capital Goods|Biotechnology: La...|  NASDAQ|\n",
            "| 14|   TXG|2019-10-01|50.51| 51.92|  46.0|47.03| 536300|   47.03|$9.31B|Capital Goods|Biotechnology: La...|  NASDAQ|\n",
            "| 15|   TXG|2019-10-02|46.78| 47.23| 45.11|46.07| 519600|   46.07|$9.31B|Capital Goods|Biotechnology: La...|  NASDAQ|\n",
            "| 16|   TXG|2019-10-03|46.77| 48.24| 45.75|48.12| 703900|   48.12|$9.31B|Capital Goods|Biotechnology: La...|  NASDAQ|\n",
            "| 17|   TXG|2019-10-04| 48.0| 53.34| 47.82|51.45| 322400|   51.45|$9.31B|Capital Goods|Biotechnology: La...|  NASDAQ|\n",
            "| 18|   TXG|2019-10-07| 52.1| 53.22| 49.03|50.36| 476600|   50.36|$9.31B|Capital Goods|Biotechnology: La...|  NASDAQ|\n",
            "| 19|   TXG|2019-10-08| 50.0| 51.27|  49.0|49.55| 284100|   49.55|$9.31B|Capital Goods|Biotechnology: La...|  NASDAQ|\n",
            "| 20|   TXG|2019-10-09|49.63|51.525|49.575|50.01| 201100|   50.01|$9.31B|Capital Goods|Biotechnology: La...|  NASDAQ|\n",
            "+---+------+----------+-----+------+------+-----+-------+--------+------+-------------+--------------------+--------+\n",
            "only showing top 20 rows\n",
            "\n"
          ]
        }
      ],
      "source": [
        "dfStock = dfStock.withColumnRenamed(\"market.cap\", \"market\")\n",
        "dfStock.show()"
      ]
    },
    {
      "cell_type": "code",
      "execution_count": 36,
      "metadata": {},
      "outputs": [
        {
          "name": "stdout",
          "output_type": "stream",
          "text": [
            "+---+------+----------+-----+------+------+-----+-------+--------+-------------+--------------------+--------+\n",
            "|   |symbol|      date| open|  high|   low|close| volume|adjusted|       sector|            industry|exchange|\n",
            "+---+------+----------+-----+------+------+-----+-------+--------+-------------+--------------------+--------+\n",
            "|  1|   TXG|2019-09-12| 54.0|  58.0|  51.0|52.75|7326300|   52.75|Capital Goods|Biotechnology: La...|  NASDAQ|\n",
            "|  2|   TXG|2019-09-13|52.75|54.355| 49.15|52.27|1025200|   52.27|Capital Goods|Biotechnology: La...|  NASDAQ|\n",
            "|  3|   TXG|2019-09-16|52.45|  56.0| 52.01| 55.2| 269900|    55.2|Capital Goods|Biotechnology: La...|  NASDAQ|\n",
            "|  4|   TXG|2019-09-17|56.21|  60.9|55.423|56.78| 602800|   56.78|Capital Goods|Biotechnology: La...|  NASDAQ|\n",
            "|  5|   TXG|2019-09-18|56.85| 62.27| 55.65| 62.0|1589600|    62.0|Capital Goods|Biotechnology: La...|  NASDAQ|\n",
            "|  6|   TXG|2019-09-19|62.81|63.375| 61.03|61.12| 425200|   61.12|Capital Goods|Biotechnology: La...|  NASDAQ|\n",
            "|  7|   TXG|2019-09-20|61.71| 62.42| 59.82| 60.5| 392000|    60.5|Capital Goods|Biotechnology: La...|  NASDAQ|\n",
            "|  8|   TXG|2019-09-23|60.22|61.485| 59.94|60.33| 137200|   60.33|Capital Goods|Biotechnology: La...|  NASDAQ|\n",
            "|  9|   TXG|2019-09-24| 61.0|  61.0|  54.0| 54.3| 713800|    54.3|Capital Goods|Biotechnology: La...|  NASDAQ|\n",
            "| 10|   TXG|2019-09-25|54.46| 55.88|52.563|52.76| 261200|   52.76|Capital Goods|Biotechnology: La...|  NASDAQ|\n",
            "| 11|   TXG|2019-09-26|52.78| 53.69| 46.62|49.99| 596300|   49.99|Capital Goods|Biotechnology: La...|  NASDAQ|\n",
            "| 12|   TXG|2019-09-27|51.13|  55.0|  50.7|51.03| 621300|   51.03|Capital Goods|Biotechnology: La...|  NASDAQ|\n",
            "| 13|   TXG|2019-09-30|51.05|  52.0| 49.25| 50.4| 168900|    50.4|Capital Goods|Biotechnology: La...|  NASDAQ|\n",
            "| 14|   TXG|2019-10-01|50.51| 51.92|  46.0|47.03| 536300|   47.03|Capital Goods|Biotechnology: La...|  NASDAQ|\n",
            "| 15|   TXG|2019-10-02|46.78| 47.23| 45.11|46.07| 519600|   46.07|Capital Goods|Biotechnology: La...|  NASDAQ|\n",
            "| 16|   TXG|2019-10-03|46.77| 48.24| 45.75|48.12| 703900|   48.12|Capital Goods|Biotechnology: La...|  NASDAQ|\n",
            "| 17|   TXG|2019-10-04| 48.0| 53.34| 47.82|51.45| 322400|   51.45|Capital Goods|Biotechnology: La...|  NASDAQ|\n",
            "| 18|   TXG|2019-10-07| 52.1| 53.22| 49.03|50.36| 476600|   50.36|Capital Goods|Biotechnology: La...|  NASDAQ|\n",
            "| 19|   TXG|2019-10-08| 50.0| 51.27|  49.0|49.55| 284100|   49.55|Capital Goods|Biotechnology: La...|  NASDAQ|\n",
            "| 20|   TXG|2019-10-09|49.63|51.525|49.575|50.01| 201100|   50.01|Capital Goods|Biotechnology: La...|  NASDAQ|\n",
            "+---+------+----------+-----+------+------+-----+-------+--------+-------------+--------------------+--------+\n",
            "only showing top 20 rows\n",
            "\n"
          ]
        }
      ],
      "source": [
        "dfStock = dfStock.drop(\"market\")\n",
        "dfStock.show()"
      ]
    },
    {
      "cell_type": "code",
      "execution_count": 37,
      "metadata": {},
      "outputs": [
        {
          "name": "stdout",
          "output_type": "stream",
          "text": [
            "+----+------+----------+----+----+----+-----+------+--------+-------------+--------------------+--------+\n",
            "|    |symbol|      date|open|high| low|close|volume|adjusted|       sector|            industry|exchange|\n",
            "+----+------+----------+----+----+----+-----+------+--------+-------------+--------------------+--------+\n",
            "|4378|  KRKR|2020-05-11|NULL|NULL|NULL| NULL|  NULL|    NULL|Miscellaneous|   Business Services|  NASDAQ|\n",
            "|5747|  NMTR|2020-01-23|NULL|NULL|NULL| NULL|  NULL|    NULL|  Health Care|Major Pharmaceuti...|  NASDAQ|\n",
            "|5748|  NMTR|2020-01-24|NULL|NULL|NULL| NULL|  NULL|    NULL|  Health Care|Major Pharmaceuti...|  NASDAQ|\n",
            "|5749|  NMTR|2020-01-27|NULL|NULL|NULL| NULL|  NULL|    NULL|  Health Care|Major Pharmaceuti...|  NASDAQ|\n",
            "|5750|  NMTR|2020-01-28|NULL|NULL|NULL| NULL|  NULL|    NULL|  Health Care|Major Pharmaceuti...|  NASDAQ|\n",
            "|5751|  NMTR|2020-01-29|NULL|NULL|NULL| NULL|  NULL|    NULL|  Health Care|Major Pharmaceuti...|  NASDAQ|\n",
            "|5752|  NMTR|2020-01-30|NULL|NULL|NULL| NULL|  NULL|    NULL|  Health Care|Major Pharmaceuti...|  NASDAQ|\n",
            "|5753|  NMTR|2020-01-31|NULL|NULL|NULL| NULL|  NULL|    NULL|  Health Care|Major Pharmaceuti...|  NASDAQ|\n",
            "|5754|  NMTR|2020-02-03|NULL|NULL|NULL| NULL|  NULL|    NULL|  Health Care|Major Pharmaceuti...|  NASDAQ|\n",
            "|5755|  NMTR|2020-02-04|NULL|NULL|NULL| NULL|  NULL|    NULL|  Health Care|Major Pharmaceuti...|  NASDAQ|\n",
            "|5756|  NMTR|2020-02-05|NULL|NULL|NULL| NULL|  NULL|    NULL|  Health Care|Major Pharmaceuti...|  NASDAQ|\n",
            "|5757|  NMTR|2020-02-06|NULL|NULL|NULL| NULL|  NULL|    NULL|  Health Care|Major Pharmaceuti...|  NASDAQ|\n",
            "|5758|  NMTR|2020-02-07|NULL|NULL|NULL| NULL|  NULL|    NULL|  Health Care|Major Pharmaceuti...|  NASDAQ|\n",
            "|5759|  NMTR|2020-02-10|NULL|NULL|NULL| NULL|  NULL|    NULL|  Health Care|Major Pharmaceuti...|  NASDAQ|\n",
            "|5760|  NMTR|2020-02-11|NULL|NULL|NULL| NULL|  NULL|    NULL|  Health Care|Major Pharmaceuti...|  NASDAQ|\n",
            "|5761|  NMTR|2020-02-12|NULL|NULL|NULL| NULL|  NULL|    NULL|  Health Care|Major Pharmaceuti...|  NASDAQ|\n",
            "|5762|  NMTR|2020-02-13|NULL|NULL|NULL| NULL|  NULL|    NULL|  Health Care|Major Pharmaceuti...|  NASDAQ|\n",
            "|5763|  NMTR|2020-02-14|NULL|NULL|NULL| NULL|  NULL|    NULL|  Health Care|Major Pharmaceuti...|  NASDAQ|\n",
            "|5764|  NMTR|2020-02-18|NULL|NULL|NULL| NULL|  NULL|    NULL|  Health Care|Major Pharmaceuti...|  NASDAQ|\n",
            "|5765|  NMTR|2020-02-19|NULL|NULL|NULL| NULL|  NULL|    NULL|  Health Care|Major Pharmaceuti...|  NASDAQ|\n",
            "+----+------+----------+----+----+----+-----+------+--------+-------------+--------------------+--------+\n",
            "only showing top 20 rows\n",
            "\n"
          ]
        }
      ],
      "source": [
        "dfStock.filter(col(\"open\").isNull()).show()\n"
      ]
    },
    {
      "cell_type": "code",
      "execution_count": 38,
      "metadata": {},
      "outputs": [
        {
          "name": "stdout",
          "output_type": "stream",
          "text": [
            "+---+------+----+----+----+---+-----+------+--------+------+--------+--------+\n",
            "|   |symbol|date|open|high|low|close|volume|adjusted|sector|industry|exchange|\n",
            "+---+------+----+----+----+---+-----+------+--------+------+--------+--------+\n",
            "+---+------+----+----+----+---+-----+------+--------+------+--------+--------+\n",
            "\n"
          ]
        }
      ],
      "source": [
        "dfStock = dfStock.filter(col(\"open\").isNotNull())\n",
        "dfStock.filter(col(\"open\").isNull()).show()"
      ]
    }
  ],
  "metadata": {
    "colab": {
      "provenance": [],
      "toc_visible": true
    },
    "kernelspec": {
      "display_name": "entornoJon",
      "language": "python",
      "name": "python3"
    },
    "language_info": {
      "codemirror_mode": {
        "name": "ipython",
        "version": 3
      },
      "file_extension": ".py",
      "mimetype": "text/x-python",
      "name": "python",
      "nbconvert_exporter": "python",
      "pygments_lexer": "ipython3",
      "version": "3.12.8"
    }
  },
  "nbformat": 4,
  "nbformat_minor": 0
}
