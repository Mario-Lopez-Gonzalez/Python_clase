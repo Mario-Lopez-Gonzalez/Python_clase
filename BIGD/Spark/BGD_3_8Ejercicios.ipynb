{
  "cells": [
    {
      "cell_type": "markdown",
      "metadata": {
        "id": "1CkMrsp85SQ4"
      },
      "source": [
        "# EJERCICIOS"
      ]
    },
    {
      "cell_type": "code",
      "execution_count": 1,
      "metadata": {
        "id": "LuecDqKh5SRT"
      },
      "outputs": [
        {
          "name": "stderr",
          "output_type": "stream",
          "text": [
            "25/02/06 15:48:15 WARN Utils: Your hostname, iadb-12 resolves to a loopback address: 127.0.1.1; using 172.20.104.44 instead (on interface wlp44s0f0)\n",
            "25/02/06 15:48:15 WARN Utils: Set SPARK_LOCAL_IP if you need to bind to another address\n",
            "Setting default log level to \"WARN\".\n",
            "To adjust logging level use sc.setLogLevel(newLevel). For SparkR, use setLogLevel(newLevel).\n",
            "25/02/06 15:48:16 WARN NativeCodeLoader: Unable to load native-hadoop library for your platform... using builtin-java classes where applicable\n"
          ]
        },
        {
          "name": "stderr",
          "output_type": "stream",
          "text": [
            "25/02/06 15:48:28 WARN GarbageCollectionMetrics: To enable non-built-in garbage collector(s) List(G1 Concurrent GC), users should configure it(them) to spark.eventLog.gcMetrics.youngGenerationGarbageCollectors or spark.eventLog.gcMetrics.oldGenerationGarbageCollectors\n"
          ]
        }
      ],
      "source": [
        "import pandas as pd\n",
        "from pyspark.sql import SparkSession\n",
        "from pyspark.sql.functions import lit, current_date, year, monotonically_increasing_id,  avg, min, coalesce, col, when\n",
        "from pyspark.sql.types import StructType, StructField, StringType, IntegerType, DoubleType, DateType\n",
        "\n",
        "spark = SparkSession.builder.master(\"local[*]\").appName(\"pyspark_rdd\").getOrCreate()\n",
        "#spark = SparkSession.builder.getOrCreate()\n",
        "sc = spark.sparkContext"
      ]
    },
    {
      "cell_type": "markdown",
      "metadata": {
        "id": "xxPbn7ct5SRW"
      },
      "source": [
        "## EJERCICIO 0\n",
        "En un documento word haz una lista de las diferentes operaciones con una breve descripción de lo que hace y un ejemplo de como se utiliza"
      ]
    },
    {
      "cell_type": "markdown",
      "metadata": {
        "id": "p2ywlD0T5SRX"
      },
      "source": [
        "## EJERCICIO 1\n",
        "Realiza las siguientes operaciones:\n",
        "* Importa el csv de \"data/WorldCupPlayers.csv\" (que deduzca el esquema)\n",
        "* Visualiza los datos\n",
        "* ¿Que tipo de datos contiene cada variable?\n",
        "* ¿Cuantos registros hay?\n",
        "* Obtén los principales estadísticos de Position\n",
        "* Selecciona y muestra los \"Team initials\" diferentes que hay ¿Cuántos hay?\n",
        "* ¿Cuantos partidos con el ID de 1096 ha habido?\n",
        "* Muestra los datos donde la posicion haya sido C y el evento sea G40\n",
        "* Utiliza Spark SQL para mostras los registros donde el MatchID sea mayor o igual a 20"
      ]
    },
    {
      "cell_type": "code",
      "execution_count": 7,
      "metadata": {
        "colab": {
          "base_uri": "https://localhost:8080/"
        },
        "id": "0QnmFQq55SRX",
        "outputId": "cbfb95e7-dd96-40bf-c9fe-80a07a6bad62"
      },
      "outputs": [],
      "source": [
        "dfPlayers = (\n",
        "    spark.read.option(\"sep\", \",\")\n",
        "    .option(\"header\", \"true\")\n",
        "    .option(\"inferSchema\", \"true\")\n",
        "    .csv(\"Datos/WorldCupPlayers.csv\")\n",
        ")"
      ]
    },
    {
      "cell_type": "code",
      "execution_count": 6,
      "metadata": {},
      "outputs": [
        {
          "name": "stdout",
          "output_type": "stream",
          "text": [
            "+-------+-------+-------------+-------------------+-------+------------+-----------+--------+-----+\n",
            "|RoundID|MatchID|Team Initials|         Coach Name|Line-up|Shirt Number|Player Name|Position|Event|\n",
            "+-------+-------+-------------+-------------------+-------+------------+-----------+--------+-----+\n",
            "|    201|   1096|          FRA|CAUDRON Raoul (FRA)|      S|           0|Alex THEPOT|      GK| NULL|\n",
            "+-------+-------+-------------+-------------------+-------+------------+-----------+--------+-----+\n",
            "only showing top 1 row\n",
            "\n"
          ]
        }
      ],
      "source": [
        "dfPlayers.show(1)"
      ]
    },
    {
      "cell_type": "code",
      "execution_count": 8,
      "metadata": {},
      "outputs": [
        {
          "name": "stdout",
          "output_type": "stream",
          "text": [
            "root\n",
            " |-- RoundID: integer (nullable = true)\n",
            " |-- MatchID: integer (nullable = true)\n",
            " |-- Team Initials: string (nullable = true)\n",
            " |-- Coach Name: string (nullable = true)\n",
            " |-- Line-up: string (nullable = true)\n",
            " |-- Shirt Number: integer (nullable = true)\n",
            " |-- Player Name: string (nullable = true)\n",
            " |-- Position: string (nullable = true)\n",
            " |-- Event: string (nullable = true)\n",
            "\n"
          ]
        }
      ],
      "source": [
        "dfPlayers.printSchema()"
      ]
    },
    {
      "cell_type": "code",
      "execution_count": 9,
      "metadata": {},
      "outputs": [
        {
          "data": {
            "text/plain": [
              "37784"
            ]
          },
          "execution_count": 9,
          "metadata": {},
          "output_type": "execute_result"
        }
      ],
      "source": [
        "dfPlayers.count()"
      ]
    },
    {
      "cell_type": "code",
      "execution_count": 12,
      "metadata": {},
      "outputs": [
        {
          "name": "stdout",
          "output_type": "stream",
          "text": [
            "+-------+--------+\n",
            "|summary|position|\n",
            "+-------+--------+\n",
            "|  count|    4143|\n",
            "|   mean|    NULL|\n",
            "| stddev|    NULL|\n",
            "|    min|       C|\n",
            "|    max|     GKC|\n",
            "+-------+--------+\n",
            "\n"
          ]
        }
      ],
      "source": [
        "dfPlayers.describe(\"position\").show()"
      ]
    },
    {
      "cell_type": "code",
      "execution_count": 13,
      "metadata": {},
      "outputs": [
        {
          "name": "stdout",
          "output_type": "stream",
          "text": [
            "+-------------+\n",
            "|Team Initials|\n",
            "+-------------+\n",
            "|          POL|\n",
            "|          JAM|\n",
            "|          BRA|\n",
            "|          CUB|\n",
            "|          FRA|\n",
            "|          ALG|\n",
            "|          BOL|\n",
            "|          RSA|\n",
            "|          ITA|\n",
            "|          UKR|\n",
            "|          CMR|\n",
            "|          SCG|\n",
            "|          GHA|\n",
            "|          SEN|\n",
            "|          TOG|\n",
            "|          TRI|\n",
            "|          TCH|\n",
            "|          AUS|\n",
            "|          MEX|\n",
            "|          PAR|\n",
            "+-------------+\n",
            "only showing top 20 rows\n",
            "\n"
          ]
        }
      ],
      "source": [
        "dfPlayers.select(\"Team Initials\").distinct().show()"
      ]
    },
    {
      "cell_type": "code",
      "execution_count": 16,
      "metadata": {},
      "outputs": [
        {
          "data": {
            "text/plain": [
              "33"
            ]
          },
          "execution_count": 16,
          "metadata": {},
          "output_type": "execute_result"
        }
      ],
      "source": [
        "dfPlayers.filter(dfPlayers.MatchID == 1096).count()"
      ]
    },
    {
      "cell_type": "code",
      "execution_count": 17,
      "metadata": {},
      "outputs": [
        {
          "name": "stdout",
          "output_type": "stream",
          "text": [
            "+-------+-------+-------------+----------+-------+------------+-----------+--------+-----+\n",
            "|RoundID|MatchID|Team Initials|Coach Name|Line-up|Shirt Number|Player Name|Position|Event|\n",
            "+-------+-------+-------------+----------+-------+------------+-----------+--------+-----+\n",
            "+-------+-------+-------------+----------+-------+------------+-----------+--------+-----+\n",
            "\n"
          ]
        }
      ],
      "source": [
        "dfPlayers.filter((dfPlayers.Event == \"G40\") & (dfPlayers.Position == \"C\")).show()"
      ]
    },
    {
      "cell_type": "code",
      "execution_count": 18,
      "metadata": {},
      "outputs": [
        {
          "name": "stdout",
          "output_type": "stream",
          "text": [
            "+-------+-------+-------------+-------------------+-------+------------+-----------------+--------+---------+\n",
            "|RoundID|MatchID|Team Initials|         Coach Name|Line-up|Shirt Number|      Player Name|Position|    Event|\n",
            "+-------+-------+-------------+-------------------+-------+------------+-----------------+--------+---------+\n",
            "|    201|   1096|          FRA|CAUDRON Raoul (FRA)|      S|           0|      Alex THEPOT|      GK|     NULL|\n",
            "|    201|   1096|          MEX|   LUQUE Juan (MEX)|      S|           0|  Oscar BONFIGLIO|      GK|     NULL|\n",
            "|    201|   1096|          FRA|CAUDRON Raoul (FRA)|      S|           0| Marcel LANGILLER|    NULL|     G40'|\n",
            "|    201|   1096|          MEX|   LUQUE Juan (MEX)|      S|           0|     Juan CARRENO|    NULL|     G70'|\n",
            "|    201|   1096|          FRA|CAUDRON Raoul (FRA)|      S|           0|  Ernest LIBERATI|    NULL|     NULL|\n",
            "|    201|   1096|          MEX|   LUQUE Juan (MEX)|      S|           0|     Rafael GARZA|       C|     NULL|\n",
            "|    201|   1096|          FRA|CAUDRON Raoul (FRA)|      S|           0|  Andre MASCHINOT|    NULL|G43' G87'|\n",
            "|    201|   1096|          MEX|   LUQUE Juan (MEX)|      S|           0|    Hilario LOPEZ|    NULL|     NULL|\n",
            "|    201|   1096|          FRA|CAUDRON Raoul (FRA)|      S|           0|  Etienne MATTLER|    NULL|     NULL|\n",
            "|    201|   1096|          MEX|   LUQUE Juan (MEX)|      S|           0|   Dionisio MEJIA|    NULL|     NULL|\n",
            "|    201|   1096|          FRA|CAUDRON Raoul (FRA)|      S|           0|     Marcel PINEL|    NULL|     NULL|\n",
            "|    201|   1096|          MEX|   LUQUE Juan (MEX)|      S|           0|     Felipe ROSAS|    NULL|     NULL|\n",
            "|    201|   1096|          FRA|CAUDRON Raoul (FRA)|      S|           0|  Alex VILLAPLANE|       C|     NULL|\n",
            "|    201|   1096|          MEX|   LUQUE Juan (MEX)|      S|           0|     Manuel ROSAS|    NULL|     NULL|\n",
            "|    201|   1096|          FRA|CAUDRON Raoul (FRA)|      S|           0|   Lucien LAURENT|    NULL|     G19'|\n",
            "|    201|   1096|          MEX|   LUQUE Juan (MEX)|      S|           0|        Jose RUIZ|    NULL|     NULL|\n",
            "|    201|   1096|          FRA|CAUDRON Raoul (FRA)|      S|           0|   Marcel CAPELLE|    NULL|     NULL|\n",
            "|    201|   1096|          MEX|   LUQUE Juan (MEX)|      S|           0|  Alfredo SANCHEZ|    NULL|     NULL|\n",
            "|    201|   1096|          FRA|CAUDRON Raoul (FRA)|      S|           0|Augustin CHANTREL|    NULL|     NULL|\n",
            "|    201|   1096|          MEX|   LUQUE Juan (MEX)|      S|           0|   Efrain AMEZCUA|    NULL|     NULL|\n",
            "+-------+-------+-------------+-------------------+-------+------------+-----------------+--------+---------+\n",
            "only showing top 20 rows\n",
            "\n"
          ]
        }
      ],
      "source": [
        "dfPlayers.createOrReplaceTempView(\"players_table\")\n",
        "spark.sql(\"SELECT * FROM players_table WHERE MatchID >= 20\").show()"
      ]
    },
    {
      "cell_type": "markdown",
      "metadata": {
        "id": "LwlXPat85SRc"
      },
      "source": [
        "## EJERCICIO 2"
      ]
    },
    {
      "cell_type": "markdown",
      "metadata": {
        "id": "ySES8yYI5SRc"
      },
      "source": [
        "A partir del archivo nombres.json, crea un DataFrame y realiza las siguientes operaciones:\n",
        "\n",
        "1. Crea una nueva columna (columna Mayor30) que indique si la persona es mayor de 30 años.\n",
        "2. Crea una nueva columna (columna FaltanJubilacion) que calcule cuantos años le faltan para jubilarse (supongamos que se jubila a los 67 años)\n",
        "3. Crea una nueva columna (columna Apellidos) que contenga XYZ (puedes utilizar la función lit)\n",
        "4. Elimina las columna Mayor30 y Apellidos.\n",
        "5. Crea una nueva columna (columna AnyoNac) con el año de nacimiento de cada persona (puedes utilizar la función current_date).\n",
        "6. Añade un id incremental para cada fila (campo Id) y haz que al hacer un show se vea en primer lugar (puedes utilizar la función monotonically_increasing_id) seguidos del Nombre, Edad, AnyoNac, FaltaJubilacion y Ciudad\n",
        "\n",
        "Al realizar los seis pasos, el resultado del DataFrame será similar a :\n",
        "``````\n",
        "+---+-------+----+-------+----------------+--------+\n",
        "| Id|Nombre |Edad|AnyoNac|FaltanJubilacion|  Ciudad|\n",
        "+---+-------+----+-------+----------------+--------+\n",
        "|  0|  Aitor|  45|   1977|              22|   Elche|\n",
        "|  1| Marina|  14|   2008|              53|Alicante|\n",
        "|  2|  Laura|  19|   2003|              48|   Elche|\n",
        "|  3|  Sonia|  45|   1977|              22|    Aspe|\n",
        "|  4|  Pedro|null|   null|            null|   Elche|\n",
        "+---+-------+----+-------+----------------+--------+\n",
        "``````"
      ]
    },
    {
      "cell_type": "code",
      "execution_count": 24,
      "metadata": {
        "colab": {
          "base_uri": "https://localhost:8080/"
        },
        "id": "YpLo_k6g5SRc",
        "outputId": "4a0cebf1-589b-4053-ad62-db2740038016"
      },
      "outputs": [
        {
          "name": "stdout",
          "output_type": "stream",
          "text": [
            "+------+----+------+\n",
            "|Ciudad|Edad|Nombre|\n",
            "+------+----+------+\n",
            "| Elche|  45| Aitor|\n",
            "+------+----+------+\n",
            "only showing top 1 row\n",
            "\n"
          ]
        }
      ],
      "source": [
        "dfNombre = spark.read.json(\"Datos/nombres.json\")\n",
        "dfNombre.show(1)"
      ]
    },
    {
      "cell_type": "code",
      "execution_count": 25,
      "metadata": {},
      "outputs": [
        {
          "name": "stdout",
          "output_type": "stream",
          "text": [
            "+------+----+------+-------+\n",
            "|Ciudad|Edad|Nombre|mayor30|\n",
            "+------+----+------+-------+\n",
            "| Elche|  45| Aitor|      Y|\n",
            "+------+----+------+-------+\n",
            "only showing top 1 row\n",
            "\n"
          ]
        }
      ],
      "source": [
        "dfNombre = dfNombre.withColumn(\"mayor30\", when(col(\"Edad\") > 30, \"Y\").otherwise(\"N\"))\n",
        "dfNombre.show(1)"
      ]
    },
    {
      "cell_type": "code",
      "execution_count": 26,
      "metadata": {},
      "outputs": [
        {
          "name": "stdout",
          "output_type": "stream",
          "text": [
            "+------+----+------+-------+---------------+\n",
            "|Ciudad|Edad|Nombre|mayor30|FaltaJubilacion|\n",
            "+------+----+------+-------+---------------+\n",
            "| Elche|  45| Aitor|      Y|             22|\n",
            "+------+----+------+-------+---------------+\n",
            "only showing top 1 row\n",
            "\n"
          ]
        }
      ],
      "source": [
        "dfNombre = dfNombre.withColumn(\"FaltaJubilacion\", 67 - col(\"Edad\"))\n",
        "dfNombre.show(1)"
      ]
    },
    {
      "cell_type": "code",
      "execution_count": 27,
      "metadata": {},
      "outputs": [
        {
          "name": "stdout",
          "output_type": "stream",
          "text": [
            "+------+----+------+-------+---------------+---------+\n",
            "|Ciudad|Edad|Nombre|mayor30|FaltaJubilacion|Apellidos|\n",
            "+------+----+------+-------+---------------+---------+\n",
            "| Elche|  45| Aitor|      Y|             22|      XYZ|\n",
            "+------+----+------+-------+---------------+---------+\n",
            "only showing top 1 row\n",
            "\n"
          ]
        }
      ],
      "source": [
        "dfNombre = dfNombre.withColumn(\"Apellidos\", lit(\"XYZ\"))\n",
        "dfNombre.show(1)"
      ]
    },
    {
      "cell_type": "code",
      "execution_count": 28,
      "metadata": {},
      "outputs": [
        {
          "name": "stdout",
          "output_type": "stream",
          "text": [
            "+------+----+------+---------------+\n",
            "|Ciudad|Edad|Nombre|FaltaJubilacion|\n",
            "+------+----+------+---------------+\n",
            "| Elche|  45| Aitor|             22|\n",
            "+------+----+------+---------------+\n",
            "only showing top 1 row\n",
            "\n"
          ]
        }
      ],
      "source": [
        "dfNombre = dfNombre.drop(\"Apellidos\", \"mayor30\")\n",
        "dfNombre.show(1)"
      ]
    },
    {
      "cell_type": "code",
      "execution_count": 29,
      "metadata": {},
      "outputs": [
        {
          "name": "stdout",
          "output_type": "stream",
          "text": [
            "+------+----+------+---------------+-------+\n",
            "|Ciudad|Edad|Nombre|FaltaJubilacion|AnyoNac|\n",
            "+------+----+------+---------------+-------+\n",
            "| Elche|  45| Aitor|             22|   1980|\n",
            "+------+----+------+---------------+-------+\n",
            "only showing top 1 row\n",
            "\n"
          ]
        }
      ],
      "source": [
        "dfNombre = dfNombre.withColumn(\"AnyoNac\", year(current_date()) - col(\"Edad\"))\n",
        "dfNombre.show(1)"
      ]
    },
    {
      "cell_type": "code",
      "execution_count": 30,
      "metadata": {},
      "outputs": [
        {
          "name": "stdout",
          "output_type": "stream",
          "text": [
            "+---+------+----+-------+---------------+--------+\n",
            "| Id|Nombre|Edad|AnyoNac|FaltaJubilacion|  Ciudad|\n",
            "+---+------+----+-------+---------------+--------+\n",
            "|  0| Aitor|  45|   1980|             22|   Elche|\n",
            "|  1|Marina|  14|   2011|             53|Alicante|\n",
            "|  2| Laura|  19|   2006|             48|   Elche|\n",
            "|  3| Sonia|  45|   1980|             22|    Aspe|\n",
            "|  4| Pedro|NULL|   NULL|           NULL|   Elche|\n",
            "+---+------+----+-------+---------------+--------+\n",
            "\n"
          ]
        }
      ],
      "source": [
        "dfNombre = dfNombre.withColumn(\"Id\", monotonically_increasing_id())\n",
        "dfNombre = dfNombre.select(\"Id\", \"Nombre\", \"Edad\", \"AnyoNac\", \"FaltaJubilacion\", \"Ciudad\")\n",
        "dfNombre.show()"
      ]
    },
    {
      "cell_type": "markdown",
      "metadata": {
        "id": "SZhUS4RU5SRd"
      },
      "source": [
        "## EJERCICIO 3"
      ]
    },
    {
      "cell_type": "markdown",
      "metadata": {
        "id": "j0VRuSPS5SRd"
      },
      "source": [
        "A partir del archivo VentasNulos.csv:\n",
        "\n",
        "1. Elimina las filas que tengan al menos 4 nulos.\n",
        "\n",
        "2. Con las filas restantes, sustituye:\n",
        "\n",
        "    * Los nombres nulos por Empleado\n",
        "    * Las ventas nulas por la media de las ventas de los compañeros (redondeado a entero).\n",
        "    ``````\n",
        "        media = df.groupBy().avg('Ventas')\n",
        "    ``````\n",
        "    * Los euros nulos por el valor del compañero que menos € ha ganado. (tras agrupar, puedes usar la función min)\n",
        "    * La ciudad nula por C.V. y el identificador nulo por XYZ"
      ]
    },
    {
      "cell_type": "code",
      "execution_count": 10,
      "metadata": {
        "colab": {
          "base_uri": "https://localhost:8080/"
        },
        "id": "Ma0jMrYh5SRe",
        "outputId": "efe5c87e-8e98-45c3-96e3-d44befd97f6f"
      },
      "outputs": [
        {
          "name": "stdout",
          "output_type": "stream",
          "text": [
            "+------+------+-----+-----------+-------------+\n",
            "|Nombre|Ventas|Euros|     Ciudad|Identificador|\n",
            "+------+------+-----+-----------+-------------+\n",
            "|  Pepe|     4|  200|      Elche|          X21|\n",
            "|Andreu|     8| NULL|       NULL|         NULL|\n",
            "|  Juan|  NULL| NULL|       NULL|          C54|\n",
            "| Pedro|     1|   30|   Valencia|          R23|\n",
            "| María|  NULL|  300| Torrellano|         NULL|\n",
            "|Marina|     3|  350|       Aspe|          V55|\n",
            "|  NULL|    10|  500|Crevillente|          AMV|\n",
            "|   Ana|    10| 2300|   Alicante|          B89|\n",
            "|  NULL|  NULL| NULL|       NULL|         NULL|\n",
            "| Jorge|     8| NULL|       NULL|          T19|\n",
            "+------+------+-----+-----------+-------------+\n",
            "\n"
          ]
        }
      ],
      "source": [
        "dfNull = (\n",
        "    spark.read.option(\"sep\", \",\")\n",
        "    .option(\"header\", \"true\")\n",
        "    .option(\"inferSchema\", \"true\")\n",
        "    .csv(\"Datos/VentasNulos.csv\")\n",
        ")\n",
        "dfNull.show()"
      ]
    },
    {
      "cell_type": "code",
      "execution_count": 8,
      "metadata": {},
      "outputs": [
        {
          "name": "stdout",
          "output_type": "stream",
          "text": [
            "+------+------+-----+-----------+-------------+\n",
            "|Nombre|Ventas|Euros|     Ciudad|Identificador|\n",
            "+------+------+-----+-----------+-------------+\n",
            "|  Pepe|     4|  200|      Elche|          X21|\n",
            "|Andreu|     8| NULL|       NULL|         NULL|\n",
            "|  Juan|  NULL| NULL|       NULL|          C54|\n",
            "| Pedro|     1|   30|   Valencia|          R23|\n",
            "| María|  NULL|  300| Torrellano|         NULL|\n",
            "|Marina|     3|  350|       Aspe|          V55|\n",
            "|  NULL|    10|  500|Crevillente|          AMV|\n",
            "|   Ana|    10| 2300|   Alicante|          B89|\n",
            "| Jorge|     8| NULL|       NULL|          T19|\n",
            "+------+------+-----+-----------+-------------+\n",
            "\n"
          ]
        }
      ],
      "source": [
        "dfNull = dfNull.filter(sum(col(c).isNull().cast(\"int\") for c in dfNull.columns) < 4)\n",
        "dfNull.show()"
      ]
    },
    {
      "cell_type": "code",
      "execution_count": 11,
      "metadata": {},
      "outputs": [
        {
          "name": "stdout",
          "output_type": "stream",
          "text": [
            "+--------+------+-----+-----------+-------------+\n",
            "|  Nombre|Ventas|Euros|     Ciudad|Identificador|\n",
            "+--------+------+-----+-----------+-------------+\n",
            "|    Pepe|     4|  200|      Elche|          X21|\n",
            "|  Andreu|     8| NULL|       NULL|         NULL|\n",
            "|    Juan|  NULL| NULL|       NULL|          C54|\n",
            "|   Pedro|     1|   30|   Valencia|          R23|\n",
            "|   María|  NULL|  300| Torrellano|         NULL|\n",
            "|  Marina|     3|  350|       Aspe|          V55|\n",
            "|Empleado|    10|  500|Crevillente|          AMV|\n",
            "|     Ana|    10| 2300|   Alicante|          B89|\n",
            "|Empleado|  NULL| NULL|       NULL|         NULL|\n",
            "|   Jorge|     8| NULL|       NULL|          T19|\n",
            "+--------+------+-----+-----------+-------------+\n",
            "\n"
          ]
        }
      ],
      "source": [
        "dfNull = dfNull.na.fill(\"Empleado\",subset=\"Nombre\")\n",
        "dfNull.show()"
      ]
    },
    {
      "cell_type": "code",
      "execution_count": 13,
      "metadata": {},
      "outputs": [
        {
          "name": "stdout",
          "output_type": "stream",
          "text": [
            "+--------+------+-----+-----------+-------------+\n",
            "|  Nombre|Ventas|Euros|     Ciudad|Identificador|\n",
            "+--------+------+-----+-----------+-------------+\n",
            "|    Pepe|     4|  200|      Elche|          X21|\n",
            "|  Andreu|     8| NULL|       NULL|         NULL|\n",
            "|    Juan|     6| NULL|       NULL|          C54|\n",
            "|   Pedro|     1|   30|   Valencia|          R23|\n",
            "|   María|     6|  300| Torrellano|         NULL|\n",
            "|  Marina|     3|  350|       Aspe|          V55|\n",
            "|Empleado|    10|  500|Crevillente|          AMV|\n",
            "|     Ana|    10| 2300|   Alicante|          B89|\n",
            "|Empleado|     6| NULL|       NULL|         NULL|\n",
            "|   Jorge|     8| NULL|       NULL|          T19|\n",
            "+--------+------+-----+-----------+-------------+\n",
            "\n"
          ]
        }
      ],
      "source": [
        "media = dfNull.select(avg(\"Ventas\")).collect()[0][0]\n",
        "dfNull = dfNull.na.fill({\"Ventas\": media})\n",
        "dfNull.show()\n"
      ]
    },
    {
      "cell_type": "code",
      "execution_count": 14,
      "metadata": {},
      "outputs": [
        {
          "name": "stdout",
          "output_type": "stream",
          "text": [
            "+--------+------+-----+-----------+-------------+\n",
            "|  Nombre|Ventas|Euros|     Ciudad|Identificador|\n",
            "+--------+------+-----+-----------+-------------+\n",
            "|    Pepe|     4|  200|      Elche|          X21|\n",
            "|  Andreu|     8|   30|       NULL|         NULL|\n",
            "|    Juan|     6|   30|       NULL|          C54|\n",
            "|   Pedro|     1|   30|   Valencia|          R23|\n",
            "|   María|     6|  300| Torrellano|         NULL|\n",
            "|  Marina|     3|  350|       Aspe|          V55|\n",
            "|Empleado|    10|  500|Crevillente|          AMV|\n",
            "|     Ana|    10| 2300|   Alicante|          B89|\n",
            "|Empleado|     6|   30|       NULL|         NULL|\n",
            "|   Jorge|     8|   30|       NULL|          T19|\n",
            "+--------+------+-----+-----------+-------------+\n",
            "\n"
          ]
        }
      ],
      "source": [
        "min_euros = dfNull.select(min(\"Euros\")).collect()[0][0]\n",
        "dfNull = dfNull.na.fill({\"Euros\": min_euros})\n",
        "dfNull.show()\n"
      ]
    },
    {
      "cell_type": "code",
      "execution_count": 15,
      "metadata": {},
      "outputs": [
        {
          "name": "stdout",
          "output_type": "stream",
          "text": [
            "+--------+------+-----+-----------+-------------+\n",
            "|  Nombre|Ventas|Euros|     Ciudad|Identificador|\n",
            "+--------+------+-----+-----------+-------------+\n",
            "|    Pepe|     4|  200|      Elche|          X21|\n",
            "|  Andreu|     8|   30|       C.V.|          XYZ|\n",
            "|    Juan|     6|   30|       C.V.|          C54|\n",
            "|   Pedro|     1|   30|   Valencia|          R23|\n",
            "|   María|     6|  300| Torrellano|          XYZ|\n",
            "|  Marina|     3|  350|       Aspe|          V55|\n",
            "|Empleado|    10|  500|Crevillente|          AMV|\n",
            "|     Ana|    10| 2300|   Alicante|          B89|\n",
            "|Empleado|     6|   30|       C.V.|          XYZ|\n",
            "|   Jorge|     8|   30|       C.V.|          T19|\n",
            "+--------+------+-----+-----------+-------------+\n",
            "\n"
          ]
        }
      ],
      "source": [
        "dfNull = dfNull.na.fill({\"Ciudad\":\"C.V.\"})\n",
        "dfNull = dfNull.na.fill({\"Identificador\": \"XYZ\"})\n",
        "dfNull.show()"
      ]
    },
    {
      "cell_type": "markdown",
      "metadata": {
        "id": "62C3pGjg5SRe"
      },
      "source": [
        "## EJERCICIO 4"
      ]
    },
    {
      "cell_type": "markdown",
      "metadata": {
        "id": "Kz8oZ4zB5SRe"
      },
      "source": [
        " A partir del archivo movies.tsv, crea una esquema de forma declarativa con los campos:\n",
        "\n",
        "* interprete de tipo string\n",
        "* pelicula de tipo string\n",
        "* anyo de tipo int\n",
        "\n",
        "Cada fila del fichero implica que el actor/actriz ha trabajado en dicha película en el año indicado.\n",
        "1. Una vez creado el esquema, carga los datos en un DataFrame.\n",
        "\n",
        "A continuación, mediante el DataFrame API:\n",
        "\n",
        "2. Muestra las películas en las que ha trabajado Murphy, Eddie (I).\n",
        "3. Muestra los intérpretes que aparecen tanto en Superman como en Superman II."
      ]
    },
    {
      "cell_type": "code",
      "execution_count": null,
      "metadata": {
        "id": "SeFxQSdgbuti"
      },
      "outputs": [],
      "source": []
    },
    {
      "cell_type": "markdown",
      "metadata": {
        "id": "HhZ9aGeq5SRf"
      },
      "source": [
        "## EJERCICIO 5\n",
        "Realiza las siguientes operaciones:\n",
        "* Carga el dataset de “data/stocks_price_final.csv”, con el esquema correcto de datos (tienes que crear tu el schema\").\n",
        "* Renombra la variable market.cap a market\n",
        "* Elimina la variable market\n",
        "* Muestra las filas donde el valor de \"open\" es nulo.\n",
        "* Elimina las filas donde el valor de \"open\" es nulo.\n",
        "* Para comprobar el punto anterior vuelve a mostrar las filas donde el valor de \"open\" es nulo.\n"
      ]
    },
    {
      "cell_type": "code",
      "execution_count": null,
      "metadata": {
        "colab": {
          "base_uri": "https://localhost:8080/"
        },
        "id": "oawpRKQ55SRf",
        "outputId": "21b4b449-0fe5-480f-f9bd-7b3e2e1ff6f4"
      },
      "outputs": [],
      "source": []
    }
  ],
  "metadata": {
    "colab": {
      "provenance": [],
      "toc_visible": true
    },
    "kernelspec": {
      "display_name": "entornoJon",
      "language": "python",
      "name": "python3"
    },
    "language_info": {
      "codemirror_mode": {
        "name": "ipython",
        "version": 3
      },
      "file_extension": ".py",
      "mimetype": "text/x-python",
      "name": "python",
      "nbconvert_exporter": "python",
      "pygments_lexer": "ipython3",
      "version": "3.12.8"
    }
  },
  "nbformat": 4,
  "nbformat_minor": 0
}
