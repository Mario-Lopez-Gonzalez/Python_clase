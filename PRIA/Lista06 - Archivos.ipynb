{
 "cells": [
  {
   "cell_type": "markdown",
   "id": "d287d88e",
   "metadata": {},
   "source": [
    "# LISTA 6 - ARCHIVOS\n",
    "## <ins>Ejercicios Obligatorios </ins>"
   ]
  },
  {
   "cell_type": "markdown",
   "id": "f99190d1",
   "metadata": {},
   "source": [
    "## EJERCICIO 1"
   ]
  },
  {
   "cell_type": "code",
   "execution_count": 8,
   "id": "d4e62992",
   "metadata": {},
   "outputs": [],
   "source": [
    "name = input(\"Introduce tu nombre: \")\n",
    "surname = input(\"Introduce tu apellido: \")\n",
    "age = input(\"Introduce tu edad: \")\n",
    "color = input(\"Introduce tu color favorito: \")\n",
    "\n",
    "d = {'name': name, 'surname': surname, 'age': age, 'color': color}\n",
    "with open(\"./Archivos_txt/6-1.txt\", mode = \"w\") as f:\n",
    "    for key, value in d.items():\n",
    "        f.write(f\"{key}: {value}\\n\")\n"
   ]
  },
  {
   "cell_type": "markdown",
   "id": "b3836703",
   "metadata": {},
   "source": [
    "Pídele al usuario el nombre, el apellido, la edad y su color favorito. Guarda la información en un diccionario de claves name, surname, age y color.\n",
    "\n",
    "Crea y escribe un txt con 4 frases, una en cada línea. La primera debe indicar el nombre del usuario; la segunda, el apellido; la tercera, la edad; y la última, el color favorito del usuario."
   ]
  },
  {
   "cell_type": "markdown",
   "id": "feb0417e",
   "metadata": {},
   "source": [
    "## EJERCICIO 2"
   ]
  },
  {
   "cell_type": "code",
   "execution_count": 9,
   "id": "f8eca455",
   "metadata": {},
   "outputs": [
    {
     "name": "stdout",
     "output_type": "stream",
     "text": [
      "name: Test\n",
      "surname: Tester\n",
      "age: 98\n",
      "color: Black\n",
      "\n"
     ]
    }
   ],
   "source": [
    "\n",
    "with open(\"./Archivos_txt/6-1.txt\") as f:\n",
    "    print(f.read())"
   ]
  },
  {
   "cell_type": "markdown",
   "id": "91cd8f7c",
   "metadata": {},
   "source": [
    "Lee el archivo txt creado en el ejercicio anterior para ver que se ha creado correctamente."
   ]
  },
  {
   "cell_type": "markdown",
   "id": "abf81a65",
   "metadata": {},
   "source": [
    "## EJERCICIO 3"
   ]
  },
  {
   "cell_type": "code",
   "execution_count": 17,
   "id": "ca99bd20",
   "metadata": {},
   "outputs": [],
   "source": [
    "with open(\"./Archivos_txt/ej3.txt\", mode = \"x\"):\n",
    "    pass"
   ]
  },
  {
   "cell_type": "markdown",
   "id": "c0dda757",
   "metadata": {},
   "source": [
    "Crea un archivo txt vacío y llámalo ej3.txt."
   ]
  },
  {
   "cell_type": "markdown",
   "id": "4d68e82b",
   "metadata": {},
   "source": [
    "## EJERCICIO 4"
   ]
  },
  {
   "cell_type": "code",
   "execution_count": 18,
   "id": "ad312e39",
   "metadata": {},
   "outputs": [],
   "source": [
    "import os\n",
    "os.remove(\"./Archivos_txt/ej3.txt\")"
   ]
  },
  {
   "cell_type": "markdown",
   "id": "ec7f3b2a",
   "metadata": {},
   "source": [
    "Elimina el archivo creado en el ejercicio 3."
   ]
  },
  {
   "cell_type": "markdown",
   "id": "5c943554",
   "metadata": {},
   "source": [
    "## EJERCICIO 5"
   ]
  },
  {
   "cell_type": "code",
   "execution_count": 26,
   "id": "0c2143d6",
   "metadata": {},
   "outputs": [],
   "source": [
    "import os\n",
    "os.remove(\"./Archivos_txt/ej5.txt\") # Sino me da error al relanzar\n",
    "\n",
    "with open(\"./Archivos_txt/ej5.txt\", mode = \"x\"):\n",
    "    pass\n",
    "\n",
    "with open(\"./Archivos_txt/ej5.txt\", mode = \"a\") as f:\n",
    "    f.write(\"x,y,Color,Shape\\n\"+\"1,1,#6fb7ff,<\\n\"+\"-1,1,#ffa66f,v\\n\"+\"-1,-1,#ffee6f,>\\n\"+\"1,-1,#db6fff,^\\n\")"
   ]
  },
  {
   "cell_type": "markdown",
   "id": "f2fe60bc",
   "metadata": {},
   "source": [
    "Crea un archivo txt vacío y llámalo ej5.txt. Después añádele las siguientes líneas:\n",
    "```\n",
    "\"x,y,Color,Shape\\n\"\n",
    "\"1,1,#6fb7ff,<\\n\"\n",
    "\"-1,1,#ffa66f,v\\n\"\n",
    "\"-1,-1,#ffee6f,>\\n\"\n",
    "\"1,-1,#db6fff,^\\n\"\n",
    "```"
   ]
  }
 ],
 "metadata": {
  "kernelspec": {
   "display_name": "Python 3 (ipykernel)",
   "language": "python",
   "name": "python3"
  },
  "language_info": {
   "codemirror_mode": {
    "name": "ipython",
    "version": 3
   },
   "file_extension": ".py",
   "mimetype": "text/x-python",
   "name": "python",
   "nbconvert_exporter": "python",
   "pygments_lexer": "ipython3",
   "version": "3.10.12"
  }
 },
 "nbformat": 4,
 "nbformat_minor": 5
}
