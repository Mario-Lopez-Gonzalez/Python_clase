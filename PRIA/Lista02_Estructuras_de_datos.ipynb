{
  "cells": [
    {
      "cell_type": "markdown",
      "id": "d287d88e",
      "metadata": {
        "id": "d287d88e"
      },
      "source": [
        "# LISTA 2 - ESTRUCTURAS DE DATOS"
      ]
    },
    {
      "cell_type": "markdown",
      "id": "f99190d1",
      "metadata": {
        "id": "f99190d1"
      },
      "source": [
        "## EJERCICIO 1"
      ]
    },
    {
      "cell_type": "code",
      "execution_count": null,
      "id": "NoEEu7zko-Nq",
      "metadata": {
        "colab": {
          "base_uri": "https://localhost:8080/"
        },
        "id": "NoEEu7zko-Nq",
        "outputId": "78626419-6250-4109-8d8d-4f15025cf283"
      },
      "outputs": [
        {
          "name": "stdout",
          "output_type": "stream",
          "text": [
            "Escribe una cadena para imprimir al reves: patatas\n",
            "s\n",
            "a\n",
            "t\n",
            "a\n",
            "t\n",
            "a\n",
            "p\n"
          ]
        }
      ],
      "source": [
        "text = input(\"Escribe una cadena para imprimir al reves: \")\n",
        "text_arr = []\n",
        "for letter in text:\n",
        "  text_arr.append(letter)\n",
        "n = len(text_arr)-1\n",
        "while n >= 0:\n",
        "  print(text_arr[n])\n",
        "  n-=1\n"
      ]
    },
    {
      "cell_type": "markdown",
      "id": "b3836703",
      "metadata": {
        "id": "b3836703"
      },
      "source": [
        "Crea un programa pida una cadena de caracteres al usuario, guarde cada carácter en una posición de una lista y finalmente muestre la lista al revés como si fuera un string."
      ]
    },
    {
      "cell_type": "markdown",
      "id": "feb0417e",
      "metadata": {
        "id": "feb0417e"
      },
      "source": [
        "## EJERCICIO 2"
      ]
    },
    {
      "cell_type": "code",
      "execution_count": null,
      "id": "tUXlz8cspoZl",
      "metadata": {
        "colab": {
          "base_uri": "https://localhost:8080/"
        },
        "id": "tUXlz8cspoZl",
        "outputId": "7b00c291-c2a7-4755-8386-1cf2f661ac06"
      },
      "outputs": [
        {
          "name": "stdout",
          "output_type": "stream",
          "text": [
            "Introduce el primer string: perro gato\n",
            "Introduce el segundo string: 12345 6789\n",
            "p1e2r3r4o5  g6a7t8o9"
          ]
        }
      ],
      "source": [
        "check = False\n",
        "while check != True:\n",
        "  t1 = input(\"Introduce el primer string: \")\n",
        "  t2 = input(\"Introduce el segundo string: \")\n",
        "  if len(t1) == len(t2):\n",
        "    check = True\n",
        "  else:\n",
        "    print(\"Ambas cadenas de la misma longitud por favor\")\n",
        "t_arr = []\n",
        "for c1, c2 in zip(t1, t2): # Zip genera tuplas temporales para iterar, en este caso [(1,a),(2,b),(3,c)] para generar [1,a,2,b,3,c]\n",
        "  t_arr.append(c1)\n",
        "  t_arr.append(c2)\n",
        "for letter in t_arr:\n",
        "  print(letter, end=\"\")"
      ]
    },
    {
      "cell_type": "markdown",
      "id": "91cd8f7c",
      "metadata": {
        "id": "91cd8f7c"
      },
      "source": [
        "Crea un programa que lea dos strings introducidos por el usuario de la misma longitud, los guarde intercalados en una lista y muestre el contenido de la nueva lista como si fuera un string.\n",
        "\n",
        "Por ejemplo, si introducimos hola caracola y adios marieta, debería mostrarse haodliao sc amraarcioeltaa."
      ]
    },
    {
      "cell_type": "markdown",
      "id": "abf81a65",
      "metadata": {
        "id": "abf81a65"
      },
      "source": [
        "## EJERCICIO 3"
      ]
    },
    {
      "cell_type": "code",
      "execution_count": null,
      "id": "rqtNZHLKu-0j",
      "metadata": {
        "colab": {
          "base_uri": "https://localhost:8080/"
        },
        "id": "rqtNZHLKu-0j",
        "outputId": "7df3dac6-8295-491e-ccc6-3d6ad39a0cf7"
      },
      "outputs": [
        {
          "name": "stdout",
          "output_type": "stream",
          "text": [
            "Introduce algo: PerrO GorDO\n",
            "['P', 'r', 'r', ' ', 'G', 'r', 'D']\n"
          ]
        }
      ],
      "source": [
        "vocal = ['a','A','e','E','i','I','o','O','u','U']\n",
        "text = input(\"Introduce algo: \")\n",
        "lista = []\n",
        "for letter in text:\n",
        "  if letter not in vocal:\n",
        "    lista.append(letter)\n",
        "print(lista)"
      ]
    },
    {
      "cell_type": "markdown",
      "id": "c0dda757",
      "metadata": {
        "id": "c0dda757"
      },
      "source": [
        "Crea un programa que lea un string introducido por el usuario y guarde en una lista todas las consonantes, finalmente muestra el contenido de la lista."
      ]
    },
    {
      "cell_type": "markdown",
      "id": "4d68e82b",
      "metadata": {
        "id": "4d68e82b"
      },
      "source": [
        "## EJERCICIO 4"
      ]
    },
    {
      "cell_type": "code",
      "execution_count": null,
      "id": "bm1xyJJHvYft",
      "metadata": {
        "colab": {
          "base_uri": "https://localhost:8080/"
        },
        "id": "bm1xyJJHvYft",
        "outputId": "3731d460-2b12-4d93-a6a8-8bd01a069f53"
      },
      "outputs": [
        {
          "name": "stdout",
          "output_type": "stream",
          "text": [
            "Introduce un palíndromo (o no): patata\n",
            "text:patata y r_text:atatap\n",
            "No es palíndromo\n"
          ]
        }
      ],
      "source": [
        "text = input(\"Introduce un palíndromo (o no): \")\n",
        "r_text = ''.join(list(reversed(text))) #Usa el método join de un empty string para convertir una lista a string, que a su vez usa la función list para convertir un iterador inverso del input\n",
        "if text == r_text:\n",
        "  print(\"Es palíndromo\")\n",
        "else:\n",
        "  print(\"No es palíndromo\")"
      ]
    },
    {
      "cell_type": "markdown",
      "id": "ec7f3b2a",
      "metadata": {
        "id": "ec7f3b2a"
      },
      "source": [
        "Crea un programa que lea una palabra introducida por el usuario, la guarde en una lista y compruebe si se trata de un palíndromo (se lee igual de derecha a izquierda que de derecha a izquierda, por ejemplo, reconocer)."
      ]
    },
    {
      "cell_type": "markdown",
      "id": "5c943554",
      "metadata": {
        "id": "5c943554"
      },
      "source": [
        "## EJERCICIO 5"
      ]
    },
    {
      "cell_type": "code",
      "execution_count": null,
      "id": "R_3pdCq2ykCb",
      "metadata": {
        "colab": {
          "base_uri": "https://localhost:8080/"
        },
        "id": "R_3pdCq2ykCb",
        "outputId": "ca69886f-6b13-4707-d6f2-1e3cc9424143"
      },
      "outputs": [
        {
          "name": "stdout",
          "output_type": "stream",
          "text": [
            "Introduce tamaño matriz: 3\n",
            "[0, 1, 2]\n",
            "[3, 4, 5]\n",
            "[6, 7, 8]\n"
          ]
        }
      ],
      "source": [
        "n = int(input(\"Introduce tamaño matriz: \"))\n",
        "row = []\n",
        "matrix = []\n",
        "x = 0\n",
        "for i in range(0,n):\n",
        "  for j in range(0,n):\n",
        "    row.append(x)\n",
        "    x+=1\n",
        "  matrix.append(row.copy()) # Si no uso copy se mete la referencia a row y si la limpio también se limpia en matrix\n",
        "  row.clear()\n",
        "for row in matrix:\n",
        "  print(row)"
      ]
    },
    {
      "cell_type": "markdown",
      "id": "13d2c744",
      "metadata": {
        "id": "13d2c744"
      },
      "source": [
        "Crea un programa que lea un entero, n, introducido por el usuario y construya una matriz de tamaño n x n. Cada posición debe contener su orden en la matriz (desde 0 hasta n<sup>2</sup> - 1).\n",
        "\n",
        "Por ejemplo, si n es 3, deberá crearse la matriz:\n",
        "```\n",
        "[0, 1, 2]\n",
        "[3, 4, 5]\n",
        "[6, 7, 8]\n",
        "```"
      ]
    },
    {
      "cell_type": "markdown",
      "id": "2972dd7e",
      "metadata": {
        "id": "2972dd7e"
      },
      "source": [
        "## EJERCICIO 6"
      ]
    },
    {
      "cell_type": "code",
      "execution_count": null,
      "id": "h1wTwNBc551V",
      "metadata": {
        "colab": {
          "base_uri": "https://localhost:8080/"
        },
        "id": "h1wTwNBc551V",
        "outputId": "379e734a-4914-487a-8118-c5646b8c1c43"
      },
      "outputs": [
        {
          "name": "stdout",
          "output_type": "stream",
          "text": [
            "Número de filas: 3\n",
            "Número de columnas: 2\n",
            "Introduce el valor de [0][0]: 4\n",
            "Introduce el valor de [0][1]: 2\n",
            "Introduce el valor de [1][0]: 4\n",
            "Introduce el valor de [1][1]: 2\n",
            "Introduce el valor de [2][0]: 4\n",
            "Introduce el valor de [2][1]: 2\n",
            "[4, 2]\n",
            "[4, 2]\n",
            "[4, 2]\n",
            "La suma de las columnas no coincide: [12, 6]\n"
          ]
        }
      ],
      "source": [
        "n = int(input(\"Número de filas: \"))\n",
        "m = int(input(\"Número de columnas: \"))\n",
        "matrix = [[0 for _ in range(m)] for _ in range(n)] # Matriz inicializada con loops internos, todo ceros\n",
        "for i in range(n):\n",
        "  for j in range(m):\n",
        "    matrix[i][j] = int(input(f\"Introduce el valor de [{i}][{j}]: \"))\n",
        "for row in matrix:\n",
        "  print(row)\n",
        "columnas = []\n",
        "suma = 0\n",
        "for j in range(m):\n",
        "  for i in range(n):\n",
        "    suma +=matrix[i][j]\n",
        "  columnas.append(suma)\n",
        "  suma = 0\n",
        "if columnas.count(columnas[0]) == len(columnas): # Compara todos los elementos de columnas con el primero de la lista para ver si son iguales\n",
        "  print(f\"La suma de todas las columas es la misma y es {columnas[0]}\")\n",
        "else:\n",
        "  print(f\"La suma de las columnas no coincide: {columnas}\")"
      ]
    },
    {
      "cell_type": "markdown",
      "id": "ef3c12ce",
      "metadata": {
        "id": "ef3c12ce"
      },
      "source": [
        "Crea una matriz de n x m pidiendo las dimensiones y los valores de cada celda al usuario. El programa debe indicar si la suma de cada columna es el mismo valor.\n",
        "![02-6.png](data:image/png;base64,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)\n"
      ]
    },
    {
      "cell_type": "markdown",
      "id": "cbbfb36c",
      "metadata": {
        "id": "cbbfb36c"
      },
      "source": [
        "## EJERCICIO 7"
      ]
    },
    {
      "cell_type": "code",
      "execution_count": null,
      "id": "xIm4e4h-FBBz",
      "metadata": {
        "colab": {
          "base_uri": "https://localhost:8080/"
        },
        "id": "xIm4e4h-FBBz",
        "outputId": "8787ee7e-0476-4c5b-feac-3129d58f934f"
      },
      "outputs": [
        {
          "name": "stdout",
          "output_type": "stream",
          "text": [
            "[1, 2, 3]\n",
            "[4, 5, 6]\n",
            "[7, 8, 9]\n",
            "\n",
            "[1, 4, 7]\n",
            "[2, 5, 8]\n",
            "[3, 6, 9]\n"
          ]
        }
      ],
      "source": [
        "matrix= [[1,2,3],[4,5,6],[7,8,9]] # Solo funciona con matrices cuadradas\n",
        "n = len(matrix)\n",
        "m = len(matrix[0])\n",
        "t_matrix = [[0 for i in range(m)] for j in range(n)]\n",
        "for i in range(0,n):\n",
        "  for j in range(0,m):\n",
        "    t_matrix[j][i] = matrix[i][j]\n",
        "for row in matrix:\n",
        "  print(row)\n",
        "print('')\n",
        "for row in t_matrix:\n",
        "  print(row)"
      ]
    },
    {
      "cell_type": "markdown",
      "id": "fnxF1X96FF5j",
      "metadata": {
        "id": "fnxF1X96FF5j"
      },
      "source": [
        "Realiza un programa que calcule la matriz traspuesta de una matriz dada manualmente (usando bucles). Finalmente imprime por filas las dos matrices\n",
        "\n",
        "matriz=``` [[1,2,3],[4,5,6],[7,8,9]]```"
      ]
    },
    {
      "cell_type": "markdown",
      "id": "59397f22",
      "metadata": {
        "id": "59397f22"
      },
      "source": [
        "## EJERCICIO 8"
      ]
    },
    {
      "cell_type": "code",
      "execution_count": null,
      "id": "7nnF5_WWHirN",
      "metadata": {
        "colab": {
          "base_uri": "https://localhost:8080/"
        },
        "id": "7nnF5_WWHirN",
        "outputId": "63a6477f-e3b2-4d85-8042-970a76d8ebc2"
      },
      "outputs": [
        {
          "name": "stdout",
          "output_type": "stream",
          "text": [
            "Numero positivo: 10\n",
            "{1: 1, 2: 4, 3: 9, 4: 16, 5: 25, 6: 36, 7: 49, 8: 64, 9: 81, 10: 100}\n"
          ]
        }
      ],
      "source": [
        "n = int(input(\"Numero positivo: \"))\n",
        "d = {1:1}\n",
        "for i in range(1,n+1):\n",
        "  d[i] = i**2\n",
        "print(d)"
      ]
    },
    {
      "cell_type": "markdown",
      "id": "8272bcdf",
      "metadata": {
        "id": "8272bcdf"
      },
      "source": [
        "Crea un programa que pida un número entero positivo por teclado y que cree un diccionario cuyas claves sean desde el número 1 hasta el número indicado. Los valores de cada clave serán las propias claves elevadas al cubo. Finalmente muestra el diccionario."
      ]
    },
    {
      "cell_type": "markdown",
      "id": "3e767176",
      "metadata": {
        "id": "3e767176"
      },
      "source": [
        "## EJERCICIO 9"
      ]
    },
    {
      "cell_type": "code",
      "execution_count": null,
      "id": "wC-XDPo2IBcR",
      "metadata": {
        "colab": {
          "base_uri": "https://localhost:8080/"
        },
        "id": "wC-XDPo2IBcR",
        "outputId": "1f059824-8b69-479a-d4f5-cbff617da256"
      },
      "outputs": [
        {
          "name": "stdout",
          "output_type": "stream",
          "text": [
            "Cual es tu nombre: Mario\n",
            "Cual es tu edad: 22\n",
            "Cual es tu teléfono: patata\n",
            "Mario tiene 22 años y su número de teléfono es patata\n"
          ]
        }
      ],
      "source": [
        "nombre = input(\"Cual es tu nombre: \")\n",
        "edad = input(\"Cual es tu edad: \")\n",
        "telefono = input(\"Cual es tu teléfono: \")\n",
        "d = {'nombre':nombre,'edad':edad,'telefono':telefono}\n",
        "print(f\"{nombre} tiene {edad} años y su número de teléfono es {telefono}\")"
      ]
    },
    {
      "cell_type": "markdown",
      "id": "9da406b8",
      "metadata": {
        "id": "9da406b8"
      },
      "source": [
        "Escribe un programa que pregunte al usuario su nombre, edad y teléfono y lo guarde en un diccionario. Después, debe mostrar por pantalla el mensaje:\n",
        "\n",
        "{nombre} tiene {edad} años y su número de teléfono es {teléfono}."
      ]
    },
    {
      "cell_type": "markdown",
      "id": "b97cdccc",
      "metadata": {
        "id": "b97cdccc"
      },
      "source": [
        "## EJERCICIO 10"
      ]
    },
    {
      "cell_type": "code",
      "execution_count": null,
      "id": "uApjICG7Ikj1",
      "metadata": {
        "colab": {
          "base_uri": "https://localhost:8080/"
        },
        "id": "uApjICG7Ikj1",
        "outputId": "b53b4761-f680-46ca-8408-b686f7009eb5"
      },
      "outputs": [
        {
          "name": "stdout",
          "output_type": "stream",
          "text": [
            "Escribe tu artículo: patatas\n",
            "Escribe su precio0,5\n",
            "Quieres seguir(s/n)gominolas\n",
            "Escribe tu artículo: 1,2\n",
            "Escribe su precion\n",
            "Quieres seguir(s/n)n\n",
            "Artículo          Precio\n",
            "\n",
            "patatas           0,5\n",
            "1,2           n\n"
          ]
        }
      ],
      "source": [
        "exit = False\n",
        "d = {}\n",
        "while exit != True:\n",
        "  art = input(\"Escribe tu artículo: \")\n",
        "  prz = input(\"Escribe su precio\")\n",
        "  d[art] = prz\n",
        "  if input(\"Quieres seguir(s/n)\") == 'n':\n",
        "    exit = True\n",
        "print(f\"Artículo          Precio\")\n",
        "print('')\n",
        "for art,prz in d.items():\n",
        "  print(f\"{art}           {prz}\")"
      ]
    },
    {
      "cell_type": "markdown",
      "id": "4bbf4135",
      "metadata": {
        "id": "4bbf4135"
      },
      "source": [
        "Escribe un programa que cree un diccionario simulando una cesta de la compra. El programa debe preguntar el artículo y su precio por unidad. El artículo será la clave y el valor el precio, hasta que el usuario decida terminar. Después se debe mostrar por pantalla la lista de la compra y el coste total, con el siguiente formato.\n",
        "\n",
        "ERROR IMAGEN"
      ]
    },
    {
      "cell_type": "markdown",
      "id": "17b343e6",
      "metadata": {
        "id": "17b343e6"
      },
      "source": [
        "## EJERCICIO 11"
      ]
    },
    {
      "cell_type": "code",
      "execution_count": null,
      "id": "YnViRWlXKIRZ",
      "metadata": {
        "colab": {
          "base_uri": "https://localhost:8080/"
        },
        "id": "YnViRWlXKIRZ",
        "outputId": "4162baf8-1beb-4309-b93c-62fe99cf9f9a"
      },
      "outputs": [
        {
          "name": "stdout",
          "output_type": "stream",
          "text": [
            "Nombre alumno o vacío: Julen\n",
            "Nota o -1: 6.8\n",
            "Nota o -1: 5.1\n",
            "Nota o -1: 7.3\n",
            "Nota o -1: -1\n",
            "Nombre alumno o vacío: Erlantz\n",
            "Nota o -1: 4.3\n",
            "Nota o -1: 8.4\n",
            "Nota o -1: 9.2\n",
            "Nota o -1: 4.3\n",
            "Nota o -1: -1\n",
            "Nombre alumno o vacío: \n",
            "Alumno Julen con nota de [6.8, 5.1, 7.3] y media de 4.8\n",
            "Alumno Erlantz con nota de [4.3, 8.4, 9.2, 4.3] y media de 5.24\n"
          ]
        }
      ],
      "source": [
        "alum = \"foo\"\n",
        "d = {}\n",
        "while True:\n",
        "  alum = input(\"Nombre alumno o vacío: \")\n",
        "  if alum == '':\n",
        "    break\n",
        "  d[alum] = []\n",
        "  nota = 0\n",
        "  while nota != -1:\n",
        "    nota = float(input(\"Nota o -1: \"))\n",
        "    if nota != -1:\n",
        "      d[alum].append(nota)\n",
        "for alum, nota in d.items():\n",
        "  sum = 0\n",
        "  avg = 0\n",
        "  for n in nota:\n",
        "    sum += n\n",
        "  avg = sum / (len(nota)+1)\n",
        "  print(f\"Alumno {alum} con nota de {nota} y media de {avg}\")\n"
      ]
    },
    {
      "cell_type": "markdown",
      "id": "eb6f147e",
      "metadata": {
        "id": "eb6f147e"
      },
      "source": [
        "Crea un programa que permita al usuario introducir los nombres de los alumnos de una clase y las notas que han obtenido. Cada alumno puede tener distinta cantidad de notas. Guarda la información en un diccionario cuyas claves serán los nombres de los alumnos y los valores serán listas con las notas de cada alumno.\n",
        "\n",
        "El programa va a pedir el nombre de un estudiante e irá pidiendo sus notas hasta que introduzcamos un -1. Al final, cuando el nombre que introduzcamos sea un string vacío, el programa nos mostrará la lista de alumnos, sus notas y la nota media obtenida por cada uno de ellos (con dos decimales)."
      ]
    },
    {
      "cell_type": "markdown",
      "id": "88fe1c72",
      "metadata": {
        "id": "88fe1c72"
      },
      "source": [
        "## EJERCICIO 12"
      ]
    },
    {
      "cell_type": "code",
      "execution_count": null,
      "id": "2y4g55Q6spFw",
      "metadata": {
        "colab": {
          "base_uri": "https://localhost:8080/"
        },
        "id": "2y4g55Q6spFw",
        "outputId": "2c37522f-45e0-4888-84a7-f1072ceaaf6c"
      },
      "outputs": [
        {
          "name": "stdout",
          "output_type": "stream",
          "text": [
            "Pon la cantidad de palabras: 3\n",
            "Introduce palabra: Pepino\n",
            "Introduce palabra: Arbol\n",
            "Introduce palabra: Piedra\n",
            "{'Pepino': 3, 'Arbol': 2, 'Piedra': 3}\n"
          ]
        }
      ],
      "source": [
        "n = int(input(\"Pon la cantidad de palabras: \"))\n",
        "d = {}\n",
        "vocals = ['a','e','i','o','u','A','E','I','O','U']\n",
        "for i in range(n):\n",
        "  word = input(\"Introduce palabra: \")\n",
        "  count = 0\n",
        "  for letter in word:\n",
        "    if letter in vocals:\n",
        "      count+=1\n",
        "  d[word] = count\n",
        "print(d)\n"
      ]
    },
    {
      "cell_type": "markdown",
      "id": "f7446bb5",
      "metadata": {
        "id": "f7446bb5"
      },
      "source": [
        "Crea un programa que pida el número de palabras a introducir. Crear un diccionario de clave la palabra y de valor el número de vocales de la palabra."
      ]
    },
    {
      "cell_type": "markdown",
      "id": "6bcd805d",
      "metadata": {
        "id": "6bcd805d"
      },
      "source": [
        "## EJERCICIO 13"
      ]
    },
    {
      "cell_type": "code",
      "execution_count": null,
      "id": "7pJKLoPmE7k-",
      "metadata": {
        "colab": {
          "base_uri": "https://localhost:8080/"
        },
        "id": "7pJKLoPmE7k-",
        "outputId": "c167da2b-79a3-4100-b869-2fbd81d57e40"
      },
      "outputs": [
        {
          "name": "stdout",
          "output_type": "stream",
          "text": [
            "Introduce un número: 5423\n",
            "Los divisores de 5423 son [1, 11, 17, 29, 187, 319, 493, 5423]\n"
          ]
        }
      ],
      "source": [
        "n = int(input(\"Introduce un número: \"))\n",
        "div = []\n",
        "for i in range(1,n+1):\n",
        "  if n % i == 0:\n",
        "    div.append(i)\n",
        "print(f\"Los divisores de {n} son {div}\")"
      ]
    },
    {
      "cell_type": "markdown",
      "id": "18202d6c",
      "metadata": {
        "id": "18202d6c"
      },
      "source": [
        "Dado un número entero introducido por el usuario, guarda sus divisores en un conjunto y muéstralo."
      ]
    },
    {
      "cell_type": "markdown",
      "id": "e60749fd",
      "metadata": {
        "id": "e60749fd"
      },
      "source": [
        "## EJERCICIO 14"
      ]
    },
    {
      "cell_type": "code",
      "execution_count": null,
      "id": "gvakqjHzmnun",
      "metadata": {
        "colab": {
          "base_uri": "https://localhost:8080/"
        },
        "id": "gvakqjHzmnun",
        "outputId": "165e3a78-9a9d-43cb-b299-d3abe044f393"
      },
      "outputs": [
        {
          "name": "stdout",
          "output_type": "stream",
          "text": [
            "El valor minimo de {1, 100, 5, 6, 200, 9, 10, -50, -15, 20, -2} es -50\n"
          ]
        }
      ],
      "source": [
        "conjunto = {-2,-15,1,6,9,-50,100,200,10,20,5}\n",
        "min = list(conjunto)[0] # Hay que convertir el set en una lista ordenada para sacar un elemento\n",
        "for val in conjunto:\n",
        "  if min > val:\n",
        "    min = val\n",
        "print(f\"El valor minimo de {conjunto} es {min}\")"
      ]
    },
    {
      "cell_type": "markdown",
      "id": "e7b12a5a",
      "metadata": {
        "id": "e7b12a5a"
      },
      "source": [
        "Crea un programa que dado un conjunto de números entero, nos devuelva su mínimo. Debes hacerlo sin recurrir a la función min().\n",
        "\n",
        "conjunto={-2,-15,1,6,9,-50,100,200,10,20,5}"
      ]
    },
    {
      "cell_type": "markdown",
      "id": "f4d9baeb",
      "metadata": {
        "id": "f4d9baeb"
      },
      "source": [
        "## EJERCICIO 15"
      ]
    },
    {
      "cell_type": "code",
      "execution_count": null,
      "id": "LTvPwwgEoc9-",
      "metadata": {
        "colab": {
          "base_uri": "https://localhost:8080/"
        },
        "id": "LTvPwwgEoc9-",
        "outputId": "824556a6-a508-46d2-d39a-f372f4efd82a"
      },
      "outputs": [
        {
          "name": "stdout",
          "output_type": "stream",
          "text": [
            "El valor minimo de {'z', 'A', '*', '0', 'a'} es *\n"
          ]
        }
      ],
      "source": [
        "conjunto = {\"0\",\"*\",\"a\",\"A\",\"z\"}\n",
        "min = list(conjunto)[0] # Hay que convertir el set en una lista ordenada para sacar un elemento\n",
        "for val in conjunto:\n",
        "  if min > val:\n",
        "    min = val\n",
        "print(f\"El valor minimo de {conjunto} es {min}\") # Literal el mismos ejercicio, python permite comparar strings en base a su valor ASCII"
      ]
    },
    {
      "cell_type": "markdown",
      "id": "a4d923cf",
      "metadata": {
        "id": "a4d923cf"
      },
      "source": [
        "Dado un conjunto, crea un programa que nos devuelva el carácter con mayor valor ASCII. Debes hacerlo sin recurrir a la función max().\n",
        "\n",
        "conjunto={\"0\",\"*\",\"a\",\"A\",\"z\"}"
      ]
    },
    {
      "cell_type": "markdown",
      "id": "d435b059",
      "metadata": {
        "id": "d435b059"
      },
      "source": [
        "## EJERCICIO 16"
      ]
    },
    {
      "cell_type": "code",
      "execution_count": null,
      "id": "MqJ0f9HXo5hL",
      "metadata": {
        "colab": {
          "base_uri": "https://localhost:8080/"
        },
        "id": "MqJ0f9HXo5hL",
        "outputId": "fcf960de-0049-48a5-fda9-c490e115357a"
      },
      "outputs": [
        {
          "name": "stdout",
          "output_type": "stream",
          "text": [
            "Escribe una frase: Dada una frase introducida por teclado, guarda en un conjunto la primera letra de cada palabra (en minúscula) y muestra el contenido del conjunto.\n",
            "['dada', 'una', 'frase', 'introducida', 'por', 'teclado,', 'guarda', 'en', 'un', 'conjunto', 'la', 'primera', 'letra', 'de', 'cada', 'palabra', '(en', 'minúscula)', 'y', 'muestra', 'el', 'contenido', 'del', 'conjunto.']\n",
            "d\n",
            "u\n",
            "f\n",
            "i\n",
            "p\n",
            "t\n",
            "g\n",
            "e\n",
            "u\n",
            "c\n",
            "l\n",
            "p\n",
            "l\n",
            "d\n",
            "c\n",
            "p\n",
            "(\n",
            "m\n",
            "y\n",
            "m\n",
            "e\n",
            "c\n",
            "d\n",
            "c\n",
            "['u', 'e', 'y', 'm', 'l', '(', 't', 'c', 'i', 'p', 'g', 'f', 'd']\n"
          ]
        }
      ],
      "source": [
        "phrase = input(\"Escribe una frase: \").lower()\n",
        "tokens = phrase.split(\" \")\n",
        "print(tokens)\n",
        "c = set()\n",
        "for token in tokens:\n",
        "  print(token[0])\n",
        "  c.add(token[0]) # al ser un conjunto si se repite el valor no se añade por duplicado\n",
        "print(c)"
      ]
    },
    {
      "cell_type": "markdown",
      "id": "7e6b011b",
      "metadata": {
        "id": "7e6b011b"
      },
      "source": [
        "Dada una frase introducida por teclado, guarda en un conjunto la primera letra de cada palabra (en minúscula) y muestra el contenido del conjunto."
      ]
    },
    {
      "cell_type": "markdown",
      "id": "b13661b8",
      "metadata": {
        "id": "b13661b8"
      },
      "source": [
        "## EJERCICIO 17"
      ]
    },
    {
      "cell_type": "code",
      "execution_count": null,
      "id": "rhoH3661h-yz",
      "metadata": {
        "colab": {
          "base_uri": "https://localhost:8080/"
        },
        "id": "rhoH3661h-yz",
        "outputId": "57e2da30-ca18-45bd-a260-31936a52c28f"
      },
      "outputs": [
        {
          "name": "stdout",
          "output_type": "stream",
          "text": [
            "Introduce la cantidad de números a meter: 3\n",
            "Introduce un número2\n",
            "Tu tupla es (2, 'par')\n",
            "Introduce un número5\n",
            "Tu tupla es (5, 'impar')\n",
            "Introduce un número12332\n",
            "Tu tupla es (12332, 'par')\n"
          ]
        }
      ],
      "source": [
        "n = int(input(\"Introduce la cantidad de números a meter: \"))\n",
        "for i in range(n):\n",
        "  tupla = ()\n",
        "  a = int(input(\"Introduce un número: \"))\n",
        "  p = a%2\n",
        "  if not p:\n",
        "    tupla = a,\"par\"\n",
        "  else:\n",
        "    tupla = a,\"impar\"\n",
        "  print(f\"Tu tupla es {tupla}\")"
      ]
    },
    {
      "cell_type": "markdown",
      "id": "7938709a",
      "metadata": {
        "id": "7938709a"
      },
      "source": [
        "Pide al usuario el número de números enteros que va a introducir por teclado. Para cada uno de esos números, crea una tupla donde la primera entrada sea el número entero y, la segunda, la palabra “par” o “impar” según la paridad del número entero. Muestra la tupla recién creada al usuario."
      ]
    },
    {
      "cell_type": "markdown",
      "id": "091b0304",
      "metadata": {
        "id": "091b0304"
      },
      "source": [
        "## EJERCICIO 18"
      ]
    },
    {
      "cell_type": "code",
      "execution_count": null,
      "id": "z2CR3EOUjIxk",
      "metadata": {
        "colab": {
          "base_uri": "https://localhost:8080/"
        },
        "id": "z2CR3EOUjIxk",
        "outputId": "0960763b-d646-489f-cfa6-a2414e0192c1"
      },
      "outputs": [
        {
          "name": "stdout",
          "output_type": "stream",
          "text": [
            "Introduce una frase: patatas fritas gratis\n",
            "[('patatas', 7, 'p', 0, 7), ('fritas', 6, 'f', 8, 14), ('gratis', 6, 'g', 15, 21)]\n"
          ]
        }
      ],
      "source": [
        "phrase = input(\"Introduce una frase: \")\n",
        "tokens = phrase.split(\" \") # Separamos cada palabra según espacio\n",
        "l = []\n",
        "pos = 0 # Creamos un contador de posiciones para saber por donde vamos de la frase original\n",
        "for token in tokens:\n",
        "  t = (token,len(token),token[0],pos,(pos+len(token))) # Palabra, longitud de la palabra, primera letra, posición inicial, posición final\n",
        "  l.append(t)\n",
        "  pos += len(token)+1 # Actualizamos el contador de posición\n",
        "print(l)"
      ]
    },
    {
      "cell_type": "markdown",
      "id": "91a02890",
      "metadata": {
        "id": "91a02890"
      },
      "source": [
        "Dada una frase proporcionada por el usuario, crea una lista de tuplas indicando palabra, longitud de cada palabra, letra inicial y posición que ocupan dentro de la frase."
      ]
    },
    {
      "cell_type": "markdown",
      "id": "d4717e6e",
      "metadata": {
        "id": "d4717e6e"
      },
      "source": [
        "## EJERCICIO 19"
      ]
    },
    {
      "cell_type": "code",
      "execution_count": null,
      "id": "7AoB5FX9lcQM",
      "metadata": {
        "colab": {
          "base_uri": "https://localhost:8080/"
        },
        "id": "7AoB5FX9lcQM",
        "outputId": "1e2a0368-5040-402d-eb13-5476b73c0f2c"
      },
      "outputs": [
        {
          "name": "stdout",
          "output_type": "stream",
          "text": [
            "Escribe una palabra: perro\n",
            "Escribe una palabra: gato\n",
            "Escribe una palabra: pajaro\n",
            "Escribe una palabra: zorro\n",
            "Escribe una palabra: lobo\n",
            "Escribe una palabra: oso\n",
            "Escribe una palabra: \n",
            "La primera palabra es perro y la última es oso\n"
          ]
        }
      ],
      "source": [
        "l = []\n",
        "word = input(\"Escribe una palabra: \")\n",
        "while word != \"\":\n",
        "  l.append(word)\n",
        "  word = input(\"Escribe una palabra: \")\n",
        "t = tuple(l) # Las tuplas no son mutables, creamos una lista poco a poco y la pasamos a tupla\n",
        "(first,*void,last) = t # Usamos unpacking tirando todo lo que no sea la primera o última palabra a una variable sin uso\n",
        "print(f\"La primera palabra es {first} y la última es {last}\")\n"
      ]
    },
    {
      "cell_type": "markdown",
      "id": "972ffc33",
      "metadata": {
        "id": "972ffc33"
      },
      "source": [
        "Haz que el usuario introduzca palabras hasta que introduzca una palabra vacía. Guarda todas las palabras en una tupla y muestra la primera y la última introducidas haciendo uso del método unpacking. Para guardar los elementos de uno en uno vas a tener que utilizar un tipo de dato que no es tupla y luego transformarlo a tupla."
      ]
    },
    {
      "cell_type": "markdown",
      "id": "5682170e",
      "metadata": {
        "id": "5682170e"
      },
      "source": [
        "## EJERCICO 20"
      ]
    },
    {
      "cell_type": "code",
      "execution_count": null,
      "id": "SFD4JOvxohI6",
      "metadata": {
        "colab": {
          "base_uri": "https://localhost:8080/"
        },
        "id": "SFD4JOvxohI6",
        "outputId": "9f9e3b77-32ca-4c55-a9d6-31e1fa9ddea2"
      },
      "outputs": [
        {
          "name": "stdout",
          "output_type": "stream",
          "text": [
            "(('prueba', 6), ('ejemplo', 7), ('largo', 5), ('funcionar', 9))\n"
          ]
        }
      ],
      "source": [
        "palabras=[\"prueba\",\"ejemplo\",\"largo\",\"funcionar\"]\n",
        "longitud=[]\n",
        "for palabra in palabras:\n",
        "  longitud.append(len(palabra))\n",
        "t = zip(palabras,longitud)\n",
        "print(tuple(t)) # La función zip crea una referencia, hay que recuperarla con un método de variable para que sea legible"
      ]
    },
    {
      "cell_type": "markdown",
      "id": "0099ce69",
      "metadata": {
        "id": "0099ce69"
      },
      "source": [
        "Dada una lista de palabras, crea otra lista del mismo tamaño que guarde la longitud de cada palabra. Usa la función zip() para crear un diccionario con claves las palabras y valores su longitud.\n",
        "\n",
        "palabras=```[\"prueba\",\"ejemplo\",\"largo\",\"funcionar\"]```"
      ]
    },
    {
      "cell_type": "markdown",
      "id": "21c66890",
      "metadata": {
        "id": "21c66890"
      },
      "source": [
        "## EJERCICIO 21"
      ]
    },
    {
      "cell_type": "code",
      "execution_count": null,
      "id": "GwZH9JHUpXR-",
      "metadata": {
        "colab": {
          "base_uri": "https://localhost:8080/"
        },
        "id": "GwZH9JHUpXR-",
        "outputId": "62cb51ae-0146-4d49-eece-bad76c56affd"
      },
      "outputs": [
        {
          "name": "stdout",
          "output_type": "stream",
          "text": [
            "Introduce el primer número: 236\n",
            "Introduce el segundo número: 15\n",
            "(236, 15, 15, 11)\n"
          ]
        }
      ],
      "source": [
        "a = 0\n",
        "b = 1\n",
        "while a < b:\n",
        "  a = int(input(\"Introduce el primer número: \"))\n",
        "  b = int(input(\"Introduce el segundo número: \"))\n",
        "t = a,b,(a//b),(a%b) # dividendo divisor cociente y resto en ese orden\n",
        "print(t)"
      ]
    },
    {
      "cell_type": "markdown",
      "id": "5defefec",
      "metadata": {
        "id": "5defefec"
      },
      "source": [
        "Pide al usuario dos números enteros por teclado. Asegúrate de que el primero es mayor o igual al segundo. Realiza la división entera y guarda en una tupla el dividendo, el divisor, el cociente y el resto de la división entera realizada y muéstrale al usuario el resultado por pantalla."
      ]
    },
    {
      "cell_type": "markdown",
      "id": "2ce74141",
      "metadata": {
        "id": "2ce74141"
      },
      "source": [
        "## EJERCICIO 22"
      ]
    },
    {
      "cell_type": "code",
      "execution_count": null,
      "id": "C7hiZxzJqR1d",
      "metadata": {
        "colab": {
          "base_uri": "https://localhost:8080/"
        },
        "id": "C7hiZxzJqR1d",
        "outputId": "0318d33a-95ae-4185-f002-a37eb82cf551"
      },
      "outputs": [
        {
          "name": "stdout",
          "output_type": "stream",
          "text": [
            "Introduce grados: 45\n",
            "Parar(s/n)?: n\n",
            "Introduce grados: 90\n",
            "Parar(s/n)?: n\n",
            "Introduce grados: 180\n",
            "Parar(s/n)?: n\n",
            "Introduce grados: 360\n",
            "Parar(s/n)?: s\n",
            "[(45, 0.7853981633974483), (90, 1.5707963267948966), (180, 3.141592653589793), (360, 6.283185307179586)]\n"
          ]
        }
      ],
      "source": [
        "import math\n",
        "l = []\n",
        "stop = \"n\"\n",
        "while stop != \"s\":\n",
        "  t = ()\n",
        "  n = -1\n",
        "  while n < 0 or n > 360:\n",
        "    n = int(input(\"Introduce grados: \"))\n",
        "  t = n,(n*(math.pi/180)) # Sin math podemos poner pi a 3.141592 o asi, con math podemos usar directamente math.radians() para el cálculo también\n",
        "  l.append(t)\n",
        "  stop = input(\"Parar(s/n)?: \")\n",
        "print(l)"
      ]
    },
    {
      "cell_type": "markdown",
      "id": "60d3eef3",
      "metadata": {
        "id": "60d3eef3"
      },
      "source": [
        "Pide al usuario números entre 0 y 360 (comprueba que el número introducido sea un entero entre 0 y 360). Para cada número, crea una tupla donde la primera entrada sea dicho número y, la segunda, la medida angular correspondiente en radianes. Recuerda, 360◦ = 2π rad."
      ]
    }
  ],
  "metadata": {
    "colab": {
      "provenance": []
    },
    "kernelspec": {
      "display_name": "Python 3 (ipykernel)",
      "language": "python",
      "name": "python3"
    },
    "language_info": {
      "codemirror_mode": {
        "name": "ipython",
        "version": 3
      },
      "file_extension": ".py",
      "mimetype": "text/x-python",
      "name": "python",
      "nbconvert_exporter": "python",
      "pygments_lexer": "ipython3",
      "version": "3.10.9"
    }
  },
  "nbformat": 4,
  "nbformat_minor": 5
}
