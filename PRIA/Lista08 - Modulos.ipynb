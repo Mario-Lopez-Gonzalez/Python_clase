{
 "cells": [
  {
   "cell_type": "markdown",
   "id": "d287d88e",
   "metadata": {},
   "source": [
    "# LISTA 08- SCRIPTS Y MÓDULOS EN PYTHON"
   ]
  },
  {
   "cell_type": "markdown",
   "id": "b8cd5292",
   "metadata": {},
   "source": [
    "## <ins>Ejercicios Obligatorios </ins>"
   ]
  },
  {
   "cell_type": "markdown",
   "id": "e168c8c3",
   "metadata": {},
   "source": [
    "Estos ejercicios tienes que hacerlos creando scripts .py en tu equipo (puedes usar visual studio code)"
   ]
  },
  {
   "cell_type": "markdown",
   "id": "f99190d1",
   "metadata": {},
   "source": [
    "## EJERCICIO 1"
   ]
  },
  {
   "cell_type": "code",
   "execution_count": 1,
   "id": "ad807241",
   "metadata": {},
   "outputs": [
    {
     "name": "stdout",
     "output_type": "stream",
     "text": [
      "(1,1)\n"
     ]
    }
   ],
   "source": [
    "import my_module as mm\n",
    "vec = mm.Vector2D(1,1)\n",
    "print(vec)"
   ]
  },
  {
   "cell_type": "markdown",
   "id": "b3836703",
   "metadata": {},
   "source": [
    "Crea un script llamado vectors.py. Ábrelo y crea una clase llamada Vector2D. El constructor debe guardar las coordenadas x e y del vector."
   ]
  },
  {
   "cell_type": "markdown",
   "id": "feb0417e",
   "metadata": {},
   "source": [
    "## EJERCICIO 2"
   ]
  },
  {
   "cell_type": "code",
   "execution_count": 2,
   "id": "43bb9661",
   "metadata": {},
   "outputs": [
    {
     "name": "stdout",
     "output_type": "stream",
     "text": [
      "(2,4)\n",
      "4.47213595499958\n",
      "(4,8)\n"
     ]
    }
   ],
   "source": [
    "import my_module as mm\n",
    "vec = mm.Vector2D(2,4)\n",
    "print(vec)\n",
    "print(vec.module())\n",
    "print(vec.scalar_prod(2))"
   ]
  },
  {
   "cell_type": "markdown",
   "id": "91cd8f7c",
   "metadata": {},
   "source": [
    "Crea los siguientes métodos:\n",
    "* module: devuelve el módulo del vector. Recuerda que el módulo de un vector 2D se calcula como la raíz cuadrada de x2 + y2 . Para calcular raíces cuadradas, dispones del método math.sqrt().\n",
    "* scalar_prod: multiplica el vector por el número real dado por parámetro, que por defecto vale 1.\n",
    "* ```__str__```: muestra por pantalla el vector de la forma (x, y)."
   ]
  },
  {
   "cell_type": "markdown",
   "id": "abf81a65",
   "metadata": {},
   "source": [
    "## EJERCICIO 3"
   ]
  },
  {
   "cell_type": "code",
   "execution_count": 3,
   "id": "bf99690a",
   "metadata": {},
   "outputs": [
    {
     "name": "stdout",
     "output_type": "stream",
     "text": [
      "(6,6)\n",
      "(2,2)\n"
     ]
    }
   ],
   "source": [
    "import my_module as mm\n",
    "vec1 = mm.Vector2D(4,4)\n",
    "vec2 = mm.Vector2D(2,2)\n",
    "print(mm.Vector2D.sum(vec1,vec2))\n",
    "print(mm.Vector2D.substract(vec1,vec2))"
   ]
  },
  {
   "cell_type": "markdown",
   "id": "c0dda757",
   "metadata": {},
   "source": [
    "Crea los siguientes métodos:\n",
    "* sum: dados dos vectores los suma y devuelve un objeto de la clase Vector2D.\n",
    "* subtract: dados dos vectores los resta y devuelve un objeto de la clase Vector2D."
   ]
  },
  {
   "cell_type": "markdown",
   "id": "5c943554",
   "metadata": {},
   "source": [
    "## EJERCICIO 4"
   ]
  },
  {
   "cell_type": "code",
   "execution_count": 4,
   "id": "75778748",
   "metadata": {},
   "outputs": [
    {
     "name": "stdout",
     "output_type": "stream",
     "text": [
      "(1,2,3)\n"
     ]
    }
   ],
   "source": [
    "import my_module as mm\n",
    "vec = mm.Vector3D(1,2,3)\n",
    "print(vec)"
   ]
  },
  {
   "cell_type": "markdown",
   "id": "13d2c744",
   "metadata": {},
   "source": [
    "Ahora crea la clase Vector3D que herede de la clase Vector2D. Empieza con el constructor para que además de las coordenadas x e y, también tome la coordenada z. Recuerda que puedes utilizar el método .super() para acceder a métodos de la clase padre."
   ]
  },
  {
   "cell_type": "markdown",
   "id": "2972dd7e",
   "metadata": {},
   "source": [
    "## EJERCICIO 5"
   ]
  },
  {
   "cell_type": "code",
   "execution_count": 5,
   "id": "577cac7a",
   "metadata": {},
   "outputs": [
    {
     "name": "stdout",
     "output_type": "stream",
     "text": [
      "3.3520244595616826\n",
      "(2,4,6)\n",
      "(4,4,4)\n",
      "(-2,0,2)\n",
      "10\n",
      "2.8284271247461903\n"
     ]
    }
   ],
   "source": [
    "import my_module as mm\n",
    "vec1 = mm.Vector3D(1,2,3)\n",
    "vec2 = mm.Vector3D(3,2,1)\n",
    "\n",
    "print(vec1.module())\n",
    "print(vec1.scalar_prod(2))\n",
    "print(mm.Vector3D.sum(vec1,vec2))\n",
    "print(mm.Vector3D.substract(vec1,vec2))\n",
    "print(mm.Vector3D.dot_product(vec1,vec2))\n",
    "print(mm.Vector3D.distance(vec1,vec2))"
   ]
  },
  {
   "cell_type": "markdown",
   "id": "ef3c12ce",
   "metadata": {},
   "source": [
    "Crea en la clase Vector3D los métodos siguientes:\n",
    "* __str__: muestra el vector por pantalla de la forma (x, y, z).\n",
    "* module: al tener vectores 3D, el módulo se calcula como la raíz cuadrada de x<sup>2</sup> + y<sup>2</sup> + z<sup>2</sup>\n",
    "* scalar_prod, sum y subtract: adáptalos si es necesario para que trabajen con la clase Vector3D.\n",
    "* dot_product: ahora el producto escalar se calcula como u · v = u<sub>x</sub>v<sub>x</sub> + u<sub>y</sub>v<sub>y</sub> + u<sub>z</sub>v<sub>z</sub>\n",
    "* distance: la distancia se calcula como (u<sub>x</sub> - v<sub>x</sub>)<sup>2</sup> + (u<sub>y</sub> - v<sub>y</sub>)<sup>2</sup> + (u<sub>z</sub> - v<sub>zx</sub>)<sup>2</sup>\n",
    "\n",
    "Recuerda que dispones del método .super() para evitar repeticiones innecesarias de código."
   ]
  },
  {
   "cell_type": "markdown",
   "id": "aa11c482",
   "metadata": {},
   "source": [
    "## EJERCICIO 6"
   ]
  },
  {
   "cell_type": "code",
   "execution_count": 6,
   "id": "3fb46fac",
   "metadata": {},
   "outputs": [
    {
     "name": "stdout",
     "output_type": "stream",
     "text": [
      "?\n"
     ]
    }
   ],
   "source": [
    "print(\"?\")"
   ]
  },
  {
   "cell_type": "markdown",
   "id": "b4d805e5",
   "metadata": {},
   "source": [
    "En otro script de Python importa la clase Vector2D, crea dos objetos de la clase Vector2D y prueba que todos los métodos de la clase Vector2D funcionan correctamente."
   ]
  },
  {
   "cell_type": "markdown",
   "id": "e8dec722",
   "metadata": {},
   "source": [
    "## <ins>Ejercicios Opcionales </ins>"
   ]
  },
  {
   "cell_type": "markdown",
   "id": "4d68e82b",
   "metadata": {},
   "source": [
    "## EJERCICIO 7"
   ]
  },
  {
   "cell_type": "code",
   "execution_count": 1,
   "id": "0db4bc37",
   "metadata": {},
   "outputs": [
    {
     "name": "stdout",
     "output_type": "stream",
     "text": [
      "7\n",
      "2.0\n"
     ]
    }
   ],
   "source": [
    "import my_module as mm\n",
    "vec1 = mm.Vector2D(1,2)\n",
    "vec2 = mm.Vector2D(3,2)\n",
    "print(mm.Vector2D.dot_product(vec1,vec2))\n",
    "print(mm.Vector2D.distance(vec1,vec2))"
   ]
  },
  {
   "cell_type": "markdown",
   "id": "ec7f3b2a",
   "metadata": {},
   "source": [
    "Crea los siguientes métodos:\n",
    "* dot_product: dados dos vectores calcula su producto escalar. El producto escalar se calcula como u · v = u<sub>x</sub>v<sub>x</sub> + u<sub>y</sub>v<sub>y</sub>\n",
    "* distance: dados dos vectores calcula la distancia entre ellos. La distancia se calcula como la raíz cuadrada (u<sub>x</sub> - v<sub>x</sub>)<sup>2</sup> + (u<sub>y</sub> - v<sub>y</sub>)<sup>2</sup>"
   ]
  },
  {
   "cell_type": "markdown",
   "id": "cbbfb36c",
   "metadata": {},
   "source": [
    "## EJERCICIO 8"
   ]
  },
  {
   "cell_type": "code",
   "execution_count": 2,
   "id": "cc39ea8d",
   "metadata": {},
   "outputs": [
    {
     "name": "stdout",
     "output_type": "stream",
     "text": [
      "(0,0,0)\n",
      "(1,0,0)\n",
      "(0,1,0)\n",
      "(0,0,1)\n"
     ]
    }
   ],
   "source": [
    "from my_module import Vector3D as v3\n",
    "print(v3.zero())\n",
    "print(v3.horizontal())\n",
    "print(v3.vectical())\n",
    "print(v3.forward())"
   ]
  },
  {
   "cell_type": "markdown",
   "id": "f0211a75",
   "metadata": {},
   "source": [
    "Crea en la clase Vector3D los métodos siguientes:\n",
    "* zero: devuelve un objeto Vector3D con todas sus componentes 0.\n",
    "* horizontal: devuelve un objeto Vector3D con todas sus componentes 0 salvo la primera que valdrá 1.\n",
    "* vertical: devuelve un objeto Vector3D con todas sus componentes 0 salvo la segunda que valdrá 1.\n",
    "* forward: devuelve un objeto Vector3D con todas sus componentes 0 salvo la tercera que valdrá 1."
   ]
  },
  {
   "cell_type": "markdown",
   "id": "59397f22",
   "metadata": {},
   "source": [
    "## EJERCICIO 9"
   ]
  },
  {
   "cell_type": "code",
   "execution_count": 1,
   "id": "0ab0fe7e",
   "metadata": {},
   "outputs": [
    {
     "name": "stdout",
     "output_type": "stream",
     "text": [
      "(2,4,0)\n",
      "(2,4,5)\n"
     ]
    }
   ],
   "source": [
    "import my_module as mm\n",
    "v2 = mm.Vector2D(2,4)\n",
    "print(v2.extend_to_3D())\n",
    "print(v2.extend_to_3D(5))"
   ]
  },
  {
   "cell_type": "markdown",
   "id": "8272bcdf",
   "metadata": {},
   "source": [
    "Crea en la clase Vector2D el método de instancia .extend_to_3D() que devuelva un objeto de la clase Vector3D siendo la componente z el valor indicado por parámetro, que por defecto valdrá 0."
   ]
  },
  {
   "cell_type": "markdown",
   "id": "b97cdccc",
   "metadata": {},
   "source": [
    "## EJERCICIO 10"
   ]
  },
  {
   "cell_type": "code",
   "execution_count": null,
   "id": "82769e7a",
   "metadata": {},
   "outputs": [],
   "source": [
    "#Ya lo he probado en los ejercicios anteriores"
   ]
  },
  {
   "cell_type": "markdown",
   "id": "4bbf4135",
   "metadata": {},
   "source": [
    "Ahora importa la clase Vector3D, crea dos objetos de la clase Vector3D y prueba que todos los métodos de la clase Vector3D funcionan correctamente."
   ]
  }
 ],
 "metadata": {
  "kernelspec": {
   "display_name": "base",
   "language": "python",
   "name": "python3"
  },
  "language_info": {
   "codemirror_mode": {
    "name": "ipython",
    "version": 3
   },
   "file_extension": ".py",
   "mimetype": "text/x-python",
   "name": "python",
   "nbconvert_exporter": "python",
   "pygments_lexer": "ipython3",
   "version": "3.12.4"
  }
 },
 "nbformat": 4,
 "nbformat_minor": 5
}
