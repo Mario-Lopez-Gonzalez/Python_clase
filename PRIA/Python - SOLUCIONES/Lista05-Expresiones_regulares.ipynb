{
 "cells": [
  {
   "cell_type": "markdown",
   "id": "d287d88e",
   "metadata": {},
   "source": [
    "# LISTA 5 - EXPRESIONES REGULARES - regex101.com\n",
    "## <ins>Ejercicios Obligatorios </ins>"
   ]
  },
  {
   "cell_type": "markdown",
   "id": "f99190d1",
   "metadata": {},
   "source": [
    "## EJERCICIO 1"
   ]
  },
  {
   "cell_type": "markdown",
   "id": "b3836703",
   "metadata": {},
   "source": [
    "El siguiente texto contiene una secuencia de palabras delimitadas por espacios y caracteres de puntuación (puntos y comas). Elabora una expresión regular a partir de la cual podamos descomponer (método split) el texto en todas las palabras que lo componen:\n",
    "\n",
    "Alternativamente, TAMBIÉN puedes buscar (método findall) todas las palabras existentes en el texto.\n",
    "```\n",
    "TEXTO = \"\"\"En un lugar de la Mancha, de cuyo nombre no quiero acordarme, \n",
    "no ha mucho tiempo que vivía un hidalgo de los de lanza en astillero, \n",
    "adarga antigua, rocín flaco y galgo corredor\"\"\"\n",
    "```"
   ]
  },
  {
   "cell_type": "code",
   "execution_count": 2,
   "id": "10d5b17a",
   "metadata": {},
   "outputs": [
    {
     "data": {
      "text/plain": [
       "['En',\n",
       " 'un',\n",
       " 'lugar',\n",
       " 'de',\n",
       " 'la',\n",
       " 'Mancha',\n",
       " 'de',\n",
       " 'cuyo',\n",
       " 'nombre',\n",
       " 'no',\n",
       " 'quiero',\n",
       " 'acordarme',\n",
       " 'no',\n",
       " 'ha',\n",
       " 'mucho',\n",
       " 'tiempo',\n",
       " 'que',\n",
       " 'vivía',\n",
       " 'un',\n",
       " 'hidalgo',\n",
       " 'de',\n",
       " 'los',\n",
       " 'de',\n",
       " 'lanza',\n",
       " 'en',\n",
       " 'astillero',\n",
       " 'adarga',\n",
       " 'antigua',\n",
       " 'rocín',\n",
       " 'flaco',\n",
       " 'y',\n",
       " 'galgo',\n",
       " 'corredor']"
      ]
     },
     "execution_count": 2,
     "metadata": {},
     "output_type": "execute_result"
    }
   ],
   "source": [
    "import re\n",
    "TEXTO = \"\"\"En un lugar de la Mancha, de cuyo nombre no quiero acordarme, \n",
    "no ha mucho tiempo que vivía un hidalgo de los de lanza en astillero, \n",
    "adarga antigua, rocín flaco y galgo corredor\"\"\"\n",
    "# Compilamos un patrón en re que discrimine por espacio (/s), punto o coma de una o más ocurrencias (+)\n",
    "p = re.compile(r\"[\\s.,]+\")\n",
    "# Con split \"invertimos\" la búsqueda, separa en elementos de lista todo lo que haya antes o después de la coincidencia del patron compilado en p\n",
    "p.split(TEXTO)"
   ]
  },
  {
   "cell_type": "markdown",
   "id": "feb0417e",
   "metadata": {},
   "source": [
    "## EJERCICIO 2"
   ]
  },
  {
   "cell_type": "markdown",
   "id": "91cd8f7c",
   "metadata": {},
   "source": [
    "Escribe una expresión regular que capture los años del siguiente texto acerca de la historia de España obtenido de la Wikipedia:\n",
    "```\n",
    "TEXTO = \"\"\"En 1492 los Reyes Católicos financiaron el proyecto del navegante Cristóbal \n",
    "Colón en la búsqueda de una nueva ruta comercial con Asia a través del océano \n",
    "Atlántico, y proclamarían la expulsión de los judíos. La llegada al Nuevo Mundo \n",
    "y la posterior conquista de América forjaron la creación del Imperio español. \n",
    "Durante los siguientes siglos España se alzaría como actor principal del mundo \n",
    "occidental y primera potencia de la época. Durante los siglos xvi y xvii \n",
    "tendría lugar también la época de mayor apogeo de la cultura y las artes \n",
    "hispanas conocida como Siglo de Oro.\n",
    "\n",
    "El Imperio español en 1580, tras la unificación de la península ibérica bajo un \n",
    "único rey español Felipe II, comprendía América del Sur, América Central y el \n",
    "Caribe, grandes áreas de América del Norte en diferentes grados de influencia o \n",
    "control, las islas Filipinas en Asia, así como enclaves de diversa importancia \n",
    "en las costas de África y la India. Incluía además numerosas posesiones en \n",
    "Europa, los Países Bajos españoles, el Ducado de Milán o el Reino de Nápoles, la \n",
    "mayoría de ellas perdidas tras la paz de Utrecht de 1713.\"\"\"\n",
    "```"
   ]
  },
  {
   "cell_type": "code",
   "execution_count": null,
   "id": "a2d08eca",
   "metadata": {},
   "outputs": [
    {
     "data": {
      "text/plain": [
       "['1492', '1580', '1713']"
      ]
     },
     "execution_count": 3,
     "metadata": {},
     "output_type": "execute_result"
    }
   ],
   "source": [
    "TEXTO = \"\"\"En 1492 los Reyes Católicos financiaron el proyecto del navegante Cristóbal \n",
    "Colón en la búsqueda de una nueva ruta comercial con Asia a través del océano \n",
    "Atlántico, y proclamarían la expulsión de los judíos. La llegada al Nuevo Mundo \n",
    "y la posterior conquista de América forjaron la creación del Imperio español. \n",
    "Durante los siguientes siglos España se alzaría como actor principal del mundo \n",
    "occidental y primera potencia de la época. Durante los siglos xvi y xvii \n",
    "tendría lugar también la época de mayor apogeo de la cultura y las artes \n",
    "hispanas conocida como Siglo de Oro.\n",
    "\n",
    "El Imperio español en 1580, tras la unificación de la península ibérica bajo un \n",
    "único rey español Felipe II, comprendía América del Sur, América Central y el \n",
    "Caribe, grandes áreas de América del Norte en diferentes grados de influencia o \n",
    "control, las islas Filipinas en Asia, así como enclaves de diversa importancia \n",
    "en las costas de África y la India. Incluía además numerosas posesiones en \n",
    "Europa, los Países Bajos españoles, el Ducado de Milán o el Reino de Nápoles, la \n",
    "mayoría de ellas perdidas tras la paz de Utrecht de 1713.\"\"\"\n",
    "# Compilamos un patrón que identifique 4 dígitos seguidos (\\d{4}), esto coge cualquier cifra entre 0000 (escrito así) y 9999\n",
    "# Se podría hacer más abierto como volverlo flexible \"\\d{1,2,3,4}\" que coge todos los grupos de uno a cuatro dígitos\n",
    "p = re.compile(r\"\\d{4}\")\n",
    "# Busca todas las ocurrencias de p y las guarda en elementos de lista\n",
    "p.findall(TEXTO)"
   ]
  },
  {
   "cell_type": "markdown",
   "id": "abf81a65",
   "metadata": {},
   "source": [
    "## EJERCICIO 3"
   ]
  },
  {
   "cell_type": "markdown",
   "id": "c0dda757",
   "metadata": {},
   "source": [
    "Escribe una expresión regular que detecte caracteres simbólicos (\\W) repetidos y los sustituya por una única ocurrencia:\n",
    "\n",
    "PISTA: puedes referenciar a un grupo previamente capturado mediante \\\\{número}.\n",
    "```\n",
    "TEXTO = \"¡¡¡¡¡¡¡QUÉ SORPRESA!!!!!!!\"\n",
    "```"
   ]
  },
  {
   "cell_type": "code",
   "execution_count": null,
   "id": "df9d019c",
   "metadata": {},
   "outputs": [
    {
     "data": {
      "text/plain": [
       "'¡QUÉ SORPRESA!'"
      ]
     },
     "execution_count": 32,
     "metadata": {},
     "output_type": "execute_result"
    }
   ],
   "source": [
    "TEXTO = \"¡¡¡¡¡¡¡QUÉ SORPRESA!!!!!!!\"\n",
    "# Captura grupos de caracteres simbólicos (\\W) repetidos [(\\W)+] -> uno o más \\W iguales\n",
    "p = re.compile(r\"(\\W)+\")\n",
    "# sub substituye cada ocurrencia de p por el primer elemento de la ocurrencia (\\1), eliminando repeticiones\n",
    "p.sub(r\"\\1\", TEXTO)"
   ]
  },
  {
   "cell_type": "markdown",
   "id": "4d68e82b",
   "metadata": {},
   "source": [
    "## EJERCICIO 4"
   ]
  },
  {
   "cell_type": "markdown",
   "id": "ec7f3b2a",
   "metadata": {},
   "source": [
    "Escribe una expresión regular que detecte palabras repetidas y las reemplace por una única ocurrencia:\n",
    "\n",
    "PISTA: metacaracteres \\w y \\b.\n",
    "```\n",
    "TEXTO = \"Me lo he pasado muy muy muy bien.\"\n",
    "```"
   ]
  },
  {
   "cell_type": "code",
   "execution_count": null,
   "id": "738a88a3",
   "metadata": {},
   "outputs": [
    {
     "data": {
      "text/plain": [
       "'Me lo he pasado muy bien.'"
      ]
     },
     "execution_count": 37,
     "metadata": {},
     "output_type": "execute_result"
    }
   ],
   "source": [
    "TEXTO = \"Me lo he pasado muy muy muy bien.\"\n",
    "# captura una letra (\\w) que ocurra múltiples veces (\\w+) y que tenga detrás repeticiones de si misma (\\1) separadas por uno o más espacio (\\s+). la expresión ?: hace que no se cree otro elemento de captura sino que se aplique la lógica al grupo previo\n",
    "p = re.compile(r\"(\\w+)(?:\\s+\\1)+\")\n",
    "p.sub(r\"\\1\", TEXTO)"
   ]
  },
  {
   "cell_type": "markdown",
   "id": "5c943554",
   "metadata": {},
   "source": [
    "## EJERCICIO 5"
   ]
  },
  {
   "cell_type": "markdown",
   "id": "f2fe60bc",
   "metadata": {},
   "source": [
    "Escribe una expresión regular que extraiga las direcciones de correo electrónico y los importes del siguiente texto. Asigna al grupo que contenga el email el nombre correo y al que contenga el importe precio:\n",
    "```\n",
    "TEXTO = \"\"\"Se ha facturado un total de 1500 € al usuario test@dominio.es durante \n",
    "el año 2019. Otros usuarios, como prueba@otro.com o new@contact.com han gastado \n",
    "solamente 500€.\"\"\"\n",
    "```\n"
   ]
  },
  {
   "cell_type": "code",
   "execution_count": null,
   "id": "6e94d63d",
   "metadata": {},
   "outputs": [
    {
     "name": "stdout",
     "output_type": "stream",
     "text": [
      "Importe: 1500\n",
      "Email: test@dominio.es\n",
      "Email: prueba@otro.com\n",
      "Email: new@contact.com\n",
      "Importe: 500\n"
     ]
    }
   ],
   "source": [
    "TEXTO = \"\"\"Se ha facturado un total de 1500 € al usuario test@dominio.es durante \n",
    "el año 2019. Otros usuarios, como prueba@otro.com o new@contact.com han gastado \n",
    "solamente 500€.\"\"\"\n",
    "# la expresión usa grupos con ?P<nombre> y la función OR (|) para clasificar si una palabra (\\b) tiene un patrón de correo o precio\n",
    "p = re.compile(r\"\\b(?P<correo>\\w+@\\w+.\\w+)|(?:(?P<precio>\\d+)\\s*€)\")\n",
    "for match in p.finditer(TEXTO):\n",
    "  if match.group('correo'): # se mira el atributo group de cada elemento encontrado por finditer\n",
    "    print(f\"Email: {match.group('correo')}\")\n",
    "  if match.group('precio'):\n",
    "    print(f\"Importe: {match.group('precio')}\")\n"
   ]
  },
  {
   "cell_type": "markdown",
   "id": "2972dd7e",
   "metadata": {},
   "source": [
    "## EJERCICIO 6"
   ]
  },
  {
   "cell_type": "markdown",
   "id": "ef3c12ce",
   "metadata": {},
   "source": [
    "Dada la siguiente enumeración de números de teléfono con diferentes formatos, prepara una expresión regular que sea capaz de reconocerlos y de devolverlos con el mismo formato:\n",
    "```\n",
    "TELEFONOS = \"968 12 23 31, 900 141 142, 945112233, 656-247733\"\n",
    "```"
   ]
  },
  {
   "cell_type": "code",
   "execution_count": null,
   "id": "94962662",
   "metadata": {},
   "outputs": [
    {
     "data": {
      "text/plain": [
       "'968122331, 900141142, 945112233, 656247733'"
      ]
     },
     "execution_count": 4,
     "metadata": {},
     "output_type": "execute_result"
    }
   ],
   "source": [
    "TELEFONOS = \"968 12 23 31, 900 141 142, 945112233, 656-247733\"\n",
    "# captura dígitos en grupos de tres (\\d{3}) separados por espacio, guión o nada [ -]? y luego seguido de grupos de 2 o 3 números separados por cualquiera de los símbolos anteriores (\\d{2,3})[ -]?\n",
    "p = re.compile(r\"(\\d{3})[ -]?(\\d{2,3})[ -]?(\\d{2,3})[ -]?(\\d{2,3})?\")\n",
    "# reemplaza cada ocurrencia con los grupos de captura 1 al 4\n",
    "p.sub(r\"\\1\\2\\3\\4\", TELEFONOS)"
   ]
  },
  {
   "cell_type": "markdown",
   "id": "b0fdd1da",
   "metadata": {},
   "source": [
    "## EJERCICIO 7"
   ]
  },
  {
   "cell_type": "markdown",
   "id": "a5fbf92d",
   "metadata": {},
   "source": [
    "\n",
    "Validación de direcciones de correo electrónico. Escribe una expresión regular que valide si una dirección de correo electrónico es correcta según el formato estándar. El formato debe ser nombre@dominio.ext, donde:\n",
    "\n",
    "<ul>\n",
    "    <li>nombre puede contener letras, números, puntos, guiones bajos y guiones.</li>\n",
    "    <li>dominio puede contener letras y números.</li>\n",
    "    <li>ext debe ser de 2 a 6 letras (por ejemplo, .com, .es, .info).</li>\n",
    "</ul>"
   ]
  },
  {
   "cell_type": "code",
   "execution_count": null,
   "id": "da0b7bb1",
   "metadata": {},
   "outputs": [
    {
     "name": "stdout",
     "output_type": "stream",
     "text": [
      "usuario@dominio.com es un correo válido.\n",
      "nombre.apellido@dominio.es es un correo válido.\n",
      "nombre@sub.dominio.com es un correo válido.\n",
      "usuario@dominio.info es un correo válido.\n",
      "usuario@dominio.c NO es un correo válido.\n",
      "usuario@.com NO es un correo válido.\n",
      "usuario@dominio..com es un correo válido.\n"
     ]
    }
   ],
   "source": [
    "import re\n",
    "\n",
    "def validar_correo(email):\n",
    "    # Expresión regular para validar el correo electrónico\n",
    "    patron = r'^[\\w\\.-]+@[\\w\\.-]+\\.\\w{2,6}$'\n",
    "    # Devuelve True o False según lo que valore match con el patron y email dados, necesario convertir de Match a bool\n",
    "    return bool(re.match(patron, email))\n",
    "\n",
    "# Ejemplos de uso\n",
    "correos = [\n",
    "    \"usuario@dominio.com\",\n",
    "    \"nombre.apellido@dominio.es\",\n",
    "    \"nombre@sub.dominio.com\",\n",
    "    \"usuario@dominio.info\",\n",
    "    \"usuario@dominio.c\",\n",
    "    \"usuario@.com\",\n",
    "    \"usuario@dominio..com\"\n",
    "]\n",
    "\n",
    "for correo in correos:\n",
    "    if validar_correo(correo): # usamos directamente el booleano devuelto por match\n",
    "        print(f\"{correo} es un correo válido.\")\n",
    "    else:\n",
    "        print(f\"{correo} NO es un correo válido.\")"
   ]
  }
 ],
 "metadata": {
  "kernelspec": {
   "display_name": "Python 3",
   "language": "python",
   "name": "python3"
  },
  "language_info": {
   "codemirror_mode": {
    "name": "ipython",
    "version": 3
   },
   "file_extension": ".py",
   "mimetype": "text/x-python",
   "name": "python",
   "nbconvert_exporter": "python",
   "pygments_lexer": "ipython3",
   "version": "3.12.8"
  }
 },
 "nbformat": 4,
 "nbformat_minor": 5
}
