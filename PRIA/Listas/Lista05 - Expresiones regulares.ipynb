{
 "cells": [
  {
   "cell_type": "markdown",
   "id": "d287d88e",
   "metadata": {},
   "source": [
    "# LISTA 5 - EXPRESIONES REGULARES - regex101.com\n",
    "## <ins>Ejercicios Obligatorios </ins>"
   ]
  },
  {
   "cell_type": "code",
   "execution_count": 2,
   "id": "89fd6ca7",
   "metadata": {},
   "outputs": [],
   "source": [
    "import re"
   ]
  },
  {
   "cell_type": "markdown",
   "id": "f99190d1",
   "metadata": {},
   "source": [
    "## EJERCICIO 1"
   ]
  },
  {
   "cell_type": "code",
   "execution_count": 15,
   "id": "437d6af5",
   "metadata": {},
   "outputs": [
    {
     "name": "stdout",
     "output_type": "stream",
     "text": [
      "['En', 'un', 'lugar', 'de', 'la', 'Mancha', 'de', 'cuyo', 'nombre', 'no', 'quiero', 'acordarme', 'no', 'ha', 'mucho', 'tiempo', 'que', 'vivía', 'un', 'hidalgo', 'de', 'los', 'de', 'lanza', 'en', 'astillero', 'adarga', 'antigua', 'rocín', 'flaco', 'y', 'galgo', 'corredor']\n"
     ]
    }
   ],
   "source": [
    "text = \"\"\"En un lugar de la Mancha, de cuyo nombre no quiero acordarme, \n",
    "no ha mucho tiempo que vivía un hidalgo de los de lanza en astillero, \n",
    "adarga antigua, rocín flaco y galgo corredor\"\"\"\n",
    "tokens = re.split(r\"\\W+\", text) # W es cualquier caracter que sea una letra, + es todo el espacio despues del item anterior hasta el siguiente\n",
    "print(tokens)"
   ]
  },
  {
   "cell_type": "markdown",
   "id": "b3836703",
   "metadata": {},
   "source": [
    "El siguiente texto contiene una secuencia de palabras delimitadas por espacios y caracteres de puntuación (puntos y comas). Elabora una expresión regular a partir de la cual podamos descomponer (método split) el texto en todas las palabras que lo componen:\n",
    "\n",
    "Alternativamente, TAMBIÉN puedes buscar (método findall) todas las palabras existentes en el texto.\n",
    "```\n",
    "TEXTO = \"\"\"En un lugar de la Mancha, de cuyo nombre no quiero acordarme, \n",
    "no ha mucho tiempo que vivía un hidalgo de los de lanza en astillero, \n",
    "adarga antigua, rocín flaco y galgo corredor\"\"\"\n",
    "```"
   ]
  },
  {
   "cell_type": "markdown",
   "id": "feb0417e",
   "metadata": {},
   "source": [
    "## EJERCICIO 2"
   ]
  },
  {
   "cell_type": "code",
   "execution_count": 16,
   "id": "24d0de14",
   "metadata": {},
   "outputs": [
    {
     "name": "stdout",
     "output_type": "stream",
     "text": [
      "['1492', '1580', '1713']\n"
     ]
    }
   ],
   "source": [
    "text = \"\"\"En 1492 los Reyes Católicos financiaron el proyecto del navegante Cristóbal \n",
    "Colón en la búsqueda de una nueva ruta comercial con Asia a través del océano \n",
    "Atlántico, y proclamarían la expulsión de los judíos. La llegada al Nuevo Mundo \n",
    "y la posterior conquista de América forjaron la creación del Imperio español. \n",
    "Durante los siguientes siglos España se alzaría como actor principal del mundo \n",
    "occidental y primera potencia de la época. Durante los siglos xvi y xvii \n",
    "tendría lugar también la época de mayor apogeo de la cultura y las artes \n",
    "hispanas conocida como Siglo de Oro.\n",
    "\n",
    "El Imperio español en 1580, tras la unificación de la península ibérica bajo un \n",
    "único rey español Felipe II, comprendía América del Sur, América Central y el \n",
    "Caribe, grandes áreas de América del Norte en diferentes grados de influencia o \n",
    "control, las islas Filipinas en Asia, así como enclaves de diversa importancia \n",
    "en las costas de África y la India. Incluía además numerosas posesiones en \n",
    "Europa, los Países Bajos españoles, el Ducado de Milán o el Reino de Nápoles, la \n",
    "mayoría de ellas perdidas tras la paz de Utrecht de 1713.\"\"\"\n",
    "\n",
    "tokens = re.findall(r'\\d{4}',text)\n",
    "print(tokens)"
   ]
  },
  {
   "cell_type": "markdown",
   "id": "91cd8f7c",
   "metadata": {},
   "source": [
    "Escribe una expresión regular que capture los años del siguiente texto acerca de la historia de España obtenido de la Wikipedia:\n",
    "```\n",
    "TEXTO = \"\"\"En 1492 los Reyes Católicos financiaron el proyecto del navegante Cristóbal \n",
    "Colón en la búsqueda de una nueva ruta comercial con Asia a través del océano \n",
    "Atlántico, y proclamarían la expulsión de los judíos. La llegada al Nuevo Mundo \n",
    "y la posterior conquista de América forjaron la creación del Imperio español. \n",
    "Durante los siguientes siglos España se alzaría como actor principal del mundo \n",
    "occidental y primera potencia de la época. Durante los siglos xvi y xvii \n",
    "tendría lugar también la época de mayor apogeo de la cultura y las artes \n",
    "hispanas conocida como Siglo de Oro.\n",
    "\n",
    "El Imperio español en 1580, tras la unificación de la península ibérica bajo un \n",
    "único rey español Felipe II, comprendía América del Sur, América Central y el \n",
    "Caribe, grandes áreas de América del Norte en diferentes grados de influencia o \n",
    "control, las islas Filipinas en Asia, así como enclaves de diversa importancia \n",
    "en las costas de África y la India. Incluía además numerosas posesiones en \n",
    "Europa, los Países Bajos españoles, el Ducado de Milán o el Reino de Nápoles, la \n",
    "mayoría de ellas perdidas tras la paz de Utrecht de 1713.\"\"\"\n",
    "```"
   ]
  },
  {
   "cell_type": "markdown",
   "id": "abf81a65",
   "metadata": {},
   "source": [
    "## EJERCICIO 3"
   ]
  },
  {
   "cell_type": "markdown",
   "id": "c0dda757",
   "metadata": {},
   "source": [
    "Escribe una expresión regular que detecte caracteres simbólicos (\\W) repetidos y los sustituya por una única ocurrencia:\n",
    "\n",
    "PISTA: puedes referenciar a un grupo previamente capturado mediante \\\\{número}.\n",
    "```\n",
    "TEXTO = \"¡¡¡¡¡¡¡QUÉ SORPRESA!!!!!!!\"\n",
    "```"
   ]
  },
  {
   "cell_type": "code",
   "execution_count": null,
   "id": "8cee54c7",
   "metadata": {},
   "outputs": [
    {
     "name": "stdout",
     "output_type": "stream",
     "text": [
      "¡QUÉ SORPRESA!\n"
     ]
    }
   ],
   "source": [
    "print(re.sub(r\"(\\W)\\1+\", r\"\\1\",\"¡¡¡¡¡¡¡QUÉ SORPRESA!!!!!!!\"))"
   ]
  },
  {
   "cell_type": "markdown",
   "id": "4d68e82b",
   "metadata": {},
   "source": [
    "## EJERCICIO 4"
   ]
  },
  {
   "cell_type": "code",
   "execution_count": 3,
   "id": "929a9b7d",
   "metadata": {},
   "outputs": [
    {
     "name": "stdout",
     "output_type": "stream",
     "text": [
      "Me lo he pasado muy bien.\n"
     ]
    }
   ],
   "source": [
    "import re\n",
    "print(re.sub(r\"(\\b\\w+\\b )\\1+\", r\"\\1\",\"Me lo he pasado muy muy muy bien.\")) # Importante añadir el espacio en blanco"
   ]
  },
  {
   "cell_type": "markdown",
   "id": "ec7f3b2a",
   "metadata": {},
   "source": [
    "Escribe una expresión regular que detecte palabras repetidas y las reemplace por una única ocurrencia: \n",
    "\n",
    "PISTA: metacaracteres \\w y \\b.\n",
    "```\n",
    "TEXTO = \"Me lo he pasado muy muy muy bien.\"\n",
    "```"
   ]
  },
  {
   "cell_type": "markdown",
   "id": "5c943554",
   "metadata": {},
   "source": [
    "## EJERCICIO 5"
   ]
  },
  {
   "cell_type": "code",
   "execution_count": 15,
   "id": "91479104",
   "metadata": {},
   "outputs": [
    {
     "name": "stdout",
     "output_type": "stream",
     "text": [
      "Emails: ['test@dominio.es', 'prueba@otro.com', 'new@contact.com']\n",
      "Precios: ['1500 €', '123.32€', '500€']\n"
     ]
    }
   ],
   "source": [
    "import re\n",
    "\n",
    "TEXTO = \"\"\"Se ha facturado un total de 1500 € al usuario test@dominio.es durante \n",
    "el año 2019. Otros usuarios, como prueba@otro.com con 123.32€ o new@contact.com han gastado \n",
    "solamente 500€.\"\"\"\n",
    "\n",
    "p = r'(?P<email>\\w+@\\w+\\.\\w+)|(?P<precio>\\d+(.\\d+)?\\s?€)'\n",
    "\n",
    "res = re.finditer(p, TEXTO)\n",
    "\n",
    "emails = []\n",
    "precios = []\n",
    "\n",
    "for match in res:\n",
    "    if match.group('email'):\n",
    "        emails.append(match.group('email')) # Hay que volver a indicarle que es un email o devuelve un objeto\n",
    "    if match.group('precio'):\n",
    "        precios.append(match.group('precio'))\n",
    "\n",
    "print(f\"Emails: {emails}\")\n",
    "print(f\"Precios: {precios}\")\n"
   ]
  },
  {
   "cell_type": "markdown",
   "id": "f2fe60bc",
   "metadata": {},
   "source": [
    "Escribe una expresión regular que extraiga las direcciones de correo electrónico y los importes del siguiente texto. Asigna al grupo que contenga el email el nombre correo y al que contenga el importe precio:\n",
    "```\n",
    "TEXTO = \"\"\"Se ha facturado un total de 1500 € al usuario test@dominio.es durante \n",
    "el año 2019. Otros usuarios, como prueba@otro.com o new@contact.com han gastado \n",
    "solamente 500€.\"\"\"\n",
    "```\n"
   ]
  },
  {
   "cell_type": "markdown",
   "id": "2972dd7e",
   "metadata": {},
   "source": [
    "## EJERCICIO 6"
   ]
  },
  {
   "cell_type": "code",
   "execution_count": 24,
   "id": "d019846f",
   "metadata": {},
   "outputs": [
    {
     "name": "stdout",
     "output_type": "stream",
     "text": [
      "['968122331', '900141142', '945112233', '656247733']\n"
     ]
    }
   ],
   "source": [
    "TELEFONOS = \"968 12 23 31, 900 141 142, 945112233, 656-247733\"\n",
    "p = r\"\\b(\\d{3} \\d{2} \\d{2} \\d{2}|\\d{3} \\d{3} \\d{3}|\\d{9}|\\d{3}-\\d{6})\\b\"\n",
    "res = re.finditer(p, TELEFONOS)\n",
    "\n",
    "l = []\n",
    "for match in res:\n",
    "    x = (match.group()).replace(\" \",\"\") # Limpio el token en dos pasos\n",
    "    x = x.replace(\"-\",\"\")\n",
    "    l.append(x)\n",
    "\n",
    "print(l)"
   ]
  },
  {
   "cell_type": "markdown",
   "id": "ef3c12ce",
   "metadata": {},
   "source": [
    "Dada la siguiente enumeración de números de teléfono con diferentes formatos, prepara una expresión regular que sea capaz de reconocerlos y de devolverlos con el mismo formato:\n",
    "```\n",
    "TELEFONOS = \"968 12 23 31, 900 141 142, 945112233, 656-247733\"\n",
    "```"
   ]
  },
  {
   "cell_type": "markdown",
   "id": "7d7c4a0d",
   "metadata": {},
   "source": [
    "## EJERCICIO 7"
   ]
  },
  {
   "cell_type": "code",
   "execution_count": 30,
   "id": "60563a17",
   "metadata": {},
   "outputs": [
    {
     "name": "stdout",
     "output_type": "stream",
     "text": [
      "True\n",
      "False\n"
     ]
    }
   ],
   "source": [
    "def isEmail(str):\n",
    "    p =r\"[a-zA-Z0-9.-_]+@[a-zA-Z0-9]+\\.[a-zA-Z]{2,6}\"\n",
    "    return re.search(p,str) is not None\n",
    "\n",
    "print(isEmail(\"alberto_45@gmail.com\"))\n",
    "print(isEmail(\"#€@gmail.com\"))"
   ]
  },
  {
   "cell_type": "markdown",
   "id": "1c5d3b3f",
   "metadata": {},
   "source": [
    "\n",
    "Validación de direcciones de correo electrónico. Escribe una expresión regular que valide si una dirección de correo electrónico es correcta según el formato estándar. El formato debe ser nombre@dominio.ext, donde:\n",
    "\n",
    "<ul>\n",
    "    <li>nombre puede contener letras, números, puntos, guiones bajos y guiones.</li>\n",
    "    <li>dominio puede contener letras y números.</li>\n",
    "    <li>ext debe ser de 2 a 6 letras (por ejemplo, .com, .es, .info).</li>\n",
    "</ul>"
   ]
  }
 ],
 "metadata": {
  "kernelspec": {
   "display_name": "Python 3 (ipykernel)",
   "language": "python",
   "name": "python3"
  },
  "language_info": {
   "codemirror_mode": {
    "name": "ipython",
    "version": 3
   },
   "file_extension": ".py",
   "mimetype": "text/x-python",
   "name": "python",
   "nbconvert_exporter": "python",
   "pygments_lexer": "ipython3",
   "version": "3.10.12"
  }
 },
 "nbformat": 4,
 "nbformat_minor": 5
}
